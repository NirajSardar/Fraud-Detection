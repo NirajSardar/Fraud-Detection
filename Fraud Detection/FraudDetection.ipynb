{
 "cells": [
  {
   "cell_type": "code",
   "execution_count": 1,
   "id": "d87a71dd",
   "metadata": {},
   "outputs": [
    {
     "data": {
      "application/javascript": [
       "\n",
       "            setTimeout(function() {\n",
       "                var nbb_cell_id = 1;\n",
       "                var nbb_unformatted_code = \"# debugging and formatter\\nfrom IPython.core.debugger import set_trace\\n\\n%load_ext nb_black\";\n",
       "                var nbb_formatted_code = \"# debugging and formatter\\nfrom IPython.core.debugger import set_trace\\n\\n%load_ext nb_black\";\n",
       "                var nbb_cells = Jupyter.notebook.get_cells();\n",
       "                for (var i = 0; i < nbb_cells.length; ++i) {\n",
       "                    if (nbb_cells[i].input_prompt_number == nbb_cell_id) {\n",
       "                        if (nbb_cells[i].get_text() == nbb_unformatted_code) {\n",
       "                             nbb_cells[i].set_text(nbb_formatted_code);\n",
       "                        }\n",
       "                        break;\n",
       "                    }\n",
       "                }\n",
       "            }, 500);\n",
       "            "
      ],
      "text/plain": [
       "<IPython.core.display.Javascript object>"
      ]
     },
     "metadata": {},
     "output_type": "display_data"
    }
   ],
   "source": [
    "# debugging and formatter\n",
    "from IPython.core.debugger import set_trace\n",
    "\n",
    "%load_ext nb_black"
   ]
  },
  {
   "cell_type": "code",
   "execution_count": 2,
   "id": "6fedb417",
   "metadata": {},
   "outputs": [
    {
     "data": {
      "application/javascript": [
       "\n",
       "            setTimeout(function() {\n",
       "                var nbb_cell_id = 2;\n",
       "                var nbb_unformatted_code = \"import pandas as pd\\nimport numpy as np\\nimport os\\nimport matplotlib.pyplot as plt\\nimport pickle\\nfrom sklearn.metrics import roc_auc_score\\nfrom sklearn.preprocessing import LabelEncoder\\nfrom sklearn.model_selection import TimeSeriesSplit, KFold\\nimport time\\nimport lightgbm as lgb\\nimport xgboost as xgb\\n\\nplt.style.use(style=\\\"seaborn\\\")\\n%matplotlib inline\";\n",
       "                var nbb_formatted_code = \"import pandas as pd\\nimport numpy as np\\nimport os\\nimport matplotlib.pyplot as plt\\nimport pickle\\nfrom sklearn.metrics import roc_auc_score\\nfrom sklearn.preprocessing import LabelEncoder\\nfrom sklearn.model_selection import TimeSeriesSplit, KFold\\nimport time\\nimport lightgbm as lgb\\nimport xgboost as xgb\\n\\nplt.style.use(style=\\\"seaborn\\\")\\n%matplotlib inline\";\n",
       "                var nbb_cells = Jupyter.notebook.get_cells();\n",
       "                for (var i = 0; i < nbb_cells.length; ++i) {\n",
       "                    if (nbb_cells[i].input_prompt_number == nbb_cell_id) {\n",
       "                        if (nbb_cells[i].get_text() == nbb_unformatted_code) {\n",
       "                             nbb_cells[i].set_text(nbb_formatted_code);\n",
       "                        }\n",
       "                        break;\n",
       "                    }\n",
       "                }\n",
       "            }, 500);\n",
       "            "
      ],
      "text/plain": [
       "<IPython.core.display.Javascript object>"
      ]
     },
     "metadata": {},
     "output_type": "display_data"
    }
   ],
   "source": [
    "import pandas as pd\n",
    "import numpy as np\n",
    "import os\n",
    "import matplotlib.pyplot as plt\n",
    "import pickle\n",
    "from sklearn.metrics import roc_auc_score\n",
    "from sklearn.preprocessing import LabelEncoder\n",
    "from sklearn.model_selection import TimeSeriesSplit, KFold\n",
    "import time\n",
    "import lightgbm as lgb\n",
    "import xgboost as xgb\n",
    "\n",
    "plt.style.use(style=\"seaborn\")\n",
    "%matplotlib inline"
   ]
  },
  {
   "cell_type": "code",
   "execution_count": 3,
   "id": "8fbdcd77",
   "metadata": {},
   "outputs": [
    {
     "data": {
      "application/javascript": [
       "\n",
       "            setTimeout(function() {\n",
       "                var nbb_cell_id = 3;\n",
       "                var nbb_unformatted_code = \"from os import listdir\\nfrom os.path import isfile, join\\n\\nloc = os.path.abspath(\\\"N:\\\\Kaggle\\\\ieee-fraud-detection\\\")\\ndata_loc = f\\\"{loc}/\\\"\";\n",
       "                var nbb_formatted_code = \"from os import listdir\\nfrom os.path import isfile, join\\n\\nloc = os.path.abspath(\\\"N:\\\\Kaggle\\\\ieee-fraud-detection\\\")\\ndata_loc = f\\\"{loc}/\\\"\";\n",
       "                var nbb_cells = Jupyter.notebook.get_cells();\n",
       "                for (var i = 0; i < nbb_cells.length; ++i) {\n",
       "                    if (nbb_cells[i].input_prompt_number == nbb_cell_id) {\n",
       "                        if (nbb_cells[i].get_text() == nbb_unformatted_code) {\n",
       "                             nbb_cells[i].set_text(nbb_formatted_code);\n",
       "                        }\n",
       "                        break;\n",
       "                    }\n",
       "                }\n",
       "            }, 500);\n",
       "            "
      ],
      "text/plain": [
       "<IPython.core.display.Javascript object>"
      ]
     },
     "metadata": {},
     "output_type": "display_data"
    }
   ],
   "source": [
    "from os import listdir\n",
    "from os.path import isfile, join\n",
    "\n",
    "loc = os.path.abspath(\"N:\\Kaggle\\ieee-fraud-detection\")\n",
    "data_loc = f\"{loc}/\""
   ]
  },
  {
   "cell_type": "code",
   "execution_count": 4,
   "id": "af020296",
   "metadata": {},
   "outputs": [
    {
     "data": {
      "text/plain": [
       "'N:\\\\Kaggle\\\\ieee-fraud-detection/'"
      ]
     },
     "execution_count": 4,
     "metadata": {},
     "output_type": "execute_result"
    },
    {
     "data": {
      "application/javascript": [
       "\n",
       "            setTimeout(function() {\n",
       "                var nbb_cell_id = 4;\n",
       "                var nbb_unformatted_code = \"data_loc\";\n",
       "                var nbb_formatted_code = \"data_loc\";\n",
       "                var nbb_cells = Jupyter.notebook.get_cells();\n",
       "                for (var i = 0; i < nbb_cells.length; ++i) {\n",
       "                    if (nbb_cells[i].input_prompt_number == nbb_cell_id) {\n",
       "                        if (nbb_cells[i].get_text() == nbb_unformatted_code) {\n",
       "                             nbb_cells[i].set_text(nbb_formatted_code);\n",
       "                        }\n",
       "                        break;\n",
       "                    }\n",
       "                }\n",
       "            }, 500);\n",
       "            "
      ],
      "text/plain": [
       "<IPython.core.display.Javascript object>"
      ]
     },
     "metadata": {},
     "output_type": "display_data"
    }
   ],
   "source": [
    "data_loc"
   ]
  },
  {
   "cell_type": "code",
   "execution_count": 5,
   "id": "fa436b44",
   "metadata": {},
   "outputs": [
    {
     "name": "stdout",
     "output_type": "stream",
     "text": [
      "Wall time: 1min 16s\n"
     ]
    },
    {
     "data": {
      "application/javascript": [
       "\n",
       "            setTimeout(function() {\n",
       "                var nbb_cell_id = 5;\n",
       "                var nbb_unformatted_code = \"%%time\\ntrain_id = pd.read_csv(f\\\"{data_loc}/train_identity.csv\\\")\\ntrain_tr = pd.read_csv(f\\\"{data_loc}/train_transaction.csv\\\")\\ntest_id = pd.read_csv(f\\\"{data_loc}/test_identity.csv\\\")\\ntest_tr = pd.read_csv(f\\\"{data_loc}/test_transaction.csv\\\")\";\n",
       "                var nbb_formatted_code = \"%%time\\ntrain_id = pd.read_csv(f\\\"{data_loc}/train_identity.csv\\\")\\ntrain_tr = pd.read_csv(f\\\"{data_loc}/train_transaction.csv\\\")\\ntest_id = pd.read_csv(f\\\"{data_loc}/test_identity.csv\\\")\\ntest_tr = pd.read_csv(f\\\"{data_loc}/test_transaction.csv\\\")\";\n",
       "                var nbb_cells = Jupyter.notebook.get_cells();\n",
       "                for (var i = 0; i < nbb_cells.length; ++i) {\n",
       "                    if (nbb_cells[i].input_prompt_number == nbb_cell_id) {\n",
       "                        if (nbb_cells[i].get_text() == nbb_unformatted_code) {\n",
       "                             nbb_cells[i].set_text(nbb_formatted_code);\n",
       "                        }\n",
       "                        break;\n",
       "                    }\n",
       "                }\n",
       "            }, 500);\n",
       "            "
      ],
      "text/plain": [
       "<IPython.core.display.Javascript object>"
      ]
     },
     "metadata": {},
     "output_type": "display_data"
    }
   ],
   "source": [
    "%%time\n",
    "train_id = pd.read_csv(f\"{data_loc}/train_identity.csv\")\n",
    "train_tr = pd.read_csv(f\"{data_loc}/train_transaction.csv\")\n",
    "test_id = pd.read_csv(f\"{data_loc}/test_identity.csv\")\n",
    "test_tr = pd.read_csv(f\"{data_loc}/test_transaction.csv\")"
   ]
  },
  {
   "cell_type": "code",
   "execution_count": 6,
   "id": "ace7d743",
   "metadata": {},
   "outputs": [
    {
     "name": "stdout",
     "output_type": "stream",
     "text": [
      "<class 'pandas.core.frame.DataFrame'>\n",
      "RangeIndex: 144233 entries, 0 to 144232\n",
      "Data columns (total 41 columns):\n",
      " #   Column         Non-Null Count   Dtype  \n",
      "---  ------         --------------   -----  \n",
      " 0   TransactionID  144233 non-null  int64  \n",
      " 1   id_01          144233 non-null  float64\n",
      " 2   id_02          140872 non-null  float64\n",
      " 3   id_03          66324 non-null   float64\n",
      " 4   id_04          66324 non-null   float64\n",
      " 5   id_05          136865 non-null  float64\n",
      " 6   id_06          136865 non-null  float64\n",
      " 7   id_07          5155 non-null    float64\n",
      " 8   id_08          5155 non-null    float64\n",
      " 9   id_09          74926 non-null   float64\n",
      " 10  id_10          74926 non-null   float64\n",
      " 11  id_11          140978 non-null  float64\n",
      " 12  id_12          144233 non-null  object \n",
      " 13  id_13          127320 non-null  float64\n",
      " 14  id_14          80044 non-null   float64\n",
      " 15  id_15          140985 non-null  object \n",
      " 16  id_16          129340 non-null  object \n",
      " 17  id_17          139369 non-null  float64\n",
      " 18  id_18          45113 non-null   float64\n",
      " 19  id_19          139318 non-null  float64\n",
      " 20  id_20          139261 non-null  float64\n",
      " 21  id_21          5159 non-null    float64\n",
      " 22  id_22          5169 non-null    float64\n",
      " 23  id_23          5169 non-null    object \n",
      " 24  id_24          4747 non-null    float64\n",
      " 25  id_25          5132 non-null    float64\n",
      " 26  id_26          5163 non-null    float64\n",
      " 27  id_27          5169 non-null    object \n",
      " 28  id_28          140978 non-null  object \n",
      " 29  id_29          140978 non-null  object \n",
      " 30  id_30          77565 non-null   object \n",
      " 31  id_31          140282 non-null  object \n",
      " 32  id_32          77586 non-null   float64\n",
      " 33  id_33          73289 non-null   object \n",
      " 34  id_34          77805 non-null   object \n",
      " 35  id_35          140985 non-null  object \n",
      " 36  id_36          140985 non-null  object \n",
      " 37  id_37          140985 non-null  object \n",
      " 38  id_38          140985 non-null  object \n",
      " 39  DeviceType     140810 non-null  object \n",
      " 40  DeviceInfo     118666 non-null  object \n",
      "dtypes: float64(23), int64(1), object(17)\n",
      "memory usage: 45.1+ MB\n",
      "None\n",
      "<class 'pandas.core.frame.DataFrame'>\n",
      "RangeIndex: 590540 entries, 0 to 590539\n",
      "Columns: 394 entries, TransactionID to V339\n",
      "dtypes: float64(376), int64(4), object(14)\n",
      "memory usage: 1.7+ GB\n",
      "None\n"
     ]
    },
    {
     "data": {
      "application/javascript": [
       "\n",
       "            setTimeout(function() {\n",
       "                var nbb_cell_id = 6;\n",
       "                var nbb_unformatted_code = \"print(train_id.info())\\nprint(train_tr.info())\";\n",
       "                var nbb_formatted_code = \"print(train_id.info())\\nprint(train_tr.info())\";\n",
       "                var nbb_cells = Jupyter.notebook.get_cells();\n",
       "                for (var i = 0; i < nbb_cells.length; ++i) {\n",
       "                    if (nbb_cells[i].input_prompt_number == nbb_cell_id) {\n",
       "                        if (nbb_cells[i].get_text() == nbb_unformatted_code) {\n",
       "                             nbb_cells[i].set_text(nbb_formatted_code);\n",
       "                        }\n",
       "                        break;\n",
       "                    }\n",
       "                }\n",
       "            }, 500);\n",
       "            "
      ],
      "text/plain": [
       "<IPython.core.display.Javascript object>"
      ]
     },
     "metadata": {},
     "output_type": "display_data"
    }
   ],
   "source": [
    "print(train_id.info())\n",
    "print(train_tr.info())"
   ]
  },
  {
   "cell_type": "markdown",
   "id": "a2999600",
   "metadata": {},
   "source": [
    "# Downcast types to reduce memory usage"
   ]
  },
  {
   "cell_type": "code",
   "execution_count": 7,
   "id": "d115b30e",
   "metadata": {},
   "outputs": [
    {
     "data": {
      "application/javascript": [
       "\n",
       "            setTimeout(function() {\n",
       "                var nbb_cell_id = 7;\n",
       "                var nbb_unformatted_code = \"def reduce_mem_usage(df):\\n\\n    start_mem = df.memory_usage(index=True, deep=True).sum() / 1024**2\\n    start_mem_GB = df.memory_usage(index=True, deep=True).sum() / 1024**3\\n    print(f'Initial memory usage of dataframe is {start_mem:.2f} MB/{start_mem_GB:.2f} GB')\\n    \\n    for col in df.columns:\\n        col_type = df[col].dtype\\n        \\n        if col_type != object:\\n            c_min = df[col].min()\\n            c_max = df[col].max()\\n            if str(col_type)[:3] == 'int':\\n                if c_min > np.iinfo(np.int8).min and c_max < np.iinfo(np.int8).max:\\n                    df[col] = df[col].astype(np.int8)\\n                elif c_min > np.iinfo(np.int16).min and c_max < np.iinfo(np.int16).max:\\n                    df[col] = df[col].astype(np.int16)\\n                elif c_min > np.iinfo(np.int32).min and c_max < np.iinfo(np.int32).max:\\n                    df[col] = df[col].astype(np.int32)\\n                elif c_min > np.iinfo(np.int64).min and c_max < np.iinfo(np.int64).max:\\n                    df[col] = df[col].astype(np.int64)  \\n            else:\\n                if c_min > np.finfo(np.float16).min and c_max < np.finfo(np.float16).max:\\n                    df[col] = df[col].astype(np.float16)\\n                elif c_min > np.finfo(np.float32).min and c_max < np.finfo(np.float32).max:\\n                    df[col] = df[col].astype(np.float32)\\n                else:\\n                    df[col] = df[col].astype(np.float64)\\n        else:\\n            df[col] = df[col].astype('category')\\n\\n    end_mem = df.memory_usage(index=True, deep=True).sum() / 1024**2\\n    end_mem_GB = df.memory_usage(index=True, deep=True).sum() / 1024**3\\n    reduction = 100 * (start_mem - end_mem) / start_mem\\n    print(f'Memory usage after optimization is: {end_mem:.2f} MB/{end_mem_GB:.2f} GB')\\n    print(f'Decreased by {reduction:.1f}%')\\n    \\n    return df\";\n",
       "                var nbb_formatted_code = \"def reduce_mem_usage(df):\\n\\n    start_mem = df.memory_usage(index=True, deep=True).sum() / 1024 ** 2\\n    start_mem_GB = df.memory_usage(index=True, deep=True).sum() / 1024 ** 3\\n    print(\\n        f\\\"Initial memory usage of dataframe is {start_mem:.2f} MB/{start_mem_GB:.2f} GB\\\"\\n    )\\n\\n    for col in df.columns:\\n        col_type = df[col].dtype\\n\\n        if col_type != object:\\n            c_min = df[col].min()\\n            c_max = df[col].max()\\n            if str(col_type)[:3] == \\\"int\\\":\\n                if c_min > np.iinfo(np.int8).min and c_max < np.iinfo(np.int8).max:\\n                    df[col] = df[col].astype(np.int8)\\n                elif c_min > np.iinfo(np.int16).min and c_max < np.iinfo(np.int16).max:\\n                    df[col] = df[col].astype(np.int16)\\n                elif c_min > np.iinfo(np.int32).min and c_max < np.iinfo(np.int32).max:\\n                    df[col] = df[col].astype(np.int32)\\n                elif c_min > np.iinfo(np.int64).min and c_max < np.iinfo(np.int64).max:\\n                    df[col] = df[col].astype(np.int64)\\n            else:\\n                if (\\n                    c_min > np.finfo(np.float16).min\\n                    and c_max < np.finfo(np.float16).max\\n                ):\\n                    df[col] = df[col].astype(np.float16)\\n                elif (\\n                    c_min > np.finfo(np.float32).min\\n                    and c_max < np.finfo(np.float32).max\\n                ):\\n                    df[col] = df[col].astype(np.float32)\\n                else:\\n                    df[col] = df[col].astype(np.float64)\\n        else:\\n            df[col] = df[col].astype(\\\"category\\\")\\n\\n    end_mem = df.memory_usage(index=True, deep=True).sum() / 1024 ** 2\\n    end_mem_GB = df.memory_usage(index=True, deep=True).sum() / 1024 ** 3\\n    reduction = 100 * (start_mem - end_mem) / start_mem\\n    print(f\\\"Memory usage after optimization is: {end_mem:.2f} MB/{end_mem_GB:.2f} GB\\\")\\n    print(f\\\"Decreased by {reduction:.1f}%\\\")\\n\\n    return df\";\n",
       "                var nbb_cells = Jupyter.notebook.get_cells();\n",
       "                for (var i = 0; i < nbb_cells.length; ++i) {\n",
       "                    if (nbb_cells[i].input_prompt_number == nbb_cell_id) {\n",
       "                        if (nbb_cells[i].get_text() == nbb_unformatted_code) {\n",
       "                             nbb_cells[i].set_text(nbb_formatted_code);\n",
       "                        }\n",
       "                        break;\n",
       "                    }\n",
       "                }\n",
       "            }, 500);\n",
       "            "
      ],
      "text/plain": [
       "<IPython.core.display.Javascript object>"
      ]
     },
     "metadata": {},
     "output_type": "display_data"
    }
   ],
   "source": [
    "def reduce_mem_usage(df):\n",
    "\n",
    "    start_mem = df.memory_usage(index=True, deep=True).sum() / 1024**2\n",
    "    start_mem_GB = df.memory_usage(index=True, deep=True).sum() / 1024**3\n",
    "    print(f'Initial memory usage of dataframe is {start_mem:.2f} MB/{start_mem_GB:.2f} GB')\n",
    "    \n",
    "    for col in df.columns:\n",
    "        col_type = df[col].dtype\n",
    "        \n",
    "        if col_type != object:\n",
    "            c_min = df[col].min()\n",
    "            c_max = df[col].max()\n",
    "            if str(col_type)[:3] == 'int':\n",
    "                if c_min > np.iinfo(np.int8).min and c_max < np.iinfo(np.int8).max:\n",
    "                    df[col] = df[col].astype(np.int8)\n",
    "                elif c_min > np.iinfo(np.int16).min and c_max < np.iinfo(np.int16).max:\n",
    "                    df[col] = df[col].astype(np.int16)\n",
    "                elif c_min > np.iinfo(np.int32).min and c_max < np.iinfo(np.int32).max:\n",
    "                    df[col] = df[col].astype(np.int32)\n",
    "                elif c_min > np.iinfo(np.int64).min and c_max < np.iinfo(np.int64).max:\n",
    "                    df[col] = df[col].astype(np.int64)  \n",
    "            else:\n",
    "                if c_min > np.finfo(np.float16).min and c_max < np.finfo(np.float16).max:\n",
    "                    df[col] = df[col].astype(np.float16)\n",
    "                elif c_min > np.finfo(np.float32).min and c_max < np.finfo(np.float32).max:\n",
    "                    df[col] = df[col].astype(np.float32)\n",
    "                else:\n",
    "                    df[col] = df[col].astype(np.float64)\n",
    "        else:\n",
    "            df[col] = df[col].astype('category')\n",
    "\n",
    "    end_mem = df.memory_usage(index=True, deep=True).sum() / 1024**2\n",
    "    end_mem_GB = df.memory_usage(index=True, deep=True).sum() / 1024**3\n",
    "    reduction = 100 * (start_mem - end_mem) / start_mem\n",
    "    print(f'Memory usage after optimization is: {end_mem:.2f} MB/{end_mem_GB:.2f} GB')\n",
    "    print(f'Decreased by {reduction:.1f}%')\n",
    "    \n",
    "    return df\n",
    "\n"
   ]
  },
  {
   "cell_type": "code",
   "execution_count": 8,
   "id": "c60a4ed1",
   "metadata": {},
   "outputs": [
    {
     "name": "stdout",
     "output_type": "stream",
     "text": [
      "Initial memory usage of dataframe is 157.63 MB/0.15 GB\n",
      "Memory usage after optimization is: 10.14 MB/0.01 GB\n",
      "Decreased by 93.6%\n",
      "Initial memory usage of dataframe is 2100.70 MB/2.05 GB\n",
      "Memory usage after optimization is: 487.17 MB/0.48 GB\n",
      "Decreased by 76.8%\n",
      "Initial memory usage of dataframe is 154.11 MB/0.15 GB\n",
      "Memory usage after optimization is: 10.02 MB/0.01 GB\n",
      "Decreased by 93.5%\n",
      "Initial memory usage of dataframe is 1807.74 MB/1.77 GB\n",
      "Memory usage after optimization is: 425.25 MB/0.42 GB\n",
      "Decreased by 76.5%\n"
     ]
    },
    {
     "data": {
      "application/javascript": [
       "\n",
       "            setTimeout(function() {\n",
       "                var nbb_cell_id = 8;\n",
       "                var nbb_unformatted_code = \"train_id = reduce_mem_usage(train_id)\\ntrain_tr = reduce_mem_usage(train_tr)\\ntest_id = reduce_mem_usage(test_id)\\ntest_tr = reduce_mem_usage(test_tr)\";\n",
       "                var nbb_formatted_code = \"train_id = reduce_mem_usage(train_id)\\ntrain_tr = reduce_mem_usage(train_tr)\\ntest_id = reduce_mem_usage(test_id)\\ntest_tr = reduce_mem_usage(test_tr)\";\n",
       "                var nbb_cells = Jupyter.notebook.get_cells();\n",
       "                for (var i = 0; i < nbb_cells.length; ++i) {\n",
       "                    if (nbb_cells[i].input_prompt_number == nbb_cell_id) {\n",
       "                        if (nbb_cells[i].get_text() == nbb_unformatted_code) {\n",
       "                             nbb_cells[i].set_text(nbb_formatted_code);\n",
       "                        }\n",
       "                        break;\n",
       "                    }\n",
       "                }\n",
       "            }, 500);\n",
       "            "
      ],
      "text/plain": [
       "<IPython.core.display.Javascript object>"
      ]
     },
     "metadata": {},
     "output_type": "display_data"
    }
   ],
   "source": [
    "train_id = reduce_mem_usage(train_id)\n",
    "train_tr = reduce_mem_usage(train_tr)\n",
    "test_id = reduce_mem_usage(test_id)\n",
    "test_tr = reduce_mem_usage(test_tr)"
   ]
  },
  {
   "cell_type": "code",
   "execution_count": 9,
   "id": "fc9a61de",
   "metadata": {},
   "outputs": [
    {
     "name": "stdout",
     "output_type": "stream",
     "text": [
      "<class 'pandas.core.frame.DataFrame'>\n",
      "RangeIndex: 144233 entries, 0 to 144232\n",
      "Data columns (total 41 columns):\n",
      " #   Column         Non-Null Count   Dtype   \n",
      "---  ------         --------------   -----   \n",
      " 0   TransactionID  144233 non-null  int32   \n",
      " 1   id_01          144233 non-null  float16 \n",
      " 2   id_02          140872 non-null  float32 \n",
      " 3   id_03          66324 non-null   float16 \n",
      " 4   id_04          66324 non-null   float16 \n",
      " 5   id_05          136865 non-null  float16 \n",
      " 6   id_06          136865 non-null  float16 \n",
      " 7   id_07          5155 non-null    float16 \n",
      " 8   id_08          5155 non-null    float16 \n",
      " 9   id_09          74926 non-null   float16 \n",
      " 10  id_10          74926 non-null   float16 \n",
      " 11  id_11          140978 non-null  float16 \n",
      " 12  id_12          144233 non-null  category\n",
      " 13  id_13          127320 non-null  float16 \n",
      " 14  id_14          80044 non-null   float16 \n",
      " 15  id_15          140985 non-null  category\n",
      " 16  id_16          129340 non-null  category\n",
      " 17  id_17          139369 non-null  float16 \n",
      " 18  id_18          45113 non-null   float16 \n",
      " 19  id_19          139318 non-null  float16 \n",
      " 20  id_20          139261 non-null  float16 \n",
      " 21  id_21          5159 non-null    float16 \n",
      " 22  id_22          5169 non-null    float16 \n",
      " 23  id_23          5169 non-null    category\n",
      " 24  id_24          4747 non-null    float16 \n",
      " 25  id_25          5132 non-null    float16 \n",
      " 26  id_26          5163 non-null    float16 \n",
      " 27  id_27          5169 non-null    category\n",
      " 28  id_28          140978 non-null  category\n",
      " 29  id_29          140978 non-null  category\n",
      " 30  id_30          77565 non-null   category\n",
      " 31  id_31          140282 non-null  category\n",
      " 32  id_32          77586 non-null   float16 \n",
      " 33  id_33          73289 non-null   category\n",
      " 34  id_34          77805 non-null   category\n",
      " 35  id_35          140985 non-null  category\n",
      " 36  id_36          140985 non-null  category\n",
      " 37  id_37          140985 non-null  category\n",
      " 38  id_38          140985 non-null  category\n",
      " 39  DeviceType     140810 non-null  category\n",
      " 40  DeviceInfo     118666 non-null  category\n",
      "dtypes: category(17), float16(22), float32(1), int32(1)\n",
      "memory usage: 10.0 MB\n",
      "None\n",
      "<class 'pandas.core.frame.DataFrame'>\n",
      "RangeIndex: 590540 entries, 0 to 590539\n",
      "Columns: 394 entries, TransactionID to V339\n",
      "dtypes: category(14), float16(332), float32(44), int16(1), int32(2), int8(1)\n",
      "memory usage: 487.2 MB\n",
      "None\n"
     ]
    },
    {
     "data": {
      "application/javascript": [
       "\n",
       "            setTimeout(function() {\n",
       "                var nbb_cell_id = 9;\n",
       "                var nbb_unformatted_code = \"print(train_id.info())\\nprint(train_tr.info())\";\n",
       "                var nbb_formatted_code = \"print(train_id.info())\\nprint(train_tr.info())\";\n",
       "                var nbb_cells = Jupyter.notebook.get_cells();\n",
       "                for (var i = 0; i < nbb_cells.length; ++i) {\n",
       "                    if (nbb_cells[i].input_prompt_number == nbb_cell_id) {\n",
       "                        if (nbb_cells[i].get_text() == nbb_unformatted_code) {\n",
       "                             nbb_cells[i].set_text(nbb_formatted_code);\n",
       "                        }\n",
       "                        break;\n",
       "                    }\n",
       "                }\n",
       "            }, 500);\n",
       "            "
      ],
      "text/plain": [
       "<IPython.core.display.Javascript object>"
      ]
     },
     "metadata": {},
     "output_type": "display_data"
    }
   ],
   "source": [
    "print(train_id.info())\n",
    "print(train_tr.info())"
   ]
  },
  {
   "cell_type": "code",
   "execution_count": 10,
   "id": "c1cf7216",
   "metadata": {},
   "outputs": [
    {
     "data": {
      "application/javascript": [
       "\n",
       "            setTimeout(function() {\n",
       "                var nbb_cell_id = 10;\n",
       "                var nbb_unformatted_code = \"train = pd.merge(train_tr, train_id, how=\\\"left\\\", on=\\\"TransactionID\\\")\";\n",
       "                var nbb_formatted_code = \"train = pd.merge(train_tr, train_id, how=\\\"left\\\", on=\\\"TransactionID\\\")\";\n",
       "                var nbb_cells = Jupyter.notebook.get_cells();\n",
       "                for (var i = 0; i < nbb_cells.length; ++i) {\n",
       "                    if (nbb_cells[i].input_prompt_number == nbb_cell_id) {\n",
       "                        if (nbb_cells[i].get_text() == nbb_unformatted_code) {\n",
       "                             nbb_cells[i].set_text(nbb_formatted_code);\n",
       "                        }\n",
       "                        break;\n",
       "                    }\n",
       "                }\n",
       "            }, 500);\n",
       "            "
      ],
      "text/plain": [
       "<IPython.core.display.Javascript object>"
      ]
     },
     "metadata": {},
     "output_type": "display_data"
    }
   ],
   "source": [
    "train = pd.merge(train_tr, train_id, how=\"left\", on=\"TransactionID\")"
   ]
  },
  {
   "cell_type": "code",
   "execution_count": 329,
   "id": "380ef1b4",
   "metadata": {},
   "outputs": [
    {
     "data": {
      "application/javascript": [
       "\n",
       "            setTimeout(function() {\n",
       "                var nbb_cell_id = 329;\n",
       "                var nbb_unformatted_code = \"plt.style.use('ggplot')\\ncolor_pal = [x['color'] for x in plt.rcParams['axes.prop_cycle']]\";\n",
       "                var nbb_formatted_code = \"plt.style.use(\\\"ggplot\\\")\\ncolor_pal = [x[\\\"color\\\"] for x in plt.rcParams[\\\"axes.prop_cycle\\\"]]\";\n",
       "                var nbb_cells = Jupyter.notebook.get_cells();\n",
       "                for (var i = 0; i < nbb_cells.length; ++i) {\n",
       "                    if (nbb_cells[i].input_prompt_number == nbb_cell_id) {\n",
       "                        if (nbb_cells[i].get_text() == nbb_unformatted_code) {\n",
       "                             nbb_cells[i].set_text(nbb_formatted_code);\n",
       "                        }\n",
       "                        break;\n",
       "                    }\n",
       "                }\n",
       "            }, 500);\n",
       "            "
      ],
      "text/plain": [
       "<IPython.core.display.Javascript object>"
      ]
     },
     "metadata": {},
     "output_type": "display_data"
    }
   ],
   "source": [
    "plt.style.use(\"ggplot\")\n",
    "color_pal = [x[\"color\"] for x in plt.rcParams[\"axes.prop_cycle\"]]"
   ]
  },
  {
   "cell_type": "code",
   "execution_count": 330,
   "id": "caad499b",
   "metadata": {},
   "outputs": [
    {
     "data": {
      "image/png": "[encoded data removed]",
      "text/plain": [
       "<Figure size 1080x432 with 4 Axes>"
      ]
     },
     "metadata": {},
     "output_type": "display_data"
    },
    {
     "data": {
      "application/javascript": [
       "\n",
       "            setTimeout(function() {\n",
       "                var nbb_cell_id = 330;\n",
       "                var nbb_unformatted_code = \"fig, ((ax1, ax2), (ax3, ax4)) = plt.subplots(2, 2, figsize=(15, 6))\\ntrain.loc[train[\\\"isFraud\\\"] == 1][\\\"TransactionAmt\\\"].apply(np.log).plot(\\n    kind=\\\"hist\\\",\\n    bins=100,\\n    title=\\\"Log Transaction Amt - Fraud\\\",\\n    color=color_pal[1],\\n    xlim=(-3, 10),\\n    ax=ax1,\\n)\\ntrain.loc[train[\\\"isFraud\\\"] == 0][\\\"TransactionAmt\\\"].apply(np.log).plot(\\n    kind=\\\"hist\\\",\\n    bins=100,\\n    title=\\\"Log Transaction Amt - Not Fraud\\\",\\n    color=color_pal[2],\\n    xlim=(-3, 10),\\n    ax=ax2,\\n)\\ntrain.loc[train[\\\"isFraud\\\"] == 1][\\\"TransactionAmt\\\"].plot(\\n    kind=\\\"hist\\\", bins=100, title=\\\"Transaction Amt - Fraud\\\", color=color_pal[1], ax=ax3\\n)\\ntrain.loc[train[\\\"isFraud\\\"] == 0][\\\"TransactionAmt\\\"].plot(\\n    kind=\\\"hist\\\",\\n    bins=100,\\n    title=\\\"Transaction Amt - Not Fraud\\\",\\n    color=color_pal[2],\\n    ax=ax4,\\n)\\nplt.show()\";\n",
       "                var nbb_formatted_code = \"fig, ((ax1, ax2), (ax3, ax4)) = plt.subplots(2, 2, figsize=(15, 6))\\ntrain.loc[train[\\\"isFraud\\\"] == 1][\\\"TransactionAmt\\\"].apply(np.log).plot(\\n    kind=\\\"hist\\\",\\n    bins=100,\\n    title=\\\"Log Transaction Amt - Fraud\\\",\\n    color=color_pal[1],\\n    xlim=(-3, 10),\\n    ax=ax1,\\n)\\ntrain.loc[train[\\\"isFraud\\\"] == 0][\\\"TransactionAmt\\\"].apply(np.log).plot(\\n    kind=\\\"hist\\\",\\n    bins=100,\\n    title=\\\"Log Transaction Amt - Not Fraud\\\",\\n    color=color_pal[2],\\n    xlim=(-3, 10),\\n    ax=ax2,\\n)\\ntrain.loc[train[\\\"isFraud\\\"] == 1][\\\"TransactionAmt\\\"].plot(\\n    kind=\\\"hist\\\", bins=100, title=\\\"Transaction Amt - Fraud\\\", color=color_pal[1], ax=ax3\\n)\\ntrain.loc[train[\\\"isFraud\\\"] == 0][\\\"TransactionAmt\\\"].plot(\\n    kind=\\\"hist\\\",\\n    bins=100,\\n    title=\\\"Transaction Amt - Not Fraud\\\",\\n    color=color_pal[2],\\n    ax=ax4,\\n)\\nplt.show()\";\n",
       "                var nbb_cells = Jupyter.notebook.get_cells();\n",
       "                for (var i = 0; i < nbb_cells.length; ++i) {\n",
       "                    if (nbb_cells[i].input_prompt_number == nbb_cell_id) {\n",
       "                        if (nbb_cells[i].get_text() == nbb_unformatted_code) {\n",
       "                             nbb_cells[i].set_text(nbb_formatted_code);\n",
       "                        }\n",
       "                        break;\n",
       "                    }\n",
       "                }\n",
       "            }, 500);\n",
       "            "
      ],
      "text/plain": [
       "<IPython.core.display.Javascript object>"
      ]
     },
     "metadata": {},
     "output_type": "display_data"
    }
   ],
   "source": [
    "fig, ((ax1, ax2), (ax3, ax4)) = plt.subplots(2, 2, figsize=(15, 6))\n",
    "train.loc[train[\"isFraud\"] == 1][\"TransactionAmt\"].apply(np.log).plot(\n",
    "    kind=\"hist\",\n",
    "    bins=100,\n",
    "    title=\"Log Transaction Amt - Fraud\",\n",
    "    color=color_pal[1],\n",
    "    xlim=(-3, 10),\n",
    "    ax=ax1,\n",
    ")\n",
    "train.loc[train[\"isFraud\"] == 0][\"TransactionAmt\"].apply(np.log).plot(\n",
    "    kind=\"hist\",\n",
    "    bins=100,\n",
    "    title=\"Log Transaction Amt - Not Fraud\",\n",
    "    color=color_pal[2],\n",
    "    xlim=(-3, 10),\n",
    "    ax=ax2,\n",
    ")\n",
    "train.loc[train[\"isFraud\"] == 1][\"TransactionAmt\"].plot(\n",
    "    kind=\"hist\", bins=100, title=\"Transaction Amt - Fraud\", color=color_pal[1], ax=ax3\n",
    ")\n",
    "train.loc[train[\"isFraud\"] == 0][\"TransactionAmt\"].plot(\n",
    "    kind=\"hist\",\n",
    "    bins=100,\n",
    "    title=\"Transaction Amt - Not Fraud\",\n",
    "    color=color_pal[2],\n",
    "    ax=ax4,\n",
    ")\n",
    "plt.show()"
   ]
  },
  {
   "cell_type": "code",
   "execution_count": 334,
   "id": "269c95fd",
   "metadata": {},
   "outputs": [
    {
     "data": {
      "image/png": "[encoded data removed]",
      "text/plain": [
       "<Figure size 1080x216 with 1 Axes>"
      ]
     },
     "metadata": {},
     "output_type": "display_data"
    },
    {
     "data": {
      "application/javascript": [
       "\n",
       "            setTimeout(function() {\n",
       "                var nbb_cell_id = 334;\n",
       "                var nbb_unformatted_code = \"train.groupby('ProductCD')['isFraud'] \\\\\\n    .mean() \\\\\\n    .sort_index() \\\\\\n    .plot(kind='barh',\\n          figsize=(15, 3),\\n         title='Percentage of Fraud by ProductCD')\\nplt.show()\";\n",
       "                var nbb_formatted_code = \"train.groupby(\\\"ProductCD\\\")[\\\"isFraud\\\"].mean().sort_index().plot(\\n    kind=\\\"barh\\\", figsize=(15, 3), title=\\\"Percentage of Fraud by ProductCD\\\"\\n)\\nplt.show()\";\n",
       "                var nbb_cells = Jupyter.notebook.get_cells();\n",
       "                for (var i = 0; i < nbb_cells.length; ++i) {\n",
       "                    if (nbb_cells[i].input_prompt_number == nbb_cell_id) {\n",
       "                        if (nbb_cells[i].get_text() == nbb_unformatted_code) {\n",
       "                             nbb_cells[i].set_text(nbb_formatted_code);\n",
       "                        }\n",
       "                        break;\n",
       "                    }\n",
       "                }\n",
       "            }, 500);\n",
       "            "
      ],
      "text/plain": [
       "<IPython.core.display.Javascript object>"
      ]
     },
     "metadata": {},
     "output_type": "display_data"
    }
   ],
   "source": [
    "train.groupby(\"ProductCD\")[\"isFraud\"].mean().sort_index().plot(\n",
    "    kind=\"barh\", figsize=(15, 3), title=\"Percentage of Fraud by ProductCD\"\n",
    ")\n",
    "plt.show()"
   ]
  },
  {
   "cell_type": "code",
   "execution_count": 11,
   "id": "fbc09769",
   "metadata": {},
   "outputs": [
    {
     "data": {
      "application/javascript": [
       "\n",
       "            setTimeout(function() {\n",
       "                var nbb_cell_id = 11;\n",
       "                var nbb_unformatted_code = \"test = pd.merge(test_tr, test_id, how=\\\"left\\\", on=\\\"TransactionID\\\")\";\n",
       "                var nbb_formatted_code = \"test = pd.merge(test_tr, test_id, how=\\\"left\\\", on=\\\"TransactionID\\\")\";\n",
       "                var nbb_cells = Jupyter.notebook.get_cells();\n",
       "                for (var i = 0; i < nbb_cells.length; ++i) {\n",
       "                    if (nbb_cells[i].input_prompt_number == nbb_cell_id) {\n",
       "                        if (nbb_cells[i].get_text() == nbb_unformatted_code) {\n",
       "                             nbb_cells[i].set_text(nbb_formatted_code);\n",
       "                        }\n",
       "                        break;\n",
       "                    }\n",
       "                }\n",
       "            }, 500);\n",
       "            "
      ],
      "text/plain": [
       "<IPython.core.display.Javascript object>"
      ]
     },
     "metadata": {},
     "output_type": "display_data"
    }
   ],
   "source": [
    "test = pd.merge(test_tr, test_id, how=\"left\", on=\"TransactionID\")"
   ]
  },
  {
   "cell_type": "code",
   "execution_count": 12,
   "id": "b84d5755",
   "metadata": {},
   "outputs": [
    {
     "data": {
      "application/javascript": [
       "\n",
       "            setTimeout(function() {\n",
       "                var nbb_cell_id = 12;\n",
       "                var nbb_unformatted_code = \"test = test.rename(columns=lambda x: \\\"_\\\".join(x.split(\\\"-\\\")))\";\n",
       "                var nbb_formatted_code = \"test = test.rename(columns=lambda x: \\\"_\\\".join(x.split(\\\"-\\\")))\";\n",
       "                var nbb_cells = Jupyter.notebook.get_cells();\n",
       "                for (var i = 0; i < nbb_cells.length; ++i) {\n",
       "                    if (nbb_cells[i].input_prompt_number == nbb_cell_id) {\n",
       "                        if (nbb_cells[i].get_text() == nbb_unformatted_code) {\n",
       "                             nbb_cells[i].set_text(nbb_formatted_code);\n",
       "                        }\n",
       "                        break;\n",
       "                    }\n",
       "                }\n",
       "            }, 500);\n",
       "            "
      ],
      "text/plain": [
       "<IPython.core.display.Javascript object>"
      ]
     },
     "metadata": {},
     "output_type": "display_data"
    }
   ],
   "source": [
    "test = test.rename(columns=lambda x: \"_\".join(x.split(\"-\")))"
   ]
  },
  {
   "cell_type": "code",
   "execution_count": 13,
   "id": "39922e3c",
   "metadata": {},
   "outputs": [
    {
     "name": "stdout",
     "output_type": "stream",
     "text": [
      "Train shape: (590540, 434), Test shape: (506691, 433)\n"
     ]
    },
    {
     "data": {
      "application/javascript": [
       "\n",
       "            setTimeout(function() {\n",
       "                var nbb_cell_id = 13;\n",
       "                var nbb_unformatted_code = \"print(f\\\"Train shape: {train.shape}, Test shape: {test.shape}\\\")\";\n",
       "                var nbb_formatted_code = \"print(f\\\"Train shape: {train.shape}, Test shape: {test.shape}\\\")\";\n",
       "                var nbb_cells = Jupyter.notebook.get_cells();\n",
       "                for (var i = 0; i < nbb_cells.length; ++i) {\n",
       "                    if (nbb_cells[i].input_prompt_number == nbb_cell_id) {\n",
       "                        if (nbb_cells[i].get_text() == nbb_unformatted_code) {\n",
       "                             nbb_cells[i].set_text(nbb_formatted_code);\n",
       "                        }\n",
       "                        break;\n",
       "                    }\n",
       "                }\n",
       "            }, 500);\n",
       "            "
      ],
      "text/plain": [
       "<IPython.core.display.Javascript object>"
      ]
     },
     "metadata": {},
     "output_type": "display_data"
    }
   ],
   "source": [
    "print(f\"Train shape: {train.shape}, Test shape: {test.shape}\")"
   ]
  },
  {
   "cell_type": "code",
   "execution_count": 14,
   "id": "1c45fee1",
   "metadata": {},
   "outputs": [
    {
     "data": {
      "application/javascript": [
       "\n",
       "            setTimeout(function() {\n",
       "                var nbb_cell_id = 14;\n",
       "                var nbb_unformatted_code = \"def feature_eng(dataframe, name=True):\\n\\n    dataframe[\\\"hour\\\"] = (dataframe[\\\"TransactionDT\\\"] / (3600)) % 24\\n\\n    def hourFeature(hour):\\n        if hour > 3 and hour < 12:\\n            return \\\"highalert\\\"\\n        if hour > 18 and hour <= 23:\\n            return \\\"mediumalert\\\"\\n        else:\\n            return \\\"lowalert\\\"\\n\\n    dataframe[\\\"alertFeature\\\"] = dataframe[\\\"hour\\\"].apply(hourFeature)\\n\\n    dataframe[\\\"LogTransactionAmt\\\"] = np.log(dataframe[\\\"TransactionAmt\\\"])\\n\\n    dataframe[\\\"device_name\\\"] = dataframe[\\\"DeviceInfo\\\"].str.split(\\\"/\\\", expand=True)[0]\\n    dataframe[\\\"device_version\\\"] = dataframe[\\\"DeviceInfo\\\"].str.split(\\\"/\\\", expand=True)[1]\\n    if name:\\n        dataframe[\\\"OS_id_30\\\"] = dataframe[\\\"id_30\\\"].str.split(\\\" \\\", expand=True)[0]\\n        dataframe[\\\"version_id_30\\\"] = dataframe[\\\"id_30\\\"].str.split(\\\" \\\", expand=True)[1]\\n\\n        dataframe[\\\"browser_id_31\\\"] = dataframe[\\\"id_31\\\"].str.split(\\\" \\\", expand=True)[0]\\n        dataframe[\\\"version_id_31\\\"] = dataframe[\\\"id_31\\\"].str.split(\\\" \\\", expand=True)[1]\\n\\n        dataframe[\\\"screen_width\\\"] = dataframe[\\\"id_33\\\"].str.split(\\\"x\\\", expand=True)[0]\\n        dataframe[\\\"screen_height\\\"] = dataframe[\\\"id_33\\\"].str.split(\\\"x\\\", expand=True)[1]\\n\\n    dataframe.loc[\\n        dataframe[\\\"device_name\\\"].str.contains(\\\"SM\\\", na=False), \\\"device_name\\\"\\n    ] = \\\"Samsung\\\"\\n    dataframe.loc[\\n        dataframe[\\\"device_name\\\"].str.contains(\\\"SAMSUNG\\\", na=False), \\\"device_name\\\"\\n    ] = \\\"Samsung\\\"\\n    dataframe.loc[\\n        dataframe[\\\"device_name\\\"].str.contains(\\\"GT-\\\", na=False), \\\"device_name\\\"\\n    ] = \\\"Samsung\\\"\\n    dataframe.loc[\\n        dataframe[\\\"device_name\\\"].str.contains(\\\"Moto G\\\", na=False), \\\"device_name\\\"\\n    ] = \\\"Motorola\\\"\\n    dataframe.loc[\\n        dataframe[\\\"device_name\\\"].str.contains(\\\"Moto\\\", na=False), \\\"device_name\\\"\\n    ] = \\\"Motorola\\\"\\n    dataframe.loc[\\n        dataframe[\\\"device_name\\\"].str.contains(\\\"moto\\\", na=False), \\\"device_name\\\"\\n    ] = \\\"Motorola\\\"\\n    dataframe.loc[\\n        dataframe[\\\"device_name\\\"].str.contains(\\\"LG-\\\", na=False), \\\"device_name\\\"\\n    ] = \\\"LG\\\"\\n    dataframe.loc[\\n        dataframe[\\\"device_name\\\"].str.contains(\\\"rv:\\\", na=False), \\\"device_name\\\"\\n    ] = \\\"RV\\\"\\n    dataframe.loc[\\n        dataframe[\\\"device_name\\\"].str.contains(\\\"HUAWEI\\\", na=False), \\\"device_name\\\"\\n    ] = \\\"Huawei\\\"\\n    dataframe.loc[\\n        dataframe[\\\"device_name\\\"].str.contains(\\\"ALE-\\\", na=False), \\\"device_name\\\"\\n    ] = \\\"Huawei\\\"\\n    dataframe.loc[\\n        dataframe[\\\"device_name\\\"].str.contains(\\\"-L\\\", na=False), \\\"device_name\\\"\\n    ] = \\\"Huawei\\\"\\n    dataframe.loc[\\n        dataframe[\\\"device_name\\\"].str.contains(\\\"Blade\\\", na=False), \\\"device_name\\\"\\n    ] = \\\"ZTE\\\"\\n    dataframe.loc[\\n        dataframe[\\\"device_name\\\"].str.contains(\\\"BLADE\\\", na=False), \\\"device_name\\\"\\n    ] = \\\"ZTE\\\"\\n    dataframe.loc[\\n        dataframe[\\\"device_name\\\"].str.contains(\\\"Linux\\\", na=False), \\\"device_name\\\"\\n    ] = \\\"Linux\\\"\\n    dataframe.loc[\\n        dataframe[\\\"device_name\\\"].str.contains(\\\"XT\\\", na=False), \\\"device_name\\\"\\n    ] = \\\"Sony\\\"\\n    dataframe.loc[\\n        dataframe[\\\"device_name\\\"].str.contains(\\\"HTC\\\", na=False), \\\"device_name\\\"\\n    ] = \\\"HTC\\\"\\n    dataframe.loc[\\n        dataframe[\\\"device_name\\\"].str.contains(\\\"ASUS\\\", na=False), \\\"device_name\\\"\\n    ] = \\\"Asus\\\"\\n\\n    dataframe.loc[\\n        dataframe.device_name.isin(\\n            dataframe.device_name.value_counts()[\\n                dataframe.device_name.value_counts() < 200\\n            ].index\\n        ),\\n        \\\"device_name\\\",\\n    ] = \\\"Others\\\"\\n    dataframe[\\\"had_id\\\"] = \\\"1\\\"\\n    gc.collect()\\n\\n    dataframe[\\\"c2_check\\\"] = dataframe[\\\"card2\\\"].apply(lambda x: 0 if np.isnan(x) else 1)\\n    dataframe[\\\"c3_check\\\"] = dataframe[\\\"card3\\\"].apply(lambda x: 0 if np.isnan(x) else 1)\\n    dataframe[\\\"new_domain\\\"] = dataframe[\\\"P_emaildomain\\\"].apply(\\n        lambda x: str(x).partition(\\\".\\\")[0]\\n    )\\n    dataframe[\\\"t_dt_minute\\\"] = dataframe[\\\"TransactionDT\\\"] / 60\\n    dataframe[\\\"t_dt_hour\\\"] = dataframe[\\\"t_dt_minute\\\"] / 60\\n    dataframe[\\\"t_dt_day\\\"] = dataframe[\\\"t_dt_hour\\\"] / 24\\n    dataframe[\\\"t_dt_week\\\"] = dataframe[\\\"t_dt_day\\\"] / 7\\n\\n    # ADD MONTH FEATURE\\n    START_DATE = datetime.datetime.strptime(\\\"2017-11-30\\\", \\\"%Y-%m-%d\\\")\\n    dataframe[\\\"DT_M\\\"] = dataframe[\\\"TransactionDT\\\"].map(\\n        lambda x: (START_DATE + datetime.timedelta(seconds=x))\\n    )\\n    dataframe[\\\"DT_M\\\"] = (dataframe[\\\"DT_M\\\"].dt.year - 2017) * 12 + dataframe[\\n        \\\"DT_M\\\"\\n    ].dt.month\\n\\n    dataframe[\\\"card1check\\\"] = dataframe[\\\"card1\\\"].apply(\\n        lambda x: 0 if np.isnan(x) else 1\\n    )\\n    dataframe[\\\"card2check\\\"] = dataframe[\\\"card2\\\"].apply(\\n        lambda x: 0 if np.isnan(x) else 1\\n    )\\n\\n    dataframe[\\\"D2_check\\\"] = dataframe[\\\"D2\\\"].apply(lambda x: 0 if np.isnan(x) else 1)\\n    dataframe[\\\"D3_check\\\"] = dataframe[\\\"D3\\\"].apply(lambda x: 0 if np.isnan(x) else 1)\\n    dataframe[\\\"D4_check\\\"] = dataframe[\\\"D4\\\"].apply(lambda x: 0 if np.isnan(x) else 1)\\n    dataframe[\\\"D5_check\\\"] = dataframe[\\\"D5\\\"].apply(lambda x: 0 if np.isnan(x) else 1)\\n    dataframe[\\\"D6_check\\\"] = dataframe[\\\"D6\\\"].apply(lambda x: 0 if np.isnan(x) else 1)\\n    dataframe[\\\"D7_check\\\"] = dataframe[\\\"D7\\\"].apply(lambda x: 0 if np.isnan(x) else 1)\\n    dataframe[\\\"d8_check\\\"] = dataframe[\\\"D8\\\"].apply(lambda x: 0 if np.isnan(x) else 1)\\n    dataframe[\\\"D9_check\\\"] = dataframe[\\\"D9\\\"].apply(lambda x: 0 if np.isnan(x) else 1)\\n    dataframe[\\\"D10_check\\\"] = dataframe[\\\"D10\\\"].apply(lambda x: 0 if np.isnan(x) else 1)\\n    dataframe[\\\"D11_check\\\"] = dataframe[\\\"D11\\\"].apply(lambda x: 0 if np.isnan(x) else 1)\\n    dataframe[\\\"D12_check\\\"] = dataframe[\\\"D12\\\"].apply(lambda x: 0 if np.isnan(x) else 1)\\n    dataframe[\\\"D13_check\\\"] = dataframe[\\\"D13\\\"].apply(lambda x: 0 if np.isnan(x) else 1)\\n    dataframe[\\\"D14_check\\\"] = dataframe[\\\"D14\\\"].apply(lambda x: 0 if np.isnan(x) else 1)\\n    dataframe[\\\"D15_check\\\"] = dataframe[\\\"D15\\\"].apply(lambda x: 0 if np.isnan(x) else 1)\\n\\n    dataframe[\\\"new_domain1\\\"] = dataframe[\\\"P_emaildomain\\\"].apply(\\n        lambda x: str(x).partition(\\\".\\\")[-1]\\n    )\\n    dataframe[\\\"new_domain2\\\"] = dataframe[\\\"R_emaildomain\\\"].apply(\\n        lambda x: str(x).partition(\\\".\\\")[-1]\\n    )\\n\\n    dataframe[\\\"addr1_addr2\\\"] = dataframe[\\\"addr1\\\"] + dataframe[\\\"addr2\\\"]\\n    dataframe[\\\"card1_card2\\\"] = dataframe[\\\"card1\\\"] + dataframe[\\\"card2\\\"]\\n\\n    dataframe[\\\"TransactionAmt_to_mean_card1\\\"] = dataframe[\\n        \\\"TransactionAmt\\\"\\n    ] / dataframe.groupby([\\\"card1\\\"])[\\\"TransactionAmt\\\"].transform(\\\"mean\\\")\\n    dataframe[\\\"TransactionAmt_to_mean_card4\\\"] = dataframe[\\n        \\\"TransactionAmt\\\"\\n    ] / dataframe.groupby([\\\"card4\\\"])[\\\"TransactionAmt\\\"].transform(\\\"mean\\\")\\n    dataframe[\\\"TransactionAmt_to_std_card1\\\"] = dataframe[\\n        \\\"TransactionAmt\\\"\\n    ] / dataframe.groupby([\\\"card1\\\"])[\\\"TransactionAmt\\\"].transform(\\\"std\\\")\\n    dataframe[\\\"TransactionAmt_to_std_card4\\\"] = dataframe[\\n        \\\"TransactionAmt\\\"\\n    ] / dataframe.groupby([\\\"card4\\\"])[\\\"TransactionAmt\\\"].transform(\\\"std\\\")\\n\\n    dataframe[\\\"id_02_to_mean_card1\\\"] = dataframe[\\\"id_02\\\"] / dataframe.groupby(\\n        [\\\"card1\\\"]\\n    )[\\\"id_02\\\"].transform(\\\"mean\\\")\\n    dataframe[\\\"id_02_to_mean_card4\\\"] = dataframe[\\\"id_02\\\"] / dataframe.groupby(\\n        [\\\"card4\\\"]\\n    )[\\\"id_02\\\"].transform(\\\"mean\\\")\\n    dataframe[\\\"id_02_to_std_card1\\\"] = dataframe[\\\"id_02\\\"] / dataframe.groupby([\\\"card1\\\"])[\\n        \\\"id_02\\\"\\n    ].transform(\\\"std\\\")\\n    dataframe[\\\"id_02_to_std_card4\\\"] = dataframe[\\\"id_02\\\"] / dataframe.groupby([\\\"card4\\\"])[\\n        \\\"id_02\\\"\\n    ].transform(\\\"std\\\")\\n\\n    dataframe[\\\"D15_to_mean_card1\\\"] = dataframe[\\\"D15\\\"] / dataframe.groupby([\\\"card1\\\"])[\\n        \\\"D15\\\"\\n    ].transform(\\\"mean\\\")\\n    dataframe[\\\"D15_to_mean_card4\\\"] = dataframe[\\\"D15\\\"] / dataframe.groupby([\\\"card4\\\"])[\\n        \\\"D15\\\"\\n    ].transform(\\\"mean\\\")\\n    dataframe[\\\"D15_to_std_card1\\\"] = dataframe[\\\"D15\\\"] / dataframe.groupby([\\\"card1\\\"])[\\n        \\\"D15\\\"\\n    ].transform(\\\"std\\\")\\n    dataframe[\\\"D15_to_std_card4\\\"] = dataframe[\\\"D15\\\"] / dataframe.groupby([\\\"card4\\\"])[\\n        \\\"D15\\\"\\n    ].transform(\\\"std\\\")\\n\\n    dataframe[\\\"D15_to_mean_addr1\\\"] = dataframe[\\\"D15\\\"] / dataframe.groupby([\\\"addr1\\\"])[\\n        \\\"D15\\\"\\n    ].transform(\\\"mean\\\")\\n    dataframe[\\\"D15_to_std_addr1\\\"] = dataframe[\\\"D15\\\"] / dataframe.groupby([\\\"addr1\\\"])[\\n        \\\"D15\\\"\\n    ].transform(\\\"std\\\")\\n\\n    return dataframe\";\n",
       "                var nbb_formatted_code = \"def feature_eng(dataframe, name=True):\\n\\n    dataframe[\\\"hour\\\"] = (dataframe[\\\"TransactionDT\\\"] / (3600)) % 24\\n\\n    def hourFeature(hour):\\n        if hour > 3 and hour < 12:\\n            return \\\"highalert\\\"\\n        if hour > 18 and hour <= 23:\\n            return \\\"mediumalert\\\"\\n        else:\\n            return \\\"lowalert\\\"\\n\\n    dataframe[\\\"alertFeature\\\"] = dataframe[\\\"hour\\\"].apply(hourFeature)\\n\\n    dataframe[\\\"LogTransactionAmt\\\"] = np.log(dataframe[\\\"TransactionAmt\\\"])\\n\\n    dataframe[\\\"device_name\\\"] = dataframe[\\\"DeviceInfo\\\"].str.split(\\\"/\\\", expand=True)[0]\\n    dataframe[\\\"device_version\\\"] = dataframe[\\\"DeviceInfo\\\"].str.split(\\\"/\\\", expand=True)[1]\\n    if name:\\n        dataframe[\\\"OS_id_30\\\"] = dataframe[\\\"id_30\\\"].str.split(\\\" \\\", expand=True)[0]\\n        dataframe[\\\"version_id_30\\\"] = dataframe[\\\"id_30\\\"].str.split(\\\" \\\", expand=True)[1]\\n\\n        dataframe[\\\"browser_id_31\\\"] = dataframe[\\\"id_31\\\"].str.split(\\\" \\\", expand=True)[0]\\n        dataframe[\\\"version_id_31\\\"] = dataframe[\\\"id_31\\\"].str.split(\\\" \\\", expand=True)[1]\\n\\n        dataframe[\\\"screen_width\\\"] = dataframe[\\\"id_33\\\"].str.split(\\\"x\\\", expand=True)[0]\\n        dataframe[\\\"screen_height\\\"] = dataframe[\\\"id_33\\\"].str.split(\\\"x\\\", expand=True)[1]\\n\\n    dataframe.loc[\\n        dataframe[\\\"device_name\\\"].str.contains(\\\"SM\\\", na=False), \\\"device_name\\\"\\n    ] = \\\"Samsung\\\"\\n    dataframe.loc[\\n        dataframe[\\\"device_name\\\"].str.contains(\\\"SAMSUNG\\\", na=False), \\\"device_name\\\"\\n    ] = \\\"Samsung\\\"\\n    dataframe.loc[\\n        dataframe[\\\"device_name\\\"].str.contains(\\\"GT-\\\", na=False), \\\"device_name\\\"\\n    ] = \\\"Samsung\\\"\\n    dataframe.loc[\\n        dataframe[\\\"device_name\\\"].str.contains(\\\"Moto G\\\", na=False), \\\"device_name\\\"\\n    ] = \\\"Motorola\\\"\\n    dataframe.loc[\\n        dataframe[\\\"device_name\\\"].str.contains(\\\"Moto\\\", na=False), \\\"device_name\\\"\\n    ] = \\\"Motorola\\\"\\n    dataframe.loc[\\n        dataframe[\\\"device_name\\\"].str.contains(\\\"moto\\\", na=False), \\\"device_name\\\"\\n    ] = \\\"Motorola\\\"\\n    dataframe.loc[\\n        dataframe[\\\"device_name\\\"].str.contains(\\\"LG-\\\", na=False), \\\"device_name\\\"\\n    ] = \\\"LG\\\"\\n    dataframe.loc[\\n        dataframe[\\\"device_name\\\"].str.contains(\\\"rv:\\\", na=False), \\\"device_name\\\"\\n    ] = \\\"RV\\\"\\n    dataframe.loc[\\n        dataframe[\\\"device_name\\\"].str.contains(\\\"HUAWEI\\\", na=False), \\\"device_name\\\"\\n    ] = \\\"Huawei\\\"\\n    dataframe.loc[\\n        dataframe[\\\"device_name\\\"].str.contains(\\\"ALE-\\\", na=False), \\\"device_name\\\"\\n    ] = \\\"Huawei\\\"\\n    dataframe.loc[\\n        dataframe[\\\"device_name\\\"].str.contains(\\\"-L\\\", na=False), \\\"device_name\\\"\\n    ] = \\\"Huawei\\\"\\n    dataframe.loc[\\n        dataframe[\\\"device_name\\\"].str.contains(\\\"Blade\\\", na=False), \\\"device_name\\\"\\n    ] = \\\"ZTE\\\"\\n    dataframe.loc[\\n        dataframe[\\\"device_name\\\"].str.contains(\\\"BLADE\\\", na=False), \\\"device_name\\\"\\n    ] = \\\"ZTE\\\"\\n    dataframe.loc[\\n        dataframe[\\\"device_name\\\"].str.contains(\\\"Linux\\\", na=False), \\\"device_name\\\"\\n    ] = \\\"Linux\\\"\\n    dataframe.loc[\\n        dataframe[\\\"device_name\\\"].str.contains(\\\"XT\\\", na=False), \\\"device_name\\\"\\n    ] = \\\"Sony\\\"\\n    dataframe.loc[\\n        dataframe[\\\"device_name\\\"].str.contains(\\\"HTC\\\", na=False), \\\"device_name\\\"\\n    ] = \\\"HTC\\\"\\n    dataframe.loc[\\n        dataframe[\\\"device_name\\\"].str.contains(\\\"ASUS\\\", na=False), \\\"device_name\\\"\\n    ] = \\\"Asus\\\"\\n\\n    dataframe.loc[\\n        dataframe.device_name.isin(\\n            dataframe.device_name.value_counts()[\\n                dataframe.device_name.value_counts() < 200\\n            ].index\\n        ),\\n        \\\"device_name\\\",\\n    ] = \\\"Others\\\"\\n    dataframe[\\\"had_id\\\"] = \\\"1\\\"\\n    gc.collect()\\n\\n    dataframe[\\\"c2_check\\\"] = dataframe[\\\"card2\\\"].apply(lambda x: 0 if np.isnan(x) else 1)\\n    dataframe[\\\"c3_check\\\"] = dataframe[\\\"card3\\\"].apply(lambda x: 0 if np.isnan(x) else 1)\\n    dataframe[\\\"new_domain\\\"] = dataframe[\\\"P_emaildomain\\\"].apply(\\n        lambda x: str(x).partition(\\\".\\\")[0]\\n    )\\n    dataframe[\\\"t_dt_minute\\\"] = dataframe[\\\"TransactionDT\\\"] / 60\\n    dataframe[\\\"t_dt_hour\\\"] = dataframe[\\\"t_dt_minute\\\"] / 60\\n    dataframe[\\\"t_dt_day\\\"] = dataframe[\\\"t_dt_hour\\\"] / 24\\n    dataframe[\\\"t_dt_week\\\"] = dataframe[\\\"t_dt_day\\\"] / 7\\n\\n    # ADD MONTH FEATURE\\n    START_DATE = datetime.datetime.strptime(\\\"2017-11-30\\\", \\\"%Y-%m-%d\\\")\\n    dataframe[\\\"DT_M\\\"] = dataframe[\\\"TransactionDT\\\"].map(\\n        lambda x: (START_DATE + datetime.timedelta(seconds=x))\\n    )\\n    dataframe[\\\"DT_M\\\"] = (dataframe[\\\"DT_M\\\"].dt.year - 2017) * 12 + dataframe[\\n        \\\"DT_M\\\"\\n    ].dt.month\\n\\n    dataframe[\\\"card1check\\\"] = dataframe[\\\"card1\\\"].apply(\\n        lambda x: 0 if np.isnan(x) else 1\\n    )\\n    dataframe[\\\"card2check\\\"] = dataframe[\\\"card2\\\"].apply(\\n        lambda x: 0 if np.isnan(x) else 1\\n    )\\n\\n    dataframe[\\\"D2_check\\\"] = dataframe[\\\"D2\\\"].apply(lambda x: 0 if np.isnan(x) else 1)\\n    dataframe[\\\"D3_check\\\"] = dataframe[\\\"D3\\\"].apply(lambda x: 0 if np.isnan(x) else 1)\\n    dataframe[\\\"D4_check\\\"] = dataframe[\\\"D4\\\"].apply(lambda x: 0 if np.isnan(x) else 1)\\n    dataframe[\\\"D5_check\\\"] = dataframe[\\\"D5\\\"].apply(lambda x: 0 if np.isnan(x) else 1)\\n    dataframe[\\\"D6_check\\\"] = dataframe[\\\"D6\\\"].apply(lambda x: 0 if np.isnan(x) else 1)\\n    dataframe[\\\"D7_check\\\"] = dataframe[\\\"D7\\\"].apply(lambda x: 0 if np.isnan(x) else 1)\\n    dataframe[\\\"d8_check\\\"] = dataframe[\\\"D8\\\"].apply(lambda x: 0 if np.isnan(x) else 1)\\n    dataframe[\\\"D9_check\\\"] = dataframe[\\\"D9\\\"].apply(lambda x: 0 if np.isnan(x) else 1)\\n    dataframe[\\\"D10_check\\\"] = dataframe[\\\"D10\\\"].apply(lambda x: 0 if np.isnan(x) else 1)\\n    dataframe[\\\"D11_check\\\"] = dataframe[\\\"D11\\\"].apply(lambda x: 0 if np.isnan(x) else 1)\\n    dataframe[\\\"D12_check\\\"] = dataframe[\\\"D12\\\"].apply(lambda x: 0 if np.isnan(x) else 1)\\n    dataframe[\\\"D13_check\\\"] = dataframe[\\\"D13\\\"].apply(lambda x: 0 if np.isnan(x) else 1)\\n    dataframe[\\\"D14_check\\\"] = dataframe[\\\"D14\\\"].apply(lambda x: 0 if np.isnan(x) else 1)\\n    dataframe[\\\"D15_check\\\"] = dataframe[\\\"D15\\\"].apply(lambda x: 0 if np.isnan(x) else 1)\\n\\n    dataframe[\\\"new_domain1\\\"] = dataframe[\\\"P_emaildomain\\\"].apply(\\n        lambda x: str(x).partition(\\\".\\\")[-1]\\n    )\\n    dataframe[\\\"new_domain2\\\"] = dataframe[\\\"R_emaildomain\\\"].apply(\\n        lambda x: str(x).partition(\\\".\\\")[-1]\\n    )\\n\\n    dataframe[\\\"addr1_addr2\\\"] = dataframe[\\\"addr1\\\"] + dataframe[\\\"addr2\\\"]\\n    dataframe[\\\"card1_card2\\\"] = dataframe[\\\"card1\\\"] + dataframe[\\\"card2\\\"]\\n\\n    dataframe[\\\"TransactionAmt_to_mean_card1\\\"] = dataframe[\\n        \\\"TransactionAmt\\\"\\n    ] / dataframe.groupby([\\\"card1\\\"])[\\\"TransactionAmt\\\"].transform(\\\"mean\\\")\\n    dataframe[\\\"TransactionAmt_to_mean_card4\\\"] = dataframe[\\n        \\\"TransactionAmt\\\"\\n    ] / dataframe.groupby([\\\"card4\\\"])[\\\"TransactionAmt\\\"].transform(\\\"mean\\\")\\n    dataframe[\\\"TransactionAmt_to_std_card1\\\"] = dataframe[\\n        \\\"TransactionAmt\\\"\\n    ] / dataframe.groupby([\\\"card1\\\"])[\\\"TransactionAmt\\\"].transform(\\\"std\\\")\\n    dataframe[\\\"TransactionAmt_to_std_card4\\\"] = dataframe[\\n        \\\"TransactionAmt\\\"\\n    ] / dataframe.groupby([\\\"card4\\\"])[\\\"TransactionAmt\\\"].transform(\\\"std\\\")\\n\\n    dataframe[\\\"id_02_to_mean_card1\\\"] = dataframe[\\\"id_02\\\"] / dataframe.groupby(\\n        [\\\"card1\\\"]\\n    )[\\\"id_02\\\"].transform(\\\"mean\\\")\\n    dataframe[\\\"id_02_to_mean_card4\\\"] = dataframe[\\\"id_02\\\"] / dataframe.groupby(\\n        [\\\"card4\\\"]\\n    )[\\\"id_02\\\"].transform(\\\"mean\\\")\\n    dataframe[\\\"id_02_to_std_card1\\\"] = dataframe[\\\"id_02\\\"] / dataframe.groupby([\\\"card1\\\"])[\\n        \\\"id_02\\\"\\n    ].transform(\\\"std\\\")\\n    dataframe[\\\"id_02_to_std_card4\\\"] = dataframe[\\\"id_02\\\"] / dataframe.groupby([\\\"card4\\\"])[\\n        \\\"id_02\\\"\\n    ].transform(\\\"std\\\")\\n\\n    dataframe[\\\"D15_to_mean_card1\\\"] = dataframe[\\\"D15\\\"] / dataframe.groupby([\\\"card1\\\"])[\\n        \\\"D15\\\"\\n    ].transform(\\\"mean\\\")\\n    dataframe[\\\"D15_to_mean_card4\\\"] = dataframe[\\\"D15\\\"] / dataframe.groupby([\\\"card4\\\"])[\\n        \\\"D15\\\"\\n    ].transform(\\\"mean\\\")\\n    dataframe[\\\"D15_to_std_card1\\\"] = dataframe[\\\"D15\\\"] / dataframe.groupby([\\\"card1\\\"])[\\n        \\\"D15\\\"\\n    ].transform(\\\"std\\\")\\n    dataframe[\\\"D15_to_std_card4\\\"] = dataframe[\\\"D15\\\"] / dataframe.groupby([\\\"card4\\\"])[\\n        \\\"D15\\\"\\n    ].transform(\\\"std\\\")\\n\\n    dataframe[\\\"D15_to_mean_addr1\\\"] = dataframe[\\\"D15\\\"] / dataframe.groupby([\\\"addr1\\\"])[\\n        \\\"D15\\\"\\n    ].transform(\\\"mean\\\")\\n    dataframe[\\\"D15_to_std_addr1\\\"] = dataframe[\\\"D15\\\"] / dataframe.groupby([\\\"addr1\\\"])[\\n        \\\"D15\\\"\\n    ].transform(\\\"std\\\")\\n\\n    return dataframe\";\n",
       "                var nbb_cells = Jupyter.notebook.get_cells();\n",
       "                for (var i = 0; i < nbb_cells.length; ++i) {\n",
       "                    if (nbb_cells[i].input_prompt_number == nbb_cell_id) {\n",
       "                        if (nbb_cells[i].get_text() == nbb_unformatted_code) {\n",
       "                             nbb_cells[i].set_text(nbb_formatted_code);\n",
       "                        }\n",
       "                        break;\n",
       "                    }\n",
       "                }\n",
       "            }, 500);\n",
       "            "
      ],
      "text/plain": [
       "<IPython.core.display.Javascript object>"
      ]
     },
     "metadata": {},
     "output_type": "display_data"
    }
   ],
   "source": [
    "def feature_eng(dataframe, name=True):\n",
    "\n",
    "    dataframe[\"hour\"] = (dataframe[\"TransactionDT\"] / (3600)) % 24\n",
    "\n",
    "    def hourFeature(hour):\n",
    "        if hour > 3 and hour < 12:\n",
    "            return \"highalert\"\n",
    "        if hour > 18 and hour <= 23:\n",
    "            return \"mediumalert\"\n",
    "        else:\n",
    "            return \"lowalert\"\n",
    "\n",
    "    dataframe[\"alertFeature\"] = dataframe[\"hour\"].apply(hourFeature)\n",
    "\n",
    "    dataframe[\"LogTransactionAmt\"] = np.log(dataframe[\"TransactionAmt\"])\n",
    "\n",
    "    dataframe[\"device_name\"] = dataframe[\"DeviceInfo\"].str.split(\"/\", expand=True)[0]\n",
    "    dataframe[\"device_version\"] = dataframe[\"DeviceInfo\"].str.split(\"/\", expand=True)[1]\n",
    "    if name:\n",
    "        dataframe[\"OS_id_30\"] = dataframe[\"id_30\"].str.split(\" \", expand=True)[0]\n",
    "        dataframe[\"version_id_30\"] = dataframe[\"id_30\"].str.split(\" \", expand=True)[1]\n",
    "\n",
    "        dataframe[\"browser_id_31\"] = dataframe[\"id_31\"].str.split(\" \", expand=True)[0]\n",
    "        dataframe[\"version_id_31\"] = dataframe[\"id_31\"].str.split(\" \", expand=True)[1]\n",
    "\n",
    "        dataframe[\"screen_width\"] = dataframe[\"id_33\"].str.split(\"x\", expand=True)[0]\n",
    "        dataframe[\"screen_height\"] = dataframe[\"id_33\"].str.split(\"x\", expand=True)[1]\n",
    "\n",
    "    dataframe.loc[\n",
    "        dataframe[\"device_name\"].str.contains(\"SM\", na=False), \"device_name\"\n",
    "    ] = \"Samsung\"\n",
    "    dataframe.loc[\n",
    "        dataframe[\"device_name\"].str.contains(\"SAMSUNG\", na=False), \"device_name\"\n",
    "    ] = \"Samsung\"\n",
    "    dataframe.loc[\n",
    "        dataframe[\"device_name\"].str.contains(\"GT-\", na=False), \"device_name\"\n",
    "    ] = \"Samsung\"\n",
    "    dataframe.loc[\n",
    "        dataframe[\"device_name\"].str.contains(\"Moto G\", na=False), \"device_name\"\n",
    "    ] = \"Motorola\"\n",
    "    dataframe.loc[\n",
    "        dataframe[\"device_name\"].str.contains(\"Moto\", na=False), \"device_name\"\n",
    "    ] = \"Motorola\"\n",
    "    dataframe.loc[\n",
    "        dataframe[\"device_name\"].str.contains(\"moto\", na=False), \"device_name\"\n",
    "    ] = \"Motorola\"\n",
    "    dataframe.loc[\n",
    "        dataframe[\"device_name\"].str.contains(\"LG-\", na=False), \"device_name\"\n",
    "    ] = \"LG\"\n",
    "    dataframe.loc[\n",
    "        dataframe[\"device_name\"].str.contains(\"rv:\", na=False), \"device_name\"\n",
    "    ] = \"RV\"\n",
    "    dataframe.loc[\n",
    "        dataframe[\"device_name\"].str.contains(\"HUAWEI\", na=False), \"device_name\"\n",
    "    ] = \"Huawei\"\n",
    "    dataframe.loc[\n",
    "        dataframe[\"device_name\"].str.contains(\"ALE-\", na=False), \"device_name\"\n",
    "    ] = \"Huawei\"\n",
    "    dataframe.loc[\n",
    "        dataframe[\"device_name\"].str.contains(\"-L\", na=False), \"device_name\"\n",
    "    ] = \"Huawei\"\n",
    "    dataframe.loc[\n",
    "        dataframe[\"device_name\"].str.contains(\"Blade\", na=False), \"device_name\"\n",
    "    ] = \"ZTE\"\n",
    "    dataframe.loc[\n",
    "        dataframe[\"device_name\"].str.contains(\"BLADE\", na=False), \"device_name\"\n",
    "    ] = \"ZTE\"\n",
    "    dataframe.loc[\n",
    "        dataframe[\"device_name\"].str.contains(\"Linux\", na=False), \"device_name\"\n",
    "    ] = \"Linux\"\n",
    "    dataframe.loc[\n",
    "        dataframe[\"device_name\"].str.contains(\"XT\", na=False), \"device_name\"\n",
    "    ] = \"Sony\"\n",
    "    dataframe.loc[\n",
    "        dataframe[\"device_name\"].str.contains(\"HTC\", na=False), \"device_name\"\n",
    "    ] = \"HTC\"\n",
    "    dataframe.loc[\n",
    "        dataframe[\"device_name\"].str.contains(\"ASUS\", na=False), \"device_name\"\n",
    "    ] = \"Asus\"\n",
    "\n",
    "    dataframe.loc[\n",
    "        dataframe.device_name.isin(\n",
    "            dataframe.device_name.value_counts()[\n",
    "                dataframe.device_name.value_counts() < 200\n",
    "            ].index\n",
    "        ),\n",
    "        \"device_name\",\n",
    "    ] = \"Others\"\n",
    "    dataframe[\"had_id\"] = \"1\"\n",
    "    gc.collect()\n",
    "\n",
    "    dataframe[\"c2_check\"] = dataframe[\"card2\"].apply(lambda x: 0 if np.isnan(x) else 1)\n",
    "    dataframe[\"c3_check\"] = dataframe[\"card3\"].apply(lambda x: 0 if np.isnan(x) else 1)\n",
    "    dataframe[\"new_domain\"] = dataframe[\"P_emaildomain\"].apply(\n",
    "        lambda x: str(x).partition(\".\")[0]\n",
    "    )\n",
    "    dataframe[\"t_dt_minute\"] = dataframe[\"TransactionDT\"] / 60\n",
    "    dataframe[\"t_dt_hour\"] = dataframe[\"t_dt_minute\"] / 60\n",
    "    dataframe[\"t_dt_day\"] = dataframe[\"t_dt_hour\"] / 24\n",
    "    dataframe[\"t_dt_week\"] = dataframe[\"t_dt_day\"] / 7\n",
    "\n",
    "    # ADD MONTH FEATURE\n",
    "    START_DATE = datetime.datetime.strptime(\"2017-11-30\", \"%Y-%m-%d\")\n",
    "    dataframe[\"DT_M\"] = dataframe[\"TransactionDT\"].map(\n",
    "        lambda x: (START_DATE + datetime.timedelta(seconds=x))\n",
    "    )\n",
    "    dataframe[\"DT_M\"] = (dataframe[\"DT_M\"].dt.year - 2017) * 12 + dataframe[\n",
    "        \"DT_M\"\n",
    "    ].dt.month\n",
    "\n",
    "    dataframe[\"card1check\"] = dataframe[\"card1\"].apply(\n",
    "        lambda x: 0 if np.isnan(x) else 1\n",
    "    )\n",
    "    dataframe[\"card2check\"] = dataframe[\"card2\"].apply(\n",
    "        lambda x: 0 if np.isnan(x) else 1\n",
    "    )\n",
    "\n",
    "    dataframe[\"D2_check\"] = dataframe[\"D2\"].apply(lambda x: 0 if np.isnan(x) else 1)\n",
    "    dataframe[\"D3_check\"] = dataframe[\"D3\"].apply(lambda x: 0 if np.isnan(x) else 1)\n",
    "    dataframe[\"D4_check\"] = dataframe[\"D4\"].apply(lambda x: 0 if np.isnan(x) else 1)\n",
    "    dataframe[\"D5_check\"] = dataframe[\"D5\"].apply(lambda x: 0 if np.isnan(x) else 1)\n",
    "    dataframe[\"D6_check\"] = dataframe[\"D6\"].apply(lambda x: 0 if np.isnan(x) else 1)\n",
    "    dataframe[\"D7_check\"] = dataframe[\"D7\"].apply(lambda x: 0 if np.isnan(x) else 1)\n",
    "    dataframe[\"d8_check\"] = dataframe[\"D8\"].apply(lambda x: 0 if np.isnan(x) else 1)\n",
    "    dataframe[\"D9_check\"] = dataframe[\"D9\"].apply(lambda x: 0 if np.isnan(x) else 1)\n",
    "    dataframe[\"D10_check\"] = dataframe[\"D10\"].apply(lambda x: 0 if np.isnan(x) else 1)\n",
    "    dataframe[\"D11_check\"] = dataframe[\"D11\"].apply(lambda x: 0 if np.isnan(x) else 1)\n",
    "    dataframe[\"D12_check\"] = dataframe[\"D12\"].apply(lambda x: 0 if np.isnan(x) else 1)\n",
    "    dataframe[\"D13_check\"] = dataframe[\"D13\"].apply(lambda x: 0 if np.isnan(x) else 1)\n",
    "    dataframe[\"D14_check\"] = dataframe[\"D14\"].apply(lambda x: 0 if np.isnan(x) else 1)\n",
    "    dataframe[\"D15_check\"] = dataframe[\"D15\"].apply(lambda x: 0 if np.isnan(x) else 1)\n",
    "\n",
    "    dataframe[\"new_domain1\"] = dataframe[\"P_emaildomain\"].apply(\n",
    "        lambda x: str(x).partition(\".\")[-1]\n",
    "    )\n",
    "    dataframe[\"new_domain2\"] = dataframe[\"R_emaildomain\"].apply(\n",
    "        lambda x: str(x).partition(\".\")[-1]\n",
    "    )\n",
    "\n",
    "    dataframe[\"addr1_addr2\"] = dataframe[\"addr1\"] + dataframe[\"addr2\"]\n",
    "    dataframe[\"card1_card2\"] = dataframe[\"card1\"] + dataframe[\"card2\"]\n",
    "\n",
    "    dataframe[\"TransactionAmt_to_mean_card1\"] = dataframe[\n",
    "        \"TransactionAmt\"\n",
    "    ] / dataframe.groupby([\"card1\"])[\"TransactionAmt\"].transform(\"mean\")\n",
    "    dataframe[\"TransactionAmt_to_mean_card4\"] = dataframe[\n",
    "        \"TransactionAmt\"\n",
    "    ] / dataframe.groupby([\"card4\"])[\"TransactionAmt\"].transform(\"mean\")\n",
    "    dataframe[\"TransactionAmt_to_std_card1\"] = dataframe[\n",
    "        \"TransactionAmt\"\n",
    "    ] / dataframe.groupby([\"card1\"])[\"TransactionAmt\"].transform(\"std\")\n",
    "    dataframe[\"TransactionAmt_to_std_card4\"] = dataframe[\n",
    "        \"TransactionAmt\"\n",
    "    ] / dataframe.groupby([\"card4\"])[\"TransactionAmt\"].transform(\"std\")\n",
    "\n",
    "    dataframe[\"id_02_to_mean_card1\"] = dataframe[\"id_02\"] / dataframe.groupby(\n",
    "        [\"card1\"]\n",
    "    )[\"id_02\"].transform(\"mean\")\n",
    "    dataframe[\"id_02_to_mean_card4\"] = dataframe[\"id_02\"] / dataframe.groupby(\n",
    "        [\"card4\"]\n",
    "    )[\"id_02\"].transform(\"mean\")\n",
    "    dataframe[\"id_02_to_std_card1\"] = dataframe[\"id_02\"] / dataframe.groupby([\"card1\"])[\n",
    "        \"id_02\"\n",
    "    ].transform(\"std\")\n",
    "    dataframe[\"id_02_to_std_card4\"] = dataframe[\"id_02\"] / dataframe.groupby([\"card4\"])[\n",
    "        \"id_02\"\n",
    "    ].transform(\"std\")\n",
    "\n",
    "    dataframe[\"D15_to_mean_card1\"] = dataframe[\"D15\"] / dataframe.groupby([\"card1\"])[\n",
    "        \"D15\"\n",
    "    ].transform(\"mean\")\n",
    "    dataframe[\"D15_to_mean_card4\"] = dataframe[\"D15\"] / dataframe.groupby([\"card4\"])[\n",
    "        \"D15\"\n",
    "    ].transform(\"mean\")\n",
    "    dataframe[\"D15_to_std_card1\"] = dataframe[\"D15\"] / dataframe.groupby([\"card1\"])[\n",
    "        \"D15\"\n",
    "    ].transform(\"std\")\n",
    "    dataframe[\"D15_to_std_card4\"] = dataframe[\"D15\"] / dataframe.groupby([\"card4\"])[\n",
    "        \"D15\"\n",
    "    ].transform(\"std\")\n",
    "\n",
    "    dataframe[\"D15_to_mean_addr1\"] = dataframe[\"D15\"] / dataframe.groupby([\"addr1\"])[\n",
    "        \"D15\"\n",
    "    ].transform(\"mean\")\n",
    "    dataframe[\"D15_to_std_addr1\"] = dataframe[\"D15\"] / dataframe.groupby([\"addr1\"])[\n",
    "        \"D15\"\n",
    "    ].transform(\"std\")\n",
    "\n",
    "    return dataframe"
   ]
  },
  {
   "cell_type": "code",
   "execution_count": 15,
   "id": "fddccfed",
   "metadata": {},
   "outputs": [
    {
     "data": {
      "application/javascript": [
       "\n",
       "            setTimeout(function() {\n",
       "                var nbb_cell_id = 15;\n",
       "                var nbb_unformatted_code = \"import gc\\nimport datetime\\n\\ntrain = feature_eng(train)\\ntest = feature_eng(test)\";\n",
       "                var nbb_formatted_code = \"import gc\\nimport datetime\\n\\ntrain = feature_eng(train)\\ntest = feature_eng(test)\";\n",
       "                var nbb_cells = Jupyter.notebook.get_cells();\n",
       "                for (var i = 0; i < nbb_cells.length; ++i) {\n",
       "                    if (nbb_cells[i].input_prompt_number == nbb_cell_id) {\n",
       "                        if (nbb_cells[i].get_text() == nbb_unformatted_code) {\n",
       "                             nbb_cells[i].set_text(nbb_formatted_code);\n",
       "                        }\n",
       "                        break;\n",
       "                    }\n",
       "                }\n",
       "            }, 500);\n",
       "            "
      ],
      "text/plain": [
       "<IPython.core.display.Javascript object>"
      ]
     },
     "metadata": {},
     "output_type": "display_data"
    }
   ],
   "source": [
    "import gc\n",
    "import datetime\n",
    "\n",
    "train = feature_eng(train)\n",
    "test = feature_eng(test)"
   ]
  },
  {
   "cell_type": "code",
   "execution_count": 16,
   "id": "31cb6c3a",
   "metadata": {},
   "outputs": [
    {
     "data": {
      "application/javascript": [
       "\n",
       "            setTimeout(function() {\n",
       "                var nbb_cell_id = 16;\n",
       "                var nbb_unformatted_code = \"def missing_values_table(dataframe, na_name=False):\\n    na_columns = [col for col in dataframe.columns if dataframe[col].isnull().sum() > 0]\\n\\n    n_miss = dataframe[na_columns].isnull().sum().sort_values(ascending=False)\\n    ratio = (\\n        dataframe[na_columns].isnull().sum() / dataframe.shape[0] * 100\\n    ).sort_values(ascending=False)\\n    missing_df = pd.concat(\\n        [n_miss, np.round(ratio, 2)], axis=1, keys=[\\\"n_miss\\\", \\\"ratio\\\"]\\n    )\\n    print(missing_df, end=\\\"\\\\n\\\")\\n\\n    if na_name:\\n        return na_columns, missing_df\";\n",
       "                var nbb_formatted_code = \"def missing_values_table(dataframe, na_name=False):\\n    na_columns = [col for col in dataframe.columns if dataframe[col].isnull().sum() > 0]\\n\\n    n_miss = dataframe[na_columns].isnull().sum().sort_values(ascending=False)\\n    ratio = (\\n        dataframe[na_columns].isnull().sum() / dataframe.shape[0] * 100\\n    ).sort_values(ascending=False)\\n    missing_df = pd.concat(\\n        [n_miss, np.round(ratio, 2)], axis=1, keys=[\\\"n_miss\\\", \\\"ratio\\\"]\\n    )\\n    print(missing_df, end=\\\"\\\\n\\\")\\n\\n    if na_name:\\n        return na_columns, missing_df\";\n",
       "                var nbb_cells = Jupyter.notebook.get_cells();\n",
       "                for (var i = 0; i < nbb_cells.length; ++i) {\n",
       "                    if (nbb_cells[i].input_prompt_number == nbb_cell_id) {\n",
       "                        if (nbb_cells[i].get_text() == nbb_unformatted_code) {\n",
       "                             nbb_cells[i].set_text(nbb_formatted_code);\n",
       "                        }\n",
       "                        break;\n",
       "                    }\n",
       "                }\n",
       "            }, 500);\n",
       "            "
      ],
      "text/plain": [
       "<IPython.core.display.Javascript object>"
      ]
     },
     "metadata": {},
     "output_type": "display_data"
    }
   ],
   "source": [
    "def missing_values_table(dataframe, na_name=False):\n",
    "    na_columns = [col for col in dataframe.columns if dataframe[col].isnull().sum() > 0]\n",
    "\n",
    "    n_miss = dataframe[na_columns].isnull().sum().sort_values(ascending=False)\n",
    "    ratio = (\n",
    "        dataframe[na_columns].isnull().sum() / dataframe.shape[0] * 100\n",
    "    ).sort_values(ascending=False)\n",
    "    missing_df = pd.concat(\n",
    "        [n_miss, np.round(ratio, 2)], axis=1, keys=[\"n_miss\", \"ratio\"]\n",
    "    )\n",
    "    print(missing_df, end=\"\\n\")\n",
    "\n",
    "    if na_name:\n",
    "        return na_columns, missing_df"
   ]
  },
  {
   "cell_type": "code",
   "execution_count": 17,
   "id": "8cdb8be9",
   "metadata": {},
   "outputs": [
    {
     "name": "stdout",
     "output_type": "stream",
     "text": [
      "       n_miss  ratio\n",
      "id_24  501951  99.06\n",
      "id_25  501652  99.01\n",
      "id_26  501644  99.00\n",
      "id_21  501632  99.00\n",
      "id_07  501632  99.00\n",
      "...       ...    ...\n",
      "V292        3   0.00\n",
      "V291        3   0.00\n",
      "V320        3   0.00\n",
      "C12         3   0.00\n",
      "C14         3   0.00\n",
      "\n",
      "[411 rows x 2 columns]\n"
     ]
    },
    {
     "data": {
      "application/javascript": [
       "\n",
       "            setTimeout(function() {\n",
       "                var nbb_cell_id = 17;\n",
       "                var nbb_unformatted_code = \"na_cols, train_df = missing_values_table(test, True)\\ntrain_df.reset_index(inplace=True)\";\n",
       "                var nbb_formatted_code = \"na_cols, train_df = missing_values_table(test, True)\\ntrain_df.reset_index(inplace=True)\";\n",
       "                var nbb_cells = Jupyter.notebook.get_cells();\n",
       "                for (var i = 0; i < nbb_cells.length; ++i) {\n",
       "                    if (nbb_cells[i].input_prompt_number == nbb_cell_id) {\n",
       "                        if (nbb_cells[i].get_text() == nbb_unformatted_code) {\n",
       "                             nbb_cells[i].set_text(nbb_formatted_code);\n",
       "                        }\n",
       "                        break;\n",
       "                    }\n",
       "                }\n",
       "            }, 500);\n",
       "            "
      ],
      "text/plain": [
       "<IPython.core.display.Javascript object>"
      ]
     },
     "metadata": {},
     "output_type": "display_data"
    }
   ],
   "source": [
    "na_cols, train_df = missing_values_table(test, True)\n",
    "train_df.reset_index(inplace=True)"
   ]
  },
  {
   "cell_type": "code",
   "execution_count": 18,
   "id": "d9ab248d",
   "metadata": {},
   "outputs": [
    {
     "data": {
      "text/html": [
       "<div>\n",
       "<style scoped>\n",
       "    .dataframe tbody tr th:only-of-type {\n",
       "        vertical-align: middle;\n",
       "    }\n",
       "\n",
       "    .dataframe tbody tr th {\n",
       "        vertical-align: top;\n",
       "    }\n",
       "\n",
       "    .dataframe thead th {\n",
       "        text-align: right;\n",
       "    }\n",
       "</style>\n",
       "<table border=\"1\" class=\"dataframe\">\n",
       "  <thead>\n",
       "    <tr style=\"text-align: right;\">\n",
       "      <th></th>\n",
       "      <th>index</th>\n",
       "      <th>n_miss</th>\n",
       "      <th>ratio</th>\n",
       "    </tr>\n",
       "  </thead>\n",
       "  <tbody>\n",
       "    <tr>\n",
       "      <th>0</th>\n",
       "      <td>id_24</td>\n",
       "      <td>501951</td>\n",
       "      <td>99.06</td>\n",
       "    </tr>\n",
       "    <tr>\n",
       "      <th>1</th>\n",
       "      <td>id_25</td>\n",
       "      <td>501652</td>\n",
       "      <td>99.01</td>\n",
       "    </tr>\n",
       "    <tr>\n",
       "      <th>2</th>\n",
       "      <td>id_26</td>\n",
       "      <td>501644</td>\n",
       "      <td>99.00</td>\n",
       "    </tr>\n",
       "    <tr>\n",
       "      <th>3</th>\n",
       "      <td>id_21</td>\n",
       "      <td>501632</td>\n",
       "      <td>99.00</td>\n",
       "    </tr>\n",
       "    <tr>\n",
       "      <th>4</th>\n",
       "      <td>id_07</td>\n",
       "      <td>501632</td>\n",
       "      <td>99.00</td>\n",
       "    </tr>\n",
       "  </tbody>\n",
       "</table>\n",
       "</div>"
      ],
      "text/plain": [
       "   index  n_miss  ratio\n",
       "0  id_24  501951  99.06\n",
       "1  id_25  501652  99.01\n",
       "2  id_26  501644  99.00\n",
       "3  id_21  501632  99.00\n",
       "4  id_07  501632  99.00"
      ]
     },
     "execution_count": 18,
     "metadata": {},
     "output_type": "execute_result"
    },
    {
     "data": {
      "application/javascript": [
       "\n",
       "            setTimeout(function() {\n",
       "                var nbb_cell_id = 18;\n",
       "                var nbb_unformatted_code = \"train_df.head()\";\n",
       "                var nbb_formatted_code = \"train_df.head()\";\n",
       "                var nbb_cells = Jupyter.notebook.get_cells();\n",
       "                for (var i = 0; i < nbb_cells.length; ++i) {\n",
       "                    if (nbb_cells[i].input_prompt_number == nbb_cell_id) {\n",
       "                        if (nbb_cells[i].get_text() == nbb_unformatted_code) {\n",
       "                             nbb_cells[i].set_text(nbb_formatted_code);\n",
       "                        }\n",
       "                        break;\n",
       "                    }\n",
       "                }\n",
       "            }, 500);\n",
       "            "
      ],
      "text/plain": [
       "<IPython.core.display.Javascript object>"
      ]
     },
     "metadata": {},
     "output_type": "display_data"
    }
   ],
   "source": [
    "train_df.head()"
   ]
  },
  {
   "cell_type": "code",
   "execution_count": 19,
   "id": "dc30f7f5",
   "metadata": {},
   "outputs": [
    {
     "name": "stdout",
     "output_type": "stream",
     "text": [
      "       n_miss  ratio\n",
      "id_24  501951  99.06\n",
      "id_25  501652  99.01\n",
      "id_26  501644  99.00\n",
      "id_21  501632  99.00\n",
      "id_07  501632  99.00\n",
      "...       ...    ...\n",
      "V292        3   0.00\n",
      "V291        3   0.00\n",
      "V320        3   0.00\n",
      "C12         3   0.00\n",
      "C14         3   0.00\n",
      "\n",
      "[411 rows x 2 columns]\n"
     ]
    },
    {
     "data": {
      "application/javascript": [
       "\n",
       "            setTimeout(function() {\n",
       "                var nbb_cell_id = 19;\n",
       "                var nbb_unformatted_code = \"na_cols, test_df = missing_values_table(test, True)\\ntest_df.reset_index(inplace=True)\";\n",
       "                var nbb_formatted_code = \"na_cols, test_df = missing_values_table(test, True)\\ntest_df.reset_index(inplace=True)\";\n",
       "                var nbb_cells = Jupyter.notebook.get_cells();\n",
       "                for (var i = 0; i < nbb_cells.length; ++i) {\n",
       "                    if (nbb_cells[i].input_prompt_number == nbb_cell_id) {\n",
       "                        if (nbb_cells[i].get_text() == nbb_unformatted_code) {\n",
       "                             nbb_cells[i].set_text(nbb_formatted_code);\n",
       "                        }\n",
       "                        break;\n",
       "                    }\n",
       "                }\n",
       "            }, 500);\n",
       "            "
      ],
      "text/plain": [
       "<IPython.core.display.Javascript object>"
      ]
     },
     "metadata": {},
     "output_type": "display_data"
    }
   ],
   "source": [
    "na_cols, test_df = missing_values_table(test, True)\n",
    "test_df.reset_index(inplace=True)"
   ]
  },
  {
   "cell_type": "code",
   "execution_count": 20,
   "id": "7106d460",
   "metadata": {},
   "outputs": [
    {
     "data": {
      "text/html": [
       "<div>\n",
       "<style scoped>\n",
       "    .dataframe tbody tr th:only-of-type {\n",
       "        vertical-align: middle;\n",
       "    }\n",
       "\n",
       "    .dataframe tbody tr th {\n",
       "        vertical-align: top;\n",
       "    }\n",
       "\n",
       "    .dataframe thead th {\n",
       "        text-align: right;\n",
       "    }\n",
       "</style>\n",
       "<table border=\"1\" class=\"dataframe\">\n",
       "  <thead>\n",
       "    <tr style=\"text-align: right;\">\n",
       "      <th></th>\n",
       "      <th>index</th>\n",
       "      <th>n_miss</th>\n",
       "      <th>ratio</th>\n",
       "    </tr>\n",
       "  </thead>\n",
       "  <tbody>\n",
       "    <tr>\n",
       "      <th>0</th>\n",
       "      <td>id_24</td>\n",
       "      <td>501951</td>\n",
       "      <td>99.06</td>\n",
       "    </tr>\n",
       "    <tr>\n",
       "      <th>1</th>\n",
       "      <td>id_25</td>\n",
       "      <td>501652</td>\n",
       "      <td>99.01</td>\n",
       "    </tr>\n",
       "    <tr>\n",
       "      <th>2</th>\n",
       "      <td>id_26</td>\n",
       "      <td>501644</td>\n",
       "      <td>99.00</td>\n",
       "    </tr>\n",
       "    <tr>\n",
       "      <th>3</th>\n",
       "      <td>id_21</td>\n",
       "      <td>501632</td>\n",
       "      <td>99.00</td>\n",
       "    </tr>\n",
       "    <tr>\n",
       "      <th>4</th>\n",
       "      <td>id_07</td>\n",
       "      <td>501632</td>\n",
       "      <td>99.00</td>\n",
       "    </tr>\n",
       "  </tbody>\n",
       "</table>\n",
       "</div>"
      ],
      "text/plain": [
       "   index  n_miss  ratio\n",
       "0  id_24  501951  99.06\n",
       "1  id_25  501652  99.01\n",
       "2  id_26  501644  99.00\n",
       "3  id_21  501632  99.00\n",
       "4  id_07  501632  99.00"
      ]
     },
     "execution_count": 20,
     "metadata": {},
     "output_type": "execute_result"
    },
    {
     "data": {
      "application/javascript": [
       "\n",
       "            setTimeout(function() {\n",
       "                var nbb_cell_id = 20;\n",
       "                var nbb_unformatted_code = \"test_df.head()\";\n",
       "                var nbb_formatted_code = \"test_df.head()\";\n",
       "                var nbb_cells = Jupyter.notebook.get_cells();\n",
       "                for (var i = 0; i < nbb_cells.length; ++i) {\n",
       "                    if (nbb_cells[i].input_prompt_number == nbb_cell_id) {\n",
       "                        if (nbb_cells[i].get_text() == nbb_unformatted_code) {\n",
       "                             nbb_cells[i].set_text(nbb_formatted_code);\n",
       "                        }\n",
       "                        break;\n",
       "                    }\n",
       "                }\n",
       "            }, 500);\n",
       "            "
      ],
      "text/plain": [
       "<IPython.core.display.Javascript object>"
      ]
     },
     "metadata": {},
     "output_type": "display_data"
    }
   ],
   "source": [
    "test_df.head()"
   ]
  },
  {
   "cell_type": "code",
   "execution_count": 21,
   "id": "b8b7e541",
   "metadata": {},
   "outputs": [
    {
     "data": {
      "application/javascript": [
       "\n",
       "            setTimeout(function() {\n",
       "                var nbb_cell_id = 21;\n",
       "                var nbb_unformatted_code = \"drop_variables = train_df[train_df[\\\"ratio\\\"] > 60][\\\"index\\\"]\";\n",
       "                var nbb_formatted_code = \"drop_variables = train_df[train_df[\\\"ratio\\\"] > 60][\\\"index\\\"]\";\n",
       "                var nbb_cells = Jupyter.notebook.get_cells();\n",
       "                for (var i = 0; i < nbb_cells.length; ++i) {\n",
       "                    if (nbb_cells[i].input_prompt_number == nbb_cell_id) {\n",
       "                        if (nbb_cells[i].get_text() == nbb_unformatted_code) {\n",
       "                             nbb_cells[i].set_text(nbb_formatted_code);\n",
       "                        }\n",
       "                        break;\n",
       "                    }\n",
       "                }\n",
       "            }, 500);\n",
       "            "
      ],
      "text/plain": [
       "<IPython.core.display.Javascript object>"
      ]
     },
     "metadata": {},
     "output_type": "display_data"
    }
   ],
   "source": [
    "drop_variables = train_df[train_df[\"ratio\"] > 60][\"index\"]"
   ]
  },
  {
   "cell_type": "code",
   "execution_count": 22,
   "id": "abbacb2c",
   "metadata": {},
   "outputs": [
    {
     "data": {
      "text/plain": [
       "0    id_24\n",
       "1    id_25\n",
       "2    id_26\n",
       "3    id_21\n",
       "4    id_07\n",
       "Name: index, dtype: object"
      ]
     },
     "execution_count": 22,
     "metadata": {},
     "output_type": "execute_result"
    },
    {
     "data": {
      "application/javascript": [
       "\n",
       "            setTimeout(function() {\n",
       "                var nbb_cell_id = 22;\n",
       "                var nbb_unformatted_code = \"drop_variables.head()\";\n",
       "                var nbb_formatted_code = \"drop_variables.head()\";\n",
       "                var nbb_cells = Jupyter.notebook.get_cells();\n",
       "                for (var i = 0; i < nbb_cells.length; ++i) {\n",
       "                    if (nbb_cells[i].input_prompt_number == nbb_cell_id) {\n",
       "                        if (nbb_cells[i].get_text() == nbb_unformatted_code) {\n",
       "                             nbb_cells[i].set_text(nbb_formatted_code);\n",
       "                        }\n",
       "                        break;\n",
       "                    }\n",
       "                }\n",
       "            }, 500);\n",
       "            "
      ],
      "text/plain": [
       "<IPython.core.display.Javascript object>"
      ]
     },
     "metadata": {},
     "output_type": "display_data"
    }
   ],
   "source": [
    "drop_variables.head()"
   ]
  },
  {
   "cell_type": "code",
   "execution_count": 335,
   "id": "4277a0b5",
   "metadata": {},
   "outputs": [
    {
     "name": "stdout",
     "output_type": "stream",
     "text": [
      "0      id_24\n",
      "1      id_25\n",
      "2      id_26\n",
      "3      id_21\n",
      "4      id_07\n",
      "       ...  \n",
      "217     V239\n",
      "218     V220\n",
      "219    id_01\n",
      "220    id_12\n",
      "221       M5\n",
      "Name: index, Length: 222, dtype: object\n"
     ]
    },
    {
     "data": {
      "application/javascript": [
       "\n",
       "            setTimeout(function() {\n",
       "                var nbb_cell_id = 335;\n",
       "                var nbb_unformatted_code = \"print(drop_variables)\";\n",
       "                var nbb_formatted_code = \"print(drop_variables)\";\n",
       "                var nbb_cells = Jupyter.notebook.get_cells();\n",
       "                for (var i = 0; i < nbb_cells.length; ++i) {\n",
       "                    if (nbb_cells[i].input_prompt_number == nbb_cell_id) {\n",
       "                        if (nbb_cells[i].get_text() == nbb_unformatted_code) {\n",
       "                             nbb_cells[i].set_text(nbb_formatted_code);\n",
       "                        }\n",
       "                        break;\n",
       "                    }\n",
       "                }\n",
       "            }, 500);\n",
       "            "
      ],
      "text/plain": [
       "<IPython.core.display.Javascript object>"
      ]
     },
     "metadata": {},
     "output_type": "display_data"
    }
   ],
   "source": [
    "print(drop_variables)"
   ]
  },
  {
   "cell_type": "code",
   "execution_count": 336,
   "id": "3eeae065",
   "metadata": {},
   "outputs": [
    {
     "ename": "KeyError",
     "evalue": "\"['id_24' 'id_25' 'id_26' 'id_21' 'id_07' 'id_08' 'id_23' 'id_22' 'id_27'\\n 'device_version' 'dist2' 'id_18' 'D7' 'id_03' 'id_04' 'version_id_30'\\n 'D12' 'OS_id_30' 'id_30' 'id_32' 'id_33' 'screen_height' 'screen_width'\\n 'id_14' 'id_34' 'id_10' 'id_09' 'D8' 'D9' 'V162' 'V163' 'V157' 'V161'\\n 'V149' 'V156' 'V155' 'V154' 'V148' 'V158' 'V147' 'V146' 'V142' 'V141'\\n 'V140' 'V139' 'V138' 'V153' 'V144' 'V143' 'V152' 'V150' 'V151' 'V145'\\n 'V160' 'V164' 'V165' 'V166' 'V159' 'V336' 'V322' 'V338' 'V339' 'V335'\\n 'V334' 'V333' 'V332' 'V331' 'V330' 'V337' 'V323' 'V325' 'V329' 'V324'\\n 'V328' 'V327' 'V326' 'device_name' 'DeviceInfo' 'D14' 'D13' 'D6' 'id_16'\\n 'V257' 'V254' 'V258' 'V252' 'V261' 'V241' 'V253' 'V263' 'V264' 'V260'\\n 'V262' 'V249' 'V225' 'V237' 'V236' 'V235' 'V233' 'V232' 'V231' 'V230'\\n 'V229' 'V228' 'V226' 'V224' 'V248' 'V223' 'V219' 'V218' 'V217' 'V242'\\n 'V266' 'V243' 'V244' 'V246' 'V247' 'V265' 'V240' 'V267' 'V276' 'V269'\\n 'V268' 'V273' 'V274' 'V275' 'V278' 'V277' 'id_13' 'id_02_to_std_card1'\\n 'id_06' 'id_05' 'version_id_31' 'id_20' 'id_02_to_std_card4'\\n 'id_02_to_mean_card4' 'new_domain2' 'R_emaildomain' 'id_19' 'id_17'\\n 'V198' 'V197' 'V171' 'V174' 'V175' 'V210' 'V180' 'V184' 'V185' 'V188'\\n 'V189' 'V209' 'V208' 'V201' 'V194' 'V169' 'V195' 'V170' 'V200'\\n 'browser_id_31' 'id_31' 'V177' 'V179' 'V199' 'V196' 'V176' 'V193' 'V178'\\n 'V192' 'V172' 'V181' 'V182' 'V183' 'V191' 'V190' 'V186' 'V173' 'V202'\\n 'V203' 'V204' 'V168' 'V167' 'V205' 'V206' 'V207' 'V211' 'V212' 'V213'\\n 'V214' 'V215' 'V216' 'V187' 'id_28' 'id_11' 'id_29' 'DeviceType'\\n 'id_02_to_mean_card1' 'id_02' 'id_35' 'id_36' 'id_15' 'id_37' 'id_38'\\n 'V221' 'V222' 'V251' 'V250' 'V227' 'V255' 'V256' 'V259' 'V234' 'V245'\\n 'V272' 'V271' 'V270' 'V238' 'V239' 'V220' 'id_01' 'id_12' 'M5'] not found in axis\"",
     "output_type": "error",
     "traceback": [
      "\u001b[1;31m---------------------------------------------------------------------------\u001b[0m",
      "\u001b[1;31mKeyError\u001b[0m                                  Traceback (most recent call last)",
      "\u001b[1;32m<ipython-input-336-47c9f4f63890>\u001b[0m in \u001b[0;36m<module>\u001b[1;34m\u001b[0m\n\u001b[1;32m----> 1\u001b[1;33m \u001b[0mtrain\u001b[0m \u001b[1;33m=\u001b[0m \u001b[0mtrain\u001b[0m\u001b[1;33m.\u001b[0m\u001b[0mdrop\u001b[0m\u001b[1;33m(\u001b[0m\u001b[0mcolumns\u001b[0m\u001b[1;33m=\u001b[0m\u001b[0mdrop_variables\u001b[0m\u001b[1;33m)\u001b[0m\u001b[1;33m\u001b[0m\u001b[1;33m\u001b[0m\u001b[0m\n\u001b[0m",
      "\u001b[1;32m~\\Anaconda3\\lib\\site-packages\\pandas\\core\\frame.py\u001b[0m in \u001b[0;36mdrop\u001b[1;34m(self, labels, axis, index, columns, level, inplace, errors)\u001b[0m\n\u001b[0;32m   4306\u001b[0m                 \u001b[0mweight\u001b[0m  \u001b[1;36m1.0\u001b[0m     \u001b[1;36m0.8\u001b[0m\u001b[1;33m\u001b[0m\u001b[1;33m\u001b[0m\u001b[0m\n\u001b[0;32m   4307\u001b[0m         \"\"\"\n\u001b[1;32m-> 4308\u001b[1;33m         return super().drop(\n\u001b[0m\u001b[0;32m   4309\u001b[0m             \u001b[0mlabels\u001b[0m\u001b[1;33m=\u001b[0m\u001b[0mlabels\u001b[0m\u001b[1;33m,\u001b[0m\u001b[1;33m\u001b[0m\u001b[1;33m\u001b[0m\u001b[0m\n\u001b[0;32m   4310\u001b[0m             \u001b[0maxis\u001b[0m\u001b[1;33m=\u001b[0m\u001b[0maxis\u001b[0m\u001b[1;33m,\u001b[0m\u001b[1;33m\u001b[0m\u001b[1;33m\u001b[0m\u001b[0m\n",
      "\u001b[1;32m~\\Anaconda3\\lib\\site-packages\\pandas\\core\\generic.py\u001b[0m in \u001b[0;36mdrop\u001b[1;34m(self, labels, axis, index, columns, level, inplace, errors)\u001b[0m\n\u001b[0;32m   4151\u001b[0m         \u001b[1;32mfor\u001b[0m \u001b[0maxis\u001b[0m\u001b[1;33m,\u001b[0m \u001b[0mlabels\u001b[0m \u001b[1;32min\u001b[0m \u001b[0maxes\u001b[0m\u001b[1;33m.\u001b[0m\u001b[0mitems\u001b[0m\u001b[1;33m(\u001b[0m\u001b[1;33m)\u001b[0m\u001b[1;33m:\u001b[0m\u001b[1;33m\u001b[0m\u001b[1;33m\u001b[0m\u001b[0m\n\u001b[0;32m   4152\u001b[0m             \u001b[1;32mif\u001b[0m \u001b[0mlabels\u001b[0m \u001b[1;32mis\u001b[0m \u001b[1;32mnot\u001b[0m \u001b[1;32mNone\u001b[0m\u001b[1;33m:\u001b[0m\u001b[1;33m\u001b[0m\u001b[1;33m\u001b[0m\u001b[0m\n\u001b[1;32m-> 4153\u001b[1;33m                 \u001b[0mobj\u001b[0m \u001b[1;33m=\u001b[0m \u001b[0mobj\u001b[0m\u001b[1;33m.\u001b[0m\u001b[0m_drop_axis\u001b[0m\u001b[1;33m(\u001b[0m\u001b[0mlabels\u001b[0m\u001b[1;33m,\u001b[0m \u001b[0maxis\u001b[0m\u001b[1;33m,\u001b[0m \u001b[0mlevel\u001b[0m\u001b[1;33m=\u001b[0m\u001b[0mlevel\u001b[0m\u001b[1;33m,\u001b[0m \u001b[0merrors\u001b[0m\u001b[1;33m=\u001b[0m\u001b[0merrors\u001b[0m\u001b[1;33m)\u001b[0m\u001b[1;33m\u001b[0m\u001b[1;33m\u001b[0m\u001b[0m\n\u001b[0m\u001b[0;32m   4154\u001b[0m \u001b[1;33m\u001b[0m\u001b[0m\n\u001b[0;32m   4155\u001b[0m         \u001b[1;32mif\u001b[0m \u001b[0minplace\u001b[0m\u001b[1;33m:\u001b[0m\u001b[1;33m\u001b[0m\u001b[1;33m\u001b[0m\u001b[0m\n",
      "\u001b[1;32m~\\Anaconda3\\lib\\site-packages\\pandas\\core\\generic.py\u001b[0m in \u001b[0;36m_drop_axis\u001b[1;34m(self, labels, axis, level, errors)\u001b[0m\n\u001b[0;32m   4186\u001b[0m                 \u001b[0mnew_axis\u001b[0m \u001b[1;33m=\u001b[0m \u001b[0maxis\u001b[0m\u001b[1;33m.\u001b[0m\u001b[0mdrop\u001b[0m\u001b[1;33m(\u001b[0m\u001b[0mlabels\u001b[0m\u001b[1;33m,\u001b[0m \u001b[0mlevel\u001b[0m\u001b[1;33m=\u001b[0m\u001b[0mlevel\u001b[0m\u001b[1;33m,\u001b[0m \u001b[0merrors\u001b[0m\u001b[1;33m=\u001b[0m\u001b[0merrors\u001b[0m\u001b[1;33m)\u001b[0m\u001b[1;33m\u001b[0m\u001b[1;33m\u001b[0m\u001b[0m\n\u001b[0;32m   4187\u001b[0m             \u001b[1;32melse\u001b[0m\u001b[1;33m:\u001b[0m\u001b[1;33m\u001b[0m\u001b[1;33m\u001b[0m\u001b[0m\n\u001b[1;32m-> 4188\u001b[1;33m                 \u001b[0mnew_axis\u001b[0m \u001b[1;33m=\u001b[0m \u001b[0maxis\u001b[0m\u001b[1;33m.\u001b[0m\u001b[0mdrop\u001b[0m\u001b[1;33m(\u001b[0m\u001b[0mlabels\u001b[0m\u001b[1;33m,\u001b[0m \u001b[0merrors\u001b[0m\u001b[1;33m=\u001b[0m\u001b[0merrors\u001b[0m\u001b[1;33m)\u001b[0m\u001b[1;33m\u001b[0m\u001b[1;33m\u001b[0m\u001b[0m\n\u001b[0m\u001b[0;32m   4189\u001b[0m             \u001b[0mresult\u001b[0m \u001b[1;33m=\u001b[0m \u001b[0mself\u001b[0m\u001b[1;33m.\u001b[0m\u001b[0mreindex\u001b[0m\u001b[1;33m(\u001b[0m\u001b[1;33m**\u001b[0m\u001b[1;33m{\u001b[0m\u001b[0maxis_name\u001b[0m\u001b[1;33m:\u001b[0m \u001b[0mnew_axis\u001b[0m\u001b[1;33m}\u001b[0m\u001b[1;33m)\u001b[0m\u001b[1;33m\u001b[0m\u001b[1;33m\u001b[0m\u001b[0m\n\u001b[0;32m   4190\u001b[0m \u001b[1;33m\u001b[0m\u001b[0m\n",
      "\u001b[1;32m~\\Anaconda3\\lib\\site-packages\\pandas\\core\\indexes\\base.py\u001b[0m in \u001b[0;36mdrop\u001b[1;34m(self, labels, errors)\u001b[0m\n\u001b[0;32m   5589\u001b[0m         \u001b[1;32mif\u001b[0m \u001b[0mmask\u001b[0m\u001b[1;33m.\u001b[0m\u001b[0many\u001b[0m\u001b[1;33m(\u001b[0m\u001b[1;33m)\u001b[0m\u001b[1;33m:\u001b[0m\u001b[1;33m\u001b[0m\u001b[1;33m\u001b[0m\u001b[0m\n\u001b[0;32m   5590\u001b[0m             \u001b[1;32mif\u001b[0m \u001b[0merrors\u001b[0m \u001b[1;33m!=\u001b[0m \u001b[1;34m\"ignore\"\u001b[0m\u001b[1;33m:\u001b[0m\u001b[1;33m\u001b[0m\u001b[1;33m\u001b[0m\u001b[0m\n\u001b[1;32m-> 5591\u001b[1;33m                 \u001b[1;32mraise\u001b[0m \u001b[0mKeyError\u001b[0m\u001b[1;33m(\u001b[0m\u001b[1;34mf\"{labels[mask]} not found in axis\"\u001b[0m\u001b[1;33m)\u001b[0m\u001b[1;33m\u001b[0m\u001b[1;33m\u001b[0m\u001b[0m\n\u001b[0m\u001b[0;32m   5592\u001b[0m             \u001b[0mindexer\u001b[0m \u001b[1;33m=\u001b[0m \u001b[0mindexer\u001b[0m\u001b[1;33m[\u001b[0m\u001b[1;33m~\u001b[0m\u001b[0mmask\u001b[0m\u001b[1;33m]\u001b[0m\u001b[1;33m\u001b[0m\u001b[1;33m\u001b[0m\u001b[0m\n\u001b[0;32m   5593\u001b[0m         \u001b[1;32mreturn\u001b[0m \u001b[0mself\u001b[0m\u001b[1;33m.\u001b[0m\u001b[0mdelete\u001b[0m\u001b[1;33m(\u001b[0m\u001b[0mindexer\u001b[0m\u001b[1;33m)\u001b[0m\u001b[1;33m\u001b[0m\u001b[1;33m\u001b[0m\u001b[0m\n",
      "\u001b[1;31mKeyError\u001b[0m: \"['id_24' 'id_25' 'id_26' 'id_21' 'id_07' 'id_08' 'id_23' 'id_22' 'id_27'\\n 'device_version' 'dist2' 'id_18' 'D7' 'id_03' 'id_04' 'version_id_30'\\n 'D12' 'OS_id_30' 'id_30' 'id_32' 'id_33' 'screen_height' 'screen_width'\\n 'id_14' 'id_34' 'id_10' 'id_09' 'D8' 'D9' 'V162' 'V163' 'V157' 'V161'\\n 'V149' 'V156' 'V155' 'V154' 'V148' 'V158' 'V147' 'V146' 'V142' 'V141'\\n 'V140' 'V139' 'V138' 'V153' 'V144' 'V143' 'V152' 'V150' 'V151' 'V145'\\n 'V160' 'V164' 'V165' 'V166' 'V159' 'V336' 'V322' 'V338' 'V339' 'V335'\\n 'V334' 'V333' 'V332' 'V331' 'V330' 'V337' 'V323' 'V325' 'V329' 'V324'\\n 'V328' 'V327' 'V326' 'device_name' 'DeviceInfo' 'D14' 'D13' 'D6' 'id_16'\\n 'V257' 'V254' 'V258' 'V252' 'V261' 'V241' 'V253' 'V263' 'V264' 'V260'\\n 'V262' 'V249' 'V225' 'V237' 'V236' 'V235' 'V233' 'V232' 'V231' 'V230'\\n 'V229' 'V228' 'V226' 'V224' 'V248' 'V223' 'V219' 'V218' 'V217' 'V242'\\n 'V266' 'V243' 'V244' 'V246' 'V247' 'V265' 'V240' 'V267' 'V276' 'V269'\\n 'V268' 'V273' 'V274' 'V275' 'V278' 'V277' 'id_13' 'id_02_to_std_card1'\\n 'id_06' 'id_05' 'version_id_31' 'id_20' 'id_02_to_std_card4'\\n 'id_02_to_mean_card4' 'new_domain2' 'R_emaildomain' 'id_19' 'id_17'\\n 'V198' 'V197' 'V171' 'V174' 'V175' 'V210' 'V180' 'V184' 'V185' 'V188'\\n 'V189' 'V209' 'V208' 'V201' 'V194' 'V169' 'V195' 'V170' 'V200'\\n 'browser_id_31' 'id_31' 'V177' 'V179' 'V199' 'V196' 'V176' 'V193' 'V178'\\n 'V192' 'V172' 'V181' 'V182' 'V183' 'V191' 'V190' 'V186' 'V173' 'V202'\\n 'V203' 'V204' 'V168' 'V167' 'V205' 'V206' 'V207' 'V211' 'V212' 'V213'\\n 'V214' 'V215' 'V216' 'V187' 'id_28' 'id_11' 'id_29' 'DeviceType'\\n 'id_02_to_mean_card1' 'id_02' 'id_35' 'id_36' 'id_15' 'id_37' 'id_38'\\n 'V221' 'V222' 'V251' 'V250' 'V227' 'V255' 'V256' 'V259' 'V234' 'V245'\\n 'V272' 'V271' 'V270' 'V238' 'V239' 'V220' 'id_01' 'id_12' 'M5'] not found in axis\""
     ]
    },
    {
     "data": {
      "application/javascript": [
       "\n",
       "            setTimeout(function() {\n",
       "                var nbb_cell_id = 336;\n",
       "                var nbb_unformatted_code = \"train = train.drop(columns=drop_variables)\";\n",
       "                var nbb_formatted_code = \"train = train.drop(columns=drop_variables)\";\n",
       "                var nbb_cells = Jupyter.notebook.get_cells();\n",
       "                for (var i = 0; i < nbb_cells.length; ++i) {\n",
       "                    if (nbb_cells[i].input_prompt_number == nbb_cell_id) {\n",
       "                        if (nbb_cells[i].get_text() == nbb_unformatted_code) {\n",
       "                             nbb_cells[i].set_text(nbb_formatted_code);\n",
       "                        }\n",
       "                        break;\n",
       "                    }\n",
       "                }\n",
       "            }, 500);\n",
       "            "
      ],
      "text/plain": [
       "<IPython.core.display.Javascript object>"
      ]
     },
     "metadata": {},
     "output_type": "display_data"
    }
   ],
   "source": [
    "train = train.drop(columns=drop_variables)"
   ]
  },
  {
   "cell_type": "code",
   "execution_count": 24,
   "id": "5d3508c6",
   "metadata": {},
   "outputs": [
    {
     "data": {
      "application/javascript": [
       "\n",
       "            setTimeout(function() {\n",
       "                var nbb_cell_id = 24;\n",
       "                var nbb_unformatted_code = \"test = test.drop(columns=drop_variables)\";\n",
       "                var nbb_formatted_code = \"test = test.drop(columns=drop_variables)\";\n",
       "                var nbb_cells = Jupyter.notebook.get_cells();\n",
       "                for (var i = 0; i < nbb_cells.length; ++i) {\n",
       "                    if (nbb_cells[i].input_prompt_number == nbb_cell_id) {\n",
       "                        if (nbb_cells[i].get_text() == nbb_unformatted_code) {\n",
       "                             nbb_cells[i].set_text(nbb_formatted_code);\n",
       "                        }\n",
       "                        break;\n",
       "                    }\n",
       "                }\n",
       "            }, 500);\n",
       "            "
      ],
      "text/plain": [
       "<IPython.core.display.Javascript object>"
      ]
     },
     "metadata": {},
     "output_type": "display_data"
    }
   ],
   "source": [
    "test = test.drop(columns=drop_variables)"
   ]
  },
  {
   "cell_type": "code",
   "execution_count": 25,
   "id": "778cb663",
   "metadata": {},
   "outputs": [
    {
     "name": "stdout",
     "output_type": "stream",
     "text": [
      "Train shape: (590540, 266), Test shape: (506691, 265)\n"
     ]
    },
    {
     "data": {
      "application/javascript": [
       "\n",
       "            setTimeout(function() {\n",
       "                var nbb_cell_id = 25;\n",
       "                var nbb_unformatted_code = \"print(f\\\"Train shape: {train.shape}, Test shape: {test.shape}\\\")\";\n",
       "                var nbb_formatted_code = \"print(f\\\"Train shape: {train.shape}, Test shape: {test.shape}\\\")\";\n",
       "                var nbb_cells = Jupyter.notebook.get_cells();\n",
       "                for (var i = 0; i < nbb_cells.length; ++i) {\n",
       "                    if (nbb_cells[i].input_prompt_number == nbb_cell_id) {\n",
       "                        if (nbb_cells[i].get_text() == nbb_unformatted_code) {\n",
       "                             nbb_cells[i].set_text(nbb_formatted_code);\n",
       "                        }\n",
       "                        break;\n",
       "                    }\n",
       "                }\n",
       "            }, 500);\n",
       "            "
      ],
      "text/plain": [
       "<IPython.core.display.Javascript object>"
      ]
     },
     "metadata": {},
     "output_type": "display_data"
    }
   ],
   "source": [
    "print(f\"Train shape: {train.shape}, Test shape: {test.shape}\")"
   ]
  },
  {
   "cell_type": "code",
   "execution_count": 26,
   "id": "be33cbf3",
   "metadata": {},
   "outputs": [
    {
     "data": {
      "text/html": [
       "<div>\n",
       "<style scoped>\n",
       "    .dataframe tbody tr th:only-of-type {\n",
       "        vertical-align: middle;\n",
       "    }\n",
       "\n",
       "    .dataframe tbody tr th {\n",
       "        vertical-align: top;\n",
       "    }\n",
       "\n",
       "    .dataframe thead th {\n",
       "        text-align: right;\n",
       "    }\n",
       "</style>\n",
       "<table border=\"1\" class=\"dataframe\">\n",
       "  <thead>\n",
       "    <tr style=\"text-align: right;\">\n",
       "      <th></th>\n",
       "      <th>TransactionID</th>\n",
       "      <th>isFraud</th>\n",
       "      <th>TransactionDT</th>\n",
       "      <th>TransactionAmt</th>\n",
       "      <th>ProductCD</th>\n",
       "      <th>card1</th>\n",
       "      <th>card2</th>\n",
       "      <th>card3</th>\n",
       "      <th>card4</th>\n",
       "      <th>card5</th>\n",
       "      <th>...</th>\n",
       "      <th>TransactionAmt_to_mean_card1</th>\n",
       "      <th>TransactionAmt_to_mean_card4</th>\n",
       "      <th>TransactionAmt_to_std_card1</th>\n",
       "      <th>TransactionAmt_to_std_card4</th>\n",
       "      <th>D15_to_mean_card1</th>\n",
       "      <th>D15_to_mean_card4</th>\n",
       "      <th>D15_to_std_card1</th>\n",
       "      <th>D15_to_std_card4</th>\n",
       "      <th>D15_to_mean_addr1</th>\n",
       "      <th>D15_to_std_addr1</th>\n",
       "    </tr>\n",
       "  </thead>\n",
       "  <tbody>\n",
       "    <tr>\n",
       "      <th>0</th>\n",
       "      <td>2987000</td>\n",
       "      <td>0</td>\n",
       "      <td>86400</td>\n",
       "      <td>68.5</td>\n",
       "      <td>W</td>\n",
       "      <td>13926</td>\n",
       "      <td>NaN</td>\n",
       "      <td>150.0</td>\n",
       "      <td>discover</td>\n",
       "      <td>142.0</td>\n",
       "      <td>...</td>\n",
       "      <td>0.194580</td>\n",
       "      <td>0.257812</td>\n",
       "      <td>0.184560</td>\n",
       "      <td>0.170241</td>\n",
       "      <td>0.000000</td>\n",
       "      <td>0.000000</td>\n",
       "      <td>0.000000</td>\n",
       "      <td>0.000000</td>\n",
       "      <td>0.000000</td>\n",
       "      <td>0.000000</td>\n",
       "    </tr>\n",
       "    <tr>\n",
       "      <th>1</th>\n",
       "      <td>2987001</td>\n",
       "      <td>0</td>\n",
       "      <td>86401</td>\n",
       "      <td>29.0</td>\n",
       "      <td>W</td>\n",
       "      <td>2755</td>\n",
       "      <td>404.0</td>\n",
       "      <td>150.0</td>\n",
       "      <td>mastercard</td>\n",
       "      <td>102.0</td>\n",
       "      <td>...</td>\n",
       "      <td>0.123779</td>\n",
       "      <td>0.219116</td>\n",
       "      <td>0.063004</td>\n",
       "      <td>0.114214</td>\n",
       "      <td>0.000000</td>\n",
       "      <td>0.000000</td>\n",
       "      <td>0.000000</td>\n",
       "      <td>0.000000</td>\n",
       "      <td>0.000000</td>\n",
       "      <td>0.000000</td>\n",
       "    </tr>\n",
       "    <tr>\n",
       "      <th>2</th>\n",
       "      <td>2987002</td>\n",
       "      <td>0</td>\n",
       "      <td>86469</td>\n",
       "      <td>59.0</td>\n",
       "      <td>W</td>\n",
       "      <td>4663</td>\n",
       "      <td>490.0</td>\n",
       "      <td>150.0</td>\n",
       "      <td>visa</td>\n",
       "      <td>166.0</td>\n",
       "      <td>...</td>\n",
       "      <td>0.608398</td>\n",
       "      <td>0.443115</td>\n",
       "      <td>0.589226</td>\n",
       "      <td>0.258550</td>\n",
       "      <td>2.519531</td>\n",
       "      <td>1.865234</td>\n",
       "      <td>1.851016</td>\n",
       "      <td>1.541448</td>\n",
       "      <td>1.611328</td>\n",
       "      <td>1.486472</td>\n",
       "    </tr>\n",
       "    <tr>\n",
       "      <th>3</th>\n",
       "      <td>2987003</td>\n",
       "      <td>0</td>\n",
       "      <td>86499</td>\n",
       "      <td>50.0</td>\n",
       "      <td>W</td>\n",
       "      <td>18132</td>\n",
       "      <td>567.0</td>\n",
       "      <td>150.0</td>\n",
       "      <td>mastercard</td>\n",
       "      <td>117.0</td>\n",
       "      <td>...</td>\n",
       "      <td>0.405029</td>\n",
       "      <td>0.377686</td>\n",
       "      <td>0.259460</td>\n",
       "      <td>0.196921</td>\n",
       "      <td>0.550293</td>\n",
       "      <td>0.720215</td>\n",
       "      <td>0.520531</td>\n",
       "      <td>0.558392</td>\n",
       "      <td>0.686035</td>\n",
       "      <td>0.576638</td>\n",
       "    </tr>\n",
       "    <tr>\n",
       "      <th>4</th>\n",
       "      <td>2987004</td>\n",
       "      <td>0</td>\n",
       "      <td>86506</td>\n",
       "      <td>50.0</td>\n",
       "      <td>H</td>\n",
       "      <td>4497</td>\n",
       "      <td>514.0</td>\n",
       "      <td>150.0</td>\n",
       "      <td>mastercard</td>\n",
       "      <td>102.0</td>\n",
       "      <td>...</td>\n",
       "      <td>0.515625</td>\n",
       "      <td>0.377686</td>\n",
       "      <td>0.882898</td>\n",
       "      <td>0.196921</td>\n",
       "      <td>NaN</td>\n",
       "      <td>NaN</td>\n",
       "      <td>NaN</td>\n",
       "      <td>NaN</td>\n",
       "      <td>NaN</td>\n",
       "      <td>NaN</td>\n",
       "    </tr>\n",
       "  </tbody>\n",
       "</table>\n",
       "<p>5 rows × 266 columns</p>\n",
       "</div>"
      ],
      "text/plain": [
       "   TransactionID  isFraud  TransactionDT  TransactionAmt ProductCD  card1  \\\n",
       "0        2987000        0          86400            68.5         W  13926   \n",
       "1        2987001        0          86401            29.0         W   2755   \n",
       "2        2987002        0          86469            59.0         W   4663   \n",
       "3        2987003        0          86499            50.0         W  18132   \n",
       "4        2987004        0          86506            50.0         H   4497   \n",
       "\n",
       "   card2  card3       card4  card5  ... TransactionAmt_to_mean_card1  \\\n",
       "0    NaN  150.0    discover  142.0  ...                     0.194580   \n",
       "1  404.0  150.0  mastercard  102.0  ...                     0.123779   \n",
       "2  490.0  150.0        visa  166.0  ...                     0.608398   \n",
       "3  567.0  150.0  mastercard  117.0  ...                     0.405029   \n",
       "4  514.0  150.0  mastercard  102.0  ...                     0.515625   \n",
       "\n",
       "   TransactionAmt_to_mean_card4  TransactionAmt_to_std_card1  \\\n",
       "0                      0.257812                     0.184560   \n",
       "1                      0.219116                     0.063004   \n",
       "2                      0.443115                     0.589226   \n",
       "3                      0.377686                     0.259460   \n",
       "4                      0.377686                     0.882898   \n",
       "\n",
       "   TransactionAmt_to_std_card4 D15_to_mean_card1  D15_to_mean_card4  \\\n",
       "0                     0.170241          0.000000           0.000000   \n",
       "1                     0.114214          0.000000           0.000000   \n",
       "2                     0.258550          2.519531           1.865234   \n",
       "3                     0.196921          0.550293           0.720215   \n",
       "4                     0.196921               NaN                NaN   \n",
       "\n",
       "   D15_to_std_card1  D15_to_std_card4  D15_to_mean_addr1  D15_to_std_addr1  \n",
       "0          0.000000          0.000000           0.000000          0.000000  \n",
       "1          0.000000          0.000000           0.000000          0.000000  \n",
       "2          1.851016          1.541448           1.611328          1.486472  \n",
       "3          0.520531          0.558392           0.686035          0.576638  \n",
       "4               NaN               NaN                NaN               NaN  \n",
       "\n",
       "[5 rows x 266 columns]"
      ]
     },
     "execution_count": 26,
     "metadata": {},
     "output_type": "execute_result"
    },
    {
     "data": {
      "application/javascript": [
       "\n",
       "            setTimeout(function() {\n",
       "                var nbb_cell_id = 26;\n",
       "                var nbb_unformatted_code = \"train.head()\";\n",
       "                var nbb_formatted_code = \"train.head()\";\n",
       "                var nbb_cells = Jupyter.notebook.get_cells();\n",
       "                for (var i = 0; i < nbb_cells.length; ++i) {\n",
       "                    if (nbb_cells[i].input_prompt_number == nbb_cell_id) {\n",
       "                        if (nbb_cells[i].get_text() == nbb_unformatted_code) {\n",
       "                             nbb_cells[i].set_text(nbb_formatted_code);\n",
       "                        }\n",
       "                        break;\n",
       "                    }\n",
       "                }\n",
       "            }, 500);\n",
       "            "
      ],
      "text/plain": [
       "<IPython.core.display.Javascript object>"
      ]
     },
     "metadata": {},
     "output_type": "display_data"
    }
   ],
   "source": [
    "train.head()"
   ]
  },
  {
   "cell_type": "code",
   "execution_count": 27,
   "id": "995881c1",
   "metadata": {},
   "outputs": [
    {
     "data": {
      "application/javascript": [
       "\n",
       "            setTimeout(function() {\n",
       "                var nbb_cell_id = 27;\n",
       "                var nbb_unformatted_code = \"trainNotCategory = train.select_dtypes(include=[\\\"number\\\", \\\"bool_\\\", \\\"object_\\\"])\\ntrainCategory = train.select_dtypes(exclude=[\\\"number\\\", \\\"bool_\\\", \\\"object_\\\"])\";\n",
       "                var nbb_formatted_code = \"trainNotCategory = train.select_dtypes(include=[\\\"number\\\", \\\"bool_\\\", \\\"object_\\\"])\\ntrainCategory = train.select_dtypes(exclude=[\\\"number\\\", \\\"bool_\\\", \\\"object_\\\"])\";\n",
       "                var nbb_cells = Jupyter.notebook.get_cells();\n",
       "                for (var i = 0; i < nbb_cells.length; ++i) {\n",
       "                    if (nbb_cells[i].input_prompt_number == nbb_cell_id) {\n",
       "                        if (nbb_cells[i].get_text() == nbb_unformatted_code) {\n",
       "                             nbb_cells[i].set_text(nbb_formatted_code);\n",
       "                        }\n",
       "                        break;\n",
       "                    }\n",
       "                }\n",
       "            }, 500);\n",
       "            "
      ],
      "text/plain": [
       "<IPython.core.display.Javascript object>"
      ]
     },
     "metadata": {},
     "output_type": "display_data"
    }
   ],
   "source": [
    "trainNotCategory = train.select_dtypes(include=[\"number\", \"bool_\", \"object_\"])\n",
    "trainCategory = train.select_dtypes(exclude=[\"number\", \"bool_\", \"object_\"])"
   ]
  },
  {
   "cell_type": "code",
   "execution_count": 28,
   "id": "98ca62ce",
   "metadata": {},
   "outputs": [
    {
     "data": {
      "text/html": [
       "<div>\n",
       "<style scoped>\n",
       "    .dataframe tbody tr th:only-of-type {\n",
       "        vertical-align: middle;\n",
       "    }\n",
       "\n",
       "    .dataframe tbody tr th {\n",
       "        vertical-align: top;\n",
       "    }\n",
       "\n",
       "    .dataframe thead th {\n",
       "        text-align: right;\n",
       "    }\n",
       "</style>\n",
       "<table border=\"1\" class=\"dataframe\">\n",
       "  <thead>\n",
       "    <tr style=\"text-align: right;\">\n",
       "      <th></th>\n",
       "      <th>TransactionID</th>\n",
       "      <th>isFraud</th>\n",
       "      <th>TransactionDT</th>\n",
       "      <th>TransactionAmt</th>\n",
       "      <th>card1</th>\n",
       "      <th>card2</th>\n",
       "      <th>card3</th>\n",
       "      <th>card5</th>\n",
       "      <th>addr1</th>\n",
       "      <th>addr2</th>\n",
       "      <th>...</th>\n",
       "      <th>TransactionAmt_to_mean_card1</th>\n",
       "      <th>TransactionAmt_to_mean_card4</th>\n",
       "      <th>TransactionAmt_to_std_card1</th>\n",
       "      <th>TransactionAmt_to_std_card4</th>\n",
       "      <th>D15_to_mean_card1</th>\n",
       "      <th>D15_to_mean_card4</th>\n",
       "      <th>D15_to_std_card1</th>\n",
       "      <th>D15_to_std_card4</th>\n",
       "      <th>D15_to_mean_addr1</th>\n",
       "      <th>D15_to_std_addr1</th>\n",
       "    </tr>\n",
       "  </thead>\n",
       "  <tbody>\n",
       "    <tr>\n",
       "      <th>0</th>\n",
       "      <td>2987000</td>\n",
       "      <td>0</td>\n",
       "      <td>86400</td>\n",
       "      <td>68.5</td>\n",
       "      <td>13926</td>\n",
       "      <td>NaN</td>\n",
       "      <td>150.0</td>\n",
       "      <td>142.0</td>\n",
       "      <td>315.0</td>\n",
       "      <td>87.0</td>\n",
       "      <td>...</td>\n",
       "      <td>0.194580</td>\n",
       "      <td>0.257812</td>\n",
       "      <td>0.184560</td>\n",
       "      <td>0.170241</td>\n",
       "      <td>0.000000</td>\n",
       "      <td>0.000000</td>\n",
       "      <td>0.000000</td>\n",
       "      <td>0.000000</td>\n",
       "      <td>0.000000</td>\n",
       "      <td>0.000000</td>\n",
       "    </tr>\n",
       "    <tr>\n",
       "      <th>1</th>\n",
       "      <td>2987001</td>\n",
       "      <td>0</td>\n",
       "      <td>86401</td>\n",
       "      <td>29.0</td>\n",
       "      <td>2755</td>\n",
       "      <td>404.0</td>\n",
       "      <td>150.0</td>\n",
       "      <td>102.0</td>\n",
       "      <td>325.0</td>\n",
       "      <td>87.0</td>\n",
       "      <td>...</td>\n",
       "      <td>0.123779</td>\n",
       "      <td>0.219116</td>\n",
       "      <td>0.063004</td>\n",
       "      <td>0.114214</td>\n",
       "      <td>0.000000</td>\n",
       "      <td>0.000000</td>\n",
       "      <td>0.000000</td>\n",
       "      <td>0.000000</td>\n",
       "      <td>0.000000</td>\n",
       "      <td>0.000000</td>\n",
       "    </tr>\n",
       "    <tr>\n",
       "      <th>2</th>\n",
       "      <td>2987002</td>\n",
       "      <td>0</td>\n",
       "      <td>86469</td>\n",
       "      <td>59.0</td>\n",
       "      <td>4663</td>\n",
       "      <td>490.0</td>\n",
       "      <td>150.0</td>\n",
       "      <td>166.0</td>\n",
       "      <td>330.0</td>\n",
       "      <td>87.0</td>\n",
       "      <td>...</td>\n",
       "      <td>0.608398</td>\n",
       "      <td>0.443115</td>\n",
       "      <td>0.589226</td>\n",
       "      <td>0.258550</td>\n",
       "      <td>2.519531</td>\n",
       "      <td>1.865234</td>\n",
       "      <td>1.851016</td>\n",
       "      <td>1.541448</td>\n",
       "      <td>1.611328</td>\n",
       "      <td>1.486472</td>\n",
       "    </tr>\n",
       "    <tr>\n",
       "      <th>3</th>\n",
       "      <td>2987003</td>\n",
       "      <td>0</td>\n",
       "      <td>86499</td>\n",
       "      <td>50.0</td>\n",
       "      <td>18132</td>\n",
       "      <td>567.0</td>\n",
       "      <td>150.0</td>\n",
       "      <td>117.0</td>\n",
       "      <td>476.0</td>\n",
       "      <td>87.0</td>\n",
       "      <td>...</td>\n",
       "      <td>0.405029</td>\n",
       "      <td>0.377686</td>\n",
       "      <td>0.259460</td>\n",
       "      <td>0.196921</td>\n",
       "      <td>0.550293</td>\n",
       "      <td>0.720215</td>\n",
       "      <td>0.520531</td>\n",
       "      <td>0.558392</td>\n",
       "      <td>0.686035</td>\n",
       "      <td>0.576638</td>\n",
       "    </tr>\n",
       "    <tr>\n",
       "      <th>4</th>\n",
       "      <td>2987004</td>\n",
       "      <td>0</td>\n",
       "      <td>86506</td>\n",
       "      <td>50.0</td>\n",
       "      <td>4497</td>\n",
       "      <td>514.0</td>\n",
       "      <td>150.0</td>\n",
       "      <td>102.0</td>\n",
       "      <td>420.0</td>\n",
       "      <td>87.0</td>\n",
       "      <td>...</td>\n",
       "      <td>0.515625</td>\n",
       "      <td>0.377686</td>\n",
       "      <td>0.882898</td>\n",
       "      <td>0.196921</td>\n",
       "      <td>NaN</td>\n",
       "      <td>NaN</td>\n",
       "      <td>NaN</td>\n",
       "      <td>NaN</td>\n",
       "      <td>NaN</td>\n",
       "      <td>NaN</td>\n",
       "    </tr>\n",
       "  </tbody>\n",
       "</table>\n",
       "<p>5 rows × 254 columns</p>\n",
       "</div>"
      ],
      "text/plain": [
       "   TransactionID  isFraud  TransactionDT  TransactionAmt  card1  card2  card3  \\\n",
       "0        2987000        0          86400            68.5  13926    NaN  150.0   \n",
       "1        2987001        0          86401            29.0   2755  404.0  150.0   \n",
       "2        2987002        0          86469            59.0   4663  490.0  150.0   \n",
       "3        2987003        0          86499            50.0  18132  567.0  150.0   \n",
       "4        2987004        0          86506            50.0   4497  514.0  150.0   \n",
       "\n",
       "   card5  addr1  addr2  ...  TransactionAmt_to_mean_card1  \\\n",
       "0  142.0  315.0   87.0  ...                      0.194580   \n",
       "1  102.0  325.0   87.0  ...                      0.123779   \n",
       "2  166.0  330.0   87.0  ...                      0.608398   \n",
       "3  117.0  476.0   87.0  ...                      0.405029   \n",
       "4  102.0  420.0   87.0  ...                      0.515625   \n",
       "\n",
       "   TransactionAmt_to_mean_card4  TransactionAmt_to_std_card1  \\\n",
       "0                      0.257812                     0.184560   \n",
       "1                      0.219116                     0.063004   \n",
       "2                      0.443115                     0.589226   \n",
       "3                      0.377686                     0.259460   \n",
       "4                      0.377686                     0.882898   \n",
       "\n",
       "   TransactionAmt_to_std_card4  D15_to_mean_card1  D15_to_mean_card4  \\\n",
       "0                     0.170241           0.000000           0.000000   \n",
       "1                     0.114214           0.000000           0.000000   \n",
       "2                     0.258550           2.519531           1.865234   \n",
       "3                     0.196921           0.550293           0.720215   \n",
       "4                     0.196921                NaN                NaN   \n",
       "\n",
       "   D15_to_std_card1  D15_to_std_card4  D15_to_mean_addr1  D15_to_std_addr1  \n",
       "0          0.000000          0.000000           0.000000          0.000000  \n",
       "1          0.000000          0.000000           0.000000          0.000000  \n",
       "2          1.851016          1.541448           1.611328          1.486472  \n",
       "3          0.520531          0.558392           0.686035          0.576638  \n",
       "4               NaN               NaN                NaN               NaN  \n",
       "\n",
       "[5 rows x 254 columns]"
      ]
     },
     "execution_count": 28,
     "metadata": {},
     "output_type": "execute_result"
    },
    {
     "data": {
      "application/javascript": [
       "\n",
       "            setTimeout(function() {\n",
       "                var nbb_cell_id = 28;\n",
       "                var nbb_unformatted_code = \"trainNotCategory.head()\";\n",
       "                var nbb_formatted_code = \"trainNotCategory.head()\";\n",
       "                var nbb_cells = Jupyter.notebook.get_cells();\n",
       "                for (var i = 0; i < nbb_cells.length; ++i) {\n",
       "                    if (nbb_cells[i].input_prompt_number == nbb_cell_id) {\n",
       "                        if (nbb_cells[i].get_text() == nbb_unformatted_code) {\n",
       "                             nbb_cells[i].set_text(nbb_formatted_code);\n",
       "                        }\n",
       "                        break;\n",
       "                    }\n",
       "                }\n",
       "            }, 500);\n",
       "            "
      ],
      "text/plain": [
       "<IPython.core.display.Javascript object>"
      ]
     },
     "metadata": {},
     "output_type": "display_data"
    }
   ],
   "source": [
    "trainNotCategory.head()"
   ]
  },
  {
   "cell_type": "code",
   "execution_count": 29,
   "id": "3d6ad2c0",
   "metadata": {},
   "outputs": [
    {
     "data": {
      "text/html": [
       "<div>\n",
       "<style scoped>\n",
       "    .dataframe tbody tr th:only-of-type {\n",
       "        vertical-align: middle;\n",
       "    }\n",
       "\n",
       "    .dataframe tbody tr th {\n",
       "        vertical-align: top;\n",
       "    }\n",
       "\n",
       "    .dataframe thead th {\n",
       "        text-align: right;\n",
       "    }\n",
       "</style>\n",
       "<table border=\"1\" class=\"dataframe\">\n",
       "  <thead>\n",
       "    <tr style=\"text-align: right;\">\n",
       "      <th></th>\n",
       "      <th>ProductCD</th>\n",
       "      <th>card4</th>\n",
       "      <th>card6</th>\n",
       "      <th>P_emaildomain</th>\n",
       "      <th>M1</th>\n",
       "      <th>M2</th>\n",
       "      <th>M3</th>\n",
       "      <th>M4</th>\n",
       "      <th>M6</th>\n",
       "      <th>M7</th>\n",
       "      <th>M8</th>\n",
       "      <th>M9</th>\n",
       "    </tr>\n",
       "  </thead>\n",
       "  <tbody>\n",
       "    <tr>\n",
       "      <th>0</th>\n",
       "      <td>W</td>\n",
       "      <td>discover</td>\n",
       "      <td>credit</td>\n",
       "      <td>NaN</td>\n",
       "      <td>T</td>\n",
       "      <td>T</td>\n",
       "      <td>T</td>\n",
       "      <td>M2</td>\n",
       "      <td>T</td>\n",
       "      <td>NaN</td>\n",
       "      <td>NaN</td>\n",
       "      <td>NaN</td>\n",
       "    </tr>\n",
       "    <tr>\n",
       "      <th>1</th>\n",
       "      <td>W</td>\n",
       "      <td>mastercard</td>\n",
       "      <td>credit</td>\n",
       "      <td>gmail.com</td>\n",
       "      <td>NaN</td>\n",
       "      <td>NaN</td>\n",
       "      <td>NaN</td>\n",
       "      <td>M0</td>\n",
       "      <td>T</td>\n",
       "      <td>NaN</td>\n",
       "      <td>NaN</td>\n",
       "      <td>NaN</td>\n",
       "    </tr>\n",
       "    <tr>\n",
       "      <th>2</th>\n",
       "      <td>W</td>\n",
       "      <td>visa</td>\n",
       "      <td>debit</td>\n",
       "      <td>outlook.com</td>\n",
       "      <td>T</td>\n",
       "      <td>T</td>\n",
       "      <td>T</td>\n",
       "      <td>M0</td>\n",
       "      <td>F</td>\n",
       "      <td>F</td>\n",
       "      <td>F</td>\n",
       "      <td>F</td>\n",
       "    </tr>\n",
       "    <tr>\n",
       "      <th>3</th>\n",
       "      <td>W</td>\n",
       "      <td>mastercard</td>\n",
       "      <td>debit</td>\n",
       "      <td>yahoo.com</td>\n",
       "      <td>NaN</td>\n",
       "      <td>NaN</td>\n",
       "      <td>NaN</td>\n",
       "      <td>M0</td>\n",
       "      <td>F</td>\n",
       "      <td>NaN</td>\n",
       "      <td>NaN</td>\n",
       "      <td>NaN</td>\n",
       "    </tr>\n",
       "    <tr>\n",
       "      <th>4</th>\n",
       "      <td>H</td>\n",
       "      <td>mastercard</td>\n",
       "      <td>credit</td>\n",
       "      <td>gmail.com</td>\n",
       "      <td>NaN</td>\n",
       "      <td>NaN</td>\n",
       "      <td>NaN</td>\n",
       "      <td>NaN</td>\n",
       "      <td>NaN</td>\n",
       "      <td>NaN</td>\n",
       "      <td>NaN</td>\n",
       "      <td>NaN</td>\n",
       "    </tr>\n",
       "  </tbody>\n",
       "</table>\n",
       "</div>"
      ],
      "text/plain": [
       "  ProductCD       card4   card6 P_emaildomain   M1   M2   M3   M4   M6   M7  \\\n",
       "0         W    discover  credit           NaN    T    T    T   M2    T  NaN   \n",
       "1         W  mastercard  credit     gmail.com  NaN  NaN  NaN   M0    T  NaN   \n",
       "2         W        visa   debit   outlook.com    T    T    T   M0    F    F   \n",
       "3         W  mastercard   debit     yahoo.com  NaN  NaN  NaN   M0    F  NaN   \n",
       "4         H  mastercard  credit     gmail.com  NaN  NaN  NaN  NaN  NaN  NaN   \n",
       "\n",
       "    M8   M9  \n",
       "0  NaN  NaN  \n",
       "1  NaN  NaN  \n",
       "2    F    F  \n",
       "3  NaN  NaN  \n",
       "4  NaN  NaN  "
      ]
     },
     "execution_count": 29,
     "metadata": {},
     "output_type": "execute_result"
    },
    {
     "data": {
      "application/javascript": [
       "\n",
       "            setTimeout(function() {\n",
       "                var nbb_cell_id = 29;\n",
       "                var nbb_unformatted_code = \"trainCategory.head()\";\n",
       "                var nbb_formatted_code = \"trainCategory.head()\";\n",
       "                var nbb_cells = Jupyter.notebook.get_cells();\n",
       "                for (var i = 0; i < nbb_cells.length; ++i) {\n",
       "                    if (nbb_cells[i].input_prompt_number == nbb_cell_id) {\n",
       "                        if (nbb_cells[i].get_text() == nbb_unformatted_code) {\n",
       "                             nbb_cells[i].set_text(nbb_formatted_code);\n",
       "                        }\n",
       "                        break;\n",
       "                    }\n",
       "                }\n",
       "            }, 500);\n",
       "            "
      ],
      "text/plain": [
       "<IPython.core.display.Javascript object>"
      ]
     },
     "metadata": {},
     "output_type": "display_data"
    }
   ],
   "source": [
    "trainCategory.head()"
   ]
  },
  {
   "cell_type": "code",
   "execution_count": 201,
   "id": "ea575770",
   "metadata": {},
   "outputs": [
    {
     "data": {
      "application/javascript": [
       "\n",
       "            setTimeout(function() {\n",
       "                var nbb_cell_id = 201;\n",
       "                var nbb_unformatted_code = \"testNotCategory = test.select_dtypes(include=[\\\"number\\\", \\\"bool_\\\", \\\"object_\\\"])\\ntestCategory = test.select_dtypes(exclude=[\\\"number\\\", \\\"bool_\\\", \\\"object_\\\"])\";\n",
       "                var nbb_formatted_code = \"testNotCategory = test.select_dtypes(include=[\\\"number\\\", \\\"bool_\\\", \\\"object_\\\"])\\ntestCategory = test.select_dtypes(exclude=[\\\"number\\\", \\\"bool_\\\", \\\"object_\\\"])\";\n",
       "                var nbb_cells = Jupyter.notebook.get_cells();\n",
       "                for (var i = 0; i < nbb_cells.length; ++i) {\n",
       "                    if (nbb_cells[i].input_prompt_number == nbb_cell_id) {\n",
       "                        if (nbb_cells[i].get_text() == nbb_unformatted_code) {\n",
       "                             nbb_cells[i].set_text(nbb_formatted_code);\n",
       "                        }\n",
       "                        break;\n",
       "                    }\n",
       "                }\n",
       "            }, 500);\n",
       "            "
      ],
      "text/plain": [
       "<IPython.core.display.Javascript object>"
      ]
     },
     "metadata": {},
     "output_type": "display_data"
    }
   ],
   "source": [
    "testNotCategory = test.select_dtypes(include=[\"number\", \"bool_\", \"object_\"])\n",
    "testCategory = test.select_dtypes(exclude=[\"number\", \"bool_\", \"object_\"])"
   ]
  },
  {
   "cell_type": "code",
   "execution_count": 31,
   "id": "8053f6d9",
   "metadata": {},
   "outputs": [
    {
     "name": "stderr",
     "output_type": "stream",
     "text": [
      "C:\\Users\\niraj\\Anaconda3\\lib\\site-packages\\pandas\\core\\frame.py:4462: SettingWithCopyWarning: \n",
      "A value is trying to be set on a copy of a slice from a DataFrame\n",
      "\n",
      "See the caveats in the documentation: https://pandas.pydata.org/pandas-docs/stable/user_guide/indexing.html#returning-a-view-versus-a-copy\n",
      "  return super().fillna(\n"
     ]
    },
    {
     "data": {
      "application/javascript": [
       "\n",
       "            setTimeout(function() {\n",
       "                var nbb_cell_id = 31;\n",
       "                var nbb_unformatted_code = \"trainNotCategory.fillna(0, inplace=True)\\ntestNotCategory.fillna(0, inplace=True)\";\n",
       "                var nbb_formatted_code = \"trainNotCategory.fillna(0, inplace=True)\\ntestNotCategory.fillna(0, inplace=True)\";\n",
       "                var nbb_cells = Jupyter.notebook.get_cells();\n",
       "                for (var i = 0; i < nbb_cells.length; ++i) {\n",
       "                    if (nbb_cells[i].input_prompt_number == nbb_cell_id) {\n",
       "                        if (nbb_cells[i].get_text() == nbb_unformatted_code) {\n",
       "                             nbb_cells[i].set_text(nbb_formatted_code);\n",
       "                        }\n",
       "                        break;\n",
       "                    }\n",
       "                }\n",
       "            }, 500);\n",
       "            "
      ],
      "text/plain": [
       "<IPython.core.display.Javascript object>"
      ]
     },
     "metadata": {},
     "output_type": "display_data"
    }
   ],
   "source": [
    "trainNotCategory.fillna(0, inplace=True)\n",
    "testNotCategory.fillna(0, inplace=True)"
   ]
  },
  {
   "cell_type": "code",
   "execution_count": 32,
   "id": "629ac33b",
   "metadata": {},
   "outputs": [
    {
     "data": {
      "text/html": [
       "<div>\n",
       "<style scoped>\n",
       "    .dataframe tbody tr th:only-of-type {\n",
       "        vertical-align: middle;\n",
       "    }\n",
       "\n",
       "    .dataframe tbody tr th {\n",
       "        vertical-align: top;\n",
       "    }\n",
       "\n",
       "    .dataframe thead th {\n",
       "        text-align: right;\n",
       "    }\n",
       "</style>\n",
       "<table border=\"1\" class=\"dataframe\">\n",
       "  <thead>\n",
       "    <tr style=\"text-align: right;\">\n",
       "      <th></th>\n",
       "      <th>TransactionID</th>\n",
       "      <th>isFraud</th>\n",
       "      <th>TransactionDT</th>\n",
       "      <th>TransactionAmt</th>\n",
       "      <th>card1</th>\n",
       "      <th>card2</th>\n",
       "      <th>card3</th>\n",
       "      <th>card5</th>\n",
       "      <th>addr1</th>\n",
       "      <th>addr2</th>\n",
       "      <th>...</th>\n",
       "      <th>TransactionAmt_to_mean_card1</th>\n",
       "      <th>TransactionAmt_to_mean_card4</th>\n",
       "      <th>TransactionAmt_to_std_card1</th>\n",
       "      <th>TransactionAmt_to_std_card4</th>\n",
       "      <th>D15_to_mean_card1</th>\n",
       "      <th>D15_to_mean_card4</th>\n",
       "      <th>D15_to_std_card1</th>\n",
       "      <th>D15_to_std_card4</th>\n",
       "      <th>D15_to_mean_addr1</th>\n",
       "      <th>D15_to_std_addr1</th>\n",
       "    </tr>\n",
       "  </thead>\n",
       "  <tbody>\n",
       "    <tr>\n",
       "      <th>0</th>\n",
       "      <td>2987000</td>\n",
       "      <td>0</td>\n",
       "      <td>86400</td>\n",
       "      <td>68.5</td>\n",
       "      <td>13926</td>\n",
       "      <td>0.0</td>\n",
       "      <td>150.0</td>\n",
       "      <td>142.0</td>\n",
       "      <td>315.0</td>\n",
       "      <td>87.0</td>\n",
       "      <td>...</td>\n",
       "      <td>0.194580</td>\n",
       "      <td>0.257812</td>\n",
       "      <td>0.184560</td>\n",
       "      <td>0.170241</td>\n",
       "      <td>0.000000</td>\n",
       "      <td>0.000000</td>\n",
       "      <td>0.000000</td>\n",
       "      <td>0.000000</td>\n",
       "      <td>0.000000</td>\n",
       "      <td>0.000000</td>\n",
       "    </tr>\n",
       "    <tr>\n",
       "      <th>1</th>\n",
       "      <td>2987001</td>\n",
       "      <td>0</td>\n",
       "      <td>86401</td>\n",
       "      <td>29.0</td>\n",
       "      <td>2755</td>\n",
       "      <td>404.0</td>\n",
       "      <td>150.0</td>\n",
       "      <td>102.0</td>\n",
       "      <td>325.0</td>\n",
       "      <td>87.0</td>\n",
       "      <td>...</td>\n",
       "      <td>0.123779</td>\n",
       "      <td>0.219116</td>\n",
       "      <td>0.063004</td>\n",
       "      <td>0.114214</td>\n",
       "      <td>0.000000</td>\n",
       "      <td>0.000000</td>\n",
       "      <td>0.000000</td>\n",
       "      <td>0.000000</td>\n",
       "      <td>0.000000</td>\n",
       "      <td>0.000000</td>\n",
       "    </tr>\n",
       "    <tr>\n",
       "      <th>2</th>\n",
       "      <td>2987002</td>\n",
       "      <td>0</td>\n",
       "      <td>86469</td>\n",
       "      <td>59.0</td>\n",
       "      <td>4663</td>\n",
       "      <td>490.0</td>\n",
       "      <td>150.0</td>\n",
       "      <td>166.0</td>\n",
       "      <td>330.0</td>\n",
       "      <td>87.0</td>\n",
       "      <td>...</td>\n",
       "      <td>0.608398</td>\n",
       "      <td>0.443115</td>\n",
       "      <td>0.589226</td>\n",
       "      <td>0.258550</td>\n",
       "      <td>2.519531</td>\n",
       "      <td>1.865234</td>\n",
       "      <td>1.851016</td>\n",
       "      <td>1.541448</td>\n",
       "      <td>1.611328</td>\n",
       "      <td>1.486472</td>\n",
       "    </tr>\n",
       "    <tr>\n",
       "      <th>3</th>\n",
       "      <td>2987003</td>\n",
       "      <td>0</td>\n",
       "      <td>86499</td>\n",
       "      <td>50.0</td>\n",
       "      <td>18132</td>\n",
       "      <td>567.0</td>\n",
       "      <td>150.0</td>\n",
       "      <td>117.0</td>\n",
       "      <td>476.0</td>\n",
       "      <td>87.0</td>\n",
       "      <td>...</td>\n",
       "      <td>0.405029</td>\n",
       "      <td>0.377686</td>\n",
       "      <td>0.259460</td>\n",
       "      <td>0.196921</td>\n",
       "      <td>0.550293</td>\n",
       "      <td>0.720215</td>\n",
       "      <td>0.520531</td>\n",
       "      <td>0.558392</td>\n",
       "      <td>0.686035</td>\n",
       "      <td>0.576638</td>\n",
       "    </tr>\n",
       "    <tr>\n",
       "      <th>4</th>\n",
       "      <td>2987004</td>\n",
       "      <td>0</td>\n",
       "      <td>86506</td>\n",
       "      <td>50.0</td>\n",
       "      <td>4497</td>\n",
       "      <td>514.0</td>\n",
       "      <td>150.0</td>\n",
       "      <td>102.0</td>\n",
       "      <td>420.0</td>\n",
       "      <td>87.0</td>\n",
       "      <td>...</td>\n",
       "      <td>0.515625</td>\n",
       "      <td>0.377686</td>\n",
       "      <td>0.882898</td>\n",
       "      <td>0.196921</td>\n",
       "      <td>0.000000</td>\n",
       "      <td>0.000000</td>\n",
       "      <td>0.000000</td>\n",
       "      <td>0.000000</td>\n",
       "      <td>0.000000</td>\n",
       "      <td>0.000000</td>\n",
       "    </tr>\n",
       "  </tbody>\n",
       "</table>\n",
       "<p>5 rows × 254 columns</p>\n",
       "</div>"
      ],
      "text/plain": [
       "   TransactionID  isFraud  TransactionDT  TransactionAmt  card1  card2  card3  \\\n",
       "0        2987000        0          86400            68.5  13926    0.0  150.0   \n",
       "1        2987001        0          86401            29.0   2755  404.0  150.0   \n",
       "2        2987002        0          86469            59.0   4663  490.0  150.0   \n",
       "3        2987003        0          86499            50.0  18132  567.0  150.0   \n",
       "4        2987004        0          86506            50.0   4497  514.0  150.0   \n",
       "\n",
       "   card5  addr1  addr2  ...  TransactionAmt_to_mean_card1  \\\n",
       "0  142.0  315.0   87.0  ...                      0.194580   \n",
       "1  102.0  325.0   87.0  ...                      0.123779   \n",
       "2  166.0  330.0   87.0  ...                      0.608398   \n",
       "3  117.0  476.0   87.0  ...                      0.405029   \n",
       "4  102.0  420.0   87.0  ...                      0.515625   \n",
       "\n",
       "   TransactionAmt_to_mean_card4  TransactionAmt_to_std_card1  \\\n",
       "0                      0.257812                     0.184560   \n",
       "1                      0.219116                     0.063004   \n",
       "2                      0.443115                     0.589226   \n",
       "3                      0.377686                     0.259460   \n",
       "4                      0.377686                     0.882898   \n",
       "\n",
       "   TransactionAmt_to_std_card4  D15_to_mean_card1  D15_to_mean_card4  \\\n",
       "0                     0.170241           0.000000           0.000000   \n",
       "1                     0.114214           0.000000           0.000000   \n",
       "2                     0.258550           2.519531           1.865234   \n",
       "3                     0.196921           0.550293           0.720215   \n",
       "4                     0.196921           0.000000           0.000000   \n",
       "\n",
       "   D15_to_std_card1  D15_to_std_card4  D15_to_mean_addr1  D15_to_std_addr1  \n",
       "0          0.000000          0.000000           0.000000          0.000000  \n",
       "1          0.000000          0.000000           0.000000          0.000000  \n",
       "2          1.851016          1.541448           1.611328          1.486472  \n",
       "3          0.520531          0.558392           0.686035          0.576638  \n",
       "4          0.000000          0.000000           0.000000          0.000000  \n",
       "\n",
       "[5 rows x 254 columns]"
      ]
     },
     "execution_count": 32,
     "metadata": {},
     "output_type": "execute_result"
    },
    {
     "data": {
      "application/javascript": [
       "\n",
       "            setTimeout(function() {\n",
       "                var nbb_cell_id = 32;\n",
       "                var nbb_unformatted_code = \"trainNotCategory.head()\";\n",
       "                var nbb_formatted_code = \"trainNotCategory.head()\";\n",
       "                var nbb_cells = Jupyter.notebook.get_cells();\n",
       "                for (var i = 0; i < nbb_cells.length; ++i) {\n",
       "                    if (nbb_cells[i].input_prompt_number == nbb_cell_id) {\n",
       "                        if (nbb_cells[i].get_text() == nbb_unformatted_code) {\n",
       "                             nbb_cells[i].set_text(nbb_formatted_code);\n",
       "                        }\n",
       "                        break;\n",
       "                    }\n",
       "                }\n",
       "            }, 500);\n",
       "            "
      ],
      "text/plain": [
       "<IPython.core.display.Javascript object>"
      ]
     },
     "metadata": {},
     "output_type": "display_data"
    }
   ],
   "source": [
    "trainNotCategory.head()"
   ]
  },
  {
   "cell_type": "code",
   "execution_count": 33,
   "id": "fbe0dd4d",
   "metadata": {},
   "outputs": [
    {
     "data": {
      "text/html": [
       "<div>\n",
       "<style scoped>\n",
       "    .dataframe tbody tr th:only-of-type {\n",
       "        vertical-align: middle;\n",
       "    }\n",
       "\n",
       "    .dataframe tbody tr th {\n",
       "        vertical-align: top;\n",
       "    }\n",
       "\n",
       "    .dataframe thead th {\n",
       "        text-align: right;\n",
       "    }\n",
       "</style>\n",
       "<table border=\"1\" class=\"dataframe\">\n",
       "  <thead>\n",
       "    <tr style=\"text-align: right;\">\n",
       "      <th></th>\n",
       "      <th>TransactionID</th>\n",
       "      <th>TransactionDT</th>\n",
       "      <th>TransactionAmt</th>\n",
       "      <th>card1</th>\n",
       "      <th>card2</th>\n",
       "      <th>card3</th>\n",
       "      <th>card5</th>\n",
       "      <th>addr1</th>\n",
       "      <th>addr2</th>\n",
       "      <th>dist1</th>\n",
       "      <th>...</th>\n",
       "      <th>TransactionAmt_to_mean_card1</th>\n",
       "      <th>TransactionAmt_to_mean_card4</th>\n",
       "      <th>TransactionAmt_to_std_card1</th>\n",
       "      <th>TransactionAmt_to_std_card4</th>\n",
       "      <th>D15_to_mean_card1</th>\n",
       "      <th>D15_to_mean_card4</th>\n",
       "      <th>D15_to_std_card1</th>\n",
       "      <th>D15_to_std_card4</th>\n",
       "      <th>D15_to_mean_addr1</th>\n",
       "      <th>D15_to_std_addr1</th>\n",
       "    </tr>\n",
       "  </thead>\n",
       "  <tbody>\n",
       "    <tr>\n",
       "      <th>0</th>\n",
       "      <td>3663549</td>\n",
       "      <td>18403224</td>\n",
       "      <td>31.953125</td>\n",
       "      <td>10409</td>\n",
       "      <td>111.0</td>\n",
       "      <td>150.0</td>\n",
       "      <td>226.0</td>\n",
       "      <td>170.0</td>\n",
       "      <td>87.0</td>\n",
       "      <td>1.0</td>\n",
       "      <td>...</td>\n",
       "      <td>0.339355</td>\n",
       "      <td>0.237305</td>\n",
       "      <td>0.260375</td>\n",
       "      <td>0.129845</td>\n",
       "      <td>1.065430</td>\n",
       "      <td>1.925781</td>\n",
       "      <td>1.665603</td>\n",
       "      <td>1.502141</td>\n",
       "      <td>1.557617</td>\n",
       "      <td>1.450810</td>\n",
       "    </tr>\n",
       "    <tr>\n",
       "      <th>1</th>\n",
       "      <td>3663550</td>\n",
       "      <td>18403263</td>\n",
       "      <td>49.000000</td>\n",
       "      <td>4272</td>\n",
       "      <td>111.0</td>\n",
       "      <td>150.0</td>\n",
       "      <td>226.0</td>\n",
       "      <td>299.0</td>\n",
       "      <td>87.0</td>\n",
       "      <td>4.0</td>\n",
       "      <td>...</td>\n",
       "      <td>0.333496</td>\n",
       "      <td>0.364014</td>\n",
       "      <td>0.134278</td>\n",
       "      <td>0.199117</td>\n",
       "      <td>2.154297</td>\n",
       "      <td>2.984375</td>\n",
       "      <td>2.047675</td>\n",
       "      <td>2.328502</td>\n",
       "      <td>3.033203</td>\n",
       "      <td>2.300422</td>\n",
       "    </tr>\n",
       "    <tr>\n",
       "      <th>2</th>\n",
       "      <td>3663551</td>\n",
       "      <td>18403310</td>\n",
       "      <td>171.000000</td>\n",
       "      <td>4476</td>\n",
       "      <td>574.0</td>\n",
       "      <td>150.0</td>\n",
       "      <td>226.0</td>\n",
       "      <td>472.0</td>\n",
       "      <td>87.0</td>\n",
       "      <td>2636.0</td>\n",
       "      <td>...</td>\n",
       "      <td>1.485352</td>\n",
       "      <td>1.270508</td>\n",
       "      <td>1.895643</td>\n",
       "      <td>0.694877</td>\n",
       "      <td>0.280029</td>\n",
       "      <td>0.456787</td>\n",
       "      <td>0.339451</td>\n",
       "      <td>0.356253</td>\n",
       "      <td>0.457031</td>\n",
       "      <td>0.351657</td>\n",
       "    </tr>\n",
       "    <tr>\n",
       "      <th>3</th>\n",
       "      <td>3663552</td>\n",
       "      <td>18403310</td>\n",
       "      <td>285.000000</td>\n",
       "      <td>10989</td>\n",
       "      <td>360.0</td>\n",
       "      <td>150.0</td>\n",
       "      <td>166.0</td>\n",
       "      <td>205.0</td>\n",
       "      <td>87.0</td>\n",
       "      <td>17.0</td>\n",
       "      <td>...</td>\n",
       "      <td>2.970703</td>\n",
       "      <td>2.117188</td>\n",
       "      <td>1.914712</td>\n",
       "      <td>1.158128</td>\n",
       "      <td>1.579102</td>\n",
       "      <td>1.139648</td>\n",
       "      <td>1.130023</td>\n",
       "      <td>0.888797</td>\n",
       "      <td>1.020508</td>\n",
       "      <td>0.901970</td>\n",
       "    </tr>\n",
       "    <tr>\n",
       "      <th>4</th>\n",
       "      <td>3663553</td>\n",
       "      <td>18403317</td>\n",
       "      <td>67.937500</td>\n",
       "      <td>18018</td>\n",
       "      <td>452.0</td>\n",
       "      <td>150.0</td>\n",
       "      <td>117.0</td>\n",
       "      <td>264.0</td>\n",
       "      <td>87.0</td>\n",
       "      <td>6.0</td>\n",
       "      <td>...</td>\n",
       "      <td>0.567383</td>\n",
       "      <td>0.517578</td>\n",
       "      <td>0.310075</td>\n",
       "      <td>0.277417</td>\n",
       "      <td>0.085876</td>\n",
       "      <td>0.109680</td>\n",
       "      <td>0.075361</td>\n",
       "      <td>0.083425</td>\n",
       "      <td>0.098999</td>\n",
       "      <td>0.080181</td>\n",
       "    </tr>\n",
       "  </tbody>\n",
       "</table>\n",
       "<p>5 rows × 253 columns</p>\n",
       "</div>"
      ],
      "text/plain": [
       "   TransactionID  TransactionDT  TransactionAmt  card1  card2  card3  card5  \\\n",
       "0        3663549       18403224       31.953125  10409  111.0  150.0  226.0   \n",
       "1        3663550       18403263       49.000000   4272  111.0  150.0  226.0   \n",
       "2        3663551       18403310      171.000000   4476  574.0  150.0  226.0   \n",
       "3        3663552       18403310      285.000000  10989  360.0  150.0  166.0   \n",
       "4        3663553       18403317       67.937500  18018  452.0  150.0  117.0   \n",
       "\n",
       "   addr1  addr2   dist1  ...  TransactionAmt_to_mean_card1  \\\n",
       "0  170.0   87.0     1.0  ...                      0.339355   \n",
       "1  299.0   87.0     4.0  ...                      0.333496   \n",
       "2  472.0   87.0  2636.0  ...                      1.485352   \n",
       "3  205.0   87.0    17.0  ...                      2.970703   \n",
       "4  264.0   87.0     6.0  ...                      0.567383   \n",
       "\n",
       "   TransactionAmt_to_mean_card4  TransactionAmt_to_std_card1  \\\n",
       "0                      0.237305                     0.260375   \n",
       "1                      0.364014                     0.134278   \n",
       "2                      1.270508                     1.895643   \n",
       "3                      2.117188                     1.914712   \n",
       "4                      0.517578                     0.310075   \n",
       "\n",
       "   TransactionAmt_to_std_card4  D15_to_mean_card1  D15_to_mean_card4  \\\n",
       "0                     0.129845           1.065430           1.925781   \n",
       "1                     0.199117           2.154297           2.984375   \n",
       "2                     0.694877           0.280029           0.456787   \n",
       "3                     1.158128           1.579102           1.139648   \n",
       "4                     0.277417           0.085876           0.109680   \n",
       "\n",
       "   D15_to_std_card1  D15_to_std_card4  D15_to_mean_addr1  D15_to_std_addr1  \n",
       "0          1.665603          1.502141           1.557617          1.450810  \n",
       "1          2.047675          2.328502           3.033203          2.300422  \n",
       "2          0.339451          0.356253           0.457031          0.351657  \n",
       "3          1.130023          0.888797           1.020508          0.901970  \n",
       "4          0.075361          0.083425           0.098999          0.080181  \n",
       "\n",
       "[5 rows x 253 columns]"
      ]
     },
     "execution_count": 33,
     "metadata": {},
     "output_type": "execute_result"
    },
    {
     "data": {
      "application/javascript": [
       "\n",
       "            setTimeout(function() {\n",
       "                var nbb_cell_id = 33;\n",
       "                var nbb_unformatted_code = \"testNotCategory.head()\";\n",
       "                var nbb_formatted_code = \"testNotCategory.head()\";\n",
       "                var nbb_cells = Jupyter.notebook.get_cells();\n",
       "                for (var i = 0; i < nbb_cells.length; ++i) {\n",
       "                    if (nbb_cells[i].input_prompt_number == nbb_cell_id) {\n",
       "                        if (nbb_cells[i].get_text() == nbb_unformatted_code) {\n",
       "                             nbb_cells[i].set_text(nbb_formatted_code);\n",
       "                        }\n",
       "                        break;\n",
       "                    }\n",
       "                }\n",
       "            }, 500);\n",
       "            "
      ],
      "text/plain": [
       "<IPython.core.display.Javascript object>"
      ]
     },
     "metadata": {},
     "output_type": "display_data"
    }
   ],
   "source": [
    "testNotCategory.head()"
   ]
  },
  {
   "cell_type": "code",
   "execution_count": 34,
   "id": "a3629f45",
   "metadata": {},
   "outputs": [
    {
     "data": {
      "text/plain": [
       "ProductCD             0\n",
       "card4              1577\n",
       "card6              1571\n",
       "P_emaildomain     94456\n",
       "M1               271100\n",
       "M2               271100\n",
       "M3               271100\n",
       "M4               281444\n",
       "M6               169360\n",
       "M7               346265\n",
       "M8               346252\n",
       "M9               346252\n",
       "dtype: int64"
      ]
     },
     "execution_count": 34,
     "metadata": {},
     "output_type": "execute_result"
    },
    {
     "data": {
      "application/javascript": [
       "\n",
       "            setTimeout(function() {\n",
       "                var nbb_cell_id = 34;\n",
       "                var nbb_unformatted_code = \"trainCategory.isna().sum()\";\n",
       "                var nbb_formatted_code = \"trainCategory.isna().sum()\";\n",
       "                var nbb_cells = Jupyter.notebook.get_cells();\n",
       "                for (var i = 0; i < nbb_cells.length; ++i) {\n",
       "                    if (nbb_cells[i].input_prompt_number == nbb_cell_id) {\n",
       "                        if (nbb_cells[i].get_text() == nbb_unformatted_code) {\n",
       "                             nbb_cells[i].set_text(nbb_formatted_code);\n",
       "                        }\n",
       "                        break;\n",
       "                    }\n",
       "                }\n",
       "            }, 500);\n",
       "            "
      ],
      "text/plain": [
       "<IPython.core.display.Javascript object>"
      ]
     },
     "metadata": {},
     "output_type": "display_data"
    }
   ],
   "source": [
    "trainCategory.isna().sum()"
   ]
  },
  {
   "cell_type": "code",
   "execution_count": 35,
   "id": "34c4bba9",
   "metadata": {},
   "outputs": [
    {
     "data": {
      "text/plain": [
       "ProductCD             0\n",
       "card4              3086\n",
       "card6              3007\n",
       "P_emaildomain     69192\n",
       "M1               176639\n",
       "M2               176639\n",
       "M3               176639\n",
       "M4               237745\n",
       "M6               158939\n",
       "M7               235018\n",
       "M8               235004\n",
       "M9               235004\n",
       "dtype: int64"
      ]
     },
     "execution_count": 35,
     "metadata": {},
     "output_type": "execute_result"
    },
    {
     "data": {
      "application/javascript": [
       "\n",
       "            setTimeout(function() {\n",
       "                var nbb_cell_id = 35;\n",
       "                var nbb_unformatted_code = \"testCategory.isna().sum()\";\n",
       "                var nbb_formatted_code = \"testCategory.isna().sum()\";\n",
       "                var nbb_cells = Jupyter.notebook.get_cells();\n",
       "                for (var i = 0; i < nbb_cells.length; ++i) {\n",
       "                    if (nbb_cells[i].input_prompt_number == nbb_cell_id) {\n",
       "                        if (nbb_cells[i].get_text() == nbb_unformatted_code) {\n",
       "                             nbb_cells[i].set_text(nbb_formatted_code);\n",
       "                        }\n",
       "                        break;\n",
       "                    }\n",
       "                }\n",
       "            }, 500);\n",
       "            "
      ],
      "text/plain": [
       "<IPython.core.display.Javascript object>"
      ]
     },
     "metadata": {},
     "output_type": "display_data"
    }
   ],
   "source": [
    "testCategory.isna().sum()"
   ]
  },
  {
   "cell_type": "code",
   "execution_count": 36,
   "id": "a27d7cc4",
   "metadata": {},
   "outputs": [
    {
     "data": {
      "text/plain": [
       "Index(['ProductCD', 'card4', 'card6', 'P_emaildomain', 'M1', 'M2', 'M3', 'M4',\n",
       "       'M6', 'M7', 'M8', 'M9'],\n",
       "      dtype='object')"
      ]
     },
     "execution_count": 36,
     "metadata": {},
     "output_type": "execute_result"
    },
    {
     "data": {
      "application/javascript": [
       "\n",
       "            setTimeout(function() {\n",
       "                var nbb_cell_id = 36;\n",
       "                var nbb_unformatted_code = \"trainCategory.columns\";\n",
       "                var nbb_formatted_code = \"trainCategory.columns\";\n",
       "                var nbb_cells = Jupyter.notebook.get_cells();\n",
       "                for (var i = 0; i < nbb_cells.length; ++i) {\n",
       "                    if (nbb_cells[i].input_prompt_number == nbb_cell_id) {\n",
       "                        if (nbb_cells[i].get_text() == nbb_unformatted_code) {\n",
       "                             nbb_cells[i].set_text(nbb_formatted_code);\n",
       "                        }\n",
       "                        break;\n",
       "                    }\n",
       "                }\n",
       "            }, 500);\n",
       "            "
      ],
      "text/plain": [
       "<IPython.core.display.Javascript object>"
      ]
     },
     "metadata": {},
     "output_type": "display_data"
    }
   ],
   "source": [
    "trainCategory.columns"
   ]
  },
  {
   "cell_type": "code",
   "execution_count": 37,
   "id": "9d6ca152",
   "metadata": {},
   "outputs": [
    {
     "name": "stderr",
     "output_type": "stream",
     "text": [
      "<ipython-input-37-c72f63f04615>:1: SettingWithCopyWarning: \n",
      "A value is trying to be set on a copy of a slice from a DataFrame.\n",
      "Try using .loc[row_indexer,col_indexer] = value instead\n",
      "\n",
      "See the caveats in the documentation: https://pandas.pydata.org/pandas-docs/stable/user_guide/indexing.html#returning-a-view-versus-a-copy\n",
      "  trainCategory[\"M1\"] = np.where(trainCategory[\"M1\"] == \"T\", trainCategory[\"M1\"], \"M\")\n"
     ]
    },
    {
     "data": {
      "application/javascript": [
       "\n",
       "            setTimeout(function() {\n",
       "                var nbb_cell_id = 37;\n",
       "                var nbb_unformatted_code = \"trainCategory[\\\"M1\\\"] = np.where(trainCategory[\\\"M1\\\"] == \\\"T\\\", trainCategory[\\\"M1\\\"], \\\"M\\\")\";\n",
       "                var nbb_formatted_code = \"trainCategory[\\\"M1\\\"] = np.where(trainCategory[\\\"M1\\\"] == \\\"T\\\", trainCategory[\\\"M1\\\"], \\\"M\\\")\";\n",
       "                var nbb_cells = Jupyter.notebook.get_cells();\n",
       "                for (var i = 0; i < nbb_cells.length; ++i) {\n",
       "                    if (nbb_cells[i].input_prompt_number == nbb_cell_id) {\n",
       "                        if (nbb_cells[i].get_text() == nbb_unformatted_code) {\n",
       "                             nbb_cells[i].set_text(nbb_formatted_code);\n",
       "                        }\n",
       "                        break;\n",
       "                    }\n",
       "                }\n",
       "            }, 500);\n",
       "            "
      ],
      "text/plain": [
       "<IPython.core.display.Javascript object>"
      ]
     },
     "metadata": {},
     "output_type": "display_data"
    }
   ],
   "source": [
    "trainCategory[\"M1\"] = np.where(trainCategory[\"M1\"] == \"T\", trainCategory[\"M1\"], \"M\")"
   ]
  },
  {
   "cell_type": "code",
   "execution_count": 38,
   "id": "b7c402e0",
   "metadata": {},
   "outputs": [
    {
     "name": "stderr",
     "output_type": "stream",
     "text": [
      "<ipython-input-38-e6d0a6085301>:1: SettingWithCopyWarning: \n",
      "A value is trying to be set on a copy of a slice from a DataFrame.\n",
      "Try using .loc[row_indexer,col_indexer] = value instead\n",
      "\n",
      "See the caveats in the documentation: https://pandas.pydata.org/pandas-docs/stable/user_guide/indexing.html#returning-a-view-versus-a-copy\n",
      "  trainCategory[\"M2\"] = np.where(trainCategory[\"M2\"] == \"T\", trainCategory[\"M2\"], \"M\")\n",
      "<ipython-input-38-e6d0a6085301>:2: SettingWithCopyWarning: \n",
      "A value is trying to be set on a copy of a slice from a DataFrame.\n",
      "Try using .loc[row_indexer,col_indexer] = value instead\n",
      "\n",
      "See the caveats in the documentation: https://pandas.pydata.org/pandas-docs/stable/user_guide/indexing.html#returning-a-view-versus-a-copy\n",
      "  trainCategory[\"M3\"] = np.where(trainCategory[\"M3\"] == \"T\", trainCategory[\"M3\"], \"M\")\n",
      "<ipython-input-38-e6d0a6085301>:3: SettingWithCopyWarning: \n",
      "A value is trying to be set on a copy of a slice from a DataFrame.\n",
      "Try using .loc[row_indexer,col_indexer] = value instead\n",
      "\n",
      "See the caveats in the documentation: https://pandas.pydata.org/pandas-docs/stable/user_guide/indexing.html#returning-a-view-versus-a-copy\n",
      "  trainCategory[\"M4\"] = np.where(trainCategory[\"M4\"] == \"T\", trainCategory[\"M4\"], \"M\")\n",
      "<ipython-input-38-e6d0a6085301>:4: SettingWithCopyWarning: \n",
      "A value is trying to be set on a copy of a slice from a DataFrame.\n",
      "Try using .loc[row_indexer,col_indexer] = value instead\n",
      "\n",
      "See the caveats in the documentation: https://pandas.pydata.org/pandas-docs/stable/user_guide/indexing.html#returning-a-view-versus-a-copy\n",
      "  trainCategory[\"M6\"] = np.where(trainCategory[\"M6\"] == \"T\", trainCategory[\"M6\"], \"M\")\n",
      "<ipython-input-38-e6d0a6085301>:5: SettingWithCopyWarning: \n",
      "A value is trying to be set on a copy of a slice from a DataFrame.\n",
      "Try using .loc[row_indexer,col_indexer] = value instead\n",
      "\n",
      "See the caveats in the documentation: https://pandas.pydata.org/pandas-docs/stable/user_guide/indexing.html#returning-a-view-versus-a-copy\n",
      "  trainCategory[\"M7\"] = np.where(trainCategory[\"M7\"] == \"T\", trainCategory[\"M7\"], \"M\")\n",
      "<ipython-input-38-e6d0a6085301>:6: SettingWithCopyWarning: \n",
      "A value is trying to be set on a copy of a slice from a DataFrame.\n",
      "Try using .loc[row_indexer,col_indexer] = value instead\n",
      "\n",
      "See the caveats in the documentation: https://pandas.pydata.org/pandas-docs/stable/user_guide/indexing.html#returning-a-view-versus-a-copy\n",
      "  trainCategory[\"M8\"] = np.where(trainCategory[\"M8\"] == \"T\", trainCategory[\"M8\"], \"M\")\n",
      "<ipython-input-38-e6d0a6085301>:7: SettingWithCopyWarning: \n",
      "A value is trying to be set on a copy of a slice from a DataFrame.\n",
      "Try using .loc[row_indexer,col_indexer] = value instead\n",
      "\n",
      "See the caveats in the documentation: https://pandas.pydata.org/pandas-docs/stable/user_guide/indexing.html#returning-a-view-versus-a-copy\n",
      "  trainCategory[\"M9\"] = np.where(trainCategory[\"M9\"] == \"T\", trainCategory[\"M9\"], \"M\")\n"
     ]
    },
    {
     "data": {
      "application/javascript": [
       "\n",
       "            setTimeout(function() {\n",
       "                var nbb_cell_id = 38;\n",
       "                var nbb_unformatted_code = \"trainCategory[\\\"M2\\\"] = np.where(trainCategory[\\\"M2\\\"] == \\\"T\\\", trainCategory[\\\"M2\\\"], \\\"M\\\")\\ntrainCategory[\\\"M3\\\"] = np.where(trainCategory[\\\"M3\\\"] == \\\"T\\\", trainCategory[\\\"M3\\\"], \\\"M\\\")\\ntrainCategory[\\\"M4\\\"] = np.where(trainCategory[\\\"M4\\\"] == \\\"T\\\", trainCategory[\\\"M4\\\"], \\\"M\\\")\\ntrainCategory[\\\"M6\\\"] = np.where(trainCategory[\\\"M6\\\"] == \\\"T\\\", trainCategory[\\\"M6\\\"], \\\"M\\\")\\ntrainCategory[\\\"M7\\\"] = np.where(trainCategory[\\\"M7\\\"] == \\\"T\\\", trainCategory[\\\"M7\\\"], \\\"M\\\")\\ntrainCategory[\\\"M8\\\"] = np.where(trainCategory[\\\"M8\\\"] == \\\"T\\\", trainCategory[\\\"M8\\\"], \\\"M\\\")\\ntrainCategory[\\\"M9\\\"] = np.where(trainCategory[\\\"M9\\\"] == \\\"T\\\", trainCategory[\\\"M9\\\"], \\\"M\\\")\";\n",
       "                var nbb_formatted_code = \"trainCategory[\\\"M2\\\"] = np.where(trainCategory[\\\"M2\\\"] == \\\"T\\\", trainCategory[\\\"M2\\\"], \\\"M\\\")\\ntrainCategory[\\\"M3\\\"] = np.where(trainCategory[\\\"M3\\\"] == \\\"T\\\", trainCategory[\\\"M3\\\"], \\\"M\\\")\\ntrainCategory[\\\"M4\\\"] = np.where(trainCategory[\\\"M4\\\"] == \\\"T\\\", trainCategory[\\\"M4\\\"], \\\"M\\\")\\ntrainCategory[\\\"M6\\\"] = np.where(trainCategory[\\\"M6\\\"] == \\\"T\\\", trainCategory[\\\"M6\\\"], \\\"M\\\")\\ntrainCategory[\\\"M7\\\"] = np.where(trainCategory[\\\"M7\\\"] == \\\"T\\\", trainCategory[\\\"M7\\\"], \\\"M\\\")\\ntrainCategory[\\\"M8\\\"] = np.where(trainCategory[\\\"M8\\\"] == \\\"T\\\", trainCategory[\\\"M8\\\"], \\\"M\\\")\\ntrainCategory[\\\"M9\\\"] = np.where(trainCategory[\\\"M9\\\"] == \\\"T\\\", trainCategory[\\\"M9\\\"], \\\"M\\\")\";\n",
       "                var nbb_cells = Jupyter.notebook.get_cells();\n",
       "                for (var i = 0; i < nbb_cells.length; ++i) {\n",
       "                    if (nbb_cells[i].input_prompt_number == nbb_cell_id) {\n",
       "                        if (nbb_cells[i].get_text() == nbb_unformatted_code) {\n",
       "                             nbb_cells[i].set_text(nbb_formatted_code);\n",
       "                        }\n",
       "                        break;\n",
       "                    }\n",
       "                }\n",
       "            }, 500);\n",
       "            "
      ],
      "text/plain": [
       "<IPython.core.display.Javascript object>"
      ]
     },
     "metadata": {},
     "output_type": "display_data"
    }
   ],
   "source": [
    "trainCategory[\"M2\"] = np.where(trainCategory[\"M2\"] == \"T\", trainCategory[\"M2\"], \"M\")\n",
    "trainCategory[\"M3\"] = np.where(trainCategory[\"M3\"] == \"T\", trainCategory[\"M3\"], \"M\")\n",
    "trainCategory[\"M4\"] = np.where(trainCategory[\"M4\"] == \"T\", trainCategory[\"M4\"], \"M\")\n",
    "trainCategory[\"M6\"] = np.where(trainCategory[\"M6\"] == \"T\", trainCategory[\"M6\"], \"M\")\n",
    "trainCategory[\"M7\"] = np.where(trainCategory[\"M7\"] == \"T\", trainCategory[\"M7\"], \"M\")\n",
    "trainCategory[\"M8\"] = np.where(trainCategory[\"M8\"] == \"T\", trainCategory[\"M8\"], \"M\")\n",
    "trainCategory[\"M9\"] = np.where(trainCategory[\"M9\"] == \"T\", trainCategory[\"M9\"], \"M\")"
   ]
  },
  {
   "cell_type": "code",
   "execution_count": 39,
   "id": "058bb46a",
   "metadata": {},
   "outputs": [
    {
     "data": {
      "text/plain": [
       "ProductCD         5\n",
       "card4             4\n",
       "card6             4\n",
       "P_emaildomain    59\n",
       "M1                2\n",
       "M2                2\n",
       "M3                2\n",
       "M4                1\n",
       "M6                2\n",
       "M7                2\n",
       "M8                2\n",
       "M9                2\n",
       "dtype: int64"
      ]
     },
     "execution_count": 39,
     "metadata": {},
     "output_type": "execute_result"
    },
    {
     "data": {
      "application/javascript": [
       "\n",
       "            setTimeout(function() {\n",
       "                var nbb_cell_id = 39;\n",
       "                var nbb_unformatted_code = \"trainCategory.nunique()\";\n",
       "                var nbb_formatted_code = \"trainCategory.nunique()\";\n",
       "                var nbb_cells = Jupyter.notebook.get_cells();\n",
       "                for (var i = 0; i < nbb_cells.length; ++i) {\n",
       "                    if (nbb_cells[i].input_prompt_number == nbb_cell_id) {\n",
       "                        if (nbb_cells[i].get_text() == nbb_unformatted_code) {\n",
       "                             nbb_cells[i].set_text(nbb_formatted_code);\n",
       "                        }\n",
       "                        break;\n",
       "                    }\n",
       "                }\n",
       "            }, 500);\n",
       "            "
      ],
      "text/plain": [
       "<IPython.core.display.Javascript object>"
      ]
     },
     "metadata": {},
     "output_type": "display_data"
    }
   ],
   "source": [
    "trainCategory.nunique()"
   ]
  },
  {
   "cell_type": "code",
   "execution_count": 40,
   "id": "cdbae066",
   "metadata": {},
   "outputs": [
    {
     "data": {
      "text/plain": [
       "ProductCD            0\n",
       "card4             1577\n",
       "card6             1571\n",
       "P_emaildomain    94456\n",
       "M1                   0\n",
       "M2                   0\n",
       "M3                   0\n",
       "M4                   0\n",
       "M6                   0\n",
       "M7                   0\n",
       "M8                   0\n",
       "M9                   0\n",
       "dtype: int64"
      ]
     },
     "execution_count": 40,
     "metadata": {},
     "output_type": "execute_result"
    },
    {
     "data": {
      "application/javascript": [
       "\n",
       "            setTimeout(function() {\n",
       "                var nbb_cell_id = 40;\n",
       "                var nbb_unformatted_code = \"trainCategory.isna().sum()\";\n",
       "                var nbb_formatted_code = \"trainCategory.isna().sum()\";\n",
       "                var nbb_cells = Jupyter.notebook.get_cells();\n",
       "                for (var i = 0; i < nbb_cells.length; ++i) {\n",
       "                    if (nbb_cells[i].input_prompt_number == nbb_cell_id) {\n",
       "                        if (nbb_cells[i].get_text() == nbb_unformatted_code) {\n",
       "                             nbb_cells[i].set_text(nbb_formatted_code);\n",
       "                        }\n",
       "                        break;\n",
       "                    }\n",
       "                }\n",
       "            }, 500);\n",
       "            "
      ],
      "text/plain": [
       "<IPython.core.display.Javascript object>"
      ]
     },
     "metadata": {},
     "output_type": "display_data"
    }
   ],
   "source": [
    "trainCategory.isna().sum()"
   ]
  },
  {
   "cell_type": "code",
   "execution_count": 41,
   "id": "d87ee026",
   "metadata": {},
   "outputs": [
    {
     "name": "stderr",
     "output_type": "stream",
     "text": [
      "<ipython-input-41-0391ffd94a52>:1: SettingWithCopyWarning: \n",
      "A value is trying to be set on a copy of a slice from a DataFrame.\n",
      "Try using .loc[row_indexer,col_indexer] = value instead\n",
      "\n",
      "See the caveats in the documentation: https://pandas.pydata.org/pandas-docs/stable/user_guide/indexing.html#returning-a-view-versus-a-copy\n",
      "  trainCategory[\"P_emaildomain\"] = np.where(\n"
     ]
    },
    {
     "data": {
      "application/javascript": [
       "\n",
       "            setTimeout(function() {\n",
       "                var nbb_cell_id = 41;\n",
       "                var nbb_unformatted_code = \"trainCategory[\\\"P_emaildomain\\\"] = np.where(\\n    trainCategory[\\\"P_emaildomain\\\"].isna(), \\\"M\\\", trainCategory[\\\"P_emaildomain\\\"]\\n)\";\n",
       "                var nbb_formatted_code = \"trainCategory[\\\"P_emaildomain\\\"] = np.where(\\n    trainCategory[\\\"P_emaildomain\\\"].isna(), \\\"M\\\", trainCategory[\\\"P_emaildomain\\\"]\\n)\";\n",
       "                var nbb_cells = Jupyter.notebook.get_cells();\n",
       "                for (var i = 0; i < nbb_cells.length; ++i) {\n",
       "                    if (nbb_cells[i].input_prompt_number == nbb_cell_id) {\n",
       "                        if (nbb_cells[i].get_text() == nbb_unformatted_code) {\n",
       "                             nbb_cells[i].set_text(nbb_formatted_code);\n",
       "                        }\n",
       "                        break;\n",
       "                    }\n",
       "                }\n",
       "            }, 500);\n",
       "            "
      ],
      "text/plain": [
       "<IPython.core.display.Javascript object>"
      ]
     },
     "metadata": {},
     "output_type": "display_data"
    }
   ],
   "source": [
    "trainCategory[\"P_emaildomain\"] = np.where(\n",
    "    trainCategory[\"P_emaildomain\"].isna(), \"M\", trainCategory[\"P_emaildomain\"]\n",
    ")"
   ]
  },
  {
   "cell_type": "code",
   "execution_count": 42,
   "id": "818296bd",
   "metadata": {},
   "outputs": [
    {
     "data": {
      "text/html": [
       "<div>\n",
       "<style scoped>\n",
       "    .dataframe tbody tr th:only-of-type {\n",
       "        vertical-align: middle;\n",
       "    }\n",
       "\n",
       "    .dataframe tbody tr th {\n",
       "        vertical-align: top;\n",
       "    }\n",
       "\n",
       "    .dataframe thead th {\n",
       "        text-align: right;\n",
       "    }\n",
       "</style>\n",
       "<table border=\"1\" class=\"dataframe\">\n",
       "  <thead>\n",
       "    <tr style=\"text-align: right;\">\n",
       "      <th></th>\n",
       "      <th>ProductCD</th>\n",
       "      <th>card4</th>\n",
       "      <th>card6</th>\n",
       "      <th>P_emaildomain</th>\n",
       "      <th>M1</th>\n",
       "      <th>M2</th>\n",
       "      <th>M3</th>\n",
       "      <th>M4</th>\n",
       "      <th>M6</th>\n",
       "      <th>M7</th>\n",
       "      <th>M8</th>\n",
       "      <th>M9</th>\n",
       "    </tr>\n",
       "  </thead>\n",
       "  <tbody>\n",
       "    <tr>\n",
       "      <th>0</th>\n",
       "      <td>W</td>\n",
       "      <td>discover</td>\n",
       "      <td>credit</td>\n",
       "      <td>M</td>\n",
       "      <td>T</td>\n",
       "      <td>T</td>\n",
       "      <td>T</td>\n",
       "      <td>M</td>\n",
       "      <td>T</td>\n",
       "      <td>M</td>\n",
       "      <td>M</td>\n",
       "      <td>M</td>\n",
       "    </tr>\n",
       "    <tr>\n",
       "      <th>1</th>\n",
       "      <td>W</td>\n",
       "      <td>mastercard</td>\n",
       "      <td>credit</td>\n",
       "      <td>gmail.com</td>\n",
       "      <td>M</td>\n",
       "      <td>M</td>\n",
       "      <td>M</td>\n",
       "      <td>M</td>\n",
       "      <td>T</td>\n",
       "      <td>M</td>\n",
       "      <td>M</td>\n",
       "      <td>M</td>\n",
       "    </tr>\n",
       "    <tr>\n",
       "      <th>2</th>\n",
       "      <td>W</td>\n",
       "      <td>visa</td>\n",
       "      <td>debit</td>\n",
       "      <td>outlook.com</td>\n",
       "      <td>T</td>\n",
       "      <td>T</td>\n",
       "      <td>T</td>\n",
       "      <td>M</td>\n",
       "      <td>M</td>\n",
       "      <td>M</td>\n",
       "      <td>M</td>\n",
       "      <td>M</td>\n",
       "    </tr>\n",
       "    <tr>\n",
       "      <th>3</th>\n",
       "      <td>W</td>\n",
       "      <td>mastercard</td>\n",
       "      <td>debit</td>\n",
       "      <td>yahoo.com</td>\n",
       "      <td>M</td>\n",
       "      <td>M</td>\n",
       "      <td>M</td>\n",
       "      <td>M</td>\n",
       "      <td>M</td>\n",
       "      <td>M</td>\n",
       "      <td>M</td>\n",
       "      <td>M</td>\n",
       "    </tr>\n",
       "    <tr>\n",
       "      <th>4</th>\n",
       "      <td>H</td>\n",
       "      <td>mastercard</td>\n",
       "      <td>credit</td>\n",
       "      <td>gmail.com</td>\n",
       "      <td>M</td>\n",
       "      <td>M</td>\n",
       "      <td>M</td>\n",
       "      <td>M</td>\n",
       "      <td>M</td>\n",
       "      <td>M</td>\n",
       "      <td>M</td>\n",
       "      <td>M</td>\n",
       "    </tr>\n",
       "  </tbody>\n",
       "</table>\n",
       "</div>"
      ],
      "text/plain": [
       "  ProductCD       card4   card6 P_emaildomain M1 M2 M3 M4 M6 M7 M8 M9\n",
       "0         W    discover  credit             M  T  T  T  M  T  M  M  M\n",
       "1         W  mastercard  credit     gmail.com  M  M  M  M  T  M  M  M\n",
       "2         W        visa   debit   outlook.com  T  T  T  M  M  M  M  M\n",
       "3         W  mastercard   debit     yahoo.com  M  M  M  M  M  M  M  M\n",
       "4         H  mastercard  credit     gmail.com  M  M  M  M  M  M  M  M"
      ]
     },
     "execution_count": 42,
     "metadata": {},
     "output_type": "execute_result"
    },
    {
     "data": {
      "application/javascript": [
       "\n",
       "            setTimeout(function() {\n",
       "                var nbb_cell_id = 42;\n",
       "                var nbb_unformatted_code = \"trainCategory.head()\";\n",
       "                var nbb_formatted_code = \"trainCategory.head()\";\n",
       "                var nbb_cells = Jupyter.notebook.get_cells();\n",
       "                for (var i = 0; i < nbb_cells.length; ++i) {\n",
       "                    if (nbb_cells[i].input_prompt_number == nbb_cell_id) {\n",
       "                        if (nbb_cells[i].get_text() == nbb_unformatted_code) {\n",
       "                             nbb_cells[i].set_text(nbb_formatted_code);\n",
       "                        }\n",
       "                        break;\n",
       "                    }\n",
       "                }\n",
       "            }, 500);\n",
       "            "
      ],
      "text/plain": [
       "<IPython.core.display.Javascript object>"
      ]
     },
     "metadata": {},
     "output_type": "display_data"
    }
   ],
   "source": [
    "trainCategory.head()"
   ]
  },
  {
   "cell_type": "code",
   "execution_count": 43,
   "id": "2db8e5d3",
   "metadata": {},
   "outputs": [
    {
     "name": "stderr",
     "output_type": "stream",
     "text": [
      "<ipython-input-43-6adc39eacdb0>:1: SettingWithCopyWarning: \n",
      "A value is trying to be set on a copy of a slice from a DataFrame.\n",
      "Try using .loc[row_indexer,col_indexer] = value instead\n",
      "\n",
      "See the caveats in the documentation: https://pandas.pydata.org/pandas-docs/stable/user_guide/indexing.html#returning-a-view-versus-a-copy\n",
      "  trainCategory[\"card4\"] = np.where(\n",
      "<ipython-input-43-6adc39eacdb0>:5: SettingWithCopyWarning: \n",
      "A value is trying to be set on a copy of a slice from a DataFrame.\n",
      "Try using .loc[row_indexer,col_indexer] = value instead\n",
      "\n",
      "See the caveats in the documentation: https://pandas.pydata.org/pandas-docs/stable/user_guide/indexing.html#returning-a-view-versus-a-copy\n",
      "  trainCategory[\"card6\"] = np.where(\n"
     ]
    },
    {
     "data": {
      "application/javascript": [
       "\n",
       "            setTimeout(function() {\n",
       "                var nbb_cell_id = 43;\n",
       "                var nbb_unformatted_code = \"trainCategory[\\\"card4\\\"] = np.where(\\n    trainCategory[\\\"card4\\\"].isna(), \\\"M\\\", trainCategory[\\\"card4\\\"]\\n)\\n\\ntrainCategory[\\\"card6\\\"] = np.where(\\n    trainCategory[\\\"card6\\\"].isna(), \\\"M\\\", trainCategory[\\\"card6\\\"]\\n)\";\n",
       "                var nbb_formatted_code = \"trainCategory[\\\"card4\\\"] = np.where(\\n    trainCategory[\\\"card4\\\"].isna(), \\\"M\\\", trainCategory[\\\"card4\\\"]\\n)\\n\\ntrainCategory[\\\"card6\\\"] = np.where(\\n    trainCategory[\\\"card6\\\"].isna(), \\\"M\\\", trainCategory[\\\"card6\\\"]\\n)\";\n",
       "                var nbb_cells = Jupyter.notebook.get_cells();\n",
       "                for (var i = 0; i < nbb_cells.length; ++i) {\n",
       "                    if (nbb_cells[i].input_prompt_number == nbb_cell_id) {\n",
       "                        if (nbb_cells[i].get_text() == nbb_unformatted_code) {\n",
       "                             nbb_cells[i].set_text(nbb_formatted_code);\n",
       "                        }\n",
       "                        break;\n",
       "                    }\n",
       "                }\n",
       "            }, 500);\n",
       "            "
      ],
      "text/plain": [
       "<IPython.core.display.Javascript object>"
      ]
     },
     "metadata": {},
     "output_type": "display_data"
    }
   ],
   "source": [
    "trainCategory[\"card4\"] = np.where(\n",
    "    trainCategory[\"card4\"].isna(), \"M\", trainCategory[\"card4\"]\n",
    ")\n",
    "\n",
    "trainCategory[\"card6\"] = np.where(\n",
    "    trainCategory[\"card6\"].isna(), \"M\", trainCategory[\"card6\"]\n",
    ")"
   ]
  },
  {
   "cell_type": "code",
   "execution_count": 44,
   "id": "adfb9ab0",
   "metadata": {},
   "outputs": [
    {
     "data": {
      "text/html": [
       "<div>\n",
       "<style scoped>\n",
       "    .dataframe tbody tr th:only-of-type {\n",
       "        vertical-align: middle;\n",
       "    }\n",
       "\n",
       "    .dataframe tbody tr th {\n",
       "        vertical-align: top;\n",
       "    }\n",
       "\n",
       "    .dataframe thead th {\n",
       "        text-align: right;\n",
       "    }\n",
       "</style>\n",
       "<table border=\"1\" class=\"dataframe\">\n",
       "  <thead>\n",
       "    <tr style=\"text-align: right;\">\n",
       "      <th></th>\n",
       "      <th>ProductCD</th>\n",
       "      <th>card4</th>\n",
       "      <th>card6</th>\n",
       "      <th>P_emaildomain</th>\n",
       "      <th>M1</th>\n",
       "      <th>M2</th>\n",
       "      <th>M3</th>\n",
       "      <th>M4</th>\n",
       "      <th>M6</th>\n",
       "      <th>M7</th>\n",
       "      <th>M8</th>\n",
       "      <th>M9</th>\n",
       "    </tr>\n",
       "  </thead>\n",
       "  <tbody>\n",
       "    <tr>\n",
       "      <th>0</th>\n",
       "      <td>W</td>\n",
       "      <td>discover</td>\n",
       "      <td>credit</td>\n",
       "      <td>M</td>\n",
       "      <td>T</td>\n",
       "      <td>T</td>\n",
       "      <td>T</td>\n",
       "      <td>M</td>\n",
       "      <td>T</td>\n",
       "      <td>M</td>\n",
       "      <td>M</td>\n",
       "      <td>M</td>\n",
       "    </tr>\n",
       "    <tr>\n",
       "      <th>1</th>\n",
       "      <td>W</td>\n",
       "      <td>mastercard</td>\n",
       "      <td>credit</td>\n",
       "      <td>gmail.com</td>\n",
       "      <td>M</td>\n",
       "      <td>M</td>\n",
       "      <td>M</td>\n",
       "      <td>M</td>\n",
       "      <td>T</td>\n",
       "      <td>M</td>\n",
       "      <td>M</td>\n",
       "      <td>M</td>\n",
       "    </tr>\n",
       "    <tr>\n",
       "      <th>2</th>\n",
       "      <td>W</td>\n",
       "      <td>visa</td>\n",
       "      <td>debit</td>\n",
       "      <td>outlook.com</td>\n",
       "      <td>T</td>\n",
       "      <td>T</td>\n",
       "      <td>T</td>\n",
       "      <td>M</td>\n",
       "      <td>M</td>\n",
       "      <td>M</td>\n",
       "      <td>M</td>\n",
       "      <td>M</td>\n",
       "    </tr>\n",
       "    <tr>\n",
       "      <th>3</th>\n",
       "      <td>W</td>\n",
       "      <td>mastercard</td>\n",
       "      <td>debit</td>\n",
       "      <td>yahoo.com</td>\n",
       "      <td>M</td>\n",
       "      <td>M</td>\n",
       "      <td>M</td>\n",
       "      <td>M</td>\n",
       "      <td>M</td>\n",
       "      <td>M</td>\n",
       "      <td>M</td>\n",
       "      <td>M</td>\n",
       "    </tr>\n",
       "    <tr>\n",
       "      <th>4</th>\n",
       "      <td>H</td>\n",
       "      <td>mastercard</td>\n",
       "      <td>credit</td>\n",
       "      <td>gmail.com</td>\n",
       "      <td>M</td>\n",
       "      <td>M</td>\n",
       "      <td>M</td>\n",
       "      <td>M</td>\n",
       "      <td>M</td>\n",
       "      <td>M</td>\n",
       "      <td>M</td>\n",
       "      <td>M</td>\n",
       "    </tr>\n",
       "  </tbody>\n",
       "</table>\n",
       "</div>"
      ],
      "text/plain": [
       "  ProductCD       card4   card6 P_emaildomain M1 M2 M3 M4 M6 M7 M8 M9\n",
       "0         W    discover  credit             M  T  T  T  M  T  M  M  M\n",
       "1         W  mastercard  credit     gmail.com  M  M  M  M  T  M  M  M\n",
       "2         W        visa   debit   outlook.com  T  T  T  M  M  M  M  M\n",
       "3         W  mastercard   debit     yahoo.com  M  M  M  M  M  M  M  M\n",
       "4         H  mastercard  credit     gmail.com  M  M  M  M  M  M  M  M"
      ]
     },
     "execution_count": 44,
     "metadata": {},
     "output_type": "execute_result"
    },
    {
     "data": {
      "application/javascript": [
       "\n",
       "            setTimeout(function() {\n",
       "                var nbb_cell_id = 44;\n",
       "                var nbb_unformatted_code = \"trainCategory.head()\";\n",
       "                var nbb_formatted_code = \"trainCategory.head()\";\n",
       "                var nbb_cells = Jupyter.notebook.get_cells();\n",
       "                for (var i = 0; i < nbb_cells.length; ++i) {\n",
       "                    if (nbb_cells[i].input_prompt_number == nbb_cell_id) {\n",
       "                        if (nbb_cells[i].get_text() == nbb_unformatted_code) {\n",
       "                             nbb_cells[i].set_text(nbb_formatted_code);\n",
       "                        }\n",
       "                        break;\n",
       "                    }\n",
       "                }\n",
       "            }, 500);\n",
       "            "
      ],
      "text/plain": [
       "<IPython.core.display.Javascript object>"
      ]
     },
     "metadata": {},
     "output_type": "display_data"
    }
   ],
   "source": [
    "trainCategory.head()"
   ]
  },
  {
   "cell_type": "code",
   "execution_count": 45,
   "id": "bf4360cf",
   "metadata": {},
   "outputs": [
    {
     "data": {
      "text/plain": [
       "ProductCD        0\n",
       "card4            0\n",
       "card6            0\n",
       "P_emaildomain    0\n",
       "M1               0\n",
       "M2               0\n",
       "M3               0\n",
       "M4               0\n",
       "M6               0\n",
       "M7               0\n",
       "M8               0\n",
       "M9               0\n",
       "dtype: int64"
      ]
     },
     "execution_count": 45,
     "metadata": {},
     "output_type": "execute_result"
    },
    {
     "data": {
      "application/javascript": [
       "\n",
       "            setTimeout(function() {\n",
       "                var nbb_cell_id = 45;\n",
       "                var nbb_unformatted_code = \"trainCategory.isna().sum()\";\n",
       "                var nbb_formatted_code = \"trainCategory.isna().sum()\";\n",
       "                var nbb_cells = Jupyter.notebook.get_cells();\n",
       "                for (var i = 0; i < nbb_cells.length; ++i) {\n",
       "                    if (nbb_cells[i].input_prompt_number == nbb_cell_id) {\n",
       "                        if (nbb_cells[i].get_text() == nbb_unformatted_code) {\n",
       "                             nbb_cells[i].set_text(nbb_formatted_code);\n",
       "                        }\n",
       "                        break;\n",
       "                    }\n",
       "                }\n",
       "            }, 500);\n",
       "            "
      ],
      "text/plain": [
       "<IPython.core.display.Javascript object>"
      ]
     },
     "metadata": {},
     "output_type": "display_data"
    }
   ],
   "source": [
    "trainCategory.isna().sum()"
   ]
  },
  {
   "cell_type": "code",
   "execution_count": 69,
   "id": "7bd8f5a5",
   "metadata": {},
   "outputs": [
    {
     "data": {
      "text/html": [
       "<div>\n",
       "<style scoped>\n",
       "    .dataframe tbody tr th:only-of-type {\n",
       "        vertical-align: middle;\n",
       "    }\n",
       "\n",
       "    .dataframe tbody tr th {\n",
       "        vertical-align: top;\n",
       "    }\n",
       "\n",
       "    .dataframe thead th {\n",
       "        text-align: right;\n",
       "    }\n",
       "</style>\n",
       "<table border=\"1\" class=\"dataframe\">\n",
       "  <thead>\n",
       "    <tr style=\"text-align: right;\">\n",
       "      <th></th>\n",
       "      <th>TransactionID</th>\n",
       "      <th>isFraud</th>\n",
       "      <th>TransactionDT</th>\n",
       "      <th>TransactionAmt</th>\n",
       "      <th>card1</th>\n",
       "      <th>card2</th>\n",
       "      <th>card3</th>\n",
       "      <th>card5</th>\n",
       "      <th>addr1</th>\n",
       "      <th>addr2</th>\n",
       "      <th>...</th>\n",
       "      <th>TransactionAmt_to_mean_card1</th>\n",
       "      <th>TransactionAmt_to_mean_card4</th>\n",
       "      <th>TransactionAmt_to_std_card1</th>\n",
       "      <th>TransactionAmt_to_std_card4</th>\n",
       "      <th>D15_to_mean_card1</th>\n",
       "      <th>D15_to_mean_card4</th>\n",
       "      <th>D15_to_std_card1</th>\n",
       "      <th>D15_to_std_card4</th>\n",
       "      <th>D15_to_mean_addr1</th>\n",
       "      <th>D15_to_std_addr1</th>\n",
       "    </tr>\n",
       "  </thead>\n",
       "  <tbody>\n",
       "    <tr>\n",
       "      <th>0</th>\n",
       "      <td>2987000</td>\n",
       "      <td>0</td>\n",
       "      <td>86400</td>\n",
       "      <td>68.5</td>\n",
       "      <td>13926</td>\n",
       "      <td>0.0</td>\n",
       "      <td>150.0</td>\n",
       "      <td>142.0</td>\n",
       "      <td>315.0</td>\n",
       "      <td>87.0</td>\n",
       "      <td>...</td>\n",
       "      <td>0.194580</td>\n",
       "      <td>0.257812</td>\n",
       "      <td>0.184560</td>\n",
       "      <td>0.170241</td>\n",
       "      <td>0.000000</td>\n",
       "      <td>0.000000</td>\n",
       "      <td>0.000000</td>\n",
       "      <td>0.000000</td>\n",
       "      <td>0.000000</td>\n",
       "      <td>0.000000</td>\n",
       "    </tr>\n",
       "    <tr>\n",
       "      <th>1</th>\n",
       "      <td>2987001</td>\n",
       "      <td>0</td>\n",
       "      <td>86401</td>\n",
       "      <td>29.0</td>\n",
       "      <td>2755</td>\n",
       "      <td>404.0</td>\n",
       "      <td>150.0</td>\n",
       "      <td>102.0</td>\n",
       "      <td>325.0</td>\n",
       "      <td>87.0</td>\n",
       "      <td>...</td>\n",
       "      <td>0.123779</td>\n",
       "      <td>0.219116</td>\n",
       "      <td>0.063004</td>\n",
       "      <td>0.114214</td>\n",
       "      <td>0.000000</td>\n",
       "      <td>0.000000</td>\n",
       "      <td>0.000000</td>\n",
       "      <td>0.000000</td>\n",
       "      <td>0.000000</td>\n",
       "      <td>0.000000</td>\n",
       "    </tr>\n",
       "    <tr>\n",
       "      <th>2</th>\n",
       "      <td>2987002</td>\n",
       "      <td>0</td>\n",
       "      <td>86469</td>\n",
       "      <td>59.0</td>\n",
       "      <td>4663</td>\n",
       "      <td>490.0</td>\n",
       "      <td>150.0</td>\n",
       "      <td>166.0</td>\n",
       "      <td>330.0</td>\n",
       "      <td>87.0</td>\n",
       "      <td>...</td>\n",
       "      <td>0.608398</td>\n",
       "      <td>0.443115</td>\n",
       "      <td>0.589226</td>\n",
       "      <td>0.258550</td>\n",
       "      <td>2.519531</td>\n",
       "      <td>1.865234</td>\n",
       "      <td>1.851016</td>\n",
       "      <td>1.541448</td>\n",
       "      <td>1.611328</td>\n",
       "      <td>1.486472</td>\n",
       "    </tr>\n",
       "    <tr>\n",
       "      <th>3</th>\n",
       "      <td>2987003</td>\n",
       "      <td>0</td>\n",
       "      <td>86499</td>\n",
       "      <td>50.0</td>\n",
       "      <td>18132</td>\n",
       "      <td>567.0</td>\n",
       "      <td>150.0</td>\n",
       "      <td>117.0</td>\n",
       "      <td>476.0</td>\n",
       "      <td>87.0</td>\n",
       "      <td>...</td>\n",
       "      <td>0.405029</td>\n",
       "      <td>0.377686</td>\n",
       "      <td>0.259460</td>\n",
       "      <td>0.196921</td>\n",
       "      <td>0.550293</td>\n",
       "      <td>0.720215</td>\n",
       "      <td>0.520531</td>\n",
       "      <td>0.558392</td>\n",
       "      <td>0.686035</td>\n",
       "      <td>0.576638</td>\n",
       "    </tr>\n",
       "    <tr>\n",
       "      <th>4</th>\n",
       "      <td>2987004</td>\n",
       "      <td>0</td>\n",
       "      <td>86506</td>\n",
       "      <td>50.0</td>\n",
       "      <td>4497</td>\n",
       "      <td>514.0</td>\n",
       "      <td>150.0</td>\n",
       "      <td>102.0</td>\n",
       "      <td>420.0</td>\n",
       "      <td>87.0</td>\n",
       "      <td>...</td>\n",
       "      <td>0.515625</td>\n",
       "      <td>0.377686</td>\n",
       "      <td>0.882898</td>\n",
       "      <td>0.196921</td>\n",
       "      <td>0.000000</td>\n",
       "      <td>0.000000</td>\n",
       "      <td>0.000000</td>\n",
       "      <td>0.000000</td>\n",
       "      <td>0.000000</td>\n",
       "      <td>0.000000</td>\n",
       "    </tr>\n",
       "  </tbody>\n",
       "</table>\n",
       "<p>5 rows × 254 columns</p>\n",
       "</div>"
      ],
      "text/plain": [
       "   TransactionID  isFraud  TransactionDT  TransactionAmt  card1  card2  card3  \\\n",
       "0        2987000        0          86400            68.5  13926    0.0  150.0   \n",
       "1        2987001        0          86401            29.0   2755  404.0  150.0   \n",
       "2        2987002        0          86469            59.0   4663  490.0  150.0   \n",
       "3        2987003        0          86499            50.0  18132  567.0  150.0   \n",
       "4        2987004        0          86506            50.0   4497  514.0  150.0   \n",
       "\n",
       "   card5  addr1  addr2  ...  TransactionAmt_to_mean_card1  \\\n",
       "0  142.0  315.0   87.0  ...                      0.194580   \n",
       "1  102.0  325.0   87.0  ...                      0.123779   \n",
       "2  166.0  330.0   87.0  ...                      0.608398   \n",
       "3  117.0  476.0   87.0  ...                      0.405029   \n",
       "4  102.0  420.0   87.0  ...                      0.515625   \n",
       "\n",
       "   TransactionAmt_to_mean_card4  TransactionAmt_to_std_card1  \\\n",
       "0                      0.257812                     0.184560   \n",
       "1                      0.219116                     0.063004   \n",
       "2                      0.443115                     0.589226   \n",
       "3                      0.377686                     0.259460   \n",
       "4                      0.377686                     0.882898   \n",
       "\n",
       "   TransactionAmt_to_std_card4  D15_to_mean_card1  D15_to_mean_card4  \\\n",
       "0                     0.170241           0.000000           0.000000   \n",
       "1                     0.114214           0.000000           0.000000   \n",
       "2                     0.258550           2.519531           1.865234   \n",
       "3                     0.196921           0.550293           0.720215   \n",
       "4                     0.196921           0.000000           0.000000   \n",
       "\n",
       "   D15_to_std_card1  D15_to_std_card4  D15_to_mean_addr1  D15_to_std_addr1  \n",
       "0          0.000000          0.000000           0.000000          0.000000  \n",
       "1          0.000000          0.000000           0.000000          0.000000  \n",
       "2          1.851016          1.541448           1.611328          1.486472  \n",
       "3          0.520531          0.558392           0.686035          0.576638  \n",
       "4          0.000000          0.000000           0.000000          0.000000  \n",
       "\n",
       "[5 rows x 254 columns]"
      ]
     },
     "execution_count": 69,
     "metadata": {},
     "output_type": "execute_result"
    },
    {
     "data": {
      "application/javascript": [
       "\n",
       "            setTimeout(function() {\n",
       "                var nbb_cell_id = 69;\n",
       "                var nbb_unformatted_code = \"trainNotCategory.head()\";\n",
       "                var nbb_formatted_code = \"trainNotCategory.head()\";\n",
       "                var nbb_cells = Jupyter.notebook.get_cells();\n",
       "                for (var i = 0; i < nbb_cells.length; ++i) {\n",
       "                    if (nbb_cells[i].input_prompt_number == nbb_cell_id) {\n",
       "                        if (nbb_cells[i].get_text() == nbb_unformatted_code) {\n",
       "                             nbb_cells[i].set_text(nbb_formatted_code);\n",
       "                        }\n",
       "                        break;\n",
       "                    }\n",
       "                }\n",
       "            }, 500);\n",
       "            "
      ],
      "text/plain": [
       "<IPython.core.display.Javascript object>"
      ]
     },
     "metadata": {},
     "output_type": "display_data"
    }
   ],
   "source": [
    "trainNotCategory.head()"
   ]
  },
  {
   "cell_type": "code",
   "execution_count": 74,
   "id": "b8961db7",
   "metadata": {},
   "outputs": [
    {
     "name": "stderr",
     "output_type": "stream",
     "text": [
      "C:\\Users\\niraj\\Anaconda3\\lib\\site-packages\\pandas\\core\\frame.py:4524: SettingWithCopyWarning: \n",
      "A value is trying to be set on a copy of a slice from a DataFrame\n",
      "\n",
      "See the caveats in the documentation: https://pandas.pydata.org/pandas-docs/stable/user_guide/indexing.html#returning-a-view-versus-a-copy\n",
      "  return super().replace(\n"
     ]
    },
    {
     "data": {
      "application/javascript": [
       "\n",
       "            setTimeout(function() {\n",
       "                var nbb_cell_id = 74;\n",
       "                var nbb_unformatted_code = \"trainNotCategory.replace([np.inf, -np.inf], np.nan, inplace=True)\";\n",
       "                var nbb_formatted_code = \"trainNotCategory.replace([np.inf, -np.inf], np.nan, inplace=True)\";\n",
       "                var nbb_cells = Jupyter.notebook.get_cells();\n",
       "                for (var i = 0; i < nbb_cells.length; ++i) {\n",
       "                    if (nbb_cells[i].input_prompt_number == nbb_cell_id) {\n",
       "                        if (nbb_cells[i].get_text() == nbb_unformatted_code) {\n",
       "                             nbb_cells[i].set_text(nbb_formatted_code);\n",
       "                        }\n",
       "                        break;\n",
       "                    }\n",
       "                }\n",
       "            }, 500);\n",
       "            "
      ],
      "text/plain": [
       "<IPython.core.display.Javascript object>"
      ]
     },
     "metadata": {},
     "output_type": "display_data"
    }
   ],
   "source": [
    "trainNotCategory.replace([np.inf, -np.inf], np.nan, inplace=True)"
   ]
  },
  {
   "cell_type": "code",
   "execution_count": 130,
   "id": "309ef436",
   "metadata": {},
   "outputs": [
    {
     "data": {
      "text/plain": [
       "TransactionID          0\n",
       "isFraud                0\n",
       "TransactionDT          0\n",
       "TransactionAmt         0\n",
       "card1                  0\n",
       "                    ... \n",
       "D15_to_mean_card4      0\n",
       "D15_to_std_card1     168\n",
       "D15_to_std_card4       0\n",
       "D15_to_mean_addr1      0\n",
       "D15_to_std_addr1       2\n",
       "Length: 254, dtype: int64"
      ]
     },
     "execution_count": 130,
     "metadata": {},
     "output_type": "execute_result"
    },
    {
     "data": {
      "application/javascript": [
       "\n",
       "            setTimeout(function() {\n",
       "                var nbb_cell_id = 130;\n",
       "                var nbb_unformatted_code = \"trainNotCategory.isna().sum()\";\n",
       "                var nbb_formatted_code = \"trainNotCategory.isna().sum()\";\n",
       "                var nbb_cells = Jupyter.notebook.get_cells();\n",
       "                for (var i = 0; i < nbb_cells.length; ++i) {\n",
       "                    if (nbb_cells[i].input_prompt_number == nbb_cell_id) {\n",
       "                        if (nbb_cells[i].get_text() == nbb_unformatted_code) {\n",
       "                             nbb_cells[i].set_text(nbb_formatted_code);\n",
       "                        }\n",
       "                        break;\n",
       "                    }\n",
       "                }\n",
       "            }, 500);\n",
       "            "
      ],
      "text/plain": [
       "<IPython.core.display.Javascript object>"
      ]
     },
     "metadata": {},
     "output_type": "display_data"
    }
   ],
   "source": [
    "trainNotCategory.isna().sum()"
   ]
  },
  {
   "cell_type": "code",
   "execution_count": 76,
   "id": "1cf6490c",
   "metadata": {},
   "outputs": [
    {
     "data": {
      "application/javascript": [
       "\n",
       "            setTimeout(function() {\n",
       "                var nbb_cell_id = 76;\n",
       "                var nbb_unformatted_code = \"trainNotCategoryNumber = trainNotCategory.select_dtypes(include=[\\\"number\\\"])\\ntrainNotCategoryObject = trainNotCategory.select_dtypes(include=[\\\"object_\\\"])\\ntrainNotCategoryBol = trainNotCategory.select_dtypes(include=[\\\"boolean\\\"])\";\n",
       "                var nbb_formatted_code = \"trainNotCategoryNumber = trainNotCategory.select_dtypes(include=[\\\"number\\\"])\\ntrainNotCategoryObject = trainNotCategory.select_dtypes(include=[\\\"object_\\\"])\\ntrainNotCategoryBol = trainNotCategory.select_dtypes(include=[\\\"boolean\\\"])\";\n",
       "                var nbb_cells = Jupyter.notebook.get_cells();\n",
       "                for (var i = 0; i < nbb_cells.length; ++i) {\n",
       "                    if (nbb_cells[i].input_prompt_number == nbb_cell_id) {\n",
       "                        if (nbb_cells[i].get_text() == nbb_unformatted_code) {\n",
       "                             nbb_cells[i].set_text(nbb_formatted_code);\n",
       "                        }\n",
       "                        break;\n",
       "                    }\n",
       "                }\n",
       "            }, 500);\n",
       "            "
      ],
      "text/plain": [
       "<IPython.core.display.Javascript object>"
      ]
     },
     "metadata": {},
     "output_type": "display_data"
    }
   ],
   "source": [
    "trainNotCategoryNumber = trainNotCategory.select_dtypes(include=[\"number\"])\n",
    "trainNotCategoryObject = trainNotCategory.select_dtypes(include=[\"object_\"])"
   ]
  },
  {
   "cell_type": "code",
   "execution_count": 131,
   "id": "54230168",
   "metadata": {},
   "outputs": [
    {
     "data": {
      "text/plain": [
       "TransactionID        0\n",
       "isFraud              0\n",
       "TransactionDT        0\n",
       "TransactionAmt       0\n",
       "card1                0\n",
       "                    ..\n",
       "D15_to_mean_card4    0\n",
       "D15_to_std_card1     0\n",
       "D15_to_std_card4     0\n",
       "D15_to_mean_addr1    0\n",
       "D15_to_std_addr1     0\n",
       "Length: 250, dtype: int64"
      ]
     },
     "execution_count": 131,
     "metadata": {},
     "output_type": "execute_result"
    },
    {
     "data": {
      "application/javascript": [
       "\n",
       "            setTimeout(function() {\n",
       "                var nbb_cell_id = 131;\n",
       "                var nbb_unformatted_code = \"trainNotCategoryNumber.isna().sum()\";\n",
       "                var nbb_formatted_code = \"trainNotCategoryNumber.isna().sum()\";\n",
       "                var nbb_cells = Jupyter.notebook.get_cells();\n",
       "                for (var i = 0; i < nbb_cells.length; ++i) {\n",
       "                    if (nbb_cells[i].input_prompt_number == nbb_cell_id) {\n",
       "                        if (nbb_cells[i].get_text() == nbb_unformatted_code) {\n",
       "                             nbb_cells[i].set_text(nbb_formatted_code);\n",
       "                        }\n",
       "                        break;\n",
       "                    }\n",
       "                }\n",
       "            }, 500);\n",
       "            "
      ],
      "text/plain": [
       "<IPython.core.display.Javascript object>"
      ]
     },
     "metadata": {},
     "output_type": "display_data"
    }
   ],
   "source": [
    "trainNotCategoryNumber.isna().sum()"
   ]
  },
  {
   "cell_type": "code",
   "execution_count": 132,
   "id": "e8b9a637",
   "metadata": {},
   "outputs": [
    {
     "data": {
      "application/javascript": [
       "\n",
       "            setTimeout(function() {\n",
       "                var nbb_cell_id = 132;\n",
       "                var nbb_unformatted_code = \"trainNotCategoryNumber = trainNotCategoryNumber.fillna(0)\";\n",
       "                var nbb_formatted_code = \"trainNotCategoryNumber = trainNotCategoryNumber.fillna(0)\";\n",
       "                var nbb_cells = Jupyter.notebook.get_cells();\n",
       "                for (var i = 0; i < nbb_cells.length; ++i) {\n",
       "                    if (nbb_cells[i].input_prompt_number == nbb_cell_id) {\n",
       "                        if (nbb_cells[i].get_text() == nbb_unformatted_code) {\n",
       "                             nbb_cells[i].set_text(nbb_formatted_code);\n",
       "                        }\n",
       "                        break;\n",
       "                    }\n",
       "                }\n",
       "            }, 500);\n",
       "            "
      ],
      "text/plain": [
       "<IPython.core.display.Javascript object>"
      ]
     },
     "metadata": {},
     "output_type": "display_data"
    }
   ],
   "source": [
    "trainNotCategoryNumber = trainNotCategoryNumber.fillna(0)"
   ]
  },
  {
   "cell_type": "code",
   "execution_count": 133,
   "id": "44dda7ab",
   "metadata": {},
   "outputs": [
    {
     "data": {
      "text/html": [
       "<div>\n",
       "<style scoped>\n",
       "    .dataframe tbody tr th:only-of-type {\n",
       "        vertical-align: middle;\n",
       "    }\n",
       "\n",
       "    .dataframe tbody tr th {\n",
       "        vertical-align: top;\n",
       "    }\n",
       "\n",
       "    .dataframe thead th {\n",
       "        text-align: right;\n",
       "    }\n",
       "</style>\n",
       "<table border=\"1\" class=\"dataframe\">\n",
       "  <thead>\n",
       "    <tr style=\"text-align: right;\">\n",
       "      <th></th>\n",
       "      <th>TransactionID</th>\n",
       "      <th>isFraud</th>\n",
       "      <th>TransactionDT</th>\n",
       "      <th>TransactionAmt</th>\n",
       "      <th>card1</th>\n",
       "      <th>card2</th>\n",
       "      <th>card3</th>\n",
       "      <th>card5</th>\n",
       "      <th>addr1</th>\n",
       "      <th>addr2</th>\n",
       "      <th>...</th>\n",
       "      <th>TransactionAmt_to_mean_card1</th>\n",
       "      <th>TransactionAmt_to_mean_card4</th>\n",
       "      <th>TransactionAmt_to_std_card1</th>\n",
       "      <th>TransactionAmt_to_std_card4</th>\n",
       "      <th>D15_to_mean_card1</th>\n",
       "      <th>D15_to_mean_card4</th>\n",
       "      <th>D15_to_std_card1</th>\n",
       "      <th>D15_to_std_card4</th>\n",
       "      <th>D15_to_mean_addr1</th>\n",
       "      <th>D15_to_std_addr1</th>\n",
       "    </tr>\n",
       "  </thead>\n",
       "  <tbody>\n",
       "    <tr>\n",
       "      <th>0</th>\n",
       "      <td>2987000</td>\n",
       "      <td>0</td>\n",
       "      <td>86400</td>\n",
       "      <td>68.5</td>\n",
       "      <td>13926</td>\n",
       "      <td>0.0</td>\n",
       "      <td>150.0</td>\n",
       "      <td>142.0</td>\n",
       "      <td>315.0</td>\n",
       "      <td>87.0</td>\n",
       "      <td>...</td>\n",
       "      <td>0.194580</td>\n",
       "      <td>0.257812</td>\n",
       "      <td>0.184560</td>\n",
       "      <td>0.170241</td>\n",
       "      <td>0.000000</td>\n",
       "      <td>0.000000</td>\n",
       "      <td>0.000000</td>\n",
       "      <td>0.000000</td>\n",
       "      <td>0.000000</td>\n",
       "      <td>0.000000</td>\n",
       "    </tr>\n",
       "    <tr>\n",
       "      <th>1</th>\n",
       "      <td>2987001</td>\n",
       "      <td>0</td>\n",
       "      <td>86401</td>\n",
       "      <td>29.0</td>\n",
       "      <td>2755</td>\n",
       "      <td>404.0</td>\n",
       "      <td>150.0</td>\n",
       "      <td>102.0</td>\n",
       "      <td>325.0</td>\n",
       "      <td>87.0</td>\n",
       "      <td>...</td>\n",
       "      <td>0.123779</td>\n",
       "      <td>0.219116</td>\n",
       "      <td>0.063004</td>\n",
       "      <td>0.114214</td>\n",
       "      <td>0.000000</td>\n",
       "      <td>0.000000</td>\n",
       "      <td>0.000000</td>\n",
       "      <td>0.000000</td>\n",
       "      <td>0.000000</td>\n",
       "      <td>0.000000</td>\n",
       "    </tr>\n",
       "    <tr>\n",
       "      <th>2</th>\n",
       "      <td>2987002</td>\n",
       "      <td>0</td>\n",
       "      <td>86469</td>\n",
       "      <td>59.0</td>\n",
       "      <td>4663</td>\n",
       "      <td>490.0</td>\n",
       "      <td>150.0</td>\n",
       "      <td>166.0</td>\n",
       "      <td>330.0</td>\n",
       "      <td>87.0</td>\n",
       "      <td>...</td>\n",
       "      <td>0.608398</td>\n",
       "      <td>0.443115</td>\n",
       "      <td>0.589226</td>\n",
       "      <td>0.258550</td>\n",
       "      <td>2.519531</td>\n",
       "      <td>1.865234</td>\n",
       "      <td>1.851016</td>\n",
       "      <td>1.541448</td>\n",
       "      <td>1.611328</td>\n",
       "      <td>1.486472</td>\n",
       "    </tr>\n",
       "    <tr>\n",
       "      <th>3</th>\n",
       "      <td>2987003</td>\n",
       "      <td>0</td>\n",
       "      <td>86499</td>\n",
       "      <td>50.0</td>\n",
       "      <td>18132</td>\n",
       "      <td>567.0</td>\n",
       "      <td>150.0</td>\n",
       "      <td>117.0</td>\n",
       "      <td>476.0</td>\n",
       "      <td>87.0</td>\n",
       "      <td>...</td>\n",
       "      <td>0.405029</td>\n",
       "      <td>0.377686</td>\n",
       "      <td>0.259460</td>\n",
       "      <td>0.196921</td>\n",
       "      <td>0.550293</td>\n",
       "      <td>0.720215</td>\n",
       "      <td>0.520531</td>\n",
       "      <td>0.558392</td>\n",
       "      <td>0.686035</td>\n",
       "      <td>0.576638</td>\n",
       "    </tr>\n",
       "    <tr>\n",
       "      <th>4</th>\n",
       "      <td>2987004</td>\n",
       "      <td>0</td>\n",
       "      <td>86506</td>\n",
       "      <td>50.0</td>\n",
       "      <td>4497</td>\n",
       "      <td>514.0</td>\n",
       "      <td>150.0</td>\n",
       "      <td>102.0</td>\n",
       "      <td>420.0</td>\n",
       "      <td>87.0</td>\n",
       "      <td>...</td>\n",
       "      <td>0.515625</td>\n",
       "      <td>0.377686</td>\n",
       "      <td>0.882898</td>\n",
       "      <td>0.196921</td>\n",
       "      <td>0.000000</td>\n",
       "      <td>0.000000</td>\n",
       "      <td>0.000000</td>\n",
       "      <td>0.000000</td>\n",
       "      <td>0.000000</td>\n",
       "      <td>0.000000</td>\n",
       "    </tr>\n",
       "  </tbody>\n",
       "</table>\n",
       "<p>5 rows × 250 columns</p>\n",
       "</div>"
      ],
      "text/plain": [
       "   TransactionID  isFraud  TransactionDT  TransactionAmt  card1  card2  card3  \\\n",
       "0        2987000        0          86400            68.5  13926    0.0  150.0   \n",
       "1        2987001        0          86401            29.0   2755  404.0  150.0   \n",
       "2        2987002        0          86469            59.0   4663  490.0  150.0   \n",
       "3        2987003        0          86499            50.0  18132  567.0  150.0   \n",
       "4        2987004        0          86506            50.0   4497  514.0  150.0   \n",
       "\n",
       "   card5  addr1  addr2  ...  TransactionAmt_to_mean_card1  \\\n",
       "0  142.0  315.0   87.0  ...                      0.194580   \n",
       "1  102.0  325.0   87.0  ...                      0.123779   \n",
       "2  166.0  330.0   87.0  ...                      0.608398   \n",
       "3  117.0  476.0   87.0  ...                      0.405029   \n",
       "4  102.0  420.0   87.0  ...                      0.515625   \n",
       "\n",
       "   TransactionAmt_to_mean_card4  TransactionAmt_to_std_card1  \\\n",
       "0                      0.257812                     0.184560   \n",
       "1                      0.219116                     0.063004   \n",
       "2                      0.443115                     0.589226   \n",
       "3                      0.377686                     0.259460   \n",
       "4                      0.377686                     0.882898   \n",
       "\n",
       "   TransactionAmt_to_std_card4  D15_to_mean_card1  D15_to_mean_card4  \\\n",
       "0                     0.170241           0.000000           0.000000   \n",
       "1                     0.114214           0.000000           0.000000   \n",
       "2                     0.258550           2.519531           1.865234   \n",
       "3                     0.196921           0.550293           0.720215   \n",
       "4                     0.196921           0.000000           0.000000   \n",
       "\n",
       "   D15_to_std_card1  D15_to_std_card4  D15_to_mean_addr1  D15_to_std_addr1  \n",
       "0          0.000000          0.000000           0.000000          0.000000  \n",
       "1          0.000000          0.000000           0.000000          0.000000  \n",
       "2          1.851016          1.541448           1.611328          1.486472  \n",
       "3          0.520531          0.558392           0.686035          0.576638  \n",
       "4          0.000000          0.000000           0.000000          0.000000  \n",
       "\n",
       "[5 rows x 250 columns]"
      ]
     },
     "execution_count": 133,
     "metadata": {},
     "output_type": "execute_result"
    },
    {
     "data": {
      "application/javascript": [
       "\n",
       "            setTimeout(function() {\n",
       "                var nbb_cell_id = 133;\n",
       "                var nbb_unformatted_code = \"trainNotCategoryNumber.head()\";\n",
       "                var nbb_formatted_code = \"trainNotCategoryNumber.head()\";\n",
       "                var nbb_cells = Jupyter.notebook.get_cells();\n",
       "                for (var i = 0; i < nbb_cells.length; ++i) {\n",
       "                    if (nbb_cells[i].input_prompt_number == nbb_cell_id) {\n",
       "                        if (nbb_cells[i].get_text() == nbb_unformatted_code) {\n",
       "                             nbb_cells[i].set_text(nbb_formatted_code);\n",
       "                        }\n",
       "                        break;\n",
       "                    }\n",
       "                }\n",
       "            }, 500);\n",
       "            "
      ],
      "text/plain": [
       "<IPython.core.display.Javascript object>"
      ]
     },
     "metadata": {},
     "output_type": "display_data"
    }
   ],
   "source": [
    "trainNotCategoryNumber.head()"
   ]
  },
  {
   "cell_type": "code",
   "execution_count": 137,
   "id": "d850bdb3",
   "metadata": {},
   "outputs": [
    {
     "data": {
      "application/javascript": [
       "\n",
       "            setTimeout(function() {\n",
       "                var nbb_cell_id = 137;\n",
       "                var nbb_unformatted_code = \"trainNotCategoryNumber.drop(['TransactionID','TransactionDT'], axis=1, inplace=True)\";\n",
       "                var nbb_formatted_code = \"trainNotCategoryNumber.drop([\\\"TransactionID\\\", \\\"TransactionDT\\\"], axis=1, inplace=True)\";\n",
       "                var nbb_cells = Jupyter.notebook.get_cells();\n",
       "                for (var i = 0; i < nbb_cells.length; ++i) {\n",
       "                    if (nbb_cells[i].input_prompt_number == nbb_cell_id) {\n",
       "                        if (nbb_cells[i].get_text() == nbb_unformatted_code) {\n",
       "                             nbb_cells[i].set_text(nbb_formatted_code);\n",
       "                        }\n",
       "                        break;\n",
       "                    }\n",
       "                }\n",
       "            }, 500);\n",
       "            "
      ],
      "text/plain": [
       "<IPython.core.display.Javascript object>"
      ]
     },
     "metadata": {},
     "output_type": "display_data"
    }
   ],
   "source": [
    "trainNotCategoryNumber.drop(['TransactionID','TransactionDT'], axis=1, inplace=True)"
   ]
  },
  {
   "cell_type": "code",
   "execution_count": 138,
   "id": "c62ecbf3",
   "metadata": {},
   "outputs": [
    {
     "data": {
      "text/html": [
       "<div>\n",
       "<style scoped>\n",
       "    .dataframe tbody tr th:only-of-type {\n",
       "        vertical-align: middle;\n",
       "    }\n",
       "\n",
       "    .dataframe tbody tr th {\n",
       "        vertical-align: top;\n",
       "    }\n",
       "\n",
       "    .dataframe thead th {\n",
       "        text-align: right;\n",
       "    }\n",
       "</style>\n",
       "<table border=\"1\" class=\"dataframe\">\n",
       "  <thead>\n",
       "    <tr style=\"text-align: right;\">\n",
       "      <th></th>\n",
       "      <th>isFraud</th>\n",
       "      <th>TransactionAmt</th>\n",
       "      <th>card1</th>\n",
       "      <th>card2</th>\n",
       "      <th>card3</th>\n",
       "      <th>card5</th>\n",
       "      <th>addr1</th>\n",
       "      <th>addr2</th>\n",
       "      <th>dist1</th>\n",
       "      <th>C1</th>\n",
       "      <th>...</th>\n",
       "      <th>TransactionAmt_to_mean_card1</th>\n",
       "      <th>TransactionAmt_to_mean_card4</th>\n",
       "      <th>TransactionAmt_to_std_card1</th>\n",
       "      <th>TransactionAmt_to_std_card4</th>\n",
       "      <th>D15_to_mean_card1</th>\n",
       "      <th>D15_to_mean_card4</th>\n",
       "      <th>D15_to_std_card1</th>\n",
       "      <th>D15_to_std_card4</th>\n",
       "      <th>D15_to_mean_addr1</th>\n",
       "      <th>D15_to_std_addr1</th>\n",
       "    </tr>\n",
       "  </thead>\n",
       "  <tbody>\n",
       "    <tr>\n",
       "      <th>0</th>\n",
       "      <td>0</td>\n",
       "      <td>68.5</td>\n",
       "      <td>13926</td>\n",
       "      <td>0.0</td>\n",
       "      <td>150.0</td>\n",
       "      <td>142.0</td>\n",
       "      <td>315.0</td>\n",
       "      <td>87.0</td>\n",
       "      <td>19.0</td>\n",
       "      <td>1.0</td>\n",
       "      <td>...</td>\n",
       "      <td>0.194580</td>\n",
       "      <td>0.257812</td>\n",
       "      <td>0.184560</td>\n",
       "      <td>0.170241</td>\n",
       "      <td>0.000000</td>\n",
       "      <td>0.000000</td>\n",
       "      <td>0.000000</td>\n",
       "      <td>0.000000</td>\n",
       "      <td>0.000000</td>\n",
       "      <td>0.000000</td>\n",
       "    </tr>\n",
       "    <tr>\n",
       "      <th>1</th>\n",
       "      <td>0</td>\n",
       "      <td>29.0</td>\n",
       "      <td>2755</td>\n",
       "      <td>404.0</td>\n",
       "      <td>150.0</td>\n",
       "      <td>102.0</td>\n",
       "      <td>325.0</td>\n",
       "      <td>87.0</td>\n",
       "      <td>0.0</td>\n",
       "      <td>1.0</td>\n",
       "      <td>...</td>\n",
       "      <td>0.123779</td>\n",
       "      <td>0.219116</td>\n",
       "      <td>0.063004</td>\n",
       "      <td>0.114214</td>\n",
       "      <td>0.000000</td>\n",
       "      <td>0.000000</td>\n",
       "      <td>0.000000</td>\n",
       "      <td>0.000000</td>\n",
       "      <td>0.000000</td>\n",
       "      <td>0.000000</td>\n",
       "    </tr>\n",
       "    <tr>\n",
       "      <th>2</th>\n",
       "      <td>0</td>\n",
       "      <td>59.0</td>\n",
       "      <td>4663</td>\n",
       "      <td>490.0</td>\n",
       "      <td>150.0</td>\n",
       "      <td>166.0</td>\n",
       "      <td>330.0</td>\n",
       "      <td>87.0</td>\n",
       "      <td>287.0</td>\n",
       "      <td>1.0</td>\n",
       "      <td>...</td>\n",
       "      <td>0.608398</td>\n",
       "      <td>0.443115</td>\n",
       "      <td>0.589226</td>\n",
       "      <td>0.258550</td>\n",
       "      <td>2.519531</td>\n",
       "      <td>1.865234</td>\n",
       "      <td>1.851016</td>\n",
       "      <td>1.541448</td>\n",
       "      <td>1.611328</td>\n",
       "      <td>1.486472</td>\n",
       "    </tr>\n",
       "    <tr>\n",
       "      <th>3</th>\n",
       "      <td>0</td>\n",
       "      <td>50.0</td>\n",
       "      <td>18132</td>\n",
       "      <td>567.0</td>\n",
       "      <td>150.0</td>\n",
       "      <td>117.0</td>\n",
       "      <td>476.0</td>\n",
       "      <td>87.0</td>\n",
       "      <td>0.0</td>\n",
       "      <td>2.0</td>\n",
       "      <td>...</td>\n",
       "      <td>0.405029</td>\n",
       "      <td>0.377686</td>\n",
       "      <td>0.259460</td>\n",
       "      <td>0.196921</td>\n",
       "      <td>0.550293</td>\n",
       "      <td>0.720215</td>\n",
       "      <td>0.520531</td>\n",
       "      <td>0.558392</td>\n",
       "      <td>0.686035</td>\n",
       "      <td>0.576638</td>\n",
       "    </tr>\n",
       "    <tr>\n",
       "      <th>4</th>\n",
       "      <td>0</td>\n",
       "      <td>50.0</td>\n",
       "      <td>4497</td>\n",
       "      <td>514.0</td>\n",
       "      <td>150.0</td>\n",
       "      <td>102.0</td>\n",
       "      <td>420.0</td>\n",
       "      <td>87.0</td>\n",
       "      <td>0.0</td>\n",
       "      <td>1.0</td>\n",
       "      <td>...</td>\n",
       "      <td>0.515625</td>\n",
       "      <td>0.377686</td>\n",
       "      <td>0.882898</td>\n",
       "      <td>0.196921</td>\n",
       "      <td>0.000000</td>\n",
       "      <td>0.000000</td>\n",
       "      <td>0.000000</td>\n",
       "      <td>0.000000</td>\n",
       "      <td>0.000000</td>\n",
       "      <td>0.000000</td>\n",
       "    </tr>\n",
       "  </tbody>\n",
       "</table>\n",
       "<p>5 rows × 248 columns</p>\n",
       "</div>"
      ],
      "text/plain": [
       "   isFraud  TransactionAmt  card1  card2  card3  card5  addr1  addr2  dist1  \\\n",
       "0        0            68.5  13926    0.0  150.0  142.0  315.0   87.0   19.0   \n",
       "1        0            29.0   2755  404.0  150.0  102.0  325.0   87.0    0.0   \n",
       "2        0            59.0   4663  490.0  150.0  166.0  330.0   87.0  287.0   \n",
       "3        0            50.0  18132  567.0  150.0  117.0  476.0   87.0    0.0   \n",
       "4        0            50.0   4497  514.0  150.0  102.0  420.0   87.0    0.0   \n",
       "\n",
       "    C1  ...  TransactionAmt_to_mean_card1  TransactionAmt_to_mean_card4  \\\n",
       "0  1.0  ...                      0.194580                      0.257812   \n",
       "1  1.0  ...                      0.123779                      0.219116   \n",
       "2  1.0  ...                      0.608398                      0.443115   \n",
       "3  2.0  ...                      0.405029                      0.377686   \n",
       "4  1.0  ...                      0.515625                      0.377686   \n",
       "\n",
       "   TransactionAmt_to_std_card1  TransactionAmt_to_std_card4  \\\n",
       "0                     0.184560                     0.170241   \n",
       "1                     0.063004                     0.114214   \n",
       "2                     0.589226                     0.258550   \n",
       "3                     0.259460                     0.196921   \n",
       "4                     0.882898                     0.196921   \n",
       "\n",
       "   D15_to_mean_card1  D15_to_mean_card4  D15_to_std_card1  D15_to_std_card4  \\\n",
       "0           0.000000           0.000000          0.000000          0.000000   \n",
       "1           0.000000           0.000000          0.000000          0.000000   \n",
       "2           2.519531           1.865234          1.851016          1.541448   \n",
       "3           0.550293           0.720215          0.520531          0.558392   \n",
       "4           0.000000           0.000000          0.000000          0.000000   \n",
       "\n",
       "   D15_to_mean_addr1  D15_to_std_addr1  \n",
       "0           0.000000          0.000000  \n",
       "1           0.000000          0.000000  \n",
       "2           1.611328          1.486472  \n",
       "3           0.686035          0.576638  \n",
       "4           0.000000          0.000000  \n",
       "\n",
       "[5 rows x 248 columns]"
      ]
     },
     "execution_count": 138,
     "metadata": {},
     "output_type": "execute_result"
    },
    {
     "data": {
      "application/javascript": [
       "\n",
       "            setTimeout(function() {\n",
       "                var nbb_cell_id = 138;\n",
       "                var nbb_unformatted_code = \"trainNotCategoryNumber.head()\";\n",
       "                var nbb_formatted_code = \"trainNotCategoryNumber.head()\";\n",
       "                var nbb_cells = Jupyter.notebook.get_cells();\n",
       "                for (var i = 0; i < nbb_cells.length; ++i) {\n",
       "                    if (nbb_cells[i].input_prompt_number == nbb_cell_id) {\n",
       "                        if (nbb_cells[i].get_text() == nbb_unformatted_code) {\n",
       "                             nbb_cells[i].set_text(nbb_formatted_code);\n",
       "                        }\n",
       "                        break;\n",
       "                    }\n",
       "                }\n",
       "            }, 500);\n",
       "            "
      ],
      "text/plain": [
       "<IPython.core.display.Javascript object>"
      ]
     },
     "metadata": {},
     "output_type": "display_data"
    }
   ],
   "source": [
    "trainNotCategoryNumber.head()"
   ]
  },
  {
   "cell_type": "code",
   "execution_count": 78,
   "id": "292fd600",
   "metadata": {},
   "outputs": [
    {
     "data": {
      "text/plain": [
       "alertFeature    0\n",
       "had_id          0\n",
       "new_domain      0\n",
       "new_domain1     0\n",
       "dtype: int64"
      ]
     },
     "execution_count": 78,
     "metadata": {},
     "output_type": "execute_result"
    },
    {
     "data": {
      "application/javascript": [
       "\n",
       "            setTimeout(function() {\n",
       "                var nbb_cell_id = 78;\n",
       "                var nbb_unformatted_code = \"trainNotCategoryObject.isna().sum()\";\n",
       "                var nbb_formatted_code = \"trainNotCategoryObject.isna().sum()\";\n",
       "                var nbb_cells = Jupyter.notebook.get_cells();\n",
       "                for (var i = 0; i < nbb_cells.length; ++i) {\n",
       "                    if (nbb_cells[i].input_prompt_number == nbb_cell_id) {\n",
       "                        if (nbb_cells[i].get_text() == nbb_unformatted_code) {\n",
       "                             nbb_cells[i].set_text(nbb_formatted_code);\n",
       "                        }\n",
       "                        break;\n",
       "                    }\n",
       "                }\n",
       "            }, 500);\n",
       "            "
      ],
      "text/plain": [
       "<IPython.core.display.Javascript object>"
      ]
     },
     "metadata": {},
     "output_type": "display_data"
    }
   ],
   "source": [
    "trainNotCategoryObject.isna().sum()"
   ]
  },
  {
   "cell_type": "code",
   "execution_count": 85,
   "id": "06bf4c6c",
   "metadata": {},
   "outputs": [
    {
     "data": {
      "application/javascript": [
       "\n",
       "            setTimeout(function() {\n",
       "                var nbb_cell_id = 85;\n",
       "                var nbb_unformatted_code = \"from sklearn.preprocessing import LabelEncoder\";\n",
       "                var nbb_formatted_code = \"from sklearn.preprocessing import LabelEncoder\";\n",
       "                var nbb_cells = Jupyter.notebook.get_cells();\n",
       "                for (var i = 0; i < nbb_cells.length; ++i) {\n",
       "                    if (nbb_cells[i].input_prompt_number == nbb_cell_id) {\n",
       "                        if (nbb_cells[i].get_text() == nbb_unformatted_code) {\n",
       "                             nbb_cells[i].set_text(nbb_formatted_code);\n",
       "                        }\n",
       "                        break;\n",
       "                    }\n",
       "                }\n",
       "            }, 500);\n",
       "            "
      ],
      "text/plain": [
       "<IPython.core.display.Javascript object>"
      ]
     },
     "metadata": {},
     "output_type": "display_data"
    }
   ],
   "source": [
    "from sklearn.preprocessing import LabelEncoder"
   ]
  },
  {
   "cell_type": "code",
   "execution_count": 86,
   "id": "f9e8513a",
   "metadata": {},
   "outputs": [
    {
     "data": {
      "application/javascript": [
       "\n",
       "            setTimeout(function() {\n",
       "                var nbb_cell_id = 86;\n",
       "                var nbb_unformatted_code = \"le = LabelEncoder()\";\n",
       "                var nbb_formatted_code = \"le = LabelEncoder()\";\n",
       "                var nbb_cells = Jupyter.notebook.get_cells();\n",
       "                for (var i = 0; i < nbb_cells.length; ++i) {\n",
       "                    if (nbb_cells[i].input_prompt_number == nbb_cell_id) {\n",
       "                        if (nbb_cells[i].get_text() == nbb_unformatted_code) {\n",
       "                             nbb_cells[i].set_text(nbb_formatted_code);\n",
       "                        }\n",
       "                        break;\n",
       "                    }\n",
       "                }\n",
       "            }, 500);\n",
       "            "
      ],
      "text/plain": [
       "<IPython.core.display.Javascript object>"
      ]
     },
     "metadata": {},
     "output_type": "display_data"
    }
   ],
   "source": [
    "le = LabelEncoder()"
   ]
  },
  {
   "cell_type": "code",
   "execution_count": 121,
   "id": "28c3e904",
   "metadata": {},
   "outputs": [
    {
     "data": {
      "application/javascript": [
       "\n",
       "            setTimeout(function() {\n",
       "                var nbb_cell_id = 121;\n",
       "                var nbb_unformatted_code = \"trainNotCategoryObject = trainNotCategory.select_dtypes(include=[\\\"object_\\\"])\";\n",
       "                var nbb_formatted_code = \"trainNotCategoryObject = trainNotCategory.select_dtypes(include=[\\\"object_\\\"])\";\n",
       "                var nbb_cells = Jupyter.notebook.get_cells();\n",
       "                for (var i = 0; i < nbb_cells.length; ++i) {\n",
       "                    if (nbb_cells[i].input_prompt_number == nbb_cell_id) {\n",
       "                        if (nbb_cells[i].get_text() == nbb_unformatted_code) {\n",
       "                             nbb_cells[i].set_text(nbb_formatted_code);\n",
       "                        }\n",
       "                        break;\n",
       "                    }\n",
       "                }\n",
       "            }, 500);\n",
       "            "
      ],
      "text/plain": [
       "<IPython.core.display.Javascript object>"
      ]
     },
     "metadata": {},
     "output_type": "display_data"
    }
   ],
   "source": [
    "trainNotCategoryObject = trainNotCategory.select_dtypes(include=[\"object_\"])"
   ]
  },
  {
   "cell_type": "code",
   "execution_count": 122,
   "id": "eed56764",
   "metadata": {},
   "outputs": [
    {
     "data": {
      "text/html": [
       "<div>\n",
       "<style scoped>\n",
       "    .dataframe tbody tr th:only-of-type {\n",
       "        vertical-align: middle;\n",
       "    }\n",
       "\n",
       "    .dataframe tbody tr th {\n",
       "        vertical-align: top;\n",
       "    }\n",
       "\n",
       "    .dataframe thead th {\n",
       "        text-align: right;\n",
       "    }\n",
       "</style>\n",
       "<table border=\"1\" class=\"dataframe\">\n",
       "  <thead>\n",
       "    <tr style=\"text-align: right;\">\n",
       "      <th></th>\n",
       "      <th>alertFeature</th>\n",
       "      <th>had_id</th>\n",
       "      <th>new_domain</th>\n",
       "      <th>new_domain1</th>\n",
       "    </tr>\n",
       "  </thead>\n",
       "  <tbody>\n",
       "    <tr>\n",
       "      <th>0</th>\n",
       "      <td>lowalert</td>\n",
       "      <td>1</td>\n",
       "      <td>0</td>\n",
       "      <td>0</td>\n",
       "    </tr>\n",
       "    <tr>\n",
       "      <th>1</th>\n",
       "      <td>lowalert</td>\n",
       "      <td>1</td>\n",
       "      <td>gmail</td>\n",
       "      <td>com</td>\n",
       "    </tr>\n",
       "    <tr>\n",
       "      <th>2</th>\n",
       "      <td>lowalert</td>\n",
       "      <td>1</td>\n",
       "      <td>outlook</td>\n",
       "      <td>com</td>\n",
       "    </tr>\n",
       "    <tr>\n",
       "      <th>3</th>\n",
       "      <td>lowalert</td>\n",
       "      <td>1</td>\n",
       "      <td>yahoo</td>\n",
       "      <td>com</td>\n",
       "    </tr>\n",
       "    <tr>\n",
       "      <th>4</th>\n",
       "      <td>lowalert</td>\n",
       "      <td>1</td>\n",
       "      <td>gmail</td>\n",
       "      <td>com</td>\n",
       "    </tr>\n",
       "  </tbody>\n",
       "</table>\n",
       "</div>"
      ],
      "text/plain": [
       "  alertFeature had_id new_domain new_domain1\n",
       "0     lowalert      1          0           0\n",
       "1     lowalert      1      gmail         com\n",
       "2     lowalert      1    outlook         com\n",
       "3     lowalert      1      yahoo         com\n",
       "4     lowalert      1      gmail         com"
      ]
     },
     "execution_count": 122,
     "metadata": {},
     "output_type": "execute_result"
    },
    {
     "data": {
      "application/javascript": [
       "\n",
       "            setTimeout(function() {\n",
       "                var nbb_cell_id = 122;\n",
       "                var nbb_unformatted_code = \"trainNotCategoryObject.head()\";\n",
       "                var nbb_formatted_code = \"trainNotCategoryObject.head()\";\n",
       "                var nbb_cells = Jupyter.notebook.get_cells();\n",
       "                for (var i = 0; i < nbb_cells.length; ++i) {\n",
       "                    if (nbb_cells[i].input_prompt_number == nbb_cell_id) {\n",
       "                        if (nbb_cells[i].get_text() == nbb_unformatted_code) {\n",
       "                             nbb_cells[i].set_text(nbb_formatted_code);\n",
       "                        }\n",
       "                        break;\n",
       "                    }\n",
       "                }\n",
       "            }, 500);\n",
       "            "
      ],
      "text/plain": [
       "<IPython.core.display.Javascript object>"
      ]
     },
     "metadata": {},
     "output_type": "display_data"
    }
   ],
   "source": [
    "trainNotCategoryObject.head()"
   ]
  },
  {
   "cell_type": "code",
   "execution_count": 123,
   "id": "849a166d",
   "metadata": {},
   "outputs": [
    {
     "data": {
      "text/plain": [
       "alertFeature    object\n",
       "had_id          object\n",
       "new_domain      object\n",
       "new_domain1     object\n",
       "dtype: object"
      ]
     },
     "execution_count": 123,
     "metadata": {},
     "output_type": "execute_result"
    },
    {
     "data": {
      "application/javascript": [
       "\n",
       "            setTimeout(function() {\n",
       "                var nbb_cell_id = 123;\n",
       "                var nbb_unformatted_code = \"trainNotCategoryObject.dtypes\";\n",
       "                var nbb_formatted_code = \"trainNotCategoryObject.dtypes\";\n",
       "                var nbb_cells = Jupyter.notebook.get_cells();\n",
       "                for (var i = 0; i < nbb_cells.length; ++i) {\n",
       "                    if (nbb_cells[i].input_prompt_number == nbb_cell_id) {\n",
       "                        if (nbb_cells[i].get_text() == nbb_unformatted_code) {\n",
       "                             nbb_cells[i].set_text(nbb_formatted_code);\n",
       "                        }\n",
       "                        break;\n",
       "                    }\n",
       "                }\n",
       "            }, 500);\n",
       "            "
      ],
      "text/plain": [
       "<IPython.core.display.Javascript object>"
      ]
     },
     "metadata": {},
     "output_type": "display_data"
    }
   ],
   "source": [
    "trainNotCategoryObject.dtypes"
   ]
  },
  {
   "cell_type": "code",
   "execution_count": 124,
   "id": "4285ff2c",
   "metadata": {},
   "outputs": [
    {
     "name": "stderr",
     "output_type": "stream",
     "text": [
      "<ipython-input-124-fd0096b38c80>:1: SettingWithCopyWarning: \n",
      "A value is trying to be set on a copy of a slice from a DataFrame.\n",
      "Try using .loc[row_indexer,col_indexer] = value instead\n",
      "\n",
      "See the caveats in the documentation: https://pandas.pydata.org/pandas-docs/stable/user_guide/indexing.html#returning-a-view-versus-a-copy\n",
      "  trainNotCategoryObject[\"had_id\"] = trainNotCategoryObject.had_id.astype(\"category\")\n",
      "<ipython-input-124-fd0096b38c80>:2: SettingWithCopyWarning: \n",
      "A value is trying to be set on a copy of a slice from a DataFrame.\n",
      "Try using .loc[row_indexer,col_indexer] = value instead\n",
      "\n",
      "See the caveats in the documentation: https://pandas.pydata.org/pandas-docs/stable/user_guide/indexing.html#returning-a-view-versus-a-copy\n",
      "  trainNotCategoryObject[\"alertFeature\"] = trainNotCategoryObject.alertFeature.astype(\n",
      "<ipython-input-124-fd0096b38c80>:5: SettingWithCopyWarning: \n",
      "A value is trying to be set on a copy of a slice from a DataFrame.\n",
      "Try using .loc[row_indexer,col_indexer] = value instead\n",
      "\n",
      "See the caveats in the documentation: https://pandas.pydata.org/pandas-docs/stable/user_guide/indexing.html#returning-a-view-versus-a-copy\n",
      "  trainNotCategoryObject[\"new_domain\"] = trainNotCategoryObject.new_domain.astype(\n",
      "<ipython-input-124-fd0096b38c80>:8: SettingWithCopyWarning: \n",
      "A value is trying to be set on a copy of a slice from a DataFrame.\n",
      "Try using .loc[row_indexer,col_indexer] = value instead\n",
      "\n",
      "See the caveats in the documentation: https://pandas.pydata.org/pandas-docs/stable/user_guide/indexing.html#returning-a-view-versus-a-copy\n",
      "  trainNotCategoryObject[\"new_domain1\"] = trainNotCategoryObject.new_domain1.astype(\n"
     ]
    },
    {
     "data": {
      "application/javascript": [
       "\n",
       "            setTimeout(function() {\n",
       "                var nbb_cell_id = 124;\n",
       "                var nbb_unformatted_code = \"trainNotCategoryObject[\\\"had_id\\\"] = trainNotCategoryObject.had_id.astype(\\\"category\\\")\\ntrainNotCategoryObject[\\\"alertFeature\\\"] = trainNotCategoryObject.alertFeature.astype(\\n    \\\"category\\\"\\n)\\ntrainNotCategoryObject[\\\"new_domain\\\"] = trainNotCategoryObject.new_domain.astype(\\n    \\\"category\\\"\\n)\\ntrainNotCategoryObject[\\\"new_domain1\\\"] = trainNotCategoryObject.new_domain1.astype(\\n    \\\"category\\\"\\n)\";\n",
       "                var nbb_formatted_code = \"trainNotCategoryObject[\\\"had_id\\\"] = trainNotCategoryObject.had_id.astype(\\\"category\\\")\\ntrainNotCategoryObject[\\\"alertFeature\\\"] = trainNotCategoryObject.alertFeature.astype(\\n    \\\"category\\\"\\n)\\ntrainNotCategoryObject[\\\"new_domain\\\"] = trainNotCategoryObject.new_domain.astype(\\n    \\\"category\\\"\\n)\\ntrainNotCategoryObject[\\\"new_domain1\\\"] = trainNotCategoryObject.new_domain1.astype(\\n    \\\"category\\\"\\n)\";\n",
       "                var nbb_cells = Jupyter.notebook.get_cells();\n",
       "                for (var i = 0; i < nbb_cells.length; ++i) {\n",
       "                    if (nbb_cells[i].input_prompt_number == nbb_cell_id) {\n",
       "                        if (nbb_cells[i].get_text() == nbb_unformatted_code) {\n",
       "                             nbb_cells[i].set_text(nbb_formatted_code);\n",
       "                        }\n",
       "                        break;\n",
       "                    }\n",
       "                }\n",
       "            }, 500);\n",
       "            "
      ],
      "text/plain": [
       "<IPython.core.display.Javascript object>"
      ]
     },
     "metadata": {},
     "output_type": "display_data"
    }
   ],
   "source": [
    "trainNotCategoryObject[\"had_id\"] = trainNotCategoryObject.had_id.astype(\"category\")\n",
    "trainNotCategoryObject[\"alertFeature\"] = trainNotCategoryObject.alertFeature.astype(\n",
    "    \"category\"\n",
    ")\n",
    "trainNotCategoryObject[\"new_domain\"] = trainNotCategoryObject.new_domain.astype(\n",
    "    \"category\"\n",
    ")\n",
    "trainNotCategoryObject[\"new_domain1\"] = trainNotCategoryObject.new_domain1.astype(\n",
    "    \"category\"\n",
    ")"
   ]
  },
  {
   "cell_type": "code",
   "execution_count": 125,
   "id": "003d2d83",
   "metadata": {},
   "outputs": [
    {
     "name": "stderr",
     "output_type": "stream",
     "text": [
      "<ipython-input-125-22cff511f7d3>:1: SettingWithCopyWarning: \n",
      "A value is trying to be set on a copy of a slice from a DataFrame.\n",
      "Try using .loc[row_indexer,col_indexer] = value instead\n",
      "\n",
      "See the caveats in the documentation: https://pandas.pydata.org/pandas-docs/stable/user_guide/indexing.html#returning-a-view-versus-a-copy\n",
      "  trainNotCategoryObject[\"new_domain\"] = np.where(\n"
     ]
    },
    {
     "data": {
      "application/javascript": [
       "\n",
       "            setTimeout(function() {\n",
       "                var nbb_cell_id = 125;\n",
       "                var nbb_unformatted_code = \"trainNotCategoryObject[\\\"new_domain\\\"] = np.where(\\n    trainNotCategoryObject[\\\"new_domain\\\"] == 0, \\\"M\\\", trainNotCategoryObject[\\\"new_domain\\\"]\\n)\";\n",
       "                var nbb_formatted_code = \"trainNotCategoryObject[\\\"new_domain\\\"] = np.where(\\n    trainNotCategoryObject[\\\"new_domain\\\"] == 0, \\\"M\\\", trainNotCategoryObject[\\\"new_domain\\\"]\\n)\";\n",
       "                var nbb_cells = Jupyter.notebook.get_cells();\n",
       "                for (var i = 0; i < nbb_cells.length; ++i) {\n",
       "                    if (nbb_cells[i].input_prompt_number == nbb_cell_id) {\n",
       "                        if (nbb_cells[i].get_text() == nbb_unformatted_code) {\n",
       "                             nbb_cells[i].set_text(nbb_formatted_code);\n",
       "                        }\n",
       "                        break;\n",
       "                    }\n",
       "                }\n",
       "            }, 500);\n",
       "            "
      ],
      "text/plain": [
       "<IPython.core.display.Javascript object>"
      ]
     },
     "metadata": {},
     "output_type": "display_data"
    }
   ],
   "source": [
    "trainNotCategoryObject[\"new_domain\"] = np.where(\n",
    "    trainNotCategoryObject[\"new_domain\"] == 0, \"M\", trainNotCategoryObject[\"new_domain\"]\n",
    ")"
   ]
  },
  {
   "cell_type": "code",
   "execution_count": 126,
   "id": "5eb38429",
   "metadata": {},
   "outputs": [
    {
     "data": {
      "text/plain": [
       "array(['M', 'gmail', 'outlook', 'yahoo', 'mail', 'anonymous', 'hotmail',\n",
       "       'verizon', 'aol', 'me', 'comcast', 'optonline', 'cox', 'charter',\n",
       "       'rocketmail', 'prodigy', 'embarqmail', 'icloud', 'live', 'att',\n",
       "       'juno', 'ymail', 'sbcglobal', 'bellsouth', 'msn', 'q',\n",
       "       'centurylink', 'servicios-ta', 'earthlink', 'cfl', 'roadrunner',\n",
       "       'netzero', 'gmx', 'suddenlink', 'frontiernet', 'windstream',\n",
       "       'frontier', 'mac', 'aim', 'web', 'twc', 'cableone', 'sc', 'ptd',\n",
       "       'protonmail'], dtype=object)"
      ]
     },
     "execution_count": 126,
     "metadata": {},
     "output_type": "execute_result"
    },
    {
     "data": {
      "application/javascript": [
       "\n",
       "            setTimeout(function() {\n",
       "                var nbb_cell_id = 126;\n",
       "                var nbb_unformatted_code = \"trainNotCategoryObject.new_domain.unique()\";\n",
       "                var nbb_formatted_code = \"trainNotCategoryObject.new_domain.unique()\";\n",
       "                var nbb_cells = Jupyter.notebook.get_cells();\n",
       "                for (var i = 0; i < nbb_cells.length; ++i) {\n",
       "                    if (nbb_cells[i].input_prompt_number == nbb_cell_id) {\n",
       "                        if (nbb_cells[i].get_text() == nbb_unformatted_code) {\n",
       "                             nbb_cells[i].set_text(nbb_formatted_code);\n",
       "                        }\n",
       "                        break;\n",
       "                    }\n",
       "                }\n",
       "            }, 500);\n",
       "            "
      ],
      "text/plain": [
       "<IPython.core.display.Javascript object>"
      ]
     },
     "metadata": {},
     "output_type": "display_data"
    }
   ],
   "source": [
    "trainNotCategoryObject.new_domain.unique()"
   ]
  },
  {
   "cell_type": "code",
   "execution_count": 127,
   "id": "03185f27",
   "metadata": {},
   "outputs": [
    {
     "name": "stderr",
     "output_type": "stream",
     "text": [
      "<ipython-input-127-645f0b96e4ab>:1: SettingWithCopyWarning: \n",
      "A value is trying to be set on a copy of a slice from a DataFrame.\n",
      "Try using .loc[row_indexer,col_indexer] = value instead\n",
      "\n",
      "See the caveats in the documentation: https://pandas.pydata.org/pandas-docs/stable/user_guide/indexing.html#returning-a-view-versus-a-copy\n",
      "  trainNotCategoryObject[\"new_domain1\"] = np.where(\n"
     ]
    },
    {
     "data": {
      "application/javascript": [
       "\n",
       "            setTimeout(function() {\n",
       "                var nbb_cell_id = 127;\n",
       "                var nbb_unformatted_code = \"trainNotCategoryObject[\\\"new_domain1\\\"] = np.where(\\n    trainNotCategoryObject[\\\"new_domain1\\\"] == 0,\\n    \\\"M\\\",\\n    trainNotCategoryObject[\\\"new_domain1\\\"],\\n)\";\n",
       "                var nbb_formatted_code = \"trainNotCategoryObject[\\\"new_domain1\\\"] = np.where(\\n    trainNotCategoryObject[\\\"new_domain1\\\"] == 0,\\n    \\\"M\\\",\\n    trainNotCategoryObject[\\\"new_domain1\\\"],\\n)\";\n",
       "                var nbb_cells = Jupyter.notebook.get_cells();\n",
       "                for (var i = 0; i < nbb_cells.length; ++i) {\n",
       "                    if (nbb_cells[i].input_prompt_number == nbb_cell_id) {\n",
       "                        if (nbb_cells[i].get_text() == nbb_unformatted_code) {\n",
       "                             nbb_cells[i].set_text(nbb_formatted_code);\n",
       "                        }\n",
       "                        break;\n",
       "                    }\n",
       "                }\n",
       "            }, 500);\n",
       "            "
      ],
      "text/plain": [
       "<IPython.core.display.Javascript object>"
      ]
     },
     "metadata": {},
     "output_type": "display_data"
    }
   ],
   "source": [
    "trainNotCategoryObject[\"new_domain1\"] = np.where(\n",
    "    trainNotCategoryObject[\"new_domain1\"] == 0,\n",
    "    \"M\",\n",
    "    trainNotCategoryObject[\"new_domain1\"],\n",
    ")"
   ]
  },
  {
   "cell_type": "code",
   "execution_count": 128,
   "id": "44332172",
   "metadata": {},
   "outputs": [
    {
     "name": "stderr",
     "output_type": "stream",
     "text": [
      "<ipython-input-128-19fb6e993b27>:2: SettingWithCopyWarning: \n",
      "A value is trying to be set on a copy of a slice from a DataFrame.\n",
      "Try using .loc[row_indexer,col_indexer] = value instead\n",
      "\n",
      "See the caveats in the documentation: https://pandas.pydata.org/pandas-docs/stable/user_guide/indexing.html#returning-a-view-versus-a-copy\n",
      "  trainNotCategoryObject[columns] = le.fit_transform(trainNotCategoryObject[columns])\n"
     ]
    },
    {
     "data": {
      "application/javascript": [
       "\n",
       "            setTimeout(function() {\n",
       "                var nbb_cell_id = 128;\n",
       "                var nbb_unformatted_code = \"for columns in trainNotCategoryObject.columns:\\n    trainNotCategoryObject[columns] = le.fit_transform(trainNotCategoryObject[columns])\";\n",
       "                var nbb_formatted_code = \"for columns in trainNotCategoryObject.columns:\\n    trainNotCategoryObject[columns] = le.fit_transform(trainNotCategoryObject[columns])\";\n",
       "                var nbb_cells = Jupyter.notebook.get_cells();\n",
       "                for (var i = 0; i < nbb_cells.length; ++i) {\n",
       "                    if (nbb_cells[i].input_prompt_number == nbb_cell_id) {\n",
       "                        if (nbb_cells[i].get_text() == nbb_unformatted_code) {\n",
       "                             nbb_cells[i].set_text(nbb_formatted_code);\n",
       "                        }\n",
       "                        break;\n",
       "                    }\n",
       "                }\n",
       "            }, 500);\n",
       "            "
      ],
      "text/plain": [
       "<IPython.core.display.Javascript object>"
      ]
     },
     "metadata": {},
     "output_type": "display_data"
    }
   ],
   "source": [
    "for columns in trainNotCategoryObject.columns:\n",
    "    trainNotCategoryObject[columns] = le.fit_transform(trainNotCategoryObject[columns])"
   ]
  },
  {
   "cell_type": "code",
   "execution_count": 129,
   "id": "46172a4f",
   "metadata": {},
   "outputs": [
    {
     "data": {
      "text/html": [
       "<div>\n",
       "<style scoped>\n",
       "    .dataframe tbody tr th:only-of-type {\n",
       "        vertical-align: middle;\n",
       "    }\n",
       "\n",
       "    .dataframe tbody tr th {\n",
       "        vertical-align: top;\n",
       "    }\n",
       "\n",
       "    .dataframe thead th {\n",
       "        text-align: right;\n",
       "    }\n",
       "</style>\n",
       "<table border=\"1\" class=\"dataframe\">\n",
       "  <thead>\n",
       "    <tr style=\"text-align: right;\">\n",
       "      <th></th>\n",
       "      <th>alertFeature</th>\n",
       "      <th>had_id</th>\n",
       "      <th>new_domain</th>\n",
       "      <th>new_domain1</th>\n",
       "    </tr>\n",
       "  </thead>\n",
       "  <tbody>\n",
       "    <tr>\n",
       "      <th>0</th>\n",
       "      <td>1</td>\n",
       "      <td>0</td>\n",
       "      <td>0</td>\n",
       "      <td>1</td>\n",
       "    </tr>\n",
       "    <tr>\n",
       "      <th>1</th>\n",
       "      <td>1</td>\n",
       "      <td>0</td>\n",
       "      <td>16</td>\n",
       "      <td>4</td>\n",
       "    </tr>\n",
       "    <tr>\n",
       "      <th>2</th>\n",
       "      <td>1</td>\n",
       "      <td>0</td>\n",
       "      <td>28</td>\n",
       "      <td>4</td>\n",
       "    </tr>\n",
       "    <tr>\n",
       "      <th>3</th>\n",
       "      <td>1</td>\n",
       "      <td>0</td>\n",
       "      <td>43</td>\n",
       "      <td>4</td>\n",
       "    </tr>\n",
       "    <tr>\n",
       "      <th>4</th>\n",
       "      <td>1</td>\n",
       "      <td>0</td>\n",
       "      <td>16</td>\n",
       "      <td>4</td>\n",
       "    </tr>\n",
       "  </tbody>\n",
       "</table>\n",
       "</div>"
      ],
      "text/plain": [
       "   alertFeature  had_id  new_domain  new_domain1\n",
       "0             1       0           0            1\n",
       "1             1       0          16            4\n",
       "2             1       0          28            4\n",
       "3             1       0          43            4\n",
       "4             1       0          16            4"
      ]
     },
     "execution_count": 129,
     "metadata": {},
     "output_type": "execute_result"
    },
    {
     "data": {
      "application/javascript": [
       "\n",
       "            setTimeout(function() {\n",
       "                var nbb_cell_id = 129;\n",
       "                var nbb_unformatted_code = \"trainNotCategoryObject.head()\";\n",
       "                var nbb_formatted_code = \"trainNotCategoryObject.head()\";\n",
       "                var nbb_cells = Jupyter.notebook.get_cells();\n",
       "                for (var i = 0; i < nbb_cells.length; ++i) {\n",
       "                    if (nbb_cells[i].input_prompt_number == nbb_cell_id) {\n",
       "                        if (nbb_cells[i].get_text() == nbb_unformatted_code) {\n",
       "                             nbb_cells[i].set_text(nbb_formatted_code);\n",
       "                        }\n",
       "                        break;\n",
       "                    }\n",
       "                }\n",
       "            }, 500);\n",
       "            "
      ],
      "text/plain": [
       "<IPython.core.display.Javascript object>"
      ]
     },
     "metadata": {},
     "output_type": "display_data"
    }
   ],
   "source": [
    "trainNotCategoryObject.head()"
   ]
  },
  {
   "cell_type": "code",
   "execution_count": 139,
   "id": "17ef7d11",
   "metadata": {},
   "outputs": [
    {
     "data": {
      "application/javascript": [
       "\n",
       "            setTimeout(function() {\n",
       "                var nbb_cell_id = 139;\n",
       "                var nbb_unformatted_code = \"trainNotCategory = trainNotCategoryNumber.merge(trainNotCategoryObject, left_index=True, right_index=True)\";\n",
       "                var nbb_formatted_code = \"trainNotCategory = trainNotCategoryNumber.merge(\\n    trainNotCategoryObject, left_index=True, right_index=True\\n)\";\n",
       "                var nbb_cells = Jupyter.notebook.get_cells();\n",
       "                for (var i = 0; i < nbb_cells.length; ++i) {\n",
       "                    if (nbb_cells[i].input_prompt_number == nbb_cell_id) {\n",
       "                        if (nbb_cells[i].get_text() == nbb_unformatted_code) {\n",
       "                             nbb_cells[i].set_text(nbb_formatted_code);\n",
       "                        }\n",
       "                        break;\n",
       "                    }\n",
       "                }\n",
       "            }, 500);\n",
       "            "
      ],
      "text/plain": [
       "<IPython.core.display.Javascript object>"
      ]
     },
     "metadata": {},
     "output_type": "display_data"
    }
   ],
   "source": [
    "trainNotCategory = trainNotCategoryNumber.merge(\n",
    "    trainNotCategoryObject, left_index=True, right_index=True\n",
    ")"
   ]
  },
  {
   "cell_type": "code",
   "execution_count": 140,
   "id": "ff623ed8",
   "metadata": {},
   "outputs": [
    {
     "data": {
      "text/html": [
       "<div>\n",
       "<style scoped>\n",
       "    .dataframe tbody tr th:only-of-type {\n",
       "        vertical-align: middle;\n",
       "    }\n",
       "\n",
       "    .dataframe tbody tr th {\n",
       "        vertical-align: top;\n",
       "    }\n",
       "\n",
       "    .dataframe thead th {\n",
       "        text-align: right;\n",
       "    }\n",
       "</style>\n",
       "<table border=\"1\" class=\"dataframe\">\n",
       "  <thead>\n",
       "    <tr style=\"text-align: right;\">\n",
       "      <th></th>\n",
       "      <th>isFraud</th>\n",
       "      <th>TransactionAmt</th>\n",
       "      <th>card1</th>\n",
       "      <th>card2</th>\n",
       "      <th>card3</th>\n",
       "      <th>card5</th>\n",
       "      <th>addr1</th>\n",
       "      <th>addr2</th>\n",
       "      <th>dist1</th>\n",
       "      <th>C1</th>\n",
       "      <th>...</th>\n",
       "      <th>D15_to_mean_card1</th>\n",
       "      <th>D15_to_mean_card4</th>\n",
       "      <th>D15_to_std_card1</th>\n",
       "      <th>D15_to_std_card4</th>\n",
       "      <th>D15_to_mean_addr1</th>\n",
       "      <th>D15_to_std_addr1</th>\n",
       "      <th>alertFeature</th>\n",
       "      <th>had_id</th>\n",
       "      <th>new_domain</th>\n",
       "      <th>new_domain1</th>\n",
       "    </tr>\n",
       "  </thead>\n",
       "  <tbody>\n",
       "    <tr>\n",
       "      <th>0</th>\n",
       "      <td>0</td>\n",
       "      <td>68.5</td>\n",
       "      <td>13926</td>\n",
       "      <td>0.0</td>\n",
       "      <td>150.0</td>\n",
       "      <td>142.0</td>\n",
       "      <td>315.0</td>\n",
       "      <td>87.0</td>\n",
       "      <td>19.0</td>\n",
       "      <td>1.0</td>\n",
       "      <td>...</td>\n",
       "      <td>0.000000</td>\n",
       "      <td>0.000000</td>\n",
       "      <td>0.000000</td>\n",
       "      <td>0.000000</td>\n",
       "      <td>0.000000</td>\n",
       "      <td>0.000000</td>\n",
       "      <td>1</td>\n",
       "      <td>0</td>\n",
       "      <td>0</td>\n",
       "      <td>1</td>\n",
       "    </tr>\n",
       "    <tr>\n",
       "      <th>1</th>\n",
       "      <td>0</td>\n",
       "      <td>29.0</td>\n",
       "      <td>2755</td>\n",
       "      <td>404.0</td>\n",
       "      <td>150.0</td>\n",
       "      <td>102.0</td>\n",
       "      <td>325.0</td>\n",
       "      <td>87.0</td>\n",
       "      <td>0.0</td>\n",
       "      <td>1.0</td>\n",
       "      <td>...</td>\n",
       "      <td>0.000000</td>\n",
       "      <td>0.000000</td>\n",
       "      <td>0.000000</td>\n",
       "      <td>0.000000</td>\n",
       "      <td>0.000000</td>\n",
       "      <td>0.000000</td>\n",
       "      <td>1</td>\n",
       "      <td>0</td>\n",
       "      <td>16</td>\n",
       "      <td>4</td>\n",
       "    </tr>\n",
       "    <tr>\n",
       "      <th>2</th>\n",
       "      <td>0</td>\n",
       "      <td>59.0</td>\n",
       "      <td>4663</td>\n",
       "      <td>490.0</td>\n",
       "      <td>150.0</td>\n",
       "      <td>166.0</td>\n",
       "      <td>330.0</td>\n",
       "      <td>87.0</td>\n",
       "      <td>287.0</td>\n",
       "      <td>1.0</td>\n",
       "      <td>...</td>\n",
       "      <td>2.519531</td>\n",
       "      <td>1.865234</td>\n",
       "      <td>1.851016</td>\n",
       "      <td>1.541448</td>\n",
       "      <td>1.611328</td>\n",
       "      <td>1.486472</td>\n",
       "      <td>1</td>\n",
       "      <td>0</td>\n",
       "      <td>28</td>\n",
       "      <td>4</td>\n",
       "    </tr>\n",
       "    <tr>\n",
       "      <th>3</th>\n",
       "      <td>0</td>\n",
       "      <td>50.0</td>\n",
       "      <td>18132</td>\n",
       "      <td>567.0</td>\n",
       "      <td>150.0</td>\n",
       "      <td>117.0</td>\n",
       "      <td>476.0</td>\n",
       "      <td>87.0</td>\n",
       "      <td>0.0</td>\n",
       "      <td>2.0</td>\n",
       "      <td>...</td>\n",
       "      <td>0.550293</td>\n",
       "      <td>0.720215</td>\n",
       "      <td>0.520531</td>\n",
       "      <td>0.558392</td>\n",
       "      <td>0.686035</td>\n",
       "      <td>0.576638</td>\n",
       "      <td>1</td>\n",
       "      <td>0</td>\n",
       "      <td>43</td>\n",
       "      <td>4</td>\n",
       "    </tr>\n",
       "    <tr>\n",
       "      <th>4</th>\n",
       "      <td>0</td>\n",
       "      <td>50.0</td>\n",
       "      <td>4497</td>\n",
       "      <td>514.0</td>\n",
       "      <td>150.0</td>\n",
       "      <td>102.0</td>\n",
       "      <td>420.0</td>\n",
       "      <td>87.0</td>\n",
       "      <td>0.0</td>\n",
       "      <td>1.0</td>\n",
       "      <td>...</td>\n",
       "      <td>0.000000</td>\n",
       "      <td>0.000000</td>\n",
       "      <td>0.000000</td>\n",
       "      <td>0.000000</td>\n",
       "      <td>0.000000</td>\n",
       "      <td>0.000000</td>\n",
       "      <td>1</td>\n",
       "      <td>0</td>\n",
       "      <td>16</td>\n",
       "      <td>4</td>\n",
       "    </tr>\n",
       "  </tbody>\n",
       "</table>\n",
       "<p>5 rows × 252 columns</p>\n",
       "</div>"
      ],
      "text/plain": [
       "   isFraud  TransactionAmt  card1  card2  card3  card5  addr1  addr2  dist1  \\\n",
       "0        0            68.5  13926    0.0  150.0  142.0  315.0   87.0   19.0   \n",
       "1        0            29.0   2755  404.0  150.0  102.0  325.0   87.0    0.0   \n",
       "2        0            59.0   4663  490.0  150.0  166.0  330.0   87.0  287.0   \n",
       "3        0            50.0  18132  567.0  150.0  117.0  476.0   87.0    0.0   \n",
       "4        0            50.0   4497  514.0  150.0  102.0  420.0   87.0    0.0   \n",
       "\n",
       "    C1  ...  D15_to_mean_card1  D15_to_mean_card4  D15_to_std_card1  \\\n",
       "0  1.0  ...           0.000000           0.000000          0.000000   \n",
       "1  1.0  ...           0.000000           0.000000          0.000000   \n",
       "2  1.0  ...           2.519531           1.865234          1.851016   \n",
       "3  2.0  ...           0.550293           0.720215          0.520531   \n",
       "4  1.0  ...           0.000000           0.000000          0.000000   \n",
       "\n",
       "   D15_to_std_card4  D15_to_mean_addr1  D15_to_std_addr1  alertFeature  \\\n",
       "0          0.000000           0.000000          0.000000             1   \n",
       "1          0.000000           0.000000          0.000000             1   \n",
       "2          1.541448           1.611328          1.486472             1   \n",
       "3          0.558392           0.686035          0.576638             1   \n",
       "4          0.000000           0.000000          0.000000             1   \n",
       "\n",
       "   had_id  new_domain  new_domain1  \n",
       "0       0           0            1  \n",
       "1       0          16            4  \n",
       "2       0          28            4  \n",
       "3       0          43            4  \n",
       "4       0          16            4  \n",
       "\n",
       "[5 rows x 252 columns]"
      ]
     },
     "execution_count": 140,
     "metadata": {},
     "output_type": "execute_result"
    },
    {
     "data": {
      "application/javascript": [
       "\n",
       "            setTimeout(function() {\n",
       "                var nbb_cell_id = 140;\n",
       "                var nbb_unformatted_code = \"trainNotCategory.head()\";\n",
       "                var nbb_formatted_code = \"trainNotCategory.head()\";\n",
       "                var nbb_cells = Jupyter.notebook.get_cells();\n",
       "                for (var i = 0; i < nbb_cells.length; ++i) {\n",
       "                    if (nbb_cells[i].input_prompt_number == nbb_cell_id) {\n",
       "                        if (nbb_cells[i].get_text() == nbb_unformatted_code) {\n",
       "                             nbb_cells[i].set_text(nbb_formatted_code);\n",
       "                        }\n",
       "                        break;\n",
       "                    }\n",
       "                }\n",
       "            }, 500);\n",
       "            "
      ],
      "text/plain": [
       "<IPython.core.display.Javascript object>"
      ]
     },
     "metadata": {},
     "output_type": "display_data"
    }
   ],
   "source": [
    "trainNotCategory.head()"
   ]
  },
  {
   "cell_type": "code",
   "execution_count": 142,
   "id": "34be3e0e",
   "metadata": {},
   "outputs": [
    {
     "name": "stderr",
     "output_type": "stream",
     "text": [
      "C:\\Users\\niraj\\Anaconda3\\lib\\site-packages\\pandas\\core\\frame.py:4308: SettingWithCopyWarning: \n",
      "A value is trying to be set on a copy of a slice from a DataFrame\n",
      "\n",
      "See the caveats in the documentation: https://pandas.pydata.org/pandas-docs/stable/user_guide/indexing.html#returning-a-view-versus-a-copy\n",
      "  return super().drop(\n"
     ]
    },
    {
     "data": {
      "application/javascript": [
       "\n",
       "            setTimeout(function() {\n",
       "                var nbb_cell_id = 142;\n",
       "                var nbb_unformatted_code = \"trainCategory.drop(['P_emaildomain'], axis=1, inplace=True)\";\n",
       "                var nbb_formatted_code = \"trainCategory.drop([\\\"P_emaildomain\\\"], axis=1, inplace=True)\";\n",
       "                var nbb_cells = Jupyter.notebook.get_cells();\n",
       "                for (var i = 0; i < nbb_cells.length; ++i) {\n",
       "                    if (nbb_cells[i].input_prompt_number == nbb_cell_id) {\n",
       "                        if (nbb_cells[i].get_text() == nbb_unformatted_code) {\n",
       "                             nbb_cells[i].set_text(nbb_formatted_code);\n",
       "                        }\n",
       "                        break;\n",
       "                    }\n",
       "                }\n",
       "            }, 500);\n",
       "            "
      ],
      "text/plain": [
       "<IPython.core.display.Javascript object>"
      ]
     },
     "metadata": {},
     "output_type": "display_data"
    }
   ],
   "source": [
    "trainCategory.drop([\"P_emaildomain\"], axis=1, inplace=True)"
   ]
  },
  {
   "cell_type": "code",
   "execution_count": 144,
   "id": "8aea389e",
   "metadata": {},
   "outputs": [
    {
     "name": "stderr",
     "output_type": "stream",
     "text": [
      "<ipython-input-144-b445a47672e5>:2: SettingWithCopyWarning: \n",
      "A value is trying to be set on a copy of a slice from a DataFrame.\n",
      "Try using .loc[row_indexer,col_indexer] = value instead\n",
      "\n",
      "See the caveats in the documentation: https://pandas.pydata.org/pandas-docs/stable/user_guide/indexing.html#returning-a-view-versus-a-copy\n",
      "  trainCategory[columns] = le.fit_transform(trainCategory[columns])\n"
     ]
    },
    {
     "data": {
      "application/javascript": [
       "\n",
       "            setTimeout(function() {\n",
       "                var nbb_cell_id = 144;\n",
       "                var nbb_unformatted_code = \"for columns in trainCategory.columns:\\n    trainCategory[columns] = le.fit_transform(trainCategory[columns])\";\n",
       "                var nbb_formatted_code = \"for columns in trainCategory.columns:\\n    trainCategory[columns] = le.fit_transform(trainCategory[columns])\";\n",
       "                var nbb_cells = Jupyter.notebook.get_cells();\n",
       "                for (var i = 0; i < nbb_cells.length; ++i) {\n",
       "                    if (nbb_cells[i].input_prompt_number == nbb_cell_id) {\n",
       "                        if (nbb_cells[i].get_text() == nbb_unformatted_code) {\n",
       "                             nbb_cells[i].set_text(nbb_formatted_code);\n",
       "                        }\n",
       "                        break;\n",
       "                    }\n",
       "                }\n",
       "            }, 500);\n",
       "            "
      ],
      "text/plain": [
       "<IPython.core.display.Javascript object>"
      ]
     },
     "metadata": {},
     "output_type": "display_data"
    }
   ],
   "source": [
    "for columns in trainCategory.columns:\n",
    "    trainCategory[columns] = le.fit_transform(trainCategory[columns])"
   ]
  },
  {
   "cell_type": "code",
   "execution_count": 145,
   "id": "a7a8afeb",
   "metadata": {},
   "outputs": [
    {
     "data": {
      "text/html": [
       "<div>\n",
       "<style scoped>\n",
       "    .dataframe tbody tr th:only-of-type {\n",
       "        vertical-align: middle;\n",
       "    }\n",
       "\n",
       "    .dataframe tbody tr th {\n",
       "        vertical-align: top;\n",
       "    }\n",
       "\n",
       "    .dataframe thead th {\n",
       "        text-align: right;\n",
       "    }\n",
       "</style>\n",
       "<table border=\"1\" class=\"dataframe\">\n",
       "  <thead>\n",
       "    <tr style=\"text-align: right;\">\n",
       "      <th></th>\n",
       "      <th>ProductCD</th>\n",
       "      <th>card4</th>\n",
       "      <th>card6</th>\n",
       "      <th>M1</th>\n",
       "      <th>M2</th>\n",
       "      <th>M3</th>\n",
       "      <th>M4</th>\n",
       "      <th>M6</th>\n",
       "      <th>M7</th>\n",
       "      <th>M8</th>\n",
       "      <th>M9</th>\n",
       "    </tr>\n",
       "  </thead>\n",
       "  <tbody>\n",
       "    <tr>\n",
       "      <th>0</th>\n",
       "      <td>4</td>\n",
       "      <td>2</td>\n",
       "      <td>2</td>\n",
       "      <td>1</td>\n",
       "      <td>1</td>\n",
       "      <td>1</td>\n",
       "      <td>0</td>\n",
       "      <td>1</td>\n",
       "      <td>0</td>\n",
       "      <td>0</td>\n",
       "      <td>0</td>\n",
       "    </tr>\n",
       "    <tr>\n",
       "      <th>1</th>\n",
       "      <td>4</td>\n",
       "      <td>3</td>\n",
       "      <td>2</td>\n",
       "      <td>0</td>\n",
       "      <td>0</td>\n",
       "      <td>0</td>\n",
       "      <td>0</td>\n",
       "      <td>1</td>\n",
       "      <td>0</td>\n",
       "      <td>0</td>\n",
       "      <td>0</td>\n",
       "    </tr>\n",
       "    <tr>\n",
       "      <th>2</th>\n",
       "      <td>4</td>\n",
       "      <td>4</td>\n",
       "      <td>3</td>\n",
       "      <td>1</td>\n",
       "      <td>1</td>\n",
       "      <td>1</td>\n",
       "      <td>0</td>\n",
       "      <td>0</td>\n",
       "      <td>0</td>\n",
       "      <td>0</td>\n",
       "      <td>0</td>\n",
       "    </tr>\n",
       "    <tr>\n",
       "      <th>3</th>\n",
       "      <td>4</td>\n",
       "      <td>3</td>\n",
       "      <td>3</td>\n",
       "      <td>0</td>\n",
       "      <td>0</td>\n",
       "      <td>0</td>\n",
       "      <td>0</td>\n",
       "      <td>0</td>\n",
       "      <td>0</td>\n",
       "      <td>0</td>\n",
       "      <td>0</td>\n",
       "    </tr>\n",
       "    <tr>\n",
       "      <th>4</th>\n",
       "      <td>1</td>\n",
       "      <td>3</td>\n",
       "      <td>2</td>\n",
       "      <td>0</td>\n",
       "      <td>0</td>\n",
       "      <td>0</td>\n",
       "      <td>0</td>\n",
       "      <td>0</td>\n",
       "      <td>0</td>\n",
       "      <td>0</td>\n",
       "      <td>0</td>\n",
       "    </tr>\n",
       "  </tbody>\n",
       "</table>\n",
       "</div>"
      ],
      "text/plain": [
       "   ProductCD  card4  card6  M1  M2  M3  M4  M6  M7  M8  M9\n",
       "0          4      2      2   1   1   1   0   1   0   0   0\n",
       "1          4      3      2   0   0   0   0   1   0   0   0\n",
       "2          4      4      3   1   1   1   0   0   0   0   0\n",
       "3          4      3      3   0   0   0   0   0   0   0   0\n",
       "4          1      3      2   0   0   0   0   0   0   0   0"
      ]
     },
     "execution_count": 145,
     "metadata": {},
     "output_type": "execute_result"
    },
    {
     "data": {
      "application/javascript": [
       "\n",
       "            setTimeout(function() {\n",
       "                var nbb_cell_id = 145;\n",
       "                var nbb_unformatted_code = \"trainCategory.head()\";\n",
       "                var nbb_formatted_code = \"trainCategory.head()\";\n",
       "                var nbb_cells = Jupyter.notebook.get_cells();\n",
       "                for (var i = 0; i < nbb_cells.length; ++i) {\n",
       "                    if (nbb_cells[i].input_prompt_number == nbb_cell_id) {\n",
       "                        if (nbb_cells[i].get_text() == nbb_unformatted_code) {\n",
       "                             nbb_cells[i].set_text(nbb_formatted_code);\n",
       "                        }\n",
       "                        break;\n",
       "                    }\n",
       "                }\n",
       "            }, 500);\n",
       "            "
      ],
      "text/plain": [
       "<IPython.core.display.Javascript object>"
      ]
     },
     "metadata": {},
     "output_type": "display_data"
    }
   ],
   "source": [
    "trainCategory.head()"
   ]
  },
  {
   "cell_type": "code",
   "execution_count": 146,
   "id": "a3e16898",
   "metadata": {},
   "outputs": [
    {
     "data": {
      "application/javascript": [
       "\n",
       "            setTimeout(function() {\n",
       "                var nbb_cell_id = 146;\n",
       "                var nbb_unformatted_code = \"trainDf = trainNotCategory.merge(\\n    trainCategory, left_index=True, right_index=True\\n)\";\n",
       "                var nbb_formatted_code = \"trainDf = trainNotCategory.merge(trainCategory, left_index=True, right_index=True)\";\n",
       "                var nbb_cells = Jupyter.notebook.get_cells();\n",
       "                for (var i = 0; i < nbb_cells.length; ++i) {\n",
       "                    if (nbb_cells[i].input_prompt_number == nbb_cell_id) {\n",
       "                        if (nbb_cells[i].get_text() == nbb_unformatted_code) {\n",
       "                             nbb_cells[i].set_text(nbb_formatted_code);\n",
       "                        }\n",
       "                        break;\n",
       "                    }\n",
       "                }\n",
       "            }, 500);\n",
       "            "
      ],
      "text/plain": [
       "<IPython.core.display.Javascript object>"
      ]
     },
     "metadata": {},
     "output_type": "display_data"
    }
   ],
   "source": [
    "trainDf = trainNotCategory.merge(trainCategory, left_index=True, right_index=True)"
   ]
  },
  {
   "cell_type": "code",
   "execution_count": 147,
   "id": "a4b1a250",
   "metadata": {},
   "outputs": [
    {
     "data": {
      "text/html": [
       "<div>\n",
       "<style scoped>\n",
       "    .dataframe tbody tr th:only-of-type {\n",
       "        vertical-align: middle;\n",
       "    }\n",
       "\n",
       "    .dataframe tbody tr th {\n",
       "        vertical-align: top;\n",
       "    }\n",
       "\n",
       "    .dataframe thead th {\n",
       "        text-align: right;\n",
       "    }\n",
       "</style>\n",
       "<table border=\"1\" class=\"dataframe\">\n",
       "  <thead>\n",
       "    <tr style=\"text-align: right;\">\n",
       "      <th></th>\n",
       "      <th>isFraud</th>\n",
       "      <th>TransactionAmt</th>\n",
       "      <th>card1</th>\n",
       "      <th>card2</th>\n",
       "      <th>card3</th>\n",
       "      <th>card5</th>\n",
       "      <th>addr1</th>\n",
       "      <th>addr2</th>\n",
       "      <th>dist1</th>\n",
       "      <th>C1</th>\n",
       "      <th>...</th>\n",
       "      <th>card4</th>\n",
       "      <th>card6</th>\n",
       "      <th>M1</th>\n",
       "      <th>M2</th>\n",
       "      <th>M3</th>\n",
       "      <th>M4</th>\n",
       "      <th>M6</th>\n",
       "      <th>M7</th>\n",
       "      <th>M8</th>\n",
       "      <th>M9</th>\n",
       "    </tr>\n",
       "  </thead>\n",
       "  <tbody>\n",
       "    <tr>\n",
       "      <th>0</th>\n",
       "      <td>0</td>\n",
       "      <td>68.5</td>\n",
       "      <td>13926</td>\n",
       "      <td>0.0</td>\n",
       "      <td>150.0</td>\n",
       "      <td>142.0</td>\n",
       "      <td>315.0</td>\n",
       "      <td>87.0</td>\n",
       "      <td>19.0</td>\n",
       "      <td>1.0</td>\n",
       "      <td>...</td>\n",
       "      <td>2</td>\n",
       "      <td>2</td>\n",
       "      <td>1</td>\n",
       "      <td>1</td>\n",
       "      <td>1</td>\n",
       "      <td>0</td>\n",
       "      <td>1</td>\n",
       "      <td>0</td>\n",
       "      <td>0</td>\n",
       "      <td>0</td>\n",
       "    </tr>\n",
       "    <tr>\n",
       "      <th>1</th>\n",
       "      <td>0</td>\n",
       "      <td>29.0</td>\n",
       "      <td>2755</td>\n",
       "      <td>404.0</td>\n",
       "      <td>150.0</td>\n",
       "      <td>102.0</td>\n",
       "      <td>325.0</td>\n",
       "      <td>87.0</td>\n",
       "      <td>0.0</td>\n",
       "      <td>1.0</td>\n",
       "      <td>...</td>\n",
       "      <td>3</td>\n",
       "      <td>2</td>\n",
       "      <td>0</td>\n",
       "      <td>0</td>\n",
       "      <td>0</td>\n",
       "      <td>0</td>\n",
       "      <td>1</td>\n",
       "      <td>0</td>\n",
       "      <td>0</td>\n",
       "      <td>0</td>\n",
       "    </tr>\n",
       "    <tr>\n",
       "      <th>2</th>\n",
       "      <td>0</td>\n",
       "      <td>59.0</td>\n",
       "      <td>4663</td>\n",
       "      <td>490.0</td>\n",
       "      <td>150.0</td>\n",
       "      <td>166.0</td>\n",
       "      <td>330.0</td>\n",
       "      <td>87.0</td>\n",
       "      <td>287.0</td>\n",
       "      <td>1.0</td>\n",
       "      <td>...</td>\n",
       "      <td>4</td>\n",
       "      <td>3</td>\n",
       "      <td>1</td>\n",
       "      <td>1</td>\n",
       "      <td>1</td>\n",
       "      <td>0</td>\n",
       "      <td>0</td>\n",
       "      <td>0</td>\n",
       "      <td>0</td>\n",
       "      <td>0</td>\n",
       "    </tr>\n",
       "    <tr>\n",
       "      <th>3</th>\n",
       "      <td>0</td>\n",
       "      <td>50.0</td>\n",
       "      <td>18132</td>\n",
       "      <td>567.0</td>\n",
       "      <td>150.0</td>\n",
       "      <td>117.0</td>\n",
       "      <td>476.0</td>\n",
       "      <td>87.0</td>\n",
       "      <td>0.0</td>\n",
       "      <td>2.0</td>\n",
       "      <td>...</td>\n",
       "      <td>3</td>\n",
       "      <td>3</td>\n",
       "      <td>0</td>\n",
       "      <td>0</td>\n",
       "      <td>0</td>\n",
       "      <td>0</td>\n",
       "      <td>0</td>\n",
       "      <td>0</td>\n",
       "      <td>0</td>\n",
       "      <td>0</td>\n",
       "    </tr>\n",
       "    <tr>\n",
       "      <th>4</th>\n",
       "      <td>0</td>\n",
       "      <td>50.0</td>\n",
       "      <td>4497</td>\n",
       "      <td>514.0</td>\n",
       "      <td>150.0</td>\n",
       "      <td>102.0</td>\n",
       "      <td>420.0</td>\n",
       "      <td>87.0</td>\n",
       "      <td>0.0</td>\n",
       "      <td>1.0</td>\n",
       "      <td>...</td>\n",
       "      <td>3</td>\n",
       "      <td>2</td>\n",
       "      <td>0</td>\n",
       "      <td>0</td>\n",
       "      <td>0</td>\n",
       "      <td>0</td>\n",
       "      <td>0</td>\n",
       "      <td>0</td>\n",
       "      <td>0</td>\n",
       "      <td>0</td>\n",
       "    </tr>\n",
       "  </tbody>\n",
       "</table>\n",
       "<p>5 rows × 263 columns</p>\n",
       "</div>"
      ],
      "text/plain": [
       "   isFraud  TransactionAmt  card1  card2  card3  card5  addr1  addr2  dist1  \\\n",
       "0        0            68.5  13926    0.0  150.0  142.0  315.0   87.0   19.0   \n",
       "1        0            29.0   2755  404.0  150.0  102.0  325.0   87.0    0.0   \n",
       "2        0            59.0   4663  490.0  150.0  166.0  330.0   87.0  287.0   \n",
       "3        0            50.0  18132  567.0  150.0  117.0  476.0   87.0    0.0   \n",
       "4        0            50.0   4497  514.0  150.0  102.0  420.0   87.0    0.0   \n",
       "\n",
       "    C1  ...  card4  card6  M1  M2  M3  M4  M6  M7  M8  M9  \n",
       "0  1.0  ...      2      2   1   1   1   0   1   0   0   0  \n",
       "1  1.0  ...      3      2   0   0   0   0   1   0   0   0  \n",
       "2  1.0  ...      4      3   1   1   1   0   0   0   0   0  \n",
       "3  2.0  ...      3      3   0   0   0   0   0   0   0   0  \n",
       "4  1.0  ...      3      2   0   0   0   0   0   0   0   0  \n",
       "\n",
       "[5 rows x 263 columns]"
      ]
     },
     "execution_count": 147,
     "metadata": {},
     "output_type": "execute_result"
    },
    {
     "data": {
      "application/javascript": [
       "\n",
       "            setTimeout(function() {\n",
       "                var nbb_cell_id = 147;\n",
       "                var nbb_unformatted_code = \"trainDf.head()\";\n",
       "                var nbb_formatted_code = \"trainDf.head()\";\n",
       "                var nbb_cells = Jupyter.notebook.get_cells();\n",
       "                for (var i = 0; i < nbb_cells.length; ++i) {\n",
       "                    if (nbb_cells[i].input_prompt_number == nbb_cell_id) {\n",
       "                        if (nbb_cells[i].get_text() == nbb_unformatted_code) {\n",
       "                             nbb_cells[i].set_text(nbb_formatted_code);\n",
       "                        }\n",
       "                        break;\n",
       "                    }\n",
       "                }\n",
       "            }, 500);\n",
       "            "
      ],
      "text/plain": [
       "<IPython.core.display.Javascript object>"
      ]
     },
     "metadata": {},
     "output_type": "display_data"
    }
   ],
   "source": [
    "trainDf.head()"
   ]
  },
  {
   "cell_type": "markdown",
   "id": "6f2a0c47",
   "metadata": {},
   "source": [
    "# Creating Test Data"
   ]
  },
  {
   "cell_type": "code",
   "execution_count": 207,
   "id": "62a767d5",
   "metadata": {},
   "outputs": [
    {
     "data": {
      "text/html": [
       "<div>\n",
       "<style scoped>\n",
       "    .dataframe tbody tr th:only-of-type {\n",
       "        vertical-align: middle;\n",
       "    }\n",
       "\n",
       "    .dataframe tbody tr th {\n",
       "        vertical-align: top;\n",
       "    }\n",
       "\n",
       "    .dataframe thead th {\n",
       "        text-align: right;\n",
       "    }\n",
       "</style>\n",
       "<table border=\"1\" class=\"dataframe\">\n",
       "  <thead>\n",
       "    <tr style=\"text-align: right;\">\n",
       "      <th></th>\n",
       "      <th>ProductCD</th>\n",
       "      <th>card4</th>\n",
       "      <th>card6</th>\n",
       "      <th>M1</th>\n",
       "      <th>M2</th>\n",
       "      <th>M3</th>\n",
       "      <th>M4</th>\n",
       "      <th>M6</th>\n",
       "      <th>M7</th>\n",
       "      <th>M8</th>\n",
       "      <th>M9</th>\n",
       "    </tr>\n",
       "  </thead>\n",
       "  <tbody>\n",
       "    <tr>\n",
       "      <th>0</th>\n",
       "      <td>W</td>\n",
       "      <td>visa</td>\n",
       "      <td>debit</td>\n",
       "      <td>T</td>\n",
       "      <td>T</td>\n",
       "      <td>M</td>\n",
       "      <td>M</td>\n",
       "      <td>M</td>\n",
       "      <td>T</td>\n",
       "      <td>T</td>\n",
       "      <td>T</td>\n",
       "    </tr>\n",
       "    <tr>\n",
       "      <th>1</th>\n",
       "      <td>W</td>\n",
       "      <td>visa</td>\n",
       "      <td>debit</td>\n",
       "      <td>T</td>\n",
       "      <td>M</td>\n",
       "      <td>M</td>\n",
       "      <td>M</td>\n",
       "      <td>M</td>\n",
       "      <td>M</td>\n",
       "      <td>M</td>\n",
       "      <td>M</td>\n",
       "    </tr>\n",
       "    <tr>\n",
       "      <th>2</th>\n",
       "      <td>W</td>\n",
       "      <td>visa</td>\n",
       "      <td>debit</td>\n",
       "      <td>T</td>\n",
       "      <td>T</td>\n",
       "      <td>M</td>\n",
       "      <td>M</td>\n",
       "      <td>M</td>\n",
       "      <td>M</td>\n",
       "      <td>M</td>\n",
       "      <td>M</td>\n",
       "    </tr>\n",
       "    <tr>\n",
       "      <th>3</th>\n",
       "      <td>W</td>\n",
       "      <td>visa</td>\n",
       "      <td>debit</td>\n",
       "      <td>T</td>\n",
       "      <td>T</td>\n",
       "      <td>T</td>\n",
       "      <td>M</td>\n",
       "      <td>T</td>\n",
       "      <td>M</td>\n",
       "      <td>M</td>\n",
       "      <td>M</td>\n",
       "    </tr>\n",
       "    <tr>\n",
       "      <th>4</th>\n",
       "      <td>W</td>\n",
       "      <td>mastercard</td>\n",
       "      <td>debit</td>\n",
       "      <td>T</td>\n",
       "      <td>T</td>\n",
       "      <td>T</td>\n",
       "      <td>M</td>\n",
       "      <td>M</td>\n",
       "      <td>M</td>\n",
       "      <td>T</td>\n",
       "      <td>T</td>\n",
       "    </tr>\n",
       "  </tbody>\n",
       "</table>\n",
       "</div>"
      ],
      "text/plain": [
       "  ProductCD       card4  card6 M1 M2 M3 M4 M6 M7 M8 M9\n",
       "0         W        visa  debit  T  T  M  M  M  T  T  T\n",
       "1         W        visa  debit  T  M  M  M  M  M  M  M\n",
       "2         W        visa  debit  T  T  M  M  M  M  M  M\n",
       "3         W        visa  debit  T  T  T  M  T  M  M  M\n",
       "4         W  mastercard  debit  T  T  T  M  M  M  T  T"
      ]
     },
     "execution_count": 207,
     "metadata": {},
     "output_type": "execute_result"
    },
    {
     "data": {
      "application/javascript": [
       "\n",
       "            setTimeout(function() {\n",
       "                var nbb_cell_id = 207;\n",
       "                var nbb_unformatted_code = \"testCategory.head()\";\n",
       "                var nbb_formatted_code = \"testCategory.head()\";\n",
       "                var nbb_cells = Jupyter.notebook.get_cells();\n",
       "                for (var i = 0; i < nbb_cells.length; ++i) {\n",
       "                    if (nbb_cells[i].input_prompt_number == nbb_cell_id) {\n",
       "                        if (nbb_cells[i].get_text() == nbb_unformatted_code) {\n",
       "                             nbb_cells[i].set_text(nbb_formatted_code);\n",
       "                        }\n",
       "                        break;\n",
       "                    }\n",
       "                }\n",
       "            }, 500);\n",
       "            "
      ],
      "text/plain": [
       "<IPython.core.display.Javascript object>"
      ]
     },
     "metadata": {},
     "output_type": "display_data"
    }
   ],
   "source": [
    "testCategory.head()"
   ]
  },
  {
   "cell_type": "code",
   "execution_count": 203,
   "id": "5d778eef",
   "metadata": {},
   "outputs": [
    {
     "name": "stderr",
     "output_type": "stream",
     "text": [
      "C:\\Users\\niraj\\Anaconda3\\lib\\site-packages\\pandas\\core\\frame.py:4308: SettingWithCopyWarning: \n",
      "A value is trying to be set on a copy of a slice from a DataFrame\n",
      "\n",
      "See the caveats in the documentation: https://pandas.pydata.org/pandas-docs/stable/user_guide/indexing.html#returning-a-view-versus-a-copy\n",
      "  return super().drop(\n"
     ]
    },
    {
     "data": {
      "application/javascript": [
       "\n",
       "            setTimeout(function() {\n",
       "                var nbb_cell_id = 203;\n",
       "                var nbb_unformatted_code = \"testCategory.drop(\\\"P_emaildomain\\\", axis=1, inplace=True)\";\n",
       "                var nbb_formatted_code = \"testCategory.drop(\\\"P_emaildomain\\\", axis=1, inplace=True)\";\n",
       "                var nbb_cells = Jupyter.notebook.get_cells();\n",
       "                for (var i = 0; i < nbb_cells.length; ++i) {\n",
       "                    if (nbb_cells[i].input_prompt_number == nbb_cell_id) {\n",
       "                        if (nbb_cells[i].get_text() == nbb_unformatted_code) {\n",
       "                             nbb_cells[i].set_text(nbb_formatted_code);\n",
       "                        }\n",
       "                        break;\n",
       "                    }\n",
       "                }\n",
       "            }, 500);\n",
       "            "
      ],
      "text/plain": [
       "<IPython.core.display.Javascript object>"
      ]
     },
     "metadata": {},
     "output_type": "display_data"
    }
   ],
   "source": [
    "testCategory.drop(\"P_emaildomain\", axis=1, inplace=True)"
   ]
  },
  {
   "cell_type": "code",
   "execution_count": 204,
   "id": "b0dc1f31",
   "metadata": {},
   "outputs": [
    {
     "name": "stderr",
     "output_type": "stream",
     "text": [
      "<ipython-input-204-4ee8c5ba8479>:1: SettingWithCopyWarning: \n",
      "A value is trying to be set on a copy of a slice from a DataFrame.\n",
      "Try using .loc[row_indexer,col_indexer] = value instead\n",
      "\n",
      "See the caveats in the documentation: https://pandas.pydata.org/pandas-docs/stable/user_guide/indexing.html#returning-a-view-versus-a-copy\n",
      "  testCategory[\"M1\"] = np.where(testCategory[\"M1\"] == \"T\", testCategory[\"M1\"], \"M\")\n",
      "<ipython-input-204-4ee8c5ba8479>:2: SettingWithCopyWarning: \n",
      "A value is trying to be set on a copy of a slice from a DataFrame.\n",
      "Try using .loc[row_indexer,col_indexer] = value instead\n",
      "\n",
      "See the caveats in the documentation: https://pandas.pydata.org/pandas-docs/stable/user_guide/indexing.html#returning-a-view-versus-a-copy\n",
      "  testCategory[\"M2\"] = np.where(testCategory[\"M2\"] == \"T\", testCategory[\"M2\"], \"M\")\n",
      "<ipython-input-204-4ee8c5ba8479>:3: SettingWithCopyWarning: \n",
      "A value is trying to be set on a copy of a slice from a DataFrame.\n",
      "Try using .loc[row_indexer,col_indexer] = value instead\n",
      "\n",
      "See the caveats in the documentation: https://pandas.pydata.org/pandas-docs/stable/user_guide/indexing.html#returning-a-view-versus-a-copy\n",
      "  testCategory[\"M3\"] = np.where(testCategory[\"M3\"] == \"T\", testCategory[\"M3\"], \"M\")\n",
      "<ipython-input-204-4ee8c5ba8479>:4: SettingWithCopyWarning: \n",
      "A value is trying to be set on a copy of a slice from a DataFrame.\n",
      "Try using .loc[row_indexer,col_indexer] = value instead\n",
      "\n",
      "See the caveats in the documentation: https://pandas.pydata.org/pandas-docs/stable/user_guide/indexing.html#returning-a-view-versus-a-copy\n",
      "  testCategory[\"M4\"] = np.where(testCategory[\"M4\"] == \"T\", testCategory[\"M4\"], \"M\")\n",
      "<ipython-input-204-4ee8c5ba8479>:5: SettingWithCopyWarning: \n",
      "A value is trying to be set on a copy of a slice from a DataFrame.\n",
      "Try using .loc[row_indexer,col_indexer] = value instead\n",
      "\n",
      "See the caveats in the documentation: https://pandas.pydata.org/pandas-docs/stable/user_guide/indexing.html#returning-a-view-versus-a-copy\n",
      "  testCategory[\"M6\"] = np.where(testCategory[\"M6\"] == \"T\", testCategory[\"M6\"], \"M\")\n",
      "<ipython-input-204-4ee8c5ba8479>:6: SettingWithCopyWarning: \n",
      "A value is trying to be set on a copy of a slice from a DataFrame.\n",
      "Try using .loc[row_indexer,col_indexer] = value instead\n",
      "\n",
      "See the caveats in the documentation: https://pandas.pydata.org/pandas-docs/stable/user_guide/indexing.html#returning-a-view-versus-a-copy\n",
      "  testCategory[\"M7\"] = np.where(testCategory[\"M7\"] == \"T\", testCategory[\"M7\"], \"M\")\n",
      "<ipython-input-204-4ee8c5ba8479>:7: SettingWithCopyWarning: \n",
      "A value is trying to be set on a copy of a slice from a DataFrame.\n",
      "Try using .loc[row_indexer,col_indexer] = value instead\n",
      "\n",
      "See the caveats in the documentation: https://pandas.pydata.org/pandas-docs/stable/user_guide/indexing.html#returning-a-view-versus-a-copy\n",
      "  testCategory[\"M8\"] = np.where(testCategory[\"M8\"] == \"T\", testCategory[\"M8\"], \"M\")\n",
      "<ipython-input-204-4ee8c5ba8479>:8: SettingWithCopyWarning: \n",
      "A value is trying to be set on a copy of a slice from a DataFrame.\n",
      "Try using .loc[row_indexer,col_indexer] = value instead\n",
      "\n",
      "See the caveats in the documentation: https://pandas.pydata.org/pandas-docs/stable/user_guide/indexing.html#returning-a-view-versus-a-copy\n",
      "  testCategory[\"M9\"] = np.where(testCategory[\"M9\"] == \"T\", testCategory[\"M9\"], \"M\")\n"
     ]
    },
    {
     "data": {
      "application/javascript": [
       "\n",
       "            setTimeout(function() {\n",
       "                var nbb_cell_id = 204;\n",
       "                var nbb_unformatted_code = \"testCategory[\\\"M1\\\"] = np.where(testCategory[\\\"M1\\\"] == \\\"T\\\", testCategory[\\\"M1\\\"], \\\"M\\\")\\ntestCategory[\\\"M2\\\"] = np.where(testCategory[\\\"M2\\\"] == \\\"T\\\", testCategory[\\\"M2\\\"], \\\"M\\\")\\ntestCategory[\\\"M3\\\"] = np.where(testCategory[\\\"M3\\\"] == \\\"T\\\", testCategory[\\\"M3\\\"], \\\"M\\\")\\ntestCategory[\\\"M4\\\"] = np.where(testCategory[\\\"M4\\\"] == \\\"T\\\", testCategory[\\\"M4\\\"], \\\"M\\\")\\ntestCategory[\\\"M6\\\"] = np.where(testCategory[\\\"M6\\\"] == \\\"T\\\", testCategory[\\\"M6\\\"], \\\"M\\\")\\ntestCategory[\\\"M7\\\"] = np.where(testCategory[\\\"M7\\\"] == \\\"T\\\", testCategory[\\\"M7\\\"], \\\"M\\\")\\ntestCategory[\\\"M8\\\"] = np.where(testCategory[\\\"M8\\\"] == \\\"T\\\", testCategory[\\\"M8\\\"], \\\"M\\\")\\ntestCategory[\\\"M9\\\"] = np.where(testCategory[\\\"M9\\\"] == \\\"T\\\", testCategory[\\\"M9\\\"], \\\"M\\\")\";\n",
       "                var nbb_formatted_code = \"testCategory[\\\"M1\\\"] = np.where(testCategory[\\\"M1\\\"] == \\\"T\\\", testCategory[\\\"M1\\\"], \\\"M\\\")\\ntestCategory[\\\"M2\\\"] = np.where(testCategory[\\\"M2\\\"] == \\\"T\\\", testCategory[\\\"M2\\\"], \\\"M\\\")\\ntestCategory[\\\"M3\\\"] = np.where(testCategory[\\\"M3\\\"] == \\\"T\\\", testCategory[\\\"M3\\\"], \\\"M\\\")\\ntestCategory[\\\"M4\\\"] = np.where(testCategory[\\\"M4\\\"] == \\\"T\\\", testCategory[\\\"M4\\\"], \\\"M\\\")\\ntestCategory[\\\"M6\\\"] = np.where(testCategory[\\\"M6\\\"] == \\\"T\\\", testCategory[\\\"M6\\\"], \\\"M\\\")\\ntestCategory[\\\"M7\\\"] = np.where(testCategory[\\\"M7\\\"] == \\\"T\\\", testCategory[\\\"M7\\\"], \\\"M\\\")\\ntestCategory[\\\"M8\\\"] = np.where(testCategory[\\\"M8\\\"] == \\\"T\\\", testCategory[\\\"M8\\\"], \\\"M\\\")\\ntestCategory[\\\"M9\\\"] = np.where(testCategory[\\\"M9\\\"] == \\\"T\\\", testCategory[\\\"M9\\\"], \\\"M\\\")\";\n",
       "                var nbb_cells = Jupyter.notebook.get_cells();\n",
       "                for (var i = 0; i < nbb_cells.length; ++i) {\n",
       "                    if (nbb_cells[i].input_prompt_number == nbb_cell_id) {\n",
       "                        if (nbb_cells[i].get_text() == nbb_unformatted_code) {\n",
       "                             nbb_cells[i].set_text(nbb_formatted_code);\n",
       "                        }\n",
       "                        break;\n",
       "                    }\n",
       "                }\n",
       "            }, 500);\n",
       "            "
      ],
      "text/plain": [
       "<IPython.core.display.Javascript object>"
      ]
     },
     "metadata": {},
     "output_type": "display_data"
    }
   ],
   "source": [
    "testCategory[\"M1\"] = np.where(testCategory[\"M1\"] == \"T\", testCategory[\"M1\"], \"M\")\n",
    "testCategory[\"M2\"] = np.where(testCategory[\"M2\"] == \"T\", testCategory[\"M2\"], \"M\")\n",
    "testCategory[\"M3\"] = np.where(testCategory[\"M3\"] == \"T\", testCategory[\"M3\"], \"M\")\n",
    "testCategory[\"M4\"] = np.where(testCategory[\"M4\"] == \"T\", testCategory[\"M4\"], \"M\")\n",
    "testCategory[\"M6\"] = np.where(testCategory[\"M6\"] == \"T\", testCategory[\"M6\"], \"M\")\n",
    "testCategory[\"M7\"] = np.where(testCategory[\"M7\"] == \"T\", testCategory[\"M7\"], \"M\")\n",
    "testCategory[\"M8\"] = np.where(testCategory[\"M8\"] == \"T\", testCategory[\"M8\"], \"M\")\n",
    "testCategory[\"M9\"] = np.where(testCategory[\"M9\"] == \"T\", testCategory[\"M9\"], \"M\")"
   ]
  },
  {
   "cell_type": "code",
   "execution_count": 208,
   "id": "1fc1638e",
   "metadata": {},
   "outputs": [
    {
     "name": "stderr",
     "output_type": "stream",
     "text": [
      "<ipython-input-208-8f7eaf1634af>:1: SettingWithCopyWarning: \n",
      "A value is trying to be set on a copy of a slice from a DataFrame.\n",
      "Try using .loc[row_indexer,col_indexer] = value instead\n",
      "\n",
      "See the caveats in the documentation: https://pandas.pydata.org/pandas-docs/stable/user_guide/indexing.html#returning-a-view-versus-a-copy\n",
      "  testCategory[\"card4\"] = np.where(\n",
      "<ipython-input-208-8f7eaf1634af>:5: SettingWithCopyWarning: \n",
      "A value is trying to be set on a copy of a slice from a DataFrame.\n",
      "Try using .loc[row_indexer,col_indexer] = value instead\n",
      "\n",
      "See the caveats in the documentation: https://pandas.pydata.org/pandas-docs/stable/user_guide/indexing.html#returning-a-view-versus-a-copy\n",
      "  testCategory[\"card6\"] = np.where(\n"
     ]
    },
    {
     "data": {
      "application/javascript": [
       "\n",
       "            setTimeout(function() {\n",
       "                var nbb_cell_id = 208;\n",
       "                var nbb_unformatted_code = \"testCategory[\\\"card4\\\"] = np.where(\\n    testCategory[\\\"card4\\\"].isna(), \\\"M\\\", testCategory[\\\"card4\\\"]\\n)\\n\\ntestCategory[\\\"card6\\\"] = np.where(\\n    testCategory[\\\"card6\\\"].isna(), \\\"M\\\", testCategory[\\\"card6\\\"]\\n)\";\n",
       "                var nbb_formatted_code = \"testCategory[\\\"card4\\\"] = np.where(\\n    testCategory[\\\"card4\\\"].isna(), \\\"M\\\", testCategory[\\\"card4\\\"]\\n)\\n\\ntestCategory[\\\"card6\\\"] = np.where(\\n    testCategory[\\\"card6\\\"].isna(), \\\"M\\\", testCategory[\\\"card6\\\"]\\n)\";\n",
       "                var nbb_cells = Jupyter.notebook.get_cells();\n",
       "                for (var i = 0; i < nbb_cells.length; ++i) {\n",
       "                    if (nbb_cells[i].input_prompt_number == nbb_cell_id) {\n",
       "                        if (nbb_cells[i].get_text() == nbb_unformatted_code) {\n",
       "                             nbb_cells[i].set_text(nbb_formatted_code);\n",
       "                        }\n",
       "                        break;\n",
       "                    }\n",
       "                }\n",
       "            }, 500);\n",
       "            "
      ],
      "text/plain": [
       "<IPython.core.display.Javascript object>"
      ]
     },
     "metadata": {},
     "output_type": "display_data"
    }
   ],
   "source": [
    "testCategory[\"card4\"] = np.where(\n",
    "    testCategory[\"card4\"].isna(), \"M\", testCategory[\"card4\"]\n",
    ")\n",
    "\n",
    "testCategory[\"card6\"] = np.where(\n",
    "    testCategory[\"card6\"].isna(), \"M\", testCategory[\"card6\"]\n",
    ")"
   ]
  },
  {
   "cell_type": "code",
   "execution_count": 209,
   "id": "899ceb54",
   "metadata": {},
   "outputs": [
    {
     "data": {
      "text/plain": [
       "ProductCD    0\n",
       "card4        0\n",
       "card6        0\n",
       "M1           0\n",
       "M2           0\n",
       "M3           0\n",
       "M4           0\n",
       "M6           0\n",
       "M7           0\n",
       "M8           0\n",
       "M9           0\n",
       "dtype: int64"
      ]
     },
     "execution_count": 209,
     "metadata": {},
     "output_type": "execute_result"
    },
    {
     "data": {
      "application/javascript": [
       "\n",
       "            setTimeout(function() {\n",
       "                var nbb_cell_id = 209;\n",
       "                var nbb_unformatted_code = \"testCategory.isna().sum()\";\n",
       "                var nbb_formatted_code = \"testCategory.isna().sum()\";\n",
       "                var nbb_cells = Jupyter.notebook.get_cells();\n",
       "                for (var i = 0; i < nbb_cells.length; ++i) {\n",
       "                    if (nbb_cells[i].input_prompt_number == nbb_cell_id) {\n",
       "                        if (nbb_cells[i].get_text() == nbb_unformatted_code) {\n",
       "                             nbb_cells[i].set_text(nbb_formatted_code);\n",
       "                        }\n",
       "                        break;\n",
       "                    }\n",
       "                }\n",
       "            }, 500);\n",
       "            "
      ],
      "text/plain": [
       "<IPython.core.display.Javascript object>"
      ]
     },
     "metadata": {},
     "output_type": "display_data"
    }
   ],
   "source": [
    "testCategory.isna().sum()"
   ]
  },
  {
   "cell_type": "code",
   "execution_count": 210,
   "id": "0860e4fa",
   "metadata": {},
   "outputs": [
    {
     "name": "stderr",
     "output_type": "stream",
     "text": [
      "<ipython-input-210-9748b27717cd>:2: SettingWithCopyWarning: \n",
      "A value is trying to be set on a copy of a slice from a DataFrame.\n",
      "Try using .loc[row_indexer,col_indexer] = value instead\n",
      "\n",
      "See the caveats in the documentation: https://pandas.pydata.org/pandas-docs/stable/user_guide/indexing.html#returning-a-view-versus-a-copy\n",
      "  testCategory[columns] = le.fit_transform(testCategory[columns])\n"
     ]
    },
    {
     "data": {
      "application/javascript": [
       "\n",
       "            setTimeout(function() {\n",
       "                var nbb_cell_id = 210;\n",
       "                var nbb_unformatted_code = \"for columns in testCategory.columns:\\n    testCategory[columns] = le.fit_transform(testCategory[columns])\";\n",
       "                var nbb_formatted_code = \"for columns in testCategory.columns:\\n    testCategory[columns] = le.fit_transform(testCategory[columns])\";\n",
       "                var nbb_cells = Jupyter.notebook.get_cells();\n",
       "                for (var i = 0; i < nbb_cells.length; ++i) {\n",
       "                    if (nbb_cells[i].input_prompt_number == nbb_cell_id) {\n",
       "                        if (nbb_cells[i].get_text() == nbb_unformatted_code) {\n",
       "                             nbb_cells[i].set_text(nbb_formatted_code);\n",
       "                        }\n",
       "                        break;\n",
       "                    }\n",
       "                }\n",
       "            }, 500);\n",
       "            "
      ],
      "text/plain": [
       "<IPython.core.display.Javascript object>"
      ]
     },
     "metadata": {},
     "output_type": "display_data"
    }
   ],
   "source": [
    "for columns in testCategory.columns:\n",
    "    testCategory[columns] = le.fit_transform(testCategory[columns])"
   ]
  },
  {
   "cell_type": "code",
   "execution_count": 166,
   "id": "fbfb4c24",
   "metadata": {},
   "outputs": [
    {
     "data": {
      "text/html": [
       "<div>\n",
       "<style scoped>\n",
       "    .dataframe tbody tr th:only-of-type {\n",
       "        vertical-align: middle;\n",
       "    }\n",
       "\n",
       "    .dataframe tbody tr th {\n",
       "        vertical-align: top;\n",
       "    }\n",
       "\n",
       "    .dataframe thead th {\n",
       "        text-align: right;\n",
       "    }\n",
       "</style>\n",
       "<table border=\"1\" class=\"dataframe\">\n",
       "  <thead>\n",
       "    <tr style=\"text-align: right;\">\n",
       "      <th></th>\n",
       "      <th>TransactionID</th>\n",
       "      <th>TransactionDT</th>\n",
       "      <th>TransactionAmt</th>\n",
       "      <th>card1</th>\n",
       "      <th>card2</th>\n",
       "      <th>card3</th>\n",
       "      <th>card5</th>\n",
       "      <th>addr1</th>\n",
       "      <th>addr2</th>\n",
       "      <th>dist1</th>\n",
       "      <th>...</th>\n",
       "      <th>TransactionAmt_to_mean_card1</th>\n",
       "      <th>TransactionAmt_to_mean_card4</th>\n",
       "      <th>TransactionAmt_to_std_card1</th>\n",
       "      <th>TransactionAmt_to_std_card4</th>\n",
       "      <th>D15_to_mean_card1</th>\n",
       "      <th>D15_to_mean_card4</th>\n",
       "      <th>D15_to_std_card1</th>\n",
       "      <th>D15_to_std_card4</th>\n",
       "      <th>D15_to_mean_addr1</th>\n",
       "      <th>D15_to_std_addr1</th>\n",
       "    </tr>\n",
       "  </thead>\n",
       "  <tbody>\n",
       "    <tr>\n",
       "      <th>0</th>\n",
       "      <td>3663549</td>\n",
       "      <td>18403224</td>\n",
       "      <td>31.953125</td>\n",
       "      <td>10409</td>\n",
       "      <td>111.0</td>\n",
       "      <td>150.0</td>\n",
       "      <td>226.0</td>\n",
       "      <td>170.0</td>\n",
       "      <td>87.0</td>\n",
       "      <td>1.0</td>\n",
       "      <td>...</td>\n",
       "      <td>0.339355</td>\n",
       "      <td>0.237305</td>\n",
       "      <td>0.260375</td>\n",
       "      <td>0.129845</td>\n",
       "      <td>1.065430</td>\n",
       "      <td>1.925781</td>\n",
       "      <td>1.665603</td>\n",
       "      <td>1.502141</td>\n",
       "      <td>1.557617</td>\n",
       "      <td>1.450810</td>\n",
       "    </tr>\n",
       "    <tr>\n",
       "      <th>1</th>\n",
       "      <td>3663550</td>\n",
       "      <td>18403263</td>\n",
       "      <td>49.000000</td>\n",
       "      <td>4272</td>\n",
       "      <td>111.0</td>\n",
       "      <td>150.0</td>\n",
       "      <td>226.0</td>\n",
       "      <td>299.0</td>\n",
       "      <td>87.0</td>\n",
       "      <td>4.0</td>\n",
       "      <td>...</td>\n",
       "      <td>0.333496</td>\n",
       "      <td>0.364014</td>\n",
       "      <td>0.134278</td>\n",
       "      <td>0.199117</td>\n",
       "      <td>2.154297</td>\n",
       "      <td>2.984375</td>\n",
       "      <td>2.047675</td>\n",
       "      <td>2.328502</td>\n",
       "      <td>3.033203</td>\n",
       "      <td>2.300422</td>\n",
       "    </tr>\n",
       "    <tr>\n",
       "      <th>2</th>\n",
       "      <td>3663551</td>\n",
       "      <td>18403310</td>\n",
       "      <td>171.000000</td>\n",
       "      <td>4476</td>\n",
       "      <td>574.0</td>\n",
       "      <td>150.0</td>\n",
       "      <td>226.0</td>\n",
       "      <td>472.0</td>\n",
       "      <td>87.0</td>\n",
       "      <td>2636.0</td>\n",
       "      <td>...</td>\n",
       "      <td>1.485352</td>\n",
       "      <td>1.270508</td>\n",
       "      <td>1.895643</td>\n",
       "      <td>0.694877</td>\n",
       "      <td>0.280029</td>\n",
       "      <td>0.456787</td>\n",
       "      <td>0.339451</td>\n",
       "      <td>0.356253</td>\n",
       "      <td>0.457031</td>\n",
       "      <td>0.351657</td>\n",
       "    </tr>\n",
       "    <tr>\n",
       "      <th>3</th>\n",
       "      <td>3663552</td>\n",
       "      <td>18403310</td>\n",
       "      <td>285.000000</td>\n",
       "      <td>10989</td>\n",
       "      <td>360.0</td>\n",
       "      <td>150.0</td>\n",
       "      <td>166.0</td>\n",
       "      <td>205.0</td>\n",
       "      <td>87.0</td>\n",
       "      <td>17.0</td>\n",
       "      <td>...</td>\n",
       "      <td>2.970703</td>\n",
       "      <td>2.117188</td>\n",
       "      <td>1.914712</td>\n",
       "      <td>1.158128</td>\n",
       "      <td>1.579102</td>\n",
       "      <td>1.139648</td>\n",
       "      <td>1.130023</td>\n",
       "      <td>0.888797</td>\n",
       "      <td>1.020508</td>\n",
       "      <td>0.901970</td>\n",
       "    </tr>\n",
       "    <tr>\n",
       "      <th>4</th>\n",
       "      <td>3663553</td>\n",
       "      <td>18403317</td>\n",
       "      <td>67.937500</td>\n",
       "      <td>18018</td>\n",
       "      <td>452.0</td>\n",
       "      <td>150.0</td>\n",
       "      <td>117.0</td>\n",
       "      <td>264.0</td>\n",
       "      <td>87.0</td>\n",
       "      <td>6.0</td>\n",
       "      <td>...</td>\n",
       "      <td>0.567383</td>\n",
       "      <td>0.517578</td>\n",
       "      <td>0.310075</td>\n",
       "      <td>0.277417</td>\n",
       "      <td>0.085876</td>\n",
       "      <td>0.109680</td>\n",
       "      <td>0.075361</td>\n",
       "      <td>0.083425</td>\n",
       "      <td>0.098999</td>\n",
       "      <td>0.080181</td>\n",
       "    </tr>\n",
       "  </tbody>\n",
       "</table>\n",
       "<p>5 rows × 253 columns</p>\n",
       "</div>"
      ],
      "text/plain": [
       "   TransactionID  TransactionDT  TransactionAmt  card1  card2  card3  card5  \\\n",
       "0        3663549       18403224       31.953125  10409  111.0  150.0  226.0   \n",
       "1        3663550       18403263       49.000000   4272  111.0  150.0  226.0   \n",
       "2        3663551       18403310      171.000000   4476  574.0  150.0  226.0   \n",
       "3        3663552       18403310      285.000000  10989  360.0  150.0  166.0   \n",
       "4        3663553       18403317       67.937500  18018  452.0  150.0  117.0   \n",
       "\n",
       "   addr1  addr2   dist1  ...  TransactionAmt_to_mean_card1  \\\n",
       "0  170.0   87.0     1.0  ...                      0.339355   \n",
       "1  299.0   87.0     4.0  ...                      0.333496   \n",
       "2  472.0   87.0  2636.0  ...                      1.485352   \n",
       "3  205.0   87.0    17.0  ...                      2.970703   \n",
       "4  264.0   87.0     6.0  ...                      0.567383   \n",
       "\n",
       "   TransactionAmt_to_mean_card4  TransactionAmt_to_std_card1  \\\n",
       "0                      0.237305                     0.260375   \n",
       "1                      0.364014                     0.134278   \n",
       "2                      1.270508                     1.895643   \n",
       "3                      2.117188                     1.914712   \n",
       "4                      0.517578                     0.310075   \n",
       "\n",
       "   TransactionAmt_to_std_card4  D15_to_mean_card1  D15_to_mean_card4  \\\n",
       "0                     0.129845           1.065430           1.925781   \n",
       "1                     0.199117           2.154297           2.984375   \n",
       "2                     0.694877           0.280029           0.456787   \n",
       "3                     1.158128           1.579102           1.139648   \n",
       "4                     0.277417           0.085876           0.109680   \n",
       "\n",
       "   D15_to_std_card1  D15_to_std_card4  D15_to_mean_addr1  D15_to_std_addr1  \n",
       "0          1.665603          1.502141           1.557617          1.450810  \n",
       "1          2.047675          2.328502           3.033203          2.300422  \n",
       "2          0.339451          0.356253           0.457031          0.351657  \n",
       "3          1.130023          0.888797           1.020508          0.901970  \n",
       "4          0.075361          0.083425           0.098999          0.080181  \n",
       "\n",
       "[5 rows x 253 columns]"
      ]
     },
     "execution_count": 166,
     "metadata": {},
     "output_type": "execute_result"
    },
    {
     "data": {
      "application/javascript": [
       "\n",
       "            setTimeout(function() {\n",
       "                var nbb_cell_id = 166;\n",
       "                var nbb_unformatted_code = \"testNotCategory.head()\";\n",
       "                var nbb_formatted_code = \"testNotCategory.head()\";\n",
       "                var nbb_cells = Jupyter.notebook.get_cells();\n",
       "                for (var i = 0; i < nbb_cells.length; ++i) {\n",
       "                    if (nbb_cells[i].input_prompt_number == nbb_cell_id) {\n",
       "                        if (nbb_cells[i].get_text() == nbb_unformatted_code) {\n",
       "                             nbb_cells[i].set_text(nbb_formatted_code);\n",
       "                        }\n",
       "                        break;\n",
       "                    }\n",
       "                }\n",
       "            }, 500);\n",
       "            "
      ],
      "text/plain": [
       "<IPython.core.display.Javascript object>"
      ]
     },
     "metadata": {},
     "output_type": "display_data"
    }
   ],
   "source": [
    "testNotCategory.head()"
   ]
  },
  {
   "cell_type": "code",
   "execution_count": 211,
   "id": "edeb12e5",
   "metadata": {},
   "outputs": [
    {
     "data": {
      "application/javascript": [
       "\n",
       "            setTimeout(function() {\n",
       "                var nbb_cell_id = 211;\n",
       "                var nbb_unformatted_code = \"TestTransaction = testNotCategory[\\\"TransactionID\\\"]\";\n",
       "                var nbb_formatted_code = \"TestTransaction = testNotCategory[\\\"TransactionID\\\"]\";\n",
       "                var nbb_cells = Jupyter.notebook.get_cells();\n",
       "                for (var i = 0; i < nbb_cells.length; ++i) {\n",
       "                    if (nbb_cells[i].input_prompt_number == nbb_cell_id) {\n",
       "                        if (nbb_cells[i].get_text() == nbb_unformatted_code) {\n",
       "                             nbb_cells[i].set_text(nbb_formatted_code);\n",
       "                        }\n",
       "                        break;\n",
       "                    }\n",
       "                }\n",
       "            }, 500);\n",
       "            "
      ],
      "text/plain": [
       "<IPython.core.display.Javascript object>"
      ]
     },
     "metadata": {},
     "output_type": "display_data"
    }
   ],
   "source": [
    "TestTransaction = testNotCategory[\"TransactionID\"]"
   ]
  },
  {
   "cell_type": "code",
   "execution_count": 212,
   "id": "9bd49e2f",
   "metadata": {},
   "outputs": [
    {
     "name": "stderr",
     "output_type": "stream",
     "text": [
      "C:\\Users\\niraj\\Anaconda3\\lib\\site-packages\\pandas\\core\\frame.py:4308: SettingWithCopyWarning: \n",
      "A value is trying to be set on a copy of a slice from a DataFrame\n",
      "\n",
      "See the caveats in the documentation: https://pandas.pydata.org/pandas-docs/stable/user_guide/indexing.html#returning-a-view-versus-a-copy\n",
      "  return super().drop(\n"
     ]
    },
    {
     "data": {
      "application/javascript": [
       "\n",
       "            setTimeout(function() {\n",
       "                var nbb_cell_id = 212;\n",
       "                var nbb_unformatted_code = \"testNotCategory.drop([\\\"TransactionID\\\", \\\"TransactionDT\\\"], axis=1, inplace=True)\";\n",
       "                var nbb_formatted_code = \"testNotCategory.drop([\\\"TransactionID\\\", \\\"TransactionDT\\\"], axis=1, inplace=True)\";\n",
       "                var nbb_cells = Jupyter.notebook.get_cells();\n",
       "                for (var i = 0; i < nbb_cells.length; ++i) {\n",
       "                    if (nbb_cells[i].input_prompt_number == nbb_cell_id) {\n",
       "                        if (nbb_cells[i].get_text() == nbb_unformatted_code) {\n",
       "                             nbb_cells[i].set_text(nbb_formatted_code);\n",
       "                        }\n",
       "                        break;\n",
       "                    }\n",
       "                }\n",
       "            }, 500);\n",
       "            "
      ],
      "text/plain": [
       "<IPython.core.display.Javascript object>"
      ]
     },
     "metadata": {},
     "output_type": "display_data"
    }
   ],
   "source": [
    "testNotCategory.drop([\"TransactionID\", \"TransactionDT\"], axis=1, inplace=True)"
   ]
  },
  {
   "cell_type": "code",
   "execution_count": 213,
   "id": "4103f764",
   "metadata": {},
   "outputs": [
    {
     "data": {
      "text/html": [
       "<div>\n",
       "<style scoped>\n",
       "    .dataframe tbody tr th:only-of-type {\n",
       "        vertical-align: middle;\n",
       "    }\n",
       "\n",
       "    .dataframe tbody tr th {\n",
       "        vertical-align: top;\n",
       "    }\n",
       "\n",
       "    .dataframe thead th {\n",
       "        text-align: right;\n",
       "    }\n",
       "</style>\n",
       "<table border=\"1\" class=\"dataframe\">\n",
       "  <thead>\n",
       "    <tr style=\"text-align: right;\">\n",
       "      <th></th>\n",
       "      <th>TransactionAmt</th>\n",
       "      <th>card1</th>\n",
       "      <th>card2</th>\n",
       "      <th>card3</th>\n",
       "      <th>card5</th>\n",
       "      <th>addr1</th>\n",
       "      <th>addr2</th>\n",
       "      <th>dist1</th>\n",
       "      <th>C1</th>\n",
       "      <th>C2</th>\n",
       "      <th>...</th>\n",
       "      <th>TransactionAmt_to_mean_card1</th>\n",
       "      <th>TransactionAmt_to_mean_card4</th>\n",
       "      <th>TransactionAmt_to_std_card1</th>\n",
       "      <th>TransactionAmt_to_std_card4</th>\n",
       "      <th>D15_to_mean_card1</th>\n",
       "      <th>D15_to_mean_card4</th>\n",
       "      <th>D15_to_std_card1</th>\n",
       "      <th>D15_to_std_card4</th>\n",
       "      <th>D15_to_mean_addr1</th>\n",
       "      <th>D15_to_std_addr1</th>\n",
       "    </tr>\n",
       "  </thead>\n",
       "  <tbody>\n",
       "    <tr>\n",
       "      <th>0</th>\n",
       "      <td>31.953125</td>\n",
       "      <td>10409</td>\n",
       "      <td>111.0</td>\n",
       "      <td>150.0</td>\n",
       "      <td>226.0</td>\n",
       "      <td>170.0</td>\n",
       "      <td>87.0</td>\n",
       "      <td>1.0</td>\n",
       "      <td>6.0</td>\n",
       "      <td>6.0</td>\n",
       "      <td>...</td>\n",
       "      <td>0.339355</td>\n",
       "      <td>0.237305</td>\n",
       "      <td>0.260375</td>\n",
       "      <td>0.129845</td>\n",
       "      <td>1.065430</td>\n",
       "      <td>1.925781</td>\n",
       "      <td>1.665603</td>\n",
       "      <td>1.502141</td>\n",
       "      <td>1.557617</td>\n",
       "      <td>1.450810</td>\n",
       "    </tr>\n",
       "    <tr>\n",
       "      <th>1</th>\n",
       "      <td>49.000000</td>\n",
       "      <td>4272</td>\n",
       "      <td>111.0</td>\n",
       "      <td>150.0</td>\n",
       "      <td>226.0</td>\n",
       "      <td>299.0</td>\n",
       "      <td>87.0</td>\n",
       "      <td>4.0</td>\n",
       "      <td>3.0</td>\n",
       "      <td>2.0</td>\n",
       "      <td>...</td>\n",
       "      <td>0.333496</td>\n",
       "      <td>0.364014</td>\n",
       "      <td>0.134278</td>\n",
       "      <td>0.199117</td>\n",
       "      <td>2.154297</td>\n",
       "      <td>2.984375</td>\n",
       "      <td>2.047675</td>\n",
       "      <td>2.328502</td>\n",
       "      <td>3.033203</td>\n",
       "      <td>2.300422</td>\n",
       "    </tr>\n",
       "    <tr>\n",
       "      <th>2</th>\n",
       "      <td>171.000000</td>\n",
       "      <td>4476</td>\n",
       "      <td>574.0</td>\n",
       "      <td>150.0</td>\n",
       "      <td>226.0</td>\n",
       "      <td>472.0</td>\n",
       "      <td>87.0</td>\n",
       "      <td>2636.0</td>\n",
       "      <td>2.0</td>\n",
       "      <td>2.0</td>\n",
       "      <td>...</td>\n",
       "      <td>1.485352</td>\n",
       "      <td>1.270508</td>\n",
       "      <td>1.895643</td>\n",
       "      <td>0.694877</td>\n",
       "      <td>0.280029</td>\n",
       "      <td>0.456787</td>\n",
       "      <td>0.339451</td>\n",
       "      <td>0.356253</td>\n",
       "      <td>0.457031</td>\n",
       "      <td>0.351657</td>\n",
       "    </tr>\n",
       "    <tr>\n",
       "      <th>3</th>\n",
       "      <td>285.000000</td>\n",
       "      <td>10989</td>\n",
       "      <td>360.0</td>\n",
       "      <td>150.0</td>\n",
       "      <td>166.0</td>\n",
       "      <td>205.0</td>\n",
       "      <td>87.0</td>\n",
       "      <td>17.0</td>\n",
       "      <td>5.0</td>\n",
       "      <td>2.0</td>\n",
       "      <td>...</td>\n",
       "      <td>2.970703</td>\n",
       "      <td>2.117188</td>\n",
       "      <td>1.914712</td>\n",
       "      <td>1.158128</td>\n",
       "      <td>1.579102</td>\n",
       "      <td>1.139648</td>\n",
       "      <td>1.130023</td>\n",
       "      <td>0.888797</td>\n",
       "      <td>1.020508</td>\n",
       "      <td>0.901970</td>\n",
       "    </tr>\n",
       "    <tr>\n",
       "      <th>4</th>\n",
       "      <td>67.937500</td>\n",
       "      <td>18018</td>\n",
       "      <td>452.0</td>\n",
       "      <td>150.0</td>\n",
       "      <td>117.0</td>\n",
       "      <td>264.0</td>\n",
       "      <td>87.0</td>\n",
       "      <td>6.0</td>\n",
       "      <td>6.0</td>\n",
       "      <td>6.0</td>\n",
       "      <td>...</td>\n",
       "      <td>0.567383</td>\n",
       "      <td>0.517578</td>\n",
       "      <td>0.310075</td>\n",
       "      <td>0.277417</td>\n",
       "      <td>0.085876</td>\n",
       "      <td>0.109680</td>\n",
       "      <td>0.075361</td>\n",
       "      <td>0.083425</td>\n",
       "      <td>0.098999</td>\n",
       "      <td>0.080181</td>\n",
       "    </tr>\n",
       "  </tbody>\n",
       "</table>\n",
       "<p>5 rows × 251 columns</p>\n",
       "</div>"
      ],
      "text/plain": [
       "   TransactionAmt  card1  card2  card3  card5  addr1  addr2   dist1   C1   C2  \\\n",
       "0       31.953125  10409  111.0  150.0  226.0  170.0   87.0     1.0  6.0  6.0   \n",
       "1       49.000000   4272  111.0  150.0  226.0  299.0   87.0     4.0  3.0  2.0   \n",
       "2      171.000000   4476  574.0  150.0  226.0  472.0   87.0  2636.0  2.0  2.0   \n",
       "3      285.000000  10989  360.0  150.0  166.0  205.0   87.0    17.0  5.0  2.0   \n",
       "4       67.937500  18018  452.0  150.0  117.0  264.0   87.0     6.0  6.0  6.0   \n",
       "\n",
       "   ...  TransactionAmt_to_mean_card1  TransactionAmt_to_mean_card4  \\\n",
       "0  ...                      0.339355                      0.237305   \n",
       "1  ...                      0.333496                      0.364014   \n",
       "2  ...                      1.485352                      1.270508   \n",
       "3  ...                      2.970703                      2.117188   \n",
       "4  ...                      0.567383                      0.517578   \n",
       "\n",
       "   TransactionAmt_to_std_card1  TransactionAmt_to_std_card4  \\\n",
       "0                     0.260375                     0.129845   \n",
       "1                     0.134278                     0.199117   \n",
       "2                     1.895643                     0.694877   \n",
       "3                     1.914712                     1.158128   \n",
       "4                     0.310075                     0.277417   \n",
       "\n",
       "   D15_to_mean_card1  D15_to_mean_card4  D15_to_std_card1  D15_to_std_card4  \\\n",
       "0           1.065430           1.925781          1.665603          1.502141   \n",
       "1           2.154297           2.984375          2.047675          2.328502   \n",
       "2           0.280029           0.456787          0.339451          0.356253   \n",
       "3           1.579102           1.139648          1.130023          0.888797   \n",
       "4           0.085876           0.109680          0.075361          0.083425   \n",
       "\n",
       "   D15_to_mean_addr1  D15_to_std_addr1  \n",
       "0           1.557617          1.450810  \n",
       "1           3.033203          2.300422  \n",
       "2           0.457031          0.351657  \n",
       "3           1.020508          0.901970  \n",
       "4           0.098999          0.080181  \n",
       "\n",
       "[5 rows x 251 columns]"
      ]
     },
     "execution_count": 213,
     "metadata": {},
     "output_type": "execute_result"
    },
    {
     "data": {
      "application/javascript": [
       "\n",
       "            setTimeout(function() {\n",
       "                var nbb_cell_id = 213;\n",
       "                var nbb_unformatted_code = \"testNotCategory.head()\";\n",
       "                var nbb_formatted_code = \"testNotCategory.head()\";\n",
       "                var nbb_cells = Jupyter.notebook.get_cells();\n",
       "                for (var i = 0; i < nbb_cells.length; ++i) {\n",
       "                    if (nbb_cells[i].input_prompt_number == nbb_cell_id) {\n",
       "                        if (nbb_cells[i].get_text() == nbb_unformatted_code) {\n",
       "                             nbb_cells[i].set_text(nbb_formatted_code);\n",
       "                        }\n",
       "                        break;\n",
       "                    }\n",
       "                }\n",
       "            }, 500);\n",
       "            "
      ],
      "text/plain": [
       "<IPython.core.display.Javascript object>"
      ]
     },
     "metadata": {},
     "output_type": "display_data"
    }
   ],
   "source": [
    "testNotCategory.head()"
   ]
  },
  {
   "cell_type": "code",
   "execution_count": 215,
   "id": "390b5d73",
   "metadata": {},
   "outputs": [
    {
     "data": {
      "application/javascript": [
       "\n",
       "            setTimeout(function() {\n",
       "                var nbb_cell_id = 215;\n",
       "                var nbb_unformatted_code = \"testNotCategoryNumber = testNotCategory.select_dtypes(include=[\\\"number\\\"])\\ntestNotCategoryObject = testNotCategory.select_dtypes(include=[\\\"object_\\\"])\";\n",
       "                var nbb_formatted_code = \"testNotCategoryNumber = testNotCategory.select_dtypes(include=[\\\"number\\\"])\\ntestNotCategoryObject = testNotCategory.select_dtypes(include=[\\\"object_\\\"])\";\n",
       "                var nbb_cells = Jupyter.notebook.get_cells();\n",
       "                for (var i = 0; i < nbb_cells.length; ++i) {\n",
       "                    if (nbb_cells[i].input_prompt_number == nbb_cell_id) {\n",
       "                        if (nbb_cells[i].get_text() == nbb_unformatted_code) {\n",
       "                             nbb_cells[i].set_text(nbb_formatted_code);\n",
       "                        }\n",
       "                        break;\n",
       "                    }\n",
       "                }\n",
       "            }, 500);\n",
       "            "
      ],
      "text/plain": [
       "<IPython.core.display.Javascript object>"
      ]
     },
     "metadata": {},
     "output_type": "display_data"
    }
   ],
   "source": [
    "testNotCategoryNumber = testNotCategory.select_dtypes(include=[\"number\"])\n",
    "testNotCategoryObject = testNotCategory.select_dtypes(include=[\"object_\"])"
   ]
  },
  {
   "cell_type": "code",
   "execution_count": 220,
   "id": "9ff52502",
   "metadata": {},
   "outputs": [
    {
     "data": {
      "text/plain": [
       "TransactionAmt       0\n",
       "card1                0\n",
       "card2                0\n",
       "card3                0\n",
       "card5                0\n",
       "                    ..\n",
       "D15_to_mean_card4    0\n",
       "D15_to_std_card1     0\n",
       "D15_to_std_card4     0\n",
       "D15_to_mean_addr1    0\n",
       "D15_to_std_addr1     0\n",
       "Length: 247, dtype: int64"
      ]
     },
     "execution_count": 220,
     "metadata": {},
     "output_type": "execute_result"
    },
    {
     "data": {
      "application/javascript": [
       "\n",
       "            setTimeout(function() {\n",
       "                var nbb_cell_id = 220;\n",
       "                var nbb_unformatted_code = \"testNotCategoryNumber.isna().sum()\";\n",
       "                var nbb_formatted_code = \"testNotCategoryNumber.isna().sum()\";\n",
       "                var nbb_cells = Jupyter.notebook.get_cells();\n",
       "                for (var i = 0; i < nbb_cells.length; ++i) {\n",
       "                    if (nbb_cells[i].input_prompt_number == nbb_cell_id) {\n",
       "                        if (nbb_cells[i].get_text() == nbb_unformatted_code) {\n",
       "                             nbb_cells[i].set_text(nbb_formatted_code);\n",
       "                        }\n",
       "                        break;\n",
       "                    }\n",
       "                }\n",
       "            }, 500);\n",
       "            "
      ],
      "text/plain": [
       "<IPython.core.display.Javascript object>"
      ]
     },
     "metadata": {},
     "output_type": "display_data"
    }
   ],
   "source": [
    "testNotCategoryNumber.isna().sum()"
   ]
  },
  {
   "cell_type": "code",
   "execution_count": 222,
   "id": "6c1317f1",
   "metadata": {},
   "outputs": [
    {
     "data": {
      "text/plain": [
       "alertFeature        0\n",
       "had_id              0\n",
       "new_domain      69192\n",
       "new_domain1     69192\n",
       "dtype: int64"
      ]
     },
     "execution_count": 222,
     "metadata": {},
     "output_type": "execute_result"
    },
    {
     "data": {
      "application/javascript": [
       "\n",
       "            setTimeout(function() {\n",
       "                var nbb_cell_id = 222;\n",
       "                var nbb_unformatted_code = \"testNotCategoryObject.isna().sum()\";\n",
       "                var nbb_formatted_code = \"testNotCategoryObject.isna().sum()\";\n",
       "                var nbb_cells = Jupyter.notebook.get_cells();\n",
       "                for (var i = 0; i < nbb_cells.length; ++i) {\n",
       "                    if (nbb_cells[i].input_prompt_number == nbb_cell_id) {\n",
       "                        if (nbb_cells[i].get_text() == nbb_unformatted_code) {\n",
       "                             nbb_cells[i].set_text(nbb_formatted_code);\n",
       "                        }\n",
       "                        break;\n",
       "                    }\n",
       "                }\n",
       "            }, 500);\n",
       "            "
      ],
      "text/plain": [
       "<IPython.core.display.Javascript object>"
      ]
     },
     "metadata": {},
     "output_type": "display_data"
    }
   ],
   "source": [
    "testNotCategoryObject.isna().sum()"
   ]
  },
  {
   "cell_type": "code",
   "execution_count": 218,
   "id": "2774b750",
   "metadata": {},
   "outputs": [
    {
     "data": {
      "text/html": [
       "<div>\n",
       "<style scoped>\n",
       "    .dataframe tbody tr th:only-of-type {\n",
       "        vertical-align: middle;\n",
       "    }\n",
       "\n",
       "    .dataframe tbody tr th {\n",
       "        vertical-align: top;\n",
       "    }\n",
       "\n",
       "    .dataframe thead th {\n",
       "        text-align: right;\n",
       "    }\n",
       "</style>\n",
       "<table border=\"1\" class=\"dataframe\">\n",
       "  <thead>\n",
       "    <tr style=\"text-align: right;\">\n",
       "      <th></th>\n",
       "      <th>alertFeature</th>\n",
       "      <th>had_id</th>\n",
       "      <th>new_domain</th>\n",
       "      <th>new_domain1</th>\n",
       "    </tr>\n",
       "  </thead>\n",
       "  <tbody>\n",
       "    <tr>\n",
       "      <th>0</th>\n",
       "      <td>lowalert</td>\n",
       "      <td>1</td>\n",
       "      <td>gmail</td>\n",
       "      <td>com</td>\n",
       "    </tr>\n",
       "    <tr>\n",
       "      <th>1</th>\n",
       "      <td>lowalert</td>\n",
       "      <td>1</td>\n",
       "      <td>aol</td>\n",
       "      <td>com</td>\n",
       "    </tr>\n",
       "    <tr>\n",
       "      <th>2</th>\n",
       "      <td>lowalert</td>\n",
       "      <td>1</td>\n",
       "      <td>hotmail</td>\n",
       "      <td>com</td>\n",
       "    </tr>\n",
       "    <tr>\n",
       "      <th>3</th>\n",
       "      <td>lowalert</td>\n",
       "      <td>1</td>\n",
       "      <td>gmail</td>\n",
       "      <td>com</td>\n",
       "    </tr>\n",
       "    <tr>\n",
       "      <th>4</th>\n",
       "      <td>lowalert</td>\n",
       "      <td>1</td>\n",
       "      <td>gmail</td>\n",
       "      <td>com</td>\n",
       "    </tr>\n",
       "  </tbody>\n",
       "</table>\n",
       "</div>"
      ],
      "text/plain": [
       "  alertFeature had_id new_domain new_domain1\n",
       "0     lowalert      1      gmail         com\n",
       "1     lowalert      1        aol         com\n",
       "2     lowalert      1    hotmail         com\n",
       "3     lowalert      1      gmail         com\n",
       "4     lowalert      1      gmail         com"
      ]
     },
     "execution_count": 218,
     "metadata": {},
     "output_type": "execute_result"
    },
    {
     "data": {
      "application/javascript": [
       "\n",
       "            setTimeout(function() {\n",
       "                var nbb_cell_id = 218;\n",
       "                var nbb_unformatted_code = \"testNotCategoryObject.head()\";\n",
       "                var nbb_formatted_code = \"testNotCategoryObject.head()\";\n",
       "                var nbb_cells = Jupyter.notebook.get_cells();\n",
       "                for (var i = 0; i < nbb_cells.length; ++i) {\n",
       "                    if (nbb_cells[i].input_prompt_number == nbb_cell_id) {\n",
       "                        if (nbb_cells[i].get_text() == nbb_unformatted_code) {\n",
       "                             nbb_cells[i].set_text(nbb_formatted_code);\n",
       "                        }\n",
       "                        break;\n",
       "                    }\n",
       "                }\n",
       "            }, 500);\n",
       "            "
      ],
      "text/plain": [
       "<IPython.core.display.Javascript object>"
      ]
     },
     "metadata": {},
     "output_type": "display_data"
    }
   ],
   "source": [
    "testNotCategoryObject.head()"
   ]
  },
  {
   "cell_type": "code",
   "execution_count": 219,
   "id": "a82f45e6",
   "metadata": {},
   "outputs": [
    {
     "name": "stderr",
     "output_type": "stream",
     "text": [
      "C:\\Users\\niraj\\Anaconda3\\lib\\site-packages\\pandas\\core\\frame.py:4524: SettingWithCopyWarning: \n",
      "A value is trying to be set on a copy of a slice from a DataFrame\n",
      "\n",
      "See the caveats in the documentation: https://pandas.pydata.org/pandas-docs/stable/user_guide/indexing.html#returning-a-view-versus-a-copy\n",
      "  return super().replace(\n"
     ]
    },
    {
     "data": {
      "application/javascript": [
       "\n",
       "            setTimeout(function() {\n",
       "                var nbb_cell_id = 219;\n",
       "                var nbb_unformatted_code = \"testNotCategoryNumber.replace([np.inf, -np.inf], np.nan, inplace=True)\\ntestNotCategoryNumber = testNotCategoryNumber.fillna(0)\";\n",
       "                var nbb_formatted_code = \"testNotCategoryNumber.replace([np.inf, -np.inf], np.nan, inplace=True)\\ntestNotCategoryNumber = testNotCategoryNumber.fillna(0)\";\n",
       "                var nbb_cells = Jupyter.notebook.get_cells();\n",
       "                for (var i = 0; i < nbb_cells.length; ++i) {\n",
       "                    if (nbb_cells[i].input_prompt_number == nbb_cell_id) {\n",
       "                        if (nbb_cells[i].get_text() == nbb_unformatted_code) {\n",
       "                             nbb_cells[i].set_text(nbb_formatted_code);\n",
       "                        }\n",
       "                        break;\n",
       "                    }\n",
       "                }\n",
       "            }, 500);\n",
       "            "
      ],
      "text/plain": [
       "<IPython.core.display.Javascript object>"
      ]
     },
     "metadata": {},
     "output_type": "display_data"
    }
   ],
   "source": [
    "testNotCategoryNumber.replace([np.inf, -np.inf], np.nan, inplace=True)\n",
    "testNotCategoryNumber = testNotCategoryNumber.fillna(0)"
   ]
  },
  {
   "cell_type": "code",
   "execution_count": 221,
   "id": "b826f52d",
   "metadata": {},
   "outputs": [
    {
     "data": {
      "text/html": [
       "<div>\n",
       "<style scoped>\n",
       "    .dataframe tbody tr th:only-of-type {\n",
       "        vertical-align: middle;\n",
       "    }\n",
       "\n",
       "    .dataframe tbody tr th {\n",
       "        vertical-align: top;\n",
       "    }\n",
       "\n",
       "    .dataframe thead th {\n",
       "        text-align: right;\n",
       "    }\n",
       "</style>\n",
       "<table border=\"1\" class=\"dataframe\">\n",
       "  <thead>\n",
       "    <tr style=\"text-align: right;\">\n",
       "      <th></th>\n",
       "      <th>TransactionAmt</th>\n",
       "      <th>card1</th>\n",
       "      <th>card2</th>\n",
       "      <th>card3</th>\n",
       "      <th>card5</th>\n",
       "      <th>addr1</th>\n",
       "      <th>addr2</th>\n",
       "      <th>dist1</th>\n",
       "      <th>C1</th>\n",
       "      <th>C2</th>\n",
       "      <th>...</th>\n",
       "      <th>TransactionAmt_to_mean_card1</th>\n",
       "      <th>TransactionAmt_to_mean_card4</th>\n",
       "      <th>TransactionAmt_to_std_card1</th>\n",
       "      <th>TransactionAmt_to_std_card4</th>\n",
       "      <th>D15_to_mean_card1</th>\n",
       "      <th>D15_to_mean_card4</th>\n",
       "      <th>D15_to_std_card1</th>\n",
       "      <th>D15_to_std_card4</th>\n",
       "      <th>D15_to_mean_addr1</th>\n",
       "      <th>D15_to_std_addr1</th>\n",
       "    </tr>\n",
       "  </thead>\n",
       "  <tbody>\n",
       "    <tr>\n",
       "      <th>0</th>\n",
       "      <td>31.953125</td>\n",
       "      <td>10409</td>\n",
       "      <td>111.0</td>\n",
       "      <td>150.0</td>\n",
       "      <td>226.0</td>\n",
       "      <td>170.0</td>\n",
       "      <td>87.0</td>\n",
       "      <td>1.0</td>\n",
       "      <td>6.0</td>\n",
       "      <td>6.0</td>\n",
       "      <td>...</td>\n",
       "      <td>0.339355</td>\n",
       "      <td>0.237305</td>\n",
       "      <td>0.260375</td>\n",
       "      <td>0.129845</td>\n",
       "      <td>1.065430</td>\n",
       "      <td>1.925781</td>\n",
       "      <td>1.665603</td>\n",
       "      <td>1.502141</td>\n",
       "      <td>1.557617</td>\n",
       "      <td>1.450810</td>\n",
       "    </tr>\n",
       "    <tr>\n",
       "      <th>1</th>\n",
       "      <td>49.000000</td>\n",
       "      <td>4272</td>\n",
       "      <td>111.0</td>\n",
       "      <td>150.0</td>\n",
       "      <td>226.0</td>\n",
       "      <td>299.0</td>\n",
       "      <td>87.0</td>\n",
       "      <td>4.0</td>\n",
       "      <td>3.0</td>\n",
       "      <td>2.0</td>\n",
       "      <td>...</td>\n",
       "      <td>0.333496</td>\n",
       "      <td>0.364014</td>\n",
       "      <td>0.134278</td>\n",
       "      <td>0.199117</td>\n",
       "      <td>2.154297</td>\n",
       "      <td>2.984375</td>\n",
       "      <td>2.047675</td>\n",
       "      <td>2.328502</td>\n",
       "      <td>3.033203</td>\n",
       "      <td>2.300422</td>\n",
       "    </tr>\n",
       "    <tr>\n",
       "      <th>2</th>\n",
       "      <td>171.000000</td>\n",
       "      <td>4476</td>\n",
       "      <td>574.0</td>\n",
       "      <td>150.0</td>\n",
       "      <td>226.0</td>\n",
       "      <td>472.0</td>\n",
       "      <td>87.0</td>\n",
       "      <td>2636.0</td>\n",
       "      <td>2.0</td>\n",
       "      <td>2.0</td>\n",
       "      <td>...</td>\n",
       "      <td>1.485352</td>\n",
       "      <td>1.270508</td>\n",
       "      <td>1.895643</td>\n",
       "      <td>0.694877</td>\n",
       "      <td>0.280029</td>\n",
       "      <td>0.456787</td>\n",
       "      <td>0.339451</td>\n",
       "      <td>0.356253</td>\n",
       "      <td>0.457031</td>\n",
       "      <td>0.351657</td>\n",
       "    </tr>\n",
       "    <tr>\n",
       "      <th>3</th>\n",
       "      <td>285.000000</td>\n",
       "      <td>10989</td>\n",
       "      <td>360.0</td>\n",
       "      <td>150.0</td>\n",
       "      <td>166.0</td>\n",
       "      <td>205.0</td>\n",
       "      <td>87.0</td>\n",
       "      <td>17.0</td>\n",
       "      <td>5.0</td>\n",
       "      <td>2.0</td>\n",
       "      <td>...</td>\n",
       "      <td>2.970703</td>\n",
       "      <td>2.117188</td>\n",
       "      <td>1.914712</td>\n",
       "      <td>1.158128</td>\n",
       "      <td>1.579102</td>\n",
       "      <td>1.139648</td>\n",
       "      <td>1.130023</td>\n",
       "      <td>0.888797</td>\n",
       "      <td>1.020508</td>\n",
       "      <td>0.901970</td>\n",
       "    </tr>\n",
       "    <tr>\n",
       "      <th>4</th>\n",
       "      <td>67.937500</td>\n",
       "      <td>18018</td>\n",
       "      <td>452.0</td>\n",
       "      <td>150.0</td>\n",
       "      <td>117.0</td>\n",
       "      <td>264.0</td>\n",
       "      <td>87.0</td>\n",
       "      <td>6.0</td>\n",
       "      <td>6.0</td>\n",
       "      <td>6.0</td>\n",
       "      <td>...</td>\n",
       "      <td>0.567383</td>\n",
       "      <td>0.517578</td>\n",
       "      <td>0.310075</td>\n",
       "      <td>0.277417</td>\n",
       "      <td>0.085876</td>\n",
       "      <td>0.109680</td>\n",
       "      <td>0.075361</td>\n",
       "      <td>0.083425</td>\n",
       "      <td>0.098999</td>\n",
       "      <td>0.080181</td>\n",
       "    </tr>\n",
       "  </tbody>\n",
       "</table>\n",
       "<p>5 rows × 247 columns</p>\n",
       "</div>"
      ],
      "text/plain": [
       "   TransactionAmt  card1  card2  card3  card5  addr1  addr2   dist1   C1   C2  \\\n",
       "0       31.953125  10409  111.0  150.0  226.0  170.0   87.0     1.0  6.0  6.0   \n",
       "1       49.000000   4272  111.0  150.0  226.0  299.0   87.0     4.0  3.0  2.0   \n",
       "2      171.000000   4476  574.0  150.0  226.0  472.0   87.0  2636.0  2.0  2.0   \n",
       "3      285.000000  10989  360.0  150.0  166.0  205.0   87.0    17.0  5.0  2.0   \n",
       "4       67.937500  18018  452.0  150.0  117.0  264.0   87.0     6.0  6.0  6.0   \n",
       "\n",
       "   ...  TransactionAmt_to_mean_card1  TransactionAmt_to_mean_card4  \\\n",
       "0  ...                      0.339355                      0.237305   \n",
       "1  ...                      0.333496                      0.364014   \n",
       "2  ...                      1.485352                      1.270508   \n",
       "3  ...                      2.970703                      2.117188   \n",
       "4  ...                      0.567383                      0.517578   \n",
       "\n",
       "   TransactionAmt_to_std_card1  TransactionAmt_to_std_card4  \\\n",
       "0                     0.260375                     0.129845   \n",
       "1                     0.134278                     0.199117   \n",
       "2                     1.895643                     0.694877   \n",
       "3                     1.914712                     1.158128   \n",
       "4                     0.310075                     0.277417   \n",
       "\n",
       "   D15_to_mean_card1  D15_to_mean_card4  D15_to_std_card1  D15_to_std_card4  \\\n",
       "0           1.065430           1.925781          1.665603          1.502141   \n",
       "1           2.154297           2.984375          2.047675          2.328502   \n",
       "2           0.280029           0.456787          0.339451          0.356253   \n",
       "3           1.579102           1.139648          1.130023          0.888797   \n",
       "4           0.085876           0.109680          0.075361          0.083425   \n",
       "\n",
       "   D15_to_mean_addr1  D15_to_std_addr1  \n",
       "0           1.557617          1.450810  \n",
       "1           3.033203          2.300422  \n",
       "2           0.457031          0.351657  \n",
       "3           1.020508          0.901970  \n",
       "4           0.098999          0.080181  \n",
       "\n",
       "[5 rows x 247 columns]"
      ]
     },
     "execution_count": 221,
     "metadata": {},
     "output_type": "execute_result"
    },
    {
     "data": {
      "application/javascript": [
       "\n",
       "            setTimeout(function() {\n",
       "                var nbb_cell_id = 221;\n",
       "                var nbb_unformatted_code = \"testNotCategoryNumber.head()\";\n",
       "                var nbb_formatted_code = \"testNotCategoryNumber.head()\";\n",
       "                var nbb_cells = Jupyter.notebook.get_cells();\n",
       "                for (var i = 0; i < nbb_cells.length; ++i) {\n",
       "                    if (nbb_cells[i].input_prompt_number == nbb_cell_id) {\n",
       "                        if (nbb_cells[i].get_text() == nbb_unformatted_code) {\n",
       "                             nbb_cells[i].set_text(nbb_formatted_code);\n",
       "                        }\n",
       "                        break;\n",
       "                    }\n",
       "                }\n",
       "            }, 500);\n",
       "            "
      ],
      "text/plain": [
       "<IPython.core.display.Javascript object>"
      ]
     },
     "metadata": {},
     "output_type": "display_data"
    }
   ],
   "source": [
    "testNotCategoryNumber.head()"
   ]
  },
  {
   "cell_type": "code",
   "execution_count": 226,
   "id": "dadc79fb",
   "metadata": {},
   "outputs": [
    {
     "data": {
      "application/javascript": [
       "\n",
       "            setTimeout(function() {\n",
       "                var nbb_cell_id = 226;\n",
       "                var nbb_unformatted_code = \"testNotCategoryObject = testNotCategoryObject.fillna(0)\";\n",
       "                var nbb_formatted_code = \"testNotCategoryObject = testNotCategoryObject.fillna(0)\";\n",
       "                var nbb_cells = Jupyter.notebook.get_cells();\n",
       "                for (var i = 0; i < nbb_cells.length; ++i) {\n",
       "                    if (nbb_cells[i].input_prompt_number == nbb_cell_id) {\n",
       "                        if (nbb_cells[i].get_text() == nbb_unformatted_code) {\n",
       "                             nbb_cells[i].set_text(nbb_formatted_code);\n",
       "                        }\n",
       "                        break;\n",
       "                    }\n",
       "                }\n",
       "            }, 500);\n",
       "            "
      ],
      "text/plain": [
       "<IPython.core.display.Javascript object>"
      ]
     },
     "metadata": {},
     "output_type": "display_data"
    }
   ],
   "source": [
    "testNotCategoryObject = testNotCategoryObject.fillna(0)"
   ]
  },
  {
   "cell_type": "code",
   "execution_count": 228,
   "id": "4f0204b9",
   "metadata": {},
   "outputs": [
    {
     "data": {
      "application/javascript": [
       "\n",
       "            setTimeout(function() {\n",
       "                var nbb_cell_id = 228;\n",
       "                var nbb_unformatted_code = \"testNotCategoryObject[\\\"new_domain\\\"] = np.where(testNotCategoryObject[\\\"new_domain\\\"] == 0, \\\"M\\\",testNotCategoryObject[\\\"new_domain\\\"])\";\n",
       "                var nbb_formatted_code = \"testNotCategoryObject[\\\"new_domain\\\"] = np.where(\\n    testNotCategoryObject[\\\"new_domain\\\"] == 0, \\\"M\\\", testNotCategoryObject[\\\"new_domain\\\"]\\n)\";\n",
       "                var nbb_cells = Jupyter.notebook.get_cells();\n",
       "                for (var i = 0; i < nbb_cells.length; ++i) {\n",
       "                    if (nbb_cells[i].input_prompt_number == nbb_cell_id) {\n",
       "                        if (nbb_cells[i].get_text() == nbb_unformatted_code) {\n",
       "                             nbb_cells[i].set_text(nbb_formatted_code);\n",
       "                        }\n",
       "                        break;\n",
       "                    }\n",
       "                }\n",
       "            }, 500);\n",
       "            "
      ],
      "text/plain": [
       "<IPython.core.display.Javascript object>"
      ]
     },
     "metadata": {},
     "output_type": "display_data"
    }
   ],
   "source": [
    "testNotCategoryObject[\"new_domain\"] = np.where(\n",
    "    testNotCategoryObject[\"new_domain\"] == 0, \"M\", testNotCategoryObject[\"new_domain\"]\n",
    ")"
   ]
  },
  {
   "cell_type": "code",
   "execution_count": 227,
   "id": "6943ff34",
   "metadata": {},
   "outputs": [
    {
     "data": {
      "application/javascript": [
       "\n",
       "            setTimeout(function() {\n",
       "                var nbb_cell_id = 227;\n",
       "                var nbb_unformatted_code = \"testNotCategoryObject[\\\"new_domain1\\\"] = np.where(\\n    testNotCategoryObject[\\\"new_domain1\\\"] == 0, \\\"M\\\", testNotCategoryObject[\\\"new_domain1\\\"]\\n)\";\n",
       "                var nbb_formatted_code = \"testNotCategoryObject[\\\"new_domain1\\\"] = np.where(\\n    testNotCategoryObject[\\\"new_domain1\\\"] == 0, \\\"M\\\", testNotCategoryObject[\\\"new_domain1\\\"]\\n)\";\n",
       "                var nbb_cells = Jupyter.notebook.get_cells();\n",
       "                for (var i = 0; i < nbb_cells.length; ++i) {\n",
       "                    if (nbb_cells[i].input_prompt_number == nbb_cell_id) {\n",
       "                        if (nbb_cells[i].get_text() == nbb_unformatted_code) {\n",
       "                             nbb_cells[i].set_text(nbb_formatted_code);\n",
       "                        }\n",
       "                        break;\n",
       "                    }\n",
       "                }\n",
       "            }, 500);\n",
       "            "
      ],
      "text/plain": [
       "<IPython.core.display.Javascript object>"
      ]
     },
     "metadata": {},
     "output_type": "display_data"
    }
   ],
   "source": [
    "testNotCategoryObject[\"new_domain1\"] = np.where(\n",
    "    testNotCategoryObject[\"new_domain1\"] == 0, \"M\", testNotCategoryObject[\"new_domain1\"]\n",
    ")"
   ]
  },
  {
   "cell_type": "code",
   "execution_count": 229,
   "id": "2b671171",
   "metadata": {},
   "outputs": [
    {
     "data": {
      "application/javascript": [
       "\n",
       "            setTimeout(function() {\n",
       "                var nbb_cell_id = 229;\n",
       "                var nbb_unformatted_code = \"testNotCategoryObject[\\\"had_id\\\"] = testNotCategoryObject.had_id.astype(\\\"category\\\")\\ntestNotCategoryObject[\\\"alertFeature\\\"] = testNotCategoryObject.alertFeature.astype(\\n    \\\"category\\\"\\n)\\ntestNotCategoryObject[\\\"new_domain\\\"] = testNotCategoryObject.new_domain.astype(\\n    \\\"category\\\"\\n)\\ntestNotCategoryObject[\\\"new_domain1\\\"] = testNotCategoryObject.new_domain1.astype(\\n    \\\"category\\\"\\n)\";\n",
       "                var nbb_formatted_code = \"testNotCategoryObject[\\\"had_id\\\"] = testNotCategoryObject.had_id.astype(\\\"category\\\")\\ntestNotCategoryObject[\\\"alertFeature\\\"] = testNotCategoryObject.alertFeature.astype(\\n    \\\"category\\\"\\n)\\ntestNotCategoryObject[\\\"new_domain\\\"] = testNotCategoryObject.new_domain.astype(\\n    \\\"category\\\"\\n)\\ntestNotCategoryObject[\\\"new_domain1\\\"] = testNotCategoryObject.new_domain1.astype(\\n    \\\"category\\\"\\n)\";\n",
       "                var nbb_cells = Jupyter.notebook.get_cells();\n",
       "                for (var i = 0; i < nbb_cells.length; ++i) {\n",
       "                    if (nbb_cells[i].input_prompt_number == nbb_cell_id) {\n",
       "                        if (nbb_cells[i].get_text() == nbb_unformatted_code) {\n",
       "                             nbb_cells[i].set_text(nbb_formatted_code);\n",
       "                        }\n",
       "                        break;\n",
       "                    }\n",
       "                }\n",
       "            }, 500);\n",
       "            "
      ],
      "text/plain": [
       "<IPython.core.display.Javascript object>"
      ]
     },
     "metadata": {},
     "output_type": "display_data"
    }
   ],
   "source": [
    "testNotCategoryObject[\"had_id\"] = testNotCategoryObject.had_id.astype(\"category\")\n",
    "testNotCategoryObject[\"alertFeature\"] = testNotCategoryObject.alertFeature.astype(\n",
    "    \"category\"\n",
    ")\n",
    "testNotCategoryObject[\"new_domain\"] = testNotCategoryObject.new_domain.astype(\n",
    "    \"category\"\n",
    ")\n",
    "testNotCategoryObject[\"new_domain1\"] = testNotCategoryObject.new_domain1.astype(\n",
    "    \"category\"\n",
    ")"
   ]
  },
  {
   "cell_type": "code",
   "execution_count": 230,
   "id": "46677e04",
   "metadata": {},
   "outputs": [
    {
     "data": {
      "text/html": [
       "<div>\n",
       "<style scoped>\n",
       "    .dataframe tbody tr th:only-of-type {\n",
       "        vertical-align: middle;\n",
       "    }\n",
       "\n",
       "    .dataframe tbody tr th {\n",
       "        vertical-align: top;\n",
       "    }\n",
       "\n",
       "    .dataframe thead th {\n",
       "        text-align: right;\n",
       "    }\n",
       "</style>\n",
       "<table border=\"1\" class=\"dataframe\">\n",
       "  <thead>\n",
       "    <tr style=\"text-align: right;\">\n",
       "      <th></th>\n",
       "      <th>alertFeature</th>\n",
       "      <th>had_id</th>\n",
       "      <th>new_domain</th>\n",
       "      <th>new_domain1</th>\n",
       "    </tr>\n",
       "  </thead>\n",
       "  <tbody>\n",
       "    <tr>\n",
       "      <th>0</th>\n",
       "      <td>lowalert</td>\n",
       "      <td>1</td>\n",
       "      <td>gmail</td>\n",
       "      <td>com</td>\n",
       "    </tr>\n",
       "    <tr>\n",
       "      <th>1</th>\n",
       "      <td>lowalert</td>\n",
       "      <td>1</td>\n",
       "      <td>aol</td>\n",
       "      <td>com</td>\n",
       "    </tr>\n",
       "    <tr>\n",
       "      <th>2</th>\n",
       "      <td>lowalert</td>\n",
       "      <td>1</td>\n",
       "      <td>hotmail</td>\n",
       "      <td>com</td>\n",
       "    </tr>\n",
       "    <tr>\n",
       "      <th>3</th>\n",
       "      <td>lowalert</td>\n",
       "      <td>1</td>\n",
       "      <td>gmail</td>\n",
       "      <td>com</td>\n",
       "    </tr>\n",
       "    <tr>\n",
       "      <th>4</th>\n",
       "      <td>lowalert</td>\n",
       "      <td>1</td>\n",
       "      <td>gmail</td>\n",
       "      <td>com</td>\n",
       "    </tr>\n",
       "  </tbody>\n",
       "</table>\n",
       "</div>"
      ],
      "text/plain": [
       "  alertFeature had_id new_domain new_domain1\n",
       "0     lowalert      1      gmail         com\n",
       "1     lowalert      1        aol         com\n",
       "2     lowalert      1    hotmail         com\n",
       "3     lowalert      1      gmail         com\n",
       "4     lowalert      1      gmail         com"
      ]
     },
     "execution_count": 230,
     "metadata": {},
     "output_type": "execute_result"
    },
    {
     "data": {
      "application/javascript": [
       "\n",
       "            setTimeout(function() {\n",
       "                var nbb_cell_id = 230;\n",
       "                var nbb_unformatted_code = \"testNotCategoryObject.head()\";\n",
       "                var nbb_formatted_code = \"testNotCategoryObject.head()\";\n",
       "                var nbb_cells = Jupyter.notebook.get_cells();\n",
       "                for (var i = 0; i < nbb_cells.length; ++i) {\n",
       "                    if (nbb_cells[i].input_prompt_number == nbb_cell_id) {\n",
       "                        if (nbb_cells[i].get_text() == nbb_unformatted_code) {\n",
       "                             nbb_cells[i].set_text(nbb_formatted_code);\n",
       "                        }\n",
       "                        break;\n",
       "                    }\n",
       "                }\n",
       "            }, 500);\n",
       "            "
      ],
      "text/plain": [
       "<IPython.core.display.Javascript object>"
      ]
     },
     "metadata": {},
     "output_type": "display_data"
    }
   ],
   "source": [
    "testNotCategoryObject.head()"
   ]
  },
  {
   "cell_type": "code",
   "execution_count": 231,
   "id": "0a7c91a8",
   "metadata": {},
   "outputs": [
    {
     "data": {
      "application/javascript": [
       "\n",
       "            setTimeout(function() {\n",
       "                var nbb_cell_id = 231;\n",
       "                var nbb_unformatted_code = \"for columns in testNotCategoryObject.columns:\\n    testNotCategoryObject[columns] = le.fit_transform(testNotCategoryObject[columns])\";\n",
       "                var nbb_formatted_code = \"for columns in testNotCategoryObject.columns:\\n    testNotCategoryObject[columns] = le.fit_transform(testNotCategoryObject[columns])\";\n",
       "                var nbb_cells = Jupyter.notebook.get_cells();\n",
       "                for (var i = 0; i < nbb_cells.length; ++i) {\n",
       "                    if (nbb_cells[i].input_prompt_number == nbb_cell_id) {\n",
       "                        if (nbb_cells[i].get_text() == nbb_unformatted_code) {\n",
       "                             nbb_cells[i].set_text(nbb_formatted_code);\n",
       "                        }\n",
       "                        break;\n",
       "                    }\n",
       "                }\n",
       "            }, 500);\n",
       "            "
      ],
      "text/plain": [
       "<IPython.core.display.Javascript object>"
      ]
     },
     "metadata": {},
     "output_type": "display_data"
    }
   ],
   "source": [
    "for columns in testNotCategoryObject.columns:\n",
    "    testNotCategoryObject[columns] = le.fit_transform(testNotCategoryObject[columns])"
   ]
  },
  {
   "cell_type": "code",
   "execution_count": 232,
   "id": "596adf3c",
   "metadata": {},
   "outputs": [
    {
     "data": {
      "text/html": [
       "<div>\n",
       "<style scoped>\n",
       "    .dataframe tbody tr th:only-of-type {\n",
       "        vertical-align: middle;\n",
       "    }\n",
       "\n",
       "    .dataframe tbody tr th {\n",
       "        vertical-align: top;\n",
       "    }\n",
       "\n",
       "    .dataframe thead th {\n",
       "        text-align: right;\n",
       "    }\n",
       "</style>\n",
       "<table border=\"1\" class=\"dataframe\">\n",
       "  <thead>\n",
       "    <tr style=\"text-align: right;\">\n",
       "      <th></th>\n",
       "      <th>alertFeature</th>\n",
       "      <th>had_id</th>\n",
       "      <th>new_domain</th>\n",
       "      <th>new_domain1</th>\n",
       "    </tr>\n",
       "  </thead>\n",
       "  <tbody>\n",
       "    <tr>\n",
       "      <th>0</th>\n",
       "      <td>1</td>\n",
       "      <td>0</td>\n",
       "      <td>16</td>\n",
       "      <td>4</td>\n",
       "    </tr>\n",
       "    <tr>\n",
       "      <th>1</th>\n",
       "      <td>1</td>\n",
       "      <td>0</td>\n",
       "      <td>3</td>\n",
       "      <td>4</td>\n",
       "    </tr>\n",
       "    <tr>\n",
       "      <th>2</th>\n",
       "      <td>1</td>\n",
       "      <td>0</td>\n",
       "      <td>18</td>\n",
       "      <td>4</td>\n",
       "    </tr>\n",
       "    <tr>\n",
       "      <th>3</th>\n",
       "      <td>1</td>\n",
       "      <td>0</td>\n",
       "      <td>16</td>\n",
       "      <td>4</td>\n",
       "    </tr>\n",
       "    <tr>\n",
       "      <th>4</th>\n",
       "      <td>1</td>\n",
       "      <td>0</td>\n",
       "      <td>16</td>\n",
       "      <td>4</td>\n",
       "    </tr>\n",
       "  </tbody>\n",
       "</table>\n",
       "</div>"
      ],
      "text/plain": [
       "   alertFeature  had_id  new_domain  new_domain1\n",
       "0             1       0          16            4\n",
       "1             1       0           3            4\n",
       "2             1       0          18            4\n",
       "3             1       0          16            4\n",
       "4             1       0          16            4"
      ]
     },
     "execution_count": 232,
     "metadata": {},
     "output_type": "execute_result"
    },
    {
     "data": {
      "application/javascript": [
       "\n",
       "            setTimeout(function() {\n",
       "                var nbb_cell_id = 232;\n",
       "                var nbb_unformatted_code = \"testNotCategoryObject.head()\";\n",
       "                var nbb_formatted_code = \"testNotCategoryObject.head()\";\n",
       "                var nbb_cells = Jupyter.notebook.get_cells();\n",
       "                for (var i = 0; i < nbb_cells.length; ++i) {\n",
       "                    if (nbb_cells[i].input_prompt_number == nbb_cell_id) {\n",
       "                        if (nbb_cells[i].get_text() == nbb_unformatted_code) {\n",
       "                             nbb_cells[i].set_text(nbb_formatted_code);\n",
       "                        }\n",
       "                        break;\n",
       "                    }\n",
       "                }\n",
       "            }, 500);\n",
       "            "
      ],
      "text/plain": [
       "<IPython.core.display.Javascript object>"
      ]
     },
     "metadata": {},
     "output_type": "display_data"
    }
   ],
   "source": [
    "testNotCategoryObject.head()"
   ]
  },
  {
   "cell_type": "code",
   "execution_count": 233,
   "id": "84257f9d",
   "metadata": {},
   "outputs": [
    {
     "data": {
      "application/javascript": [
       "\n",
       "            setTimeout(function() {\n",
       "                var nbb_cell_id = 233;\n",
       "                var nbb_unformatted_code = \"testNotCategory = testNotCategoryNumber.merge(\\n    testNotCategoryObject, left_index=True, right_index=True\\n)\";\n",
       "                var nbb_formatted_code = \"testNotCategory = testNotCategoryNumber.merge(\\n    testNotCategoryObject, left_index=True, right_index=True\\n)\";\n",
       "                var nbb_cells = Jupyter.notebook.get_cells();\n",
       "                for (var i = 0; i < nbb_cells.length; ++i) {\n",
       "                    if (nbb_cells[i].input_prompt_number == nbb_cell_id) {\n",
       "                        if (nbb_cells[i].get_text() == nbb_unformatted_code) {\n",
       "                             nbb_cells[i].set_text(nbb_formatted_code);\n",
       "                        }\n",
       "                        break;\n",
       "                    }\n",
       "                }\n",
       "            }, 500);\n",
       "            "
      ],
      "text/plain": [
       "<IPython.core.display.Javascript object>"
      ]
     },
     "metadata": {},
     "output_type": "display_data"
    }
   ],
   "source": [
    "testNotCategory = testNotCategoryNumber.merge(\n",
    "    testNotCategoryObject, left_index=True, right_index=True\n",
    ")"
   ]
  },
  {
   "cell_type": "code",
   "execution_count": 234,
   "id": "5b5db2d6",
   "metadata": {},
   "outputs": [
    {
     "data": {
      "text/html": [
       "<div>\n",
       "<style scoped>\n",
       "    .dataframe tbody tr th:only-of-type {\n",
       "        vertical-align: middle;\n",
       "    }\n",
       "\n",
       "    .dataframe tbody tr th {\n",
       "        vertical-align: top;\n",
       "    }\n",
       "\n",
       "    .dataframe thead th {\n",
       "        text-align: right;\n",
       "    }\n",
       "</style>\n",
       "<table border=\"1\" class=\"dataframe\">\n",
       "  <thead>\n",
       "    <tr style=\"text-align: right;\">\n",
       "      <th></th>\n",
       "      <th>TransactionAmt</th>\n",
       "      <th>card1</th>\n",
       "      <th>card2</th>\n",
       "      <th>card3</th>\n",
       "      <th>card5</th>\n",
       "      <th>addr1</th>\n",
       "      <th>addr2</th>\n",
       "      <th>dist1</th>\n",
       "      <th>C1</th>\n",
       "      <th>C2</th>\n",
       "      <th>...</th>\n",
       "      <th>D15_to_mean_card1</th>\n",
       "      <th>D15_to_mean_card4</th>\n",
       "      <th>D15_to_std_card1</th>\n",
       "      <th>D15_to_std_card4</th>\n",
       "      <th>D15_to_mean_addr1</th>\n",
       "      <th>D15_to_std_addr1</th>\n",
       "      <th>alertFeature</th>\n",
       "      <th>had_id</th>\n",
       "      <th>new_domain</th>\n",
       "      <th>new_domain1</th>\n",
       "    </tr>\n",
       "  </thead>\n",
       "  <tbody>\n",
       "    <tr>\n",
       "      <th>0</th>\n",
       "      <td>31.953125</td>\n",
       "      <td>10409</td>\n",
       "      <td>111.0</td>\n",
       "      <td>150.0</td>\n",
       "      <td>226.0</td>\n",
       "      <td>170.0</td>\n",
       "      <td>87.0</td>\n",
       "      <td>1.0</td>\n",
       "      <td>6.0</td>\n",
       "      <td>6.0</td>\n",
       "      <td>...</td>\n",
       "      <td>1.065430</td>\n",
       "      <td>1.925781</td>\n",
       "      <td>1.665603</td>\n",
       "      <td>1.502141</td>\n",
       "      <td>1.557617</td>\n",
       "      <td>1.450810</td>\n",
       "      <td>1</td>\n",
       "      <td>0</td>\n",
       "      <td>16</td>\n",
       "      <td>4</td>\n",
       "    </tr>\n",
       "    <tr>\n",
       "      <th>1</th>\n",
       "      <td>49.000000</td>\n",
       "      <td>4272</td>\n",
       "      <td>111.0</td>\n",
       "      <td>150.0</td>\n",
       "      <td>226.0</td>\n",
       "      <td>299.0</td>\n",
       "      <td>87.0</td>\n",
       "      <td>4.0</td>\n",
       "      <td>3.0</td>\n",
       "      <td>2.0</td>\n",
       "      <td>...</td>\n",
       "      <td>2.154297</td>\n",
       "      <td>2.984375</td>\n",
       "      <td>2.047675</td>\n",
       "      <td>2.328502</td>\n",
       "      <td>3.033203</td>\n",
       "      <td>2.300422</td>\n",
       "      <td>1</td>\n",
       "      <td>0</td>\n",
       "      <td>3</td>\n",
       "      <td>4</td>\n",
       "    </tr>\n",
       "    <tr>\n",
       "      <th>2</th>\n",
       "      <td>171.000000</td>\n",
       "      <td>4476</td>\n",
       "      <td>574.0</td>\n",
       "      <td>150.0</td>\n",
       "      <td>226.0</td>\n",
       "      <td>472.0</td>\n",
       "      <td>87.0</td>\n",
       "      <td>2636.0</td>\n",
       "      <td>2.0</td>\n",
       "      <td>2.0</td>\n",
       "      <td>...</td>\n",
       "      <td>0.280029</td>\n",
       "      <td>0.456787</td>\n",
       "      <td>0.339451</td>\n",
       "      <td>0.356253</td>\n",
       "      <td>0.457031</td>\n",
       "      <td>0.351657</td>\n",
       "      <td>1</td>\n",
       "      <td>0</td>\n",
       "      <td>18</td>\n",
       "      <td>4</td>\n",
       "    </tr>\n",
       "    <tr>\n",
       "      <th>3</th>\n",
       "      <td>285.000000</td>\n",
       "      <td>10989</td>\n",
       "      <td>360.0</td>\n",
       "      <td>150.0</td>\n",
       "      <td>166.0</td>\n",
       "      <td>205.0</td>\n",
       "      <td>87.0</td>\n",
       "      <td>17.0</td>\n",
       "      <td>5.0</td>\n",
       "      <td>2.0</td>\n",
       "      <td>...</td>\n",
       "      <td>1.579102</td>\n",
       "      <td>1.139648</td>\n",
       "      <td>1.130023</td>\n",
       "      <td>0.888797</td>\n",
       "      <td>1.020508</td>\n",
       "      <td>0.901970</td>\n",
       "      <td>1</td>\n",
       "      <td>0</td>\n",
       "      <td>16</td>\n",
       "      <td>4</td>\n",
       "    </tr>\n",
       "    <tr>\n",
       "      <th>4</th>\n",
       "      <td>67.937500</td>\n",
       "      <td>18018</td>\n",
       "      <td>452.0</td>\n",
       "      <td>150.0</td>\n",
       "      <td>117.0</td>\n",
       "      <td>264.0</td>\n",
       "      <td>87.0</td>\n",
       "      <td>6.0</td>\n",
       "      <td>6.0</td>\n",
       "      <td>6.0</td>\n",
       "      <td>...</td>\n",
       "      <td>0.085876</td>\n",
       "      <td>0.109680</td>\n",
       "      <td>0.075361</td>\n",
       "      <td>0.083425</td>\n",
       "      <td>0.098999</td>\n",
       "      <td>0.080181</td>\n",
       "      <td>1</td>\n",
       "      <td>0</td>\n",
       "      <td>16</td>\n",
       "      <td>4</td>\n",
       "    </tr>\n",
       "  </tbody>\n",
       "</table>\n",
       "<p>5 rows × 251 columns</p>\n",
       "</div>"
      ],
      "text/plain": [
       "   TransactionAmt  card1  card2  card3  card5  addr1  addr2   dist1   C1   C2  \\\n",
       "0       31.953125  10409  111.0  150.0  226.0  170.0   87.0     1.0  6.0  6.0   \n",
       "1       49.000000   4272  111.0  150.0  226.0  299.0   87.0     4.0  3.0  2.0   \n",
       "2      171.000000   4476  574.0  150.0  226.0  472.0   87.0  2636.0  2.0  2.0   \n",
       "3      285.000000  10989  360.0  150.0  166.0  205.0   87.0    17.0  5.0  2.0   \n",
       "4       67.937500  18018  452.0  150.0  117.0  264.0   87.0     6.0  6.0  6.0   \n",
       "\n",
       "   ...  D15_to_mean_card1  D15_to_mean_card4  D15_to_std_card1  \\\n",
       "0  ...           1.065430           1.925781          1.665603   \n",
       "1  ...           2.154297           2.984375          2.047675   \n",
       "2  ...           0.280029           0.456787          0.339451   \n",
       "3  ...           1.579102           1.139648          1.130023   \n",
       "4  ...           0.085876           0.109680          0.075361   \n",
       "\n",
       "   D15_to_std_card4  D15_to_mean_addr1  D15_to_std_addr1  alertFeature  \\\n",
       "0          1.502141           1.557617          1.450810             1   \n",
       "1          2.328502           3.033203          2.300422             1   \n",
       "2          0.356253           0.457031          0.351657             1   \n",
       "3          0.888797           1.020508          0.901970             1   \n",
       "4          0.083425           0.098999          0.080181             1   \n",
       "\n",
       "   had_id  new_domain  new_domain1  \n",
       "0       0          16            4  \n",
       "1       0           3            4  \n",
       "2       0          18            4  \n",
       "3       0          16            4  \n",
       "4       0          16            4  \n",
       "\n",
       "[5 rows x 251 columns]"
      ]
     },
     "execution_count": 234,
     "metadata": {},
     "output_type": "execute_result"
    },
    {
     "data": {
      "application/javascript": [
       "\n",
       "            setTimeout(function() {\n",
       "                var nbb_cell_id = 234;\n",
       "                var nbb_unformatted_code = \"testNotCategory.head()\";\n",
       "                var nbb_formatted_code = \"testNotCategory.head()\";\n",
       "                var nbb_cells = Jupyter.notebook.get_cells();\n",
       "                for (var i = 0; i < nbb_cells.length; ++i) {\n",
       "                    if (nbb_cells[i].input_prompt_number == nbb_cell_id) {\n",
       "                        if (nbb_cells[i].get_text() == nbb_unformatted_code) {\n",
       "                             nbb_cells[i].set_text(nbb_formatted_code);\n",
       "                        }\n",
       "                        break;\n",
       "                    }\n",
       "                }\n",
       "            }, 500);\n",
       "            "
      ],
      "text/plain": [
       "<IPython.core.display.Javascript object>"
      ]
     },
     "metadata": {},
     "output_type": "display_data"
    }
   ],
   "source": [
    "testNotCategory.head()"
   ]
  },
  {
   "cell_type": "code",
   "execution_count": 235,
   "id": "1db66abe",
   "metadata": {},
   "outputs": [
    {
     "data": {
      "text/html": [
       "<div>\n",
       "<style scoped>\n",
       "    .dataframe tbody tr th:only-of-type {\n",
       "        vertical-align: middle;\n",
       "    }\n",
       "\n",
       "    .dataframe tbody tr th {\n",
       "        vertical-align: top;\n",
       "    }\n",
       "\n",
       "    .dataframe thead th {\n",
       "        text-align: right;\n",
       "    }\n",
       "</style>\n",
       "<table border=\"1\" class=\"dataframe\">\n",
       "  <thead>\n",
       "    <tr style=\"text-align: right;\">\n",
       "      <th></th>\n",
       "      <th>ProductCD</th>\n",
       "      <th>card4</th>\n",
       "      <th>card6</th>\n",
       "      <th>M1</th>\n",
       "      <th>M2</th>\n",
       "      <th>M3</th>\n",
       "      <th>M4</th>\n",
       "      <th>M6</th>\n",
       "      <th>M7</th>\n",
       "      <th>M8</th>\n",
       "      <th>M9</th>\n",
       "    </tr>\n",
       "  </thead>\n",
       "  <tbody>\n",
       "    <tr>\n",
       "      <th>0</th>\n",
       "      <td>4</td>\n",
       "      <td>4</td>\n",
       "      <td>3</td>\n",
       "      <td>1</td>\n",
       "      <td>1</td>\n",
       "      <td>0</td>\n",
       "      <td>0</td>\n",
       "      <td>0</td>\n",
       "      <td>1</td>\n",
       "      <td>1</td>\n",
       "      <td>1</td>\n",
       "    </tr>\n",
       "    <tr>\n",
       "      <th>1</th>\n",
       "      <td>4</td>\n",
       "      <td>4</td>\n",
       "      <td>3</td>\n",
       "      <td>1</td>\n",
       "      <td>0</td>\n",
       "      <td>0</td>\n",
       "      <td>0</td>\n",
       "      <td>0</td>\n",
       "      <td>0</td>\n",
       "      <td>0</td>\n",
       "      <td>0</td>\n",
       "    </tr>\n",
       "    <tr>\n",
       "      <th>2</th>\n",
       "      <td>4</td>\n",
       "      <td>4</td>\n",
       "      <td>3</td>\n",
       "      <td>1</td>\n",
       "      <td>1</td>\n",
       "      <td>0</td>\n",
       "      <td>0</td>\n",
       "      <td>0</td>\n",
       "      <td>0</td>\n",
       "      <td>0</td>\n",
       "      <td>0</td>\n",
       "    </tr>\n",
       "    <tr>\n",
       "      <th>3</th>\n",
       "      <td>4</td>\n",
       "      <td>4</td>\n",
       "      <td>3</td>\n",
       "      <td>1</td>\n",
       "      <td>1</td>\n",
       "      <td>1</td>\n",
       "      <td>0</td>\n",
       "      <td>1</td>\n",
       "      <td>0</td>\n",
       "      <td>0</td>\n",
       "      <td>0</td>\n",
       "    </tr>\n",
       "    <tr>\n",
       "      <th>4</th>\n",
       "      <td>4</td>\n",
       "      <td>3</td>\n",
       "      <td>3</td>\n",
       "      <td>1</td>\n",
       "      <td>1</td>\n",
       "      <td>1</td>\n",
       "      <td>0</td>\n",
       "      <td>0</td>\n",
       "      <td>0</td>\n",
       "      <td>1</td>\n",
       "      <td>1</td>\n",
       "    </tr>\n",
       "  </tbody>\n",
       "</table>\n",
       "</div>"
      ],
      "text/plain": [
       "   ProductCD  card4  card6  M1  M2  M3  M4  M6  M7  M8  M9\n",
       "0          4      4      3   1   1   0   0   0   1   1   1\n",
       "1          4      4      3   1   0   0   0   0   0   0   0\n",
       "2          4      4      3   1   1   0   0   0   0   0   0\n",
       "3          4      4      3   1   1   1   0   1   0   0   0\n",
       "4          4      3      3   1   1   1   0   0   0   1   1"
      ]
     },
     "execution_count": 235,
     "metadata": {},
     "output_type": "execute_result"
    },
    {
     "data": {
      "application/javascript": [
       "\n",
       "            setTimeout(function() {\n",
       "                var nbb_cell_id = 235;\n",
       "                var nbb_unformatted_code = \"testCategory.head()\";\n",
       "                var nbb_formatted_code = \"testCategory.head()\";\n",
       "                var nbb_cells = Jupyter.notebook.get_cells();\n",
       "                for (var i = 0; i < nbb_cells.length; ++i) {\n",
       "                    if (nbb_cells[i].input_prompt_number == nbb_cell_id) {\n",
       "                        if (nbb_cells[i].get_text() == nbb_unformatted_code) {\n",
       "                             nbb_cells[i].set_text(nbb_formatted_code);\n",
       "                        }\n",
       "                        break;\n",
       "                    }\n",
       "                }\n",
       "            }, 500);\n",
       "            "
      ],
      "text/plain": [
       "<IPython.core.display.Javascript object>"
      ]
     },
     "metadata": {},
     "output_type": "display_data"
    }
   ],
   "source": [
    "testCategory.head()\n"
   ]
  },
  {
   "cell_type": "code",
   "execution_count": 236,
   "id": "8ac29872",
   "metadata": {},
   "outputs": [
    {
     "data": {
      "application/javascript": [
       "\n",
       "            setTimeout(function() {\n",
       "                var nbb_cell_id = 236;\n",
       "                var nbb_unformatted_code = \"testDf = testNotCategory.merge(testCategory, left_index=True, right_index=True)\";\n",
       "                var nbb_formatted_code = \"testDf = testNotCategory.merge(testCategory, left_index=True, right_index=True)\";\n",
       "                var nbb_cells = Jupyter.notebook.get_cells();\n",
       "                for (var i = 0; i < nbb_cells.length; ++i) {\n",
       "                    if (nbb_cells[i].input_prompt_number == nbb_cell_id) {\n",
       "                        if (nbb_cells[i].get_text() == nbb_unformatted_code) {\n",
       "                             nbb_cells[i].set_text(nbb_formatted_code);\n",
       "                        }\n",
       "                        break;\n",
       "                    }\n",
       "                }\n",
       "            }, 500);\n",
       "            "
      ],
      "text/plain": [
       "<IPython.core.display.Javascript object>"
      ]
     },
     "metadata": {},
     "output_type": "display_data"
    }
   ],
   "source": [
    "testDf = testNotCategory.merge(testCategory, left_index=True, right_index=True)"
   ]
  },
  {
   "cell_type": "code",
   "execution_count": 237,
   "id": "14aeab47",
   "metadata": {},
   "outputs": [
    {
     "data": {
      "text/html": [
       "<div>\n",
       "<style scoped>\n",
       "    .dataframe tbody tr th:only-of-type {\n",
       "        vertical-align: middle;\n",
       "    }\n",
       "\n",
       "    .dataframe tbody tr th {\n",
       "        vertical-align: top;\n",
       "    }\n",
       "\n",
       "    .dataframe thead th {\n",
       "        text-align: right;\n",
       "    }\n",
       "</style>\n",
       "<table border=\"1\" class=\"dataframe\">\n",
       "  <thead>\n",
       "    <tr style=\"text-align: right;\">\n",
       "      <th></th>\n",
       "      <th>TransactionAmt</th>\n",
       "      <th>card1</th>\n",
       "      <th>card2</th>\n",
       "      <th>card3</th>\n",
       "      <th>card5</th>\n",
       "      <th>addr1</th>\n",
       "      <th>addr2</th>\n",
       "      <th>dist1</th>\n",
       "      <th>C1</th>\n",
       "      <th>C2</th>\n",
       "      <th>...</th>\n",
       "      <th>card4</th>\n",
       "      <th>card6</th>\n",
       "      <th>M1</th>\n",
       "      <th>M2</th>\n",
       "      <th>M3</th>\n",
       "      <th>M4</th>\n",
       "      <th>M6</th>\n",
       "      <th>M7</th>\n",
       "      <th>M8</th>\n",
       "      <th>M9</th>\n",
       "    </tr>\n",
       "  </thead>\n",
       "  <tbody>\n",
       "    <tr>\n",
       "      <th>0</th>\n",
       "      <td>31.953125</td>\n",
       "      <td>10409</td>\n",
       "      <td>111.0</td>\n",
       "      <td>150.0</td>\n",
       "      <td>226.0</td>\n",
       "      <td>170.0</td>\n",
       "      <td>87.0</td>\n",
       "      <td>1.0</td>\n",
       "      <td>6.0</td>\n",
       "      <td>6.0</td>\n",
       "      <td>...</td>\n",
       "      <td>4</td>\n",
       "      <td>3</td>\n",
       "      <td>1</td>\n",
       "      <td>1</td>\n",
       "      <td>0</td>\n",
       "      <td>0</td>\n",
       "      <td>0</td>\n",
       "      <td>1</td>\n",
       "      <td>1</td>\n",
       "      <td>1</td>\n",
       "    </tr>\n",
       "    <tr>\n",
       "      <th>1</th>\n",
       "      <td>49.000000</td>\n",
       "      <td>4272</td>\n",
       "      <td>111.0</td>\n",
       "      <td>150.0</td>\n",
       "      <td>226.0</td>\n",
       "      <td>299.0</td>\n",
       "      <td>87.0</td>\n",
       "      <td>4.0</td>\n",
       "      <td>3.0</td>\n",
       "      <td>2.0</td>\n",
       "      <td>...</td>\n",
       "      <td>4</td>\n",
       "      <td>3</td>\n",
       "      <td>1</td>\n",
       "      <td>0</td>\n",
       "      <td>0</td>\n",
       "      <td>0</td>\n",
       "      <td>0</td>\n",
       "      <td>0</td>\n",
       "      <td>0</td>\n",
       "      <td>0</td>\n",
       "    </tr>\n",
       "    <tr>\n",
       "      <th>2</th>\n",
       "      <td>171.000000</td>\n",
       "      <td>4476</td>\n",
       "      <td>574.0</td>\n",
       "      <td>150.0</td>\n",
       "      <td>226.0</td>\n",
       "      <td>472.0</td>\n",
       "      <td>87.0</td>\n",
       "      <td>2636.0</td>\n",
       "      <td>2.0</td>\n",
       "      <td>2.0</td>\n",
       "      <td>...</td>\n",
       "      <td>4</td>\n",
       "      <td>3</td>\n",
       "      <td>1</td>\n",
       "      <td>1</td>\n",
       "      <td>0</td>\n",
       "      <td>0</td>\n",
       "      <td>0</td>\n",
       "      <td>0</td>\n",
       "      <td>0</td>\n",
       "      <td>0</td>\n",
       "    </tr>\n",
       "    <tr>\n",
       "      <th>3</th>\n",
       "      <td>285.000000</td>\n",
       "      <td>10989</td>\n",
       "      <td>360.0</td>\n",
       "      <td>150.0</td>\n",
       "      <td>166.0</td>\n",
       "      <td>205.0</td>\n",
       "      <td>87.0</td>\n",
       "      <td>17.0</td>\n",
       "      <td>5.0</td>\n",
       "      <td>2.0</td>\n",
       "      <td>...</td>\n",
       "      <td>4</td>\n",
       "      <td>3</td>\n",
       "      <td>1</td>\n",
       "      <td>1</td>\n",
       "      <td>1</td>\n",
       "      <td>0</td>\n",
       "      <td>1</td>\n",
       "      <td>0</td>\n",
       "      <td>0</td>\n",
       "      <td>0</td>\n",
       "    </tr>\n",
       "    <tr>\n",
       "      <th>4</th>\n",
       "      <td>67.937500</td>\n",
       "      <td>18018</td>\n",
       "      <td>452.0</td>\n",
       "      <td>150.0</td>\n",
       "      <td>117.0</td>\n",
       "      <td>264.0</td>\n",
       "      <td>87.0</td>\n",
       "      <td>6.0</td>\n",
       "      <td>6.0</td>\n",
       "      <td>6.0</td>\n",
       "      <td>...</td>\n",
       "      <td>3</td>\n",
       "      <td>3</td>\n",
       "      <td>1</td>\n",
       "      <td>1</td>\n",
       "      <td>1</td>\n",
       "      <td>0</td>\n",
       "      <td>0</td>\n",
       "      <td>0</td>\n",
       "      <td>1</td>\n",
       "      <td>1</td>\n",
       "    </tr>\n",
       "  </tbody>\n",
       "</table>\n",
       "<p>5 rows × 262 columns</p>\n",
       "</div>"
      ],
      "text/plain": [
       "   TransactionAmt  card1  card2  card3  card5  addr1  addr2   dist1   C1   C2  \\\n",
       "0       31.953125  10409  111.0  150.0  226.0  170.0   87.0     1.0  6.0  6.0   \n",
       "1       49.000000   4272  111.0  150.0  226.0  299.0   87.0     4.0  3.0  2.0   \n",
       "2      171.000000   4476  574.0  150.0  226.0  472.0   87.0  2636.0  2.0  2.0   \n",
       "3      285.000000  10989  360.0  150.0  166.0  205.0   87.0    17.0  5.0  2.0   \n",
       "4       67.937500  18018  452.0  150.0  117.0  264.0   87.0     6.0  6.0  6.0   \n",
       "\n",
       "   ...  card4  card6  M1  M2  M3  M4  M6  M7  M8  M9  \n",
       "0  ...      4      3   1   1   0   0   0   1   1   1  \n",
       "1  ...      4      3   1   0   0   0   0   0   0   0  \n",
       "2  ...      4      3   1   1   0   0   0   0   0   0  \n",
       "3  ...      4      3   1   1   1   0   1   0   0   0  \n",
       "4  ...      3      3   1   1   1   0   0   0   1   1  \n",
       "\n",
       "[5 rows x 262 columns]"
      ]
     },
     "execution_count": 237,
     "metadata": {},
     "output_type": "execute_result"
    },
    {
     "data": {
      "application/javascript": [
       "\n",
       "            setTimeout(function() {\n",
       "                var nbb_cell_id = 237;\n",
       "                var nbb_unformatted_code = \"testDf.head()\";\n",
       "                var nbb_formatted_code = \"testDf.head()\";\n",
       "                var nbb_cells = Jupyter.notebook.get_cells();\n",
       "                for (var i = 0; i < nbb_cells.length; ++i) {\n",
       "                    if (nbb_cells[i].input_prompt_number == nbb_cell_id) {\n",
       "                        if (nbb_cells[i].get_text() == nbb_unformatted_code) {\n",
       "                             nbb_cells[i].set_text(nbb_formatted_code);\n",
       "                        }\n",
       "                        break;\n",
       "                    }\n",
       "                }\n",
       "            }, 500);\n",
       "            "
      ],
      "text/plain": [
       "<IPython.core.display.Javascript object>"
      ]
     },
     "metadata": {},
     "output_type": "display_data"
    }
   ],
   "source": [
    "testDf.head()"
   ]
  },
  {
   "cell_type": "code",
   "execution_count": 238,
   "id": "8f2ad0cc",
   "metadata": {},
   "outputs": [
    {
     "data": {
      "text/html": [
       "<div>\n",
       "<style scoped>\n",
       "    .dataframe tbody tr th:only-of-type {\n",
       "        vertical-align: middle;\n",
       "    }\n",
       "\n",
       "    .dataframe tbody tr th {\n",
       "        vertical-align: top;\n",
       "    }\n",
       "\n",
       "    .dataframe thead th {\n",
       "        text-align: right;\n",
       "    }\n",
       "</style>\n",
       "<table border=\"1\" class=\"dataframe\">\n",
       "  <thead>\n",
       "    <tr style=\"text-align: right;\">\n",
       "      <th></th>\n",
       "      <th>isFraud</th>\n",
       "      <th>TransactionAmt</th>\n",
       "      <th>card1</th>\n",
       "      <th>card2</th>\n",
       "      <th>card3</th>\n",
       "      <th>card5</th>\n",
       "      <th>addr1</th>\n",
       "      <th>addr2</th>\n",
       "      <th>dist1</th>\n",
       "      <th>C1</th>\n",
       "      <th>...</th>\n",
       "      <th>card4</th>\n",
       "      <th>card6</th>\n",
       "      <th>M1</th>\n",
       "      <th>M2</th>\n",
       "      <th>M3</th>\n",
       "      <th>M4</th>\n",
       "      <th>M6</th>\n",
       "      <th>M7</th>\n",
       "      <th>M8</th>\n",
       "      <th>M9</th>\n",
       "    </tr>\n",
       "  </thead>\n",
       "  <tbody>\n",
       "    <tr>\n",
       "      <th>0</th>\n",
       "      <td>0</td>\n",
       "      <td>68.5</td>\n",
       "      <td>13926</td>\n",
       "      <td>0.0</td>\n",
       "      <td>150.0</td>\n",
       "      <td>142.0</td>\n",
       "      <td>315.0</td>\n",
       "      <td>87.0</td>\n",
       "      <td>19.0</td>\n",
       "      <td>1.0</td>\n",
       "      <td>...</td>\n",
       "      <td>2</td>\n",
       "      <td>2</td>\n",
       "      <td>1</td>\n",
       "      <td>1</td>\n",
       "      <td>1</td>\n",
       "      <td>0</td>\n",
       "      <td>1</td>\n",
       "      <td>0</td>\n",
       "      <td>0</td>\n",
       "      <td>0</td>\n",
       "    </tr>\n",
       "    <tr>\n",
       "      <th>1</th>\n",
       "      <td>0</td>\n",
       "      <td>29.0</td>\n",
       "      <td>2755</td>\n",
       "      <td>404.0</td>\n",
       "      <td>150.0</td>\n",
       "      <td>102.0</td>\n",
       "      <td>325.0</td>\n",
       "      <td>87.0</td>\n",
       "      <td>0.0</td>\n",
       "      <td>1.0</td>\n",
       "      <td>...</td>\n",
       "      <td>3</td>\n",
       "      <td>2</td>\n",
       "      <td>0</td>\n",
       "      <td>0</td>\n",
       "      <td>0</td>\n",
       "      <td>0</td>\n",
       "      <td>1</td>\n",
       "      <td>0</td>\n",
       "      <td>0</td>\n",
       "      <td>0</td>\n",
       "    </tr>\n",
       "    <tr>\n",
       "      <th>2</th>\n",
       "      <td>0</td>\n",
       "      <td>59.0</td>\n",
       "      <td>4663</td>\n",
       "      <td>490.0</td>\n",
       "      <td>150.0</td>\n",
       "      <td>166.0</td>\n",
       "      <td>330.0</td>\n",
       "      <td>87.0</td>\n",
       "      <td>287.0</td>\n",
       "      <td>1.0</td>\n",
       "      <td>...</td>\n",
       "      <td>4</td>\n",
       "      <td>3</td>\n",
       "      <td>1</td>\n",
       "      <td>1</td>\n",
       "      <td>1</td>\n",
       "      <td>0</td>\n",
       "      <td>0</td>\n",
       "      <td>0</td>\n",
       "      <td>0</td>\n",
       "      <td>0</td>\n",
       "    </tr>\n",
       "    <tr>\n",
       "      <th>3</th>\n",
       "      <td>0</td>\n",
       "      <td>50.0</td>\n",
       "      <td>18132</td>\n",
       "      <td>567.0</td>\n",
       "      <td>150.0</td>\n",
       "      <td>117.0</td>\n",
       "      <td>476.0</td>\n",
       "      <td>87.0</td>\n",
       "      <td>0.0</td>\n",
       "      <td>2.0</td>\n",
       "      <td>...</td>\n",
       "      <td>3</td>\n",
       "      <td>3</td>\n",
       "      <td>0</td>\n",
       "      <td>0</td>\n",
       "      <td>0</td>\n",
       "      <td>0</td>\n",
       "      <td>0</td>\n",
       "      <td>0</td>\n",
       "      <td>0</td>\n",
       "      <td>0</td>\n",
       "    </tr>\n",
       "    <tr>\n",
       "      <th>4</th>\n",
       "      <td>0</td>\n",
       "      <td>50.0</td>\n",
       "      <td>4497</td>\n",
       "      <td>514.0</td>\n",
       "      <td>150.0</td>\n",
       "      <td>102.0</td>\n",
       "      <td>420.0</td>\n",
       "      <td>87.0</td>\n",
       "      <td>0.0</td>\n",
       "      <td>1.0</td>\n",
       "      <td>...</td>\n",
       "      <td>3</td>\n",
       "      <td>2</td>\n",
       "      <td>0</td>\n",
       "      <td>0</td>\n",
       "      <td>0</td>\n",
       "      <td>0</td>\n",
       "      <td>0</td>\n",
       "      <td>0</td>\n",
       "      <td>0</td>\n",
       "      <td>0</td>\n",
       "    </tr>\n",
       "  </tbody>\n",
       "</table>\n",
       "<p>5 rows × 263 columns</p>\n",
       "</div>"
      ],
      "text/plain": [
       "   isFraud  TransactionAmt  card1  card2  card3  card5  addr1  addr2  dist1  \\\n",
       "0        0            68.5  13926    0.0  150.0  142.0  315.0   87.0   19.0   \n",
       "1        0            29.0   2755  404.0  150.0  102.0  325.0   87.0    0.0   \n",
       "2        0            59.0   4663  490.0  150.0  166.0  330.0   87.0  287.0   \n",
       "3        0            50.0  18132  567.0  150.0  117.0  476.0   87.0    0.0   \n",
       "4        0            50.0   4497  514.0  150.0  102.0  420.0   87.0    0.0   \n",
       "\n",
       "    C1  ...  card4  card6  M1  M2  M3  M4  M6  M7  M8  M9  \n",
       "0  1.0  ...      2      2   1   1   1   0   1   0   0   0  \n",
       "1  1.0  ...      3      2   0   0   0   0   1   0   0   0  \n",
       "2  1.0  ...      4      3   1   1   1   0   0   0   0   0  \n",
       "3  2.0  ...      3      3   0   0   0   0   0   0   0   0  \n",
       "4  1.0  ...      3      2   0   0   0   0   0   0   0   0  \n",
       "\n",
       "[5 rows x 263 columns]"
      ]
     },
     "execution_count": 238,
     "metadata": {},
     "output_type": "execute_result"
    },
    {
     "data": {
      "application/javascript": [
       "\n",
       "            setTimeout(function() {\n",
       "                var nbb_cell_id = 238;\n",
       "                var nbb_unformatted_code = \"trainDf.head()\";\n",
       "                var nbb_formatted_code = \"trainDf.head()\";\n",
       "                var nbb_cells = Jupyter.notebook.get_cells();\n",
       "                for (var i = 0; i < nbb_cells.length; ++i) {\n",
       "                    if (nbb_cells[i].input_prompt_number == nbb_cell_id) {\n",
       "                        if (nbb_cells[i].get_text() == nbb_unformatted_code) {\n",
       "                             nbb_cells[i].set_text(nbb_formatted_code);\n",
       "                        }\n",
       "                        break;\n",
       "                    }\n",
       "                }\n",
       "            }, 500);\n",
       "            "
      ],
      "text/plain": [
       "<IPython.core.display.Javascript object>"
      ]
     },
     "metadata": {},
     "output_type": "display_data"
    }
   ],
   "source": [
    "trainDf.head()"
   ]
  },
  {
   "cell_type": "code",
   "execution_count": 243,
   "id": "110733bd",
   "metadata": {},
   "outputs": [
    {
     "data": {
      "text/plain": [
       "isFraud           False\n",
       "TransactionAmt    False\n",
       "card1             False\n",
       "card2             False\n",
       "card3             False\n",
       "                  ...  \n",
       "M4                False\n",
       "M6                False\n",
       "M7                False\n",
       "M8                False\n",
       "M9                False\n",
       "Length: 263, dtype: bool"
      ]
     },
     "execution_count": 243,
     "metadata": {},
     "output_type": "execute_result"
    },
    {
     "data": {
      "application/javascript": [
       "\n",
       "            setTimeout(function() {\n",
       "                var nbb_cell_id = 243;\n",
       "                var nbb_unformatted_code = \"trainDf.isnull().any()\";\n",
       "                var nbb_formatted_code = \"trainDf.isnull().any()\";\n",
       "                var nbb_cells = Jupyter.notebook.get_cells();\n",
       "                for (var i = 0; i < nbb_cells.length; ++i) {\n",
       "                    if (nbb_cells[i].input_prompt_number == nbb_cell_id) {\n",
       "                        if (nbb_cells[i].get_text() == nbb_unformatted_code) {\n",
       "                             nbb_cells[i].set_text(nbb_formatted_code);\n",
       "                        }\n",
       "                        break;\n",
       "                    }\n",
       "                }\n",
       "            }, 500);\n",
       "            "
      ],
      "text/plain": [
       "<IPython.core.display.Javascript object>"
      ]
     },
     "metadata": {},
     "output_type": "display_data"
    }
   ],
   "source": [
    "trainDf.isnull().any()"
   ]
  },
  {
   "cell_type": "code",
   "execution_count": 246,
   "id": "43bde3e5",
   "metadata": {},
   "outputs": [
    {
     "data": {
      "text/plain": [
       "0"
      ]
     },
     "execution_count": 246,
     "metadata": {},
     "output_type": "execute_result"
    },
    {
     "data": {
      "application/javascript": [
       "\n",
       "            setTimeout(function() {\n",
       "                var nbb_cell_id = 246;\n",
       "                var nbb_unformatted_code = \"trainDf.isnull().sum().sum()\";\n",
       "                var nbb_formatted_code = \"trainDf.isnull().sum().sum()\";\n",
       "                var nbb_cells = Jupyter.notebook.get_cells();\n",
       "                for (var i = 0; i < nbb_cells.length; ++i) {\n",
       "                    if (nbb_cells[i].input_prompt_number == nbb_cell_id) {\n",
       "                        if (nbb_cells[i].get_text() == nbb_unformatted_code) {\n",
       "                             nbb_cells[i].set_text(nbb_formatted_code);\n",
       "                        }\n",
       "                        break;\n",
       "                    }\n",
       "                }\n",
       "            }, 500);\n",
       "            "
      ],
      "text/plain": [
       "<IPython.core.display.Javascript object>"
      ]
     },
     "metadata": {},
     "output_type": "display_data"
    }
   ],
   "source": [
    "trainDf.isnull().sum().sum()"
   ]
  },
  {
   "cell_type": "code",
   "execution_count": 244,
   "id": "0d4f16a6",
   "metadata": {},
   "outputs": [
    {
     "data": {
      "text/plain": [
       "0"
      ]
     },
     "execution_count": 244,
     "metadata": {},
     "output_type": "execute_result"
    },
    {
     "data": {
      "application/javascript": [
       "\n",
       "            setTimeout(function() {\n",
       "                var nbb_cell_id = 244;\n",
       "                var nbb_unformatted_code = \"testDf.isnull().sum().sum()\";\n",
       "                var nbb_formatted_code = \"testDf.isnull().sum().sum()\";\n",
       "                var nbb_cells = Jupyter.notebook.get_cells();\n",
       "                for (var i = 0; i < nbb_cells.length; ++i) {\n",
       "                    if (nbb_cells[i].input_prompt_number == nbb_cell_id) {\n",
       "                        if (nbb_cells[i].get_text() == nbb_unformatted_code) {\n",
       "                             nbb_cells[i].set_text(nbb_formatted_code);\n",
       "                        }\n",
       "                        break;\n",
       "                    }\n",
       "                }\n",
       "            }, 500);\n",
       "            "
      ],
      "text/plain": [
       "<IPython.core.display.Javascript object>"
      ]
     },
     "metadata": {},
     "output_type": "display_data"
    }
   ],
   "source": [
    "testDf.isnull().sum().sum()"
   ]
  },
  {
   "cell_type": "code",
   "execution_count": 250,
   "id": "f2972498",
   "metadata": {},
   "outputs": [
    {
     "data": {
      "text/html": [
       "<div>\n",
       "<style scoped>\n",
       "    .dataframe tbody tr th:only-of-type {\n",
       "        vertical-align: middle;\n",
       "    }\n",
       "\n",
       "    .dataframe tbody tr th {\n",
       "        vertical-align: top;\n",
       "    }\n",
       "\n",
       "    .dataframe thead th {\n",
       "        text-align: right;\n",
       "    }\n",
       "</style>\n",
       "<table border=\"1\" class=\"dataframe\">\n",
       "  <thead>\n",
       "    <tr style=\"text-align: right;\">\n",
       "      <th></th>\n",
       "      <th>isFraud</th>\n",
       "      <th>TransactionAmt</th>\n",
       "      <th>card1</th>\n",
       "      <th>card2</th>\n",
       "      <th>card3</th>\n",
       "      <th>card5</th>\n",
       "      <th>addr1</th>\n",
       "      <th>addr2</th>\n",
       "      <th>dist1</th>\n",
       "      <th>C1</th>\n",
       "      <th>...</th>\n",
       "      <th>card4</th>\n",
       "      <th>card6</th>\n",
       "      <th>M1</th>\n",
       "      <th>M2</th>\n",
       "      <th>M3</th>\n",
       "      <th>M4</th>\n",
       "      <th>M6</th>\n",
       "      <th>M7</th>\n",
       "      <th>M8</th>\n",
       "      <th>M9</th>\n",
       "    </tr>\n",
       "  </thead>\n",
       "  <tbody>\n",
       "    <tr>\n",
       "      <th>0</th>\n",
       "      <td>0</td>\n",
       "      <td>68.5</td>\n",
       "      <td>13926</td>\n",
       "      <td>0.0</td>\n",
       "      <td>150.0</td>\n",
       "      <td>142.0</td>\n",
       "      <td>315.0</td>\n",
       "      <td>87.0</td>\n",
       "      <td>19.0</td>\n",
       "      <td>1.0</td>\n",
       "      <td>...</td>\n",
       "      <td>2</td>\n",
       "      <td>2</td>\n",
       "      <td>1</td>\n",
       "      <td>1</td>\n",
       "      <td>1</td>\n",
       "      <td>0</td>\n",
       "      <td>1</td>\n",
       "      <td>0</td>\n",
       "      <td>0</td>\n",
       "      <td>0</td>\n",
       "    </tr>\n",
       "    <tr>\n",
       "      <th>1</th>\n",
       "      <td>0</td>\n",
       "      <td>29.0</td>\n",
       "      <td>2755</td>\n",
       "      <td>404.0</td>\n",
       "      <td>150.0</td>\n",
       "      <td>102.0</td>\n",
       "      <td>325.0</td>\n",
       "      <td>87.0</td>\n",
       "      <td>0.0</td>\n",
       "      <td>1.0</td>\n",
       "      <td>...</td>\n",
       "      <td>3</td>\n",
       "      <td>2</td>\n",
       "      <td>0</td>\n",
       "      <td>0</td>\n",
       "      <td>0</td>\n",
       "      <td>0</td>\n",
       "      <td>1</td>\n",
       "      <td>0</td>\n",
       "      <td>0</td>\n",
       "      <td>0</td>\n",
       "    </tr>\n",
       "    <tr>\n",
       "      <th>2</th>\n",
       "      <td>0</td>\n",
       "      <td>59.0</td>\n",
       "      <td>4663</td>\n",
       "      <td>490.0</td>\n",
       "      <td>150.0</td>\n",
       "      <td>166.0</td>\n",
       "      <td>330.0</td>\n",
       "      <td>87.0</td>\n",
       "      <td>287.0</td>\n",
       "      <td>1.0</td>\n",
       "      <td>...</td>\n",
       "      <td>4</td>\n",
       "      <td>3</td>\n",
       "      <td>1</td>\n",
       "      <td>1</td>\n",
       "      <td>1</td>\n",
       "      <td>0</td>\n",
       "      <td>0</td>\n",
       "      <td>0</td>\n",
       "      <td>0</td>\n",
       "      <td>0</td>\n",
       "    </tr>\n",
       "    <tr>\n",
       "      <th>3</th>\n",
       "      <td>0</td>\n",
       "      <td>50.0</td>\n",
       "      <td>18132</td>\n",
       "      <td>567.0</td>\n",
       "      <td>150.0</td>\n",
       "      <td>117.0</td>\n",
       "      <td>476.0</td>\n",
       "      <td>87.0</td>\n",
       "      <td>0.0</td>\n",
       "      <td>2.0</td>\n",
       "      <td>...</td>\n",
       "      <td>3</td>\n",
       "      <td>3</td>\n",
       "      <td>0</td>\n",
       "      <td>0</td>\n",
       "      <td>0</td>\n",
       "      <td>0</td>\n",
       "      <td>0</td>\n",
       "      <td>0</td>\n",
       "      <td>0</td>\n",
       "      <td>0</td>\n",
       "    </tr>\n",
       "    <tr>\n",
       "      <th>4</th>\n",
       "      <td>0</td>\n",
       "      <td>50.0</td>\n",
       "      <td>4497</td>\n",
       "      <td>514.0</td>\n",
       "      <td>150.0</td>\n",
       "      <td>102.0</td>\n",
       "      <td>420.0</td>\n",
       "      <td>87.0</td>\n",
       "      <td>0.0</td>\n",
       "      <td>1.0</td>\n",
       "      <td>...</td>\n",
       "      <td>3</td>\n",
       "      <td>2</td>\n",
       "      <td>0</td>\n",
       "      <td>0</td>\n",
       "      <td>0</td>\n",
       "      <td>0</td>\n",
       "      <td>0</td>\n",
       "      <td>0</td>\n",
       "      <td>0</td>\n",
       "      <td>0</td>\n",
       "    </tr>\n",
       "  </tbody>\n",
       "</table>\n",
       "<p>5 rows × 263 columns</p>\n",
       "</div>"
      ],
      "text/plain": [
       "   isFraud  TransactionAmt  card1  card2  card3  card5  addr1  addr2  dist1  \\\n",
       "0        0            68.5  13926    0.0  150.0  142.0  315.0   87.0   19.0   \n",
       "1        0            29.0   2755  404.0  150.0  102.0  325.0   87.0    0.0   \n",
       "2        0            59.0   4663  490.0  150.0  166.0  330.0   87.0  287.0   \n",
       "3        0            50.0  18132  567.0  150.0  117.0  476.0   87.0    0.0   \n",
       "4        0            50.0   4497  514.0  150.0  102.0  420.0   87.0    0.0   \n",
       "\n",
       "    C1  ...  card4  card6  M1  M2  M3  M4  M6  M7  M8  M9  \n",
       "0  1.0  ...      2      2   1   1   1   0   1   0   0   0  \n",
       "1  1.0  ...      3      2   0   0   0   0   1   0   0   0  \n",
       "2  1.0  ...      4      3   1   1   1   0   0   0   0   0  \n",
       "3  2.0  ...      3      3   0   0   0   0   0   0   0   0  \n",
       "4  1.0  ...      3      2   0   0   0   0   0   0   0   0  \n",
       "\n",
       "[5 rows x 263 columns]"
      ]
     },
     "execution_count": 250,
     "metadata": {},
     "output_type": "execute_result"
    },
    {
     "data": {
      "application/javascript": [
       "\n",
       "            setTimeout(function() {\n",
       "                var nbb_cell_id = 250;\n",
       "                var nbb_unformatted_code = \"trainDf.head()\";\n",
       "                var nbb_formatted_code = \"trainDf.head()\";\n",
       "                var nbb_cells = Jupyter.notebook.get_cells();\n",
       "                for (var i = 0; i < nbb_cells.length; ++i) {\n",
       "                    if (nbb_cells[i].input_prompt_number == nbb_cell_id) {\n",
       "                        if (nbb_cells[i].get_text() == nbb_unformatted_code) {\n",
       "                             nbb_cells[i].set_text(nbb_formatted_code);\n",
       "                        }\n",
       "                        break;\n",
       "                    }\n",
       "                }\n",
       "            }, 500);\n",
       "            "
      ],
      "text/plain": [
       "<IPython.core.display.Javascript object>"
      ]
     },
     "metadata": {},
     "output_type": "display_data"
    }
   ],
   "source": [
    "trainDf.head()"
   ]
  },
  {
   "cell_type": "code",
   "execution_count": 251,
   "id": "d1dd8bfd",
   "metadata": {},
   "outputs": [
    {
     "data": {
      "text/html": [
       "<div>\n",
       "<style scoped>\n",
       "    .dataframe tbody tr th:only-of-type {\n",
       "        vertical-align: middle;\n",
       "    }\n",
       "\n",
       "    .dataframe tbody tr th {\n",
       "        vertical-align: top;\n",
       "    }\n",
       "\n",
       "    .dataframe thead th {\n",
       "        text-align: right;\n",
       "    }\n",
       "</style>\n",
       "<table border=\"1\" class=\"dataframe\">\n",
       "  <thead>\n",
       "    <tr style=\"text-align: right;\">\n",
       "      <th></th>\n",
       "      <th>TransactionAmt</th>\n",
       "      <th>card1</th>\n",
       "      <th>card2</th>\n",
       "      <th>card3</th>\n",
       "      <th>card5</th>\n",
       "      <th>addr1</th>\n",
       "      <th>addr2</th>\n",
       "      <th>dist1</th>\n",
       "      <th>C1</th>\n",
       "      <th>C2</th>\n",
       "      <th>...</th>\n",
       "      <th>card4</th>\n",
       "      <th>card6</th>\n",
       "      <th>M1</th>\n",
       "      <th>M2</th>\n",
       "      <th>M3</th>\n",
       "      <th>M4</th>\n",
       "      <th>M6</th>\n",
       "      <th>M7</th>\n",
       "      <th>M8</th>\n",
       "      <th>M9</th>\n",
       "    </tr>\n",
       "  </thead>\n",
       "  <tbody>\n",
       "    <tr>\n",
       "      <th>0</th>\n",
       "      <td>31.953125</td>\n",
       "      <td>10409</td>\n",
       "      <td>111.0</td>\n",
       "      <td>150.0</td>\n",
       "      <td>226.0</td>\n",
       "      <td>170.0</td>\n",
       "      <td>87.0</td>\n",
       "      <td>1.0</td>\n",
       "      <td>6.0</td>\n",
       "      <td>6.0</td>\n",
       "      <td>...</td>\n",
       "      <td>4</td>\n",
       "      <td>3</td>\n",
       "      <td>1</td>\n",
       "      <td>1</td>\n",
       "      <td>0</td>\n",
       "      <td>0</td>\n",
       "      <td>0</td>\n",
       "      <td>1</td>\n",
       "      <td>1</td>\n",
       "      <td>1</td>\n",
       "    </tr>\n",
       "    <tr>\n",
       "      <th>1</th>\n",
       "      <td>49.000000</td>\n",
       "      <td>4272</td>\n",
       "      <td>111.0</td>\n",
       "      <td>150.0</td>\n",
       "      <td>226.0</td>\n",
       "      <td>299.0</td>\n",
       "      <td>87.0</td>\n",
       "      <td>4.0</td>\n",
       "      <td>3.0</td>\n",
       "      <td>2.0</td>\n",
       "      <td>...</td>\n",
       "      <td>4</td>\n",
       "      <td>3</td>\n",
       "      <td>1</td>\n",
       "      <td>0</td>\n",
       "      <td>0</td>\n",
       "      <td>0</td>\n",
       "      <td>0</td>\n",
       "      <td>0</td>\n",
       "      <td>0</td>\n",
       "      <td>0</td>\n",
       "    </tr>\n",
       "    <tr>\n",
       "      <th>2</th>\n",
       "      <td>171.000000</td>\n",
       "      <td>4476</td>\n",
       "      <td>574.0</td>\n",
       "      <td>150.0</td>\n",
       "      <td>226.0</td>\n",
       "      <td>472.0</td>\n",
       "      <td>87.0</td>\n",
       "      <td>2636.0</td>\n",
       "      <td>2.0</td>\n",
       "      <td>2.0</td>\n",
       "      <td>...</td>\n",
       "      <td>4</td>\n",
       "      <td>3</td>\n",
       "      <td>1</td>\n",
       "      <td>1</td>\n",
       "      <td>0</td>\n",
       "      <td>0</td>\n",
       "      <td>0</td>\n",
       "      <td>0</td>\n",
       "      <td>0</td>\n",
       "      <td>0</td>\n",
       "    </tr>\n",
       "    <tr>\n",
       "      <th>3</th>\n",
       "      <td>285.000000</td>\n",
       "      <td>10989</td>\n",
       "      <td>360.0</td>\n",
       "      <td>150.0</td>\n",
       "      <td>166.0</td>\n",
       "      <td>205.0</td>\n",
       "      <td>87.0</td>\n",
       "      <td>17.0</td>\n",
       "      <td>5.0</td>\n",
       "      <td>2.0</td>\n",
       "      <td>...</td>\n",
       "      <td>4</td>\n",
       "      <td>3</td>\n",
       "      <td>1</td>\n",
       "      <td>1</td>\n",
       "      <td>1</td>\n",
       "      <td>0</td>\n",
       "      <td>1</td>\n",
       "      <td>0</td>\n",
       "      <td>0</td>\n",
       "      <td>0</td>\n",
       "    </tr>\n",
       "    <tr>\n",
       "      <th>4</th>\n",
       "      <td>67.937500</td>\n",
       "      <td>18018</td>\n",
       "      <td>452.0</td>\n",
       "      <td>150.0</td>\n",
       "      <td>117.0</td>\n",
       "      <td>264.0</td>\n",
       "      <td>87.0</td>\n",
       "      <td>6.0</td>\n",
       "      <td>6.0</td>\n",
       "      <td>6.0</td>\n",
       "      <td>...</td>\n",
       "      <td>3</td>\n",
       "      <td>3</td>\n",
       "      <td>1</td>\n",
       "      <td>1</td>\n",
       "      <td>1</td>\n",
       "      <td>0</td>\n",
       "      <td>0</td>\n",
       "      <td>0</td>\n",
       "      <td>1</td>\n",
       "      <td>1</td>\n",
       "    </tr>\n",
       "  </tbody>\n",
       "</table>\n",
       "<p>5 rows × 262 columns</p>\n",
       "</div>"
      ],
      "text/plain": [
       "   TransactionAmt  card1  card2  card3  card5  addr1  addr2   dist1   C1   C2  \\\n",
       "0       31.953125  10409  111.0  150.0  226.0  170.0   87.0     1.0  6.0  6.0   \n",
       "1       49.000000   4272  111.0  150.0  226.0  299.0   87.0     4.0  3.0  2.0   \n",
       "2      171.000000   4476  574.0  150.0  226.0  472.0   87.0  2636.0  2.0  2.0   \n",
       "3      285.000000  10989  360.0  150.0  166.0  205.0   87.0    17.0  5.0  2.0   \n",
       "4       67.937500  18018  452.0  150.0  117.0  264.0   87.0     6.0  6.0  6.0   \n",
       "\n",
       "   ...  card4  card6  M1  M2  M3  M4  M6  M7  M8  M9  \n",
       "0  ...      4      3   1   1   0   0   0   1   1   1  \n",
       "1  ...      4      3   1   0   0   0   0   0   0   0  \n",
       "2  ...      4      3   1   1   0   0   0   0   0   0  \n",
       "3  ...      4      3   1   1   1   0   1   0   0   0  \n",
       "4  ...      3      3   1   1   1   0   0   0   1   1  \n",
       "\n",
       "[5 rows x 262 columns]"
      ]
     },
     "execution_count": 251,
     "metadata": {},
     "output_type": "execute_result"
    },
    {
     "data": {
      "application/javascript": [
       "\n",
       "            setTimeout(function() {\n",
       "                var nbb_cell_id = 251;\n",
       "                var nbb_unformatted_code = \"testDf.head()\";\n",
       "                var nbb_formatted_code = \"testDf.head()\";\n",
       "                var nbb_cells = Jupyter.notebook.get_cells();\n",
       "                for (var i = 0; i < nbb_cells.length; ++i) {\n",
       "                    if (nbb_cells[i].input_prompt_number == nbb_cell_id) {\n",
       "                        if (nbb_cells[i].get_text() == nbb_unformatted_code) {\n",
       "                             nbb_cells[i].set_text(nbb_formatted_code);\n",
       "                        }\n",
       "                        break;\n",
       "                    }\n",
       "                }\n",
       "            }, 500);\n",
       "            "
      ],
      "text/plain": [
       "<IPython.core.display.Javascript object>"
      ]
     },
     "metadata": {},
     "output_type": "display_data"
    }
   ],
   "source": [
    "testDf.head()"
   ]
  },
  {
   "cell_type": "markdown",
   "id": "cbd50c0a",
   "metadata": {},
   "source": [
    "# Training the model"
   ]
  },
  {
   "cell_type": "code",
   "execution_count": 252,
   "id": "68185d86",
   "metadata": {},
   "outputs": [
    {
     "data": {
      "application/javascript": [
       "\n",
       "            setTimeout(function() {\n",
       "                var nbb_cell_id = 252;\n",
       "                var nbb_unformatted_code = \"from sklearn.preprocessing import StandardScaler\\nscaler = StandardScaler()\";\n",
       "                var nbb_formatted_code = \"from sklearn.preprocessing import StandardScaler\\n\\nscaler = StandardScaler()\";\n",
       "                var nbb_cells = Jupyter.notebook.get_cells();\n",
       "                for (var i = 0; i < nbb_cells.length; ++i) {\n",
       "                    if (nbb_cells[i].input_prompt_number == nbb_cell_id) {\n",
       "                        if (nbb_cells[i].get_text() == nbb_unformatted_code) {\n",
       "                             nbb_cells[i].set_text(nbb_formatted_code);\n",
       "                        }\n",
       "                        break;\n",
       "                    }\n",
       "                }\n",
       "            }, 500);\n",
       "            "
      ],
      "text/plain": [
       "<IPython.core.display.Javascript object>"
      ]
     },
     "metadata": {},
     "output_type": "display_data"
    }
   ],
   "source": [
    "from sklearn.preprocessing import StandardScaler\n",
    "\n",
    "scaler = StandardScaler()"
   ]
  },
  {
   "cell_type": "code",
   "execution_count": 253,
   "id": "a150dea8",
   "metadata": {},
   "outputs": [
    {
     "data": {
      "application/javascript": [
       "\n",
       "            setTimeout(function() {\n",
       "                var nbb_cell_id = 253;\n",
       "                var nbb_unformatted_code = \"X_train = trainDf.drop(columns=[\\\"isFraud\\\"])\";\n",
       "                var nbb_formatted_code = \"X_train = trainDf.drop(columns=[\\\"isFraud\\\"])\";\n",
       "                var nbb_cells = Jupyter.notebook.get_cells();\n",
       "                for (var i = 0; i < nbb_cells.length; ++i) {\n",
       "                    if (nbb_cells[i].input_prompt_number == nbb_cell_id) {\n",
       "                        if (nbb_cells[i].get_text() == nbb_unformatted_code) {\n",
       "                             nbb_cells[i].set_text(nbb_formatted_code);\n",
       "                        }\n",
       "                        break;\n",
       "                    }\n",
       "                }\n",
       "            }, 500);\n",
       "            "
      ],
      "text/plain": [
       "<IPython.core.display.Javascript object>"
      ]
     },
     "metadata": {},
     "output_type": "display_data"
    }
   ],
   "source": [
    "X_train = trainDf.drop(columns=[\"isFraud\"])"
   ]
  },
  {
   "cell_type": "code",
   "execution_count": 254,
   "id": "6c850303",
   "metadata": {},
   "outputs": [
    {
     "data": {
      "application/javascript": [
       "\n",
       "            setTimeout(function() {\n",
       "                var nbb_cell_id = 254;\n",
       "                var nbb_unformatted_code = \"Y_train = trainDf[\\\"isFraud\\\"]\";\n",
       "                var nbb_formatted_code = \"Y_train = trainDf[\\\"isFraud\\\"]\";\n",
       "                var nbb_cells = Jupyter.notebook.get_cells();\n",
       "                for (var i = 0; i < nbb_cells.length; ++i) {\n",
       "                    if (nbb_cells[i].input_prompt_number == nbb_cell_id) {\n",
       "                        if (nbb_cells[i].get_text() == nbb_unformatted_code) {\n",
       "                             nbb_cells[i].set_text(nbb_formatted_code);\n",
       "                        }\n",
       "                        break;\n",
       "                    }\n",
       "                }\n",
       "            }, 500);\n",
       "            "
      ],
      "text/plain": [
       "<IPython.core.display.Javascript object>"
      ]
     },
     "metadata": {},
     "output_type": "display_data"
    }
   ],
   "source": [
    "Y_train = trainDf[\"isFraud\"]"
   ]
  },
  {
   "cell_type": "code",
   "execution_count": 255,
   "id": "75b42dc5",
   "metadata": {},
   "outputs": [
    {
     "data": {
      "application/javascript": [
       "\n",
       "            setTimeout(function() {\n",
       "                var nbb_cell_id = 255;\n",
       "                var nbb_unformatted_code = \"X_test = testDf.copy()\";\n",
       "                var nbb_formatted_code = \"X_test = testDf.copy()\";\n",
       "                var nbb_cells = Jupyter.notebook.get_cells();\n",
       "                for (var i = 0; i < nbb_cells.length; ++i) {\n",
       "                    if (nbb_cells[i].input_prompt_number == nbb_cell_id) {\n",
       "                        if (nbb_cells[i].get_text() == nbb_unformatted_code) {\n",
       "                             nbb_cells[i].set_text(nbb_formatted_code);\n",
       "                        }\n",
       "                        break;\n",
       "                    }\n",
       "                }\n",
       "            }, 500);\n",
       "            "
      ],
      "text/plain": [
       "<IPython.core.display.Javascript object>"
      ]
     },
     "metadata": {},
     "output_type": "display_data"
    }
   ],
   "source": [
    "X_test = testDf.copy()"
   ]
  },
  {
   "cell_type": "code",
   "execution_count": 256,
   "id": "2b30b78d",
   "metadata": {},
   "outputs": [
    {
     "data": {
      "text/plain": [
       "StandardScaler()"
      ]
     },
     "execution_count": 256,
     "metadata": {},
     "output_type": "execute_result"
    },
    {
     "data": {
      "application/javascript": [
       "\n",
       "            setTimeout(function() {\n",
       "                var nbb_cell_id = 256;\n",
       "                var nbb_unformatted_code = \"scaler.fit(X_train)\";\n",
       "                var nbb_formatted_code = \"scaler.fit(X_train)\";\n",
       "                var nbb_cells = Jupyter.notebook.get_cells();\n",
       "                for (var i = 0; i < nbb_cells.length; ++i) {\n",
       "                    if (nbb_cells[i].input_prompt_number == nbb_cell_id) {\n",
       "                        if (nbb_cells[i].get_text() == nbb_unformatted_code) {\n",
       "                             nbb_cells[i].set_text(nbb_formatted_code);\n",
       "                        }\n",
       "                        break;\n",
       "                    }\n",
       "                }\n",
       "            }, 500);\n",
       "            "
      ],
      "text/plain": [
       "<IPython.core.display.Javascript object>"
      ]
     },
     "metadata": {},
     "output_type": "display_data"
    }
   ],
   "source": [
    "scaler.fit(X_train)"
   ]
  },
  {
   "cell_type": "code",
   "execution_count": 257,
   "id": "44aa24b3",
   "metadata": {},
   "outputs": [
    {
     "data": {
      "application/javascript": [
       "\n",
       "            setTimeout(function() {\n",
       "                var nbb_cell_id = 257;\n",
       "                var nbb_unformatted_code = \"X_scaled_train = scaler.transform(X_train)\";\n",
       "                var nbb_formatted_code = \"X_scaled_train = scaler.transform(X_train)\";\n",
       "                var nbb_cells = Jupyter.notebook.get_cells();\n",
       "                for (var i = 0; i < nbb_cells.length; ++i) {\n",
       "                    if (nbb_cells[i].input_prompt_number == nbb_cell_id) {\n",
       "                        if (nbb_cells[i].get_text() == nbb_unformatted_code) {\n",
       "                             nbb_cells[i].set_text(nbb_formatted_code);\n",
       "                        }\n",
       "                        break;\n",
       "                    }\n",
       "                }\n",
       "            }, 500);\n",
       "            "
      ],
      "text/plain": [
       "<IPython.core.display.Javascript object>"
      ]
     },
     "metadata": {},
     "output_type": "display_data"
    }
   ],
   "source": [
    "X_scaled_train = scaler.transform(X_train)"
   ]
  },
  {
   "cell_type": "code",
   "execution_count": 258,
   "id": "34c2f56e",
   "metadata": {},
   "outputs": [
    {
     "data": {
      "text/plain": [
       "array([[-0.27817409,  0.82169536, -2.19428575, ..., -0.24290026,\n",
       "        -0.42135533, -0.73098045],\n",
       "       [-0.4433374 , -1.45755819,  0.28838861, ..., -0.24290026,\n",
       "        -0.42135533, -0.73098045],\n",
       "       [-0.31789692, -1.06826307,  0.81687869, ..., -0.24290026,\n",
       "        -0.42135533, -0.73098045],\n",
       "       ...,\n",
       "       [-0.4351707 ,  0.43627687,  1.46212822, ..., -0.24290026,\n",
       "        -0.42135533, -0.73098045],\n",
       "       [-0.07537864, -0.42290644,  0.76157159, ..., -0.24290026,\n",
       "        -0.42135533, -0.73098045],\n",
       "       [ 0.60618134,  1.05429307, -1.14959604, ..., -0.24290026,\n",
       "        -0.42135533, -0.73098045]])"
      ]
     },
     "execution_count": 258,
     "metadata": {},
     "output_type": "execute_result"
    },
    {
     "data": {
      "application/javascript": [
       "\n",
       "            setTimeout(function() {\n",
       "                var nbb_cell_id = 258;\n",
       "                var nbb_unformatted_code = \"X_scaled_train\";\n",
       "                var nbb_formatted_code = \"X_scaled_train\";\n",
       "                var nbb_cells = Jupyter.notebook.get_cells();\n",
       "                for (var i = 0; i < nbb_cells.length; ++i) {\n",
       "                    if (nbb_cells[i].input_prompt_number == nbb_cell_id) {\n",
       "                        if (nbb_cells[i].get_text() == nbb_unformatted_code) {\n",
       "                             nbb_cells[i].set_text(nbb_formatted_code);\n",
       "                        }\n",
       "                        break;\n",
       "                    }\n",
       "                }\n",
       "            }, 500);\n",
       "            "
      ],
      "text/plain": [
       "<IPython.core.display.Javascript object>"
      ]
     },
     "metadata": {},
     "output_type": "display_data"
    }
   ],
   "source": [
    "X_scaled_train"
   ]
  },
  {
   "cell_type": "code",
   "execution_count": 261,
   "id": "3322394c",
   "metadata": {},
   "outputs": [
    {
     "data": {
      "application/javascript": [
       "\n",
       "            setTimeout(function() {\n",
       "                var nbb_cell_id = 261;\n",
       "                var nbb_unformatted_code = \"Y_train = trainDf[\\\"isFraud\\\"].values\";\n",
       "                var nbb_formatted_code = \"Y_train = trainDf[\\\"isFraud\\\"].values\";\n",
       "                var nbb_cells = Jupyter.notebook.get_cells();\n",
       "                for (var i = 0; i < nbb_cells.length; ++i) {\n",
       "                    if (nbb_cells[i].input_prompt_number == nbb_cell_id) {\n",
       "                        if (nbb_cells[i].get_text() == nbb_unformatted_code) {\n",
       "                             nbb_cells[i].set_text(nbb_formatted_code);\n",
       "                        }\n",
       "                        break;\n",
       "                    }\n",
       "                }\n",
       "            }, 500);\n",
       "            "
      ],
      "text/plain": [
       "<IPython.core.display.Javascript object>"
      ]
     },
     "metadata": {},
     "output_type": "display_data"
    }
   ],
   "source": [
    "Y_train = trainDf[\"isFraud\"].values"
   ]
  },
  {
   "cell_type": "code",
   "execution_count": 262,
   "id": "59a35e48",
   "metadata": {},
   "outputs": [
    {
     "data": {
      "text/plain": [
       "array([0, 0, 0, ..., 0, 0, 0], dtype=int8)"
      ]
     },
     "execution_count": 262,
     "metadata": {},
     "output_type": "execute_result"
    },
    {
     "data": {
      "application/javascript": [
       "\n",
       "            setTimeout(function() {\n",
       "                var nbb_cell_id = 262;\n",
       "                var nbb_unformatted_code = \"Y_train\";\n",
       "                var nbb_formatted_code = \"Y_train\";\n",
       "                var nbb_cells = Jupyter.notebook.get_cells();\n",
       "                for (var i = 0; i < nbb_cells.length; ++i) {\n",
       "                    if (nbb_cells[i].input_prompt_number == nbb_cell_id) {\n",
       "                        if (nbb_cells[i].get_text() == nbb_unformatted_code) {\n",
       "                             nbb_cells[i].set_text(nbb_formatted_code);\n",
       "                        }\n",
       "                        break;\n",
       "                    }\n",
       "                }\n",
       "            }, 500);\n",
       "            "
      ],
      "text/plain": [
       "<IPython.core.display.Javascript object>"
      ]
     },
     "metadata": {},
     "output_type": "display_data"
    }
   ],
   "source": [
    "Y_train"
   ]
  },
  {
   "cell_type": "code",
   "execution_count": 268,
   "id": "73e643bb",
   "metadata": {},
   "outputs": [
    {
     "data": {
      "application/javascript": [
       "\n",
       "            setTimeout(function() {\n",
       "                var nbb_cell_id = 268;\n",
       "                var nbb_unformatted_code = \"from sklearn.model_selection import cross_val_score\";\n",
       "                var nbb_formatted_code = \"from sklearn.model_selection import cross_val_score\";\n",
       "                var nbb_cells = Jupyter.notebook.get_cells();\n",
       "                for (var i = 0; i < nbb_cells.length; ++i) {\n",
       "                    if (nbb_cells[i].input_prompt_number == nbb_cell_id) {\n",
       "                        if (nbb_cells[i].get_text() == nbb_unformatted_code) {\n",
       "                             nbb_cells[i].set_text(nbb_formatted_code);\n",
       "                        }\n",
       "                        break;\n",
       "                    }\n",
       "                }\n",
       "            }, 500);\n",
       "            "
      ],
      "text/plain": [
       "<IPython.core.display.Javascript object>"
      ]
     },
     "metadata": {},
     "output_type": "display_data"
    }
   ],
   "source": [
    "from sklearn.model_selection import cross_val_score"
   ]
  },
  {
   "cell_type": "code",
   "execution_count": 264,
   "id": "73537a4f",
   "metadata": {},
   "outputs": [
    {
     "data": {
      "application/javascript": [
       "\n",
       "            setTimeout(function() {\n",
       "                var nbb_cell_id = 264;\n",
       "                var nbb_unformatted_code = \"from sklearn.model_selection import TimeSeriesSplit, KFold\\nn_folds = 5\\nfolds = TimeSeriesSplit(n_splits=n_folds)\\nfolds = KFold(n_splits=5)\";\n",
       "                var nbb_formatted_code = \"from sklearn.model_selection import TimeSeriesSplit, KFold\\n\\nn_folds = 5\\nfolds = TimeSeriesSplit(n_splits=n_folds)\\nfolds = KFold(n_splits=5)\";\n",
       "                var nbb_cells = Jupyter.notebook.get_cells();\n",
       "                for (var i = 0; i < nbb_cells.length; ++i) {\n",
       "                    if (nbb_cells[i].input_prompt_number == nbb_cell_id) {\n",
       "                        if (nbb_cells[i].get_text() == nbb_unformatted_code) {\n",
       "                             nbb_cells[i].set_text(nbb_formatted_code);\n",
       "                        }\n",
       "                        break;\n",
       "                    }\n",
       "                }\n",
       "            }, 500);\n",
       "            "
      ],
      "text/plain": [
       "<IPython.core.display.Javascript object>"
      ]
     },
     "metadata": {},
     "output_type": "display_data"
    }
   ],
   "source": [
    "from sklearn.model_selection import TimeSeriesSplit, KFold\n",
    "\n",
    "n_folds = 5\n",
    "folds = TimeSeriesSplit(n_splits=n_folds)\n",
    "folds = KFold(n_splits=5)"
   ]
  },
  {
   "cell_type": "markdown",
   "id": "aa7be535",
   "metadata": {},
   "source": [
    "# XGB"
   ]
  },
  {
   "cell_type": "code",
   "execution_count": 263,
   "id": "0f6aca42",
   "metadata": {},
   "outputs": [
    {
     "data": {
      "application/javascript": [
       "\n",
       "            setTimeout(function() {\n",
       "                var nbb_cell_id = 263;\n",
       "                var nbb_unformatted_code = \"from xgboost import XGBClassifier\";\n",
       "                var nbb_formatted_code = \"from xgboost import XGBClassifier\";\n",
       "                var nbb_cells = Jupyter.notebook.get_cells();\n",
       "                for (var i = 0; i < nbb_cells.length; ++i) {\n",
       "                    if (nbb_cells[i].input_prompt_number == nbb_cell_id) {\n",
       "                        if (nbb_cells[i].get_text() == nbb_unformatted_code) {\n",
       "                             nbb_cells[i].set_text(nbb_formatted_code);\n",
       "                        }\n",
       "                        break;\n",
       "                    }\n",
       "                }\n",
       "            }, 500);\n",
       "            "
      ],
      "text/plain": [
       "<IPython.core.display.Javascript object>"
      ]
     },
     "metadata": {},
     "output_type": "display_data"
    }
   ],
   "source": [
    "from xgboost import XGBClassifier"
   ]
  },
  {
   "cell_type": "code",
   "execution_count": 265,
   "id": "bc93496c",
   "metadata": {},
   "outputs": [
    {
     "name": "stdout",
     "output_type": "stream",
     "text": [
      "XGBClassifier(base_score=None, booster=None, colsample_bylevel=None,\n",
      "              colsample_bynode=None, colsample_bytree=None,\n",
      "              enable_categorical=False, gamma=None, gpu_id=None,\n",
      "              importance_type=None, interaction_constraints=None,\n",
      "              learning_rate=None, max_delta_step=None, max_depth=None,\n",
      "              min_child_weight=None, missing=nan, monotone_constraints=None,\n",
      "              n_estimators=100, n_jobs=None, num_parallel_tree=None,\n",
      "              predictor=None, random_state=None, reg_alpha=None,\n",
      "              reg_lambda=None, scale_pos_weight=None, subsample=None,\n",
      "              tree_method=None, validate_parameters=None, verbosity=None)\n"
     ]
    },
    {
     "data": {
      "text/plain": [
       "XGBClassifier(base_score=0.5, booster='gbtree', colsample_bylevel=1,\n",
       "              colsample_bynode=1, colsample_bytree=1, enable_categorical=False,\n",
       "              gamma=0, gpu_id=None, importance_type=None,\n",
       "              interaction_constraints=None, learning_rate=0.1, max_delta_step=0,\n",
       "              max_depth=3, min_child_weight=1, missing=None,\n",
       "              monotone_constraints=None, n_estimators=100, n_jobs=1,\n",
       "              nthread=None, num_parallel_tree=None, objective='multi:softprob',\n",
       "              predictor=None, random_state=0, reg_alpha=0, reg_lambda=1,\n",
       "              scale_pos_weight=1, seed=None, silent=None, subsample=1,\n",
       "              tree_method=None, ...)"
      ]
     },
     "execution_count": 265,
     "metadata": {},
     "output_type": "execute_result"
    },
    {
     "data": {
      "application/javascript": [
       "\n",
       "            setTimeout(function() {\n",
       "                var nbb_cell_id = 265;\n",
       "                var nbb_unformatted_code = \"xgbc = XGBClassifier()\\nprint(xgbc)\\nXGBClassifier(base_score=0.5, booster='gbtree', colsample_bylevel=1,\\n       colsample_bynode=1, colsample_bytree=1, gamma=0, learning_rate=0.1,\\n       max_delta_step=0, max_depth=3, min_child_weight=1, missing=None,\\n       n_estimators=100, n_jobs=1, nthread=None,\\n       objective='multi:softprob', random_state=0, reg_alpha=0,\\n       reg_lambda=1, scale_pos_weight=1, seed=None, silent=None,\\n       subsample=1, verbosity=1) \";\n",
       "                var nbb_formatted_code = \"xgbc = XGBClassifier()\\nprint(xgbc)\\nXGBClassifier(\\n    base_score=0.5,\\n    booster=\\\"gbtree\\\",\\n    colsample_bylevel=1,\\n    colsample_bynode=1,\\n    colsample_bytree=1,\\n    gamma=0,\\n    learning_rate=0.1,\\n    max_delta_step=0,\\n    max_depth=3,\\n    min_child_weight=1,\\n    missing=None,\\n    n_estimators=100,\\n    n_jobs=1,\\n    nthread=None,\\n    objective=\\\"multi:softprob\\\",\\n    random_state=0,\\n    reg_alpha=0,\\n    reg_lambda=1,\\n    scale_pos_weight=1,\\n    seed=None,\\n    silent=None,\\n    subsample=1,\\n    verbosity=1,\\n)\";\n",
       "                var nbb_cells = Jupyter.notebook.get_cells();\n",
       "                for (var i = 0; i < nbb_cells.length; ++i) {\n",
       "                    if (nbb_cells[i].input_prompt_number == nbb_cell_id) {\n",
       "                        if (nbb_cells[i].get_text() == nbb_unformatted_code) {\n",
       "                             nbb_cells[i].set_text(nbb_formatted_code);\n",
       "                        }\n",
       "                        break;\n",
       "                    }\n",
       "                }\n",
       "            }, 500);\n",
       "            "
      ],
      "text/plain": [
       "<IPython.core.display.Javascript object>"
      ]
     },
     "metadata": {},
     "output_type": "display_data"
    }
   ],
   "source": [
    "xgbc = XGBClassifier()\n",
    "print(xgbc)\n",
    "XGBClassifier(base_score=0.5, booster='gbtree', colsample_bylevel=1,\n",
    "       colsample_bynode=1, colsample_bytree=1, gamma=0, learning_rate=0.1,\n",
    "       max_delta_step=0, max_depth=3, min_child_weight=1, missing=None,\n",
    "       n_estimators=100, n_jobs=1, nthread=None,\n",
    "       objective='multi:softprob', random_state=0, reg_alpha=0,\n",
    "       reg_lambda=1, scale_pos_weight=1, seed=None, silent=None,\n",
    "       subsample=1, verbosity=1) \n"
   ]
  },
  {
   "cell_type": "code",
   "execution_count": 266,
   "id": "c6c53f56",
   "metadata": {},
   "outputs": [
    {
     "name": "stderr",
     "output_type": "stream",
     "text": [
      "C:\\Users\\niraj\\Anaconda3\\lib\\site-packages\\xgboost\\sklearn.py:1224: UserWarning: The use of label encoder in XGBClassifier is deprecated and will be removed in a future release. To remove this warning, do the following: 1) Pass option use_label_encoder=False when constructing XGBClassifier object; and 2) Encode your labels (y) as integers starting with 0, i.e. 0, 1, 2, ..., [num_class - 1].\n",
      "  warnings.warn(label_encoder_deprecation_msg, UserWarning)\n"
     ]
    },
    {
     "name": "stdout",
     "output_type": "stream",
     "text": [
      "[17:40:41] WARNING: C:/Users/Administrator/workspace/xgboost-win64_release_1.5.1/src/learner.cc:1115: Starting in XGBoost 1.3.0, the default evaluation metric used with the objective 'binary:logistic' was changed from 'error' to 'logloss'. Explicitly set eval_metric if you'd like to restore the old behavior.\n"
     ]
    },
    {
     "data": {
      "text/plain": [
       "XGBClassifier(base_score=0.5, booster='gbtree', colsample_bylevel=1,\n",
       "              colsample_bynode=1, colsample_bytree=1, enable_categorical=False,\n",
       "              gamma=0, gpu_id=-1, importance_type=None,\n",
       "              interaction_constraints='', learning_rate=0.300000012,\n",
       "              max_delta_step=0, max_depth=6, min_child_weight=1, missing=nan,\n",
       "              monotone_constraints='()', n_estimators=100, n_jobs=16,\n",
       "              num_parallel_tree=1, predictor='auto', random_state=0,\n",
       "              reg_alpha=0, reg_lambda=1, scale_pos_weight=1, subsample=1,\n",
       "              tree_method='exact', validate_parameters=1, verbosity=None)"
      ]
     },
     "execution_count": 266,
     "metadata": {},
     "output_type": "execute_result"
    },
    {
     "data": {
      "application/javascript": [
       "\n",
       "            setTimeout(function() {\n",
       "                var nbb_cell_id = 266;\n",
       "                var nbb_unformatted_code = \"xgbc.fit(X_scaled_train, Y_train)\";\n",
       "                var nbb_formatted_code = \"xgbc.fit(X_scaled_train, Y_train)\";\n",
       "                var nbb_cells = Jupyter.notebook.get_cells();\n",
       "                for (var i = 0; i < nbb_cells.length; ++i) {\n",
       "                    if (nbb_cells[i].input_prompt_number == nbb_cell_id) {\n",
       "                        if (nbb_cells[i].get_text() == nbb_unformatted_code) {\n",
       "                             nbb_cells[i].set_text(nbb_formatted_code);\n",
       "                        }\n",
       "                        break;\n",
       "                    }\n",
       "                }\n",
       "            }, 500);\n",
       "            "
      ],
      "text/plain": [
       "<IPython.core.display.Javascript object>"
      ]
     },
     "metadata": {},
     "output_type": "display_data"
    }
   ],
   "source": [
    "xgbc.fit(X_scaled_train, Y_train)"
   ]
  },
  {
   "cell_type": "code",
   "execution_count": 269,
   "id": "396e6681",
   "metadata": {},
   "outputs": [
    {
     "name": "stderr",
     "output_type": "stream",
     "text": [
      "C:\\Users\\niraj\\Anaconda3\\lib\\site-packages\\xgboost\\sklearn.py:1224: UserWarning: The use of label encoder in XGBClassifier is deprecated and will be removed in a future release. To remove this warning, do the following: 1) Pass option use_label_encoder=False when constructing XGBClassifier object; and 2) Encode your labels (y) as integers starting with 0, i.e. 0, 1, 2, ..., [num_class - 1].\n",
      "  warnings.warn(label_encoder_deprecation_msg, UserWarning)\n"
     ]
    },
    {
     "name": "stdout",
     "output_type": "stream",
     "text": [
      "[17:43:22] WARNING: C:/Users/Administrator/workspace/xgboost-win64_release_1.5.1/src/learner.cc:1115: Starting in XGBoost 1.3.0, the default evaluation metric used with the objective 'binary:logistic' was changed from 'error' to 'logloss'. Explicitly set eval_metric if you'd like to restore the old behavior.\n"
     ]
    },
    {
     "name": "stderr",
     "output_type": "stream",
     "text": [
      "C:\\Users\\niraj\\Anaconda3\\lib\\site-packages\\xgboost\\sklearn.py:1224: UserWarning: The use of label encoder in XGBClassifier is deprecated and will be removed in a future release. To remove this warning, do the following: 1) Pass option use_label_encoder=False when constructing XGBClassifier object; and 2) Encode your labels (y) as integers starting with 0, i.e. 0, 1, 2, ..., [num_class - 1].\n",
      "  warnings.warn(label_encoder_deprecation_msg, UserWarning)\n"
     ]
    },
    {
     "name": "stdout",
     "output_type": "stream",
     "text": [
      "[17:44:08] WARNING: C:/Users/Administrator/workspace/xgboost-win64_release_1.5.1/src/learner.cc:1115: Starting in XGBoost 1.3.0, the default evaluation metric used with the objective 'binary:logistic' was changed from 'error' to 'logloss'. Explicitly set eval_metric if you'd like to restore the old behavior.\n"
     ]
    },
    {
     "name": "stderr",
     "output_type": "stream",
     "text": [
      "C:\\Users\\niraj\\Anaconda3\\lib\\site-packages\\xgboost\\sklearn.py:1224: UserWarning: The use of label encoder in XGBClassifier is deprecated and will be removed in a future release. To remove this warning, do the following: 1) Pass option use_label_encoder=False when constructing XGBClassifier object; and 2) Encode your labels (y) as integers starting with 0, i.e. 0, 1, 2, ..., [num_class - 1].\n",
      "  warnings.warn(label_encoder_deprecation_msg, UserWarning)\n"
     ]
    },
    {
     "name": "stdout",
     "output_type": "stream",
     "text": [
      "[17:45:00] WARNING: C:/Users/Administrator/workspace/xgboost-win64_release_1.5.1/src/learner.cc:1115: Starting in XGBoost 1.3.0, the default evaluation metric used with the objective 'binary:logistic' was changed from 'error' to 'logloss'. Explicitly set eval_metric if you'd like to restore the old behavior.\n"
     ]
    },
    {
     "name": "stderr",
     "output_type": "stream",
     "text": [
      "C:\\Users\\niraj\\Anaconda3\\lib\\site-packages\\xgboost\\sklearn.py:1224: UserWarning: The use of label encoder in XGBClassifier is deprecated and will be removed in a future release. To remove this warning, do the following: 1) Pass option use_label_encoder=False when constructing XGBClassifier object; and 2) Encode your labels (y) as integers starting with 0, i.e. 0, 1, 2, ..., [num_class - 1].\n",
      "  warnings.warn(label_encoder_deprecation_msg, UserWarning)\n"
     ]
    },
    {
     "name": "stdout",
     "output_type": "stream",
     "text": [
      "[17:45:56] WARNING: C:/Users/Administrator/workspace/xgboost-win64_release_1.5.1/src/learner.cc:1115: Starting in XGBoost 1.3.0, the default evaluation metric used with the objective 'binary:logistic' was changed from 'error' to 'logloss'. Explicitly set eval_metric if you'd like to restore the old behavior.\n"
     ]
    },
    {
     "name": "stderr",
     "output_type": "stream",
     "text": [
      "C:\\Users\\niraj\\Anaconda3\\lib\\site-packages\\xgboost\\sklearn.py:1224: UserWarning: The use of label encoder in XGBClassifier is deprecated and will be removed in a future release. To remove this warning, do the following: 1) Pass option use_label_encoder=False when constructing XGBClassifier object; and 2) Encode your labels (y) as integers starting with 0, i.e. 0, 1, 2, ..., [num_class - 1].\n",
      "  warnings.warn(label_encoder_deprecation_msg, UserWarning)\n"
     ]
    },
    {
     "name": "stdout",
     "output_type": "stream",
     "text": [
      "[17:47:04] WARNING: C:/Users/Administrator/workspace/xgboost-win64_release_1.5.1/src/learner.cc:1115: Starting in XGBoost 1.3.0, the default evaluation metric used with the objective 'binary:logistic' was changed from 'error' to 'logloss'. Explicitly set eval_metric if you'd like to restore the old behavior.\n",
      "Mean cross-validation score: 0.82\n"
     ]
    },
    {
     "data": {
      "application/javascript": [
       "\n",
       "            setTimeout(function() {\n",
       "                var nbb_cell_id = 269;\n",
       "                var nbb_unformatted_code = \"scores = cross_val_score(xgbc, X_scaled_train, Y_train, cv=5)\\nprint(\\\"Mean cross-validation score: %.2f\\\" % scores.mean())\";\n",
       "                var nbb_formatted_code = \"scores = cross_val_score(xgbc, X_scaled_train, Y_train, cv=5)\\nprint(\\\"Mean cross-validation score: %.2f\\\" % scores.mean())\";\n",
       "                var nbb_cells = Jupyter.notebook.get_cells();\n",
       "                for (var i = 0; i < nbb_cells.length; ++i) {\n",
       "                    if (nbb_cells[i].input_prompt_number == nbb_cell_id) {\n",
       "                        if (nbb_cells[i].get_text() == nbb_unformatted_code) {\n",
       "                             nbb_cells[i].set_text(nbb_formatted_code);\n",
       "                        }\n",
       "                        break;\n",
       "                    }\n",
       "                }\n",
       "            }, 500);\n",
       "            "
      ],
      "text/plain": [
       "<IPython.core.display.Javascript object>"
      ]
     },
     "metadata": {},
     "output_type": "display_data"
    }
   ],
   "source": [
    "scores = cross_val_score(xgbc, X_scaled_train, Y_train, cv=5)\n",
    "print(\"Mean cross-validation score: %.2f\" % scores.mean())"
   ]
  },
  {
   "cell_type": "code",
   "execution_count": null,
   "id": "432bf5d4",
   "metadata": {},
   "outputs": [],
   "source": [
    "confusion_matrix()"
   ]
  },
  {
   "cell_type": "code",
   "execution_count": 322,
   "id": "980f91b0",
   "metadata": {},
   "outputs": [
    {
     "data": {
      "application/javascript": [
       "\n",
       "            setTimeout(function() {\n",
       "                var nbb_cell_id = 322;\n",
       "                var nbb_unformatted_code = \"feats = {}\\nfor feature, importance in zip(X_train.columns, xgbc.feature_importances_):\\n    feats[feature] = importance\\n\\nimportances = pd.DataFrame.from_dict(feats, orient=\\\"index\\\").rename(\\n    columns={0: \\\"Gini-importance\\\"}\\n)\\nimp = importances.sort_values(by=\\\"Gini-importance\\\", ascending=False)[:20]\";\n",
       "                var nbb_formatted_code = \"feats = {}\\nfor feature, importance in zip(X_train.columns, xgbc.feature_importances_):\\n    feats[feature] = importance\\n\\nimportances = pd.DataFrame.from_dict(feats, orient=\\\"index\\\").rename(\\n    columns={0: \\\"Gini-importance\\\"}\\n)\\nimp = importances.sort_values(by=\\\"Gini-importance\\\", ascending=False)[:20]\";\n",
       "                var nbb_cells = Jupyter.notebook.get_cells();\n",
       "                for (var i = 0; i < nbb_cells.length; ++i) {\n",
       "                    if (nbb_cells[i].input_prompt_number == nbb_cell_id) {\n",
       "                        if (nbb_cells[i].get_text() == nbb_unformatted_code) {\n",
       "                             nbb_cells[i].set_text(nbb_formatted_code);\n",
       "                        }\n",
       "                        break;\n",
       "                    }\n",
       "                }\n",
       "            }, 500);\n",
       "            "
      ],
      "text/plain": [
       "<IPython.core.display.Javascript object>"
      ]
     },
     "metadata": {},
     "output_type": "display_data"
    }
   ],
   "source": [
    "feats = {}\n",
    "for feature, importance in zip(X_train.columns, xgbc.feature_importances_):\n",
    "    feats[feature] = importance\n",
    "\n",
    "importances = pd.DataFrame.from_dict(feats, orient=\"index\").rename(\n",
    "    columns={0: \"Gini-importance\"}\n",
    ")\n",
    "imp = importances.sort_values(by=\"Gini-importance\", ascending=False)[:20]"
   ]
  },
  {
   "cell_type": "code",
   "execution_count": 323,
   "id": "f8133b62",
   "metadata": {},
   "outputs": [
    {
     "name": "stdout",
     "output_type": "stream",
     "text": [
      "Index(['V91', 'V45', 'V70', 'C7', 'D2_check', 'V103', 'V40', 'C14', 'V308',\n",
      "       'addr2', 'C1', 'V88', 'V304', 'V318', 'C12', 'V49', 'C4', 'D13_check',\n",
      "       'V294', 'V317'],\n",
      "      dtype='object')\n"
     ]
    },
    {
     "data": {
      "image/png": "[encoded data removed]",
      "text/plain": [
       "<Figure size 1152x504 with 1 Axes>"
      ]
     },
     "metadata": {
      "needs_background": "light"
     },
     "output_type": "display_data"
    },
    {
     "data": {
      "application/javascript": [
       "\n",
       "            setTimeout(function() {\n",
       "                var nbb_cell_id = 323;\n",
       "                var nbb_unformatted_code = \"plt.figure(1, figsize=(16, 7))\\nplt.bar(imp.index, imp[\\\"Gini-importance\\\"])\\nplt.xticks(imp.index, rotation=90)\\nprint(imp.index)\";\n",
       "                var nbb_formatted_code = \"plt.figure(1, figsize=(16, 7))\\nplt.bar(imp.index, imp[\\\"Gini-importance\\\"])\\nplt.xticks(imp.index, rotation=90)\\nprint(imp.index)\";\n",
       "                var nbb_cells = Jupyter.notebook.get_cells();\n",
       "                for (var i = 0; i < nbb_cells.length; ++i) {\n",
       "                    if (nbb_cells[i].input_prompt_number == nbb_cell_id) {\n",
       "                        if (nbb_cells[i].get_text() == nbb_unformatted_code) {\n",
       "                             nbb_cells[i].set_text(nbb_formatted_code);\n",
       "                        }\n",
       "                        break;\n",
       "                    }\n",
       "                }\n",
       "            }, 500);\n",
       "            "
      ],
      "text/plain": [
       "<IPython.core.display.Javascript object>"
      ]
     },
     "metadata": {},
     "output_type": "display_data"
    }
   ],
   "source": [
    "plt.figure(1, figsize=(16, 7))\n",
    "plt.bar(imp.index, imp[\"Gini-importance\"])\n",
    "plt.xticks(imp.index, rotation=90)\n",
    "print(imp.index)"
   ]
  },
  {
   "cell_type": "markdown",
   "id": "fa99daa9",
   "metadata": {},
   "source": [
    "# LGB"
   ]
  },
  {
   "cell_type": "code",
   "execution_count": 270,
   "id": "172c877a",
   "metadata": {},
   "outputs": [
    {
     "data": {
      "application/javascript": [
       "\n",
       "            setTimeout(function() {\n",
       "                var nbb_cell_id = 270;\n",
       "                var nbb_unformatted_code = \"import lightgbm as lgb\";\n",
       "                var nbb_formatted_code = \"import lightgbm as lgb\";\n",
       "                var nbb_cells = Jupyter.notebook.get_cells();\n",
       "                for (var i = 0; i < nbb_cells.length; ++i) {\n",
       "                    if (nbb_cells[i].input_prompt_number == nbb_cell_id) {\n",
       "                        if (nbb_cells[i].get_text() == nbb_unformatted_code) {\n",
       "                             nbb_cells[i].set_text(nbb_formatted_code);\n",
       "                        }\n",
       "                        break;\n",
       "                    }\n",
       "                }\n",
       "            }, 500);\n",
       "            "
      ],
      "text/plain": [
       "<IPython.core.display.Javascript object>"
      ]
     },
     "metadata": {},
     "output_type": "display_data"
    }
   ],
   "source": [
    "import lightgbm as lgb"
   ]
  },
  {
   "cell_type": "code",
   "execution_count": 274,
   "id": "3221889a",
   "metadata": {},
   "outputs": [
    {
     "data": {
      "application/javascript": [
       "\n",
       "            setTimeout(function() {\n",
       "                var nbb_cell_id = 274;\n",
       "                var nbb_unformatted_code = \"from sklearn.model_selection import train_test_split\";\n",
       "                var nbb_formatted_code = \"from sklearn.model_selection import train_test_split\";\n",
       "                var nbb_cells = Jupyter.notebook.get_cells();\n",
       "                for (var i = 0; i < nbb_cells.length; ++i) {\n",
       "                    if (nbb_cells[i].input_prompt_number == nbb_cell_id) {\n",
       "                        if (nbb_cells[i].get_text() == nbb_unformatted_code) {\n",
       "                             nbb_cells[i].set_text(nbb_formatted_code);\n",
       "                        }\n",
       "                        break;\n",
       "                    }\n",
       "                }\n",
       "            }, 500);\n",
       "            "
      ],
      "text/plain": [
       "<IPython.core.display.Javascript object>"
      ]
     },
     "metadata": {},
     "output_type": "display_data"
    }
   ],
   "source": [
    "from sklearn.model_selection import train_test_split"
   ]
  },
  {
   "cell_type": "code",
   "execution_count": 272,
   "id": "ccb1b00a",
   "metadata": {},
   "outputs": [
    {
     "data": {
      "application/javascript": [
       "\n",
       "            setTimeout(function() {\n",
       "                var nbb_cell_id = 272;\n",
       "                var nbb_unformatted_code = \"X_train = trainDf.drop(columns=[\\\"isFraud\\\"])\\nY_train = trainDf[\\\"isFraud\\\"]\";\n",
       "                var nbb_formatted_code = \"X_train = trainDf.drop(columns=[\\\"isFraud\\\"])\\nY_train = trainDf[\\\"isFraud\\\"]\";\n",
       "                var nbb_cells = Jupyter.notebook.get_cells();\n",
       "                for (var i = 0; i < nbb_cells.length; ++i) {\n",
       "                    if (nbb_cells[i].input_prompt_number == nbb_cell_id) {\n",
       "                        if (nbb_cells[i].get_text() == nbb_unformatted_code) {\n",
       "                             nbb_cells[i].set_text(nbb_formatted_code);\n",
       "                        }\n",
       "                        break;\n",
       "                    }\n",
       "                }\n",
       "            }, 500);\n",
       "            "
      ],
      "text/plain": [
       "<IPython.core.display.Javascript object>"
      ]
     },
     "metadata": {},
     "output_type": "display_data"
    }
   ],
   "source": [
    "X_train = trainDf.drop(columns=[\"isFraud\"])\n",
    "Y_train = trainDf[\"isFraud\"]"
   ]
  },
  {
   "cell_type": "code",
   "execution_count": 271,
   "id": "31488cf8",
   "metadata": {},
   "outputs": [
    {
     "data": {
      "application/javascript": [
       "\n",
       "            setTimeout(function() {\n",
       "                var nbb_cell_id = 271;\n",
       "                var nbb_unformatted_code = \"params = {\\n    \\\"num_leaves\\\": 64,\\n    \\\"min_child_weight\\\": 0.03,\\n    \\\"feature_fraction\\\": 0.04,\\n    \\\"bagging_fraction\\\": 0.33,\\n    \\\"min_data_in_leaf\\\": 80,\\n    \\\"objective\\\": \\\"binary\\\",\\n    \\\"max_depth\\\": -1,\\n    \\\"learning_rate\\\": 0.006,\\n    \\\"boosting_type\\\": \\\"gbdt\\\",\\n    \\\"bagging_seed\\\": 7,\\n    \\\"metric\\\": \\\"auc\\\",\\n    \\\"verbosity\\\": -1,\\n    \\\"reg_alpha\\\": 0.3,\\n    \\\"reg_lambda\\\": 0.6,\\n    \\\"random_state\\\": 0,\\n}\";\n",
       "                var nbb_formatted_code = \"params = {\\n    \\\"num_leaves\\\": 64,\\n    \\\"min_child_weight\\\": 0.03,\\n    \\\"feature_fraction\\\": 0.04,\\n    \\\"bagging_fraction\\\": 0.33,\\n    \\\"min_data_in_leaf\\\": 80,\\n    \\\"objective\\\": \\\"binary\\\",\\n    \\\"max_depth\\\": -1,\\n    \\\"learning_rate\\\": 0.006,\\n    \\\"boosting_type\\\": \\\"gbdt\\\",\\n    \\\"bagging_seed\\\": 7,\\n    \\\"metric\\\": \\\"auc\\\",\\n    \\\"verbosity\\\": -1,\\n    \\\"reg_alpha\\\": 0.3,\\n    \\\"reg_lambda\\\": 0.6,\\n    \\\"random_state\\\": 0,\\n}\";\n",
       "                var nbb_cells = Jupyter.notebook.get_cells();\n",
       "                for (var i = 0; i < nbb_cells.length; ++i) {\n",
       "                    if (nbb_cells[i].input_prompt_number == nbb_cell_id) {\n",
       "                        if (nbb_cells[i].get_text() == nbb_unformatted_code) {\n",
       "                             nbb_cells[i].set_text(nbb_formatted_code);\n",
       "                        }\n",
       "                        break;\n",
       "                    }\n",
       "                }\n",
       "            }, 500);\n",
       "            "
      ],
      "text/plain": [
       "<IPython.core.display.Javascript object>"
      ]
     },
     "metadata": {},
     "output_type": "display_data"
    }
   ],
   "source": [
    "params = {\n",
    "    \"num_leaves\": 64,\n",
    "    \"min_child_weight\": 0.03,\n",
    "    \"feature_fraction\": 0.04,\n",
    "    \"bagging_fraction\": 0.33,\n",
    "    \"min_data_in_leaf\": 80,\n",
    "    \"objective\": \"binary\",\n",
    "    \"max_depth\": -1,\n",
    "    \"learning_rate\": 0.006,\n",
    "    \"boosting_type\": \"gbdt\",\n",
    "    \"bagging_seed\": 7,\n",
    "    \"metric\": \"auc\",\n",
    "    \"verbosity\": -1,\n",
    "    \"reg_alpha\": 0.3,\n",
    "    \"reg_lambda\": 0.6,\n",
    "    \"random_state\": 0,\n",
    "}"
   ]
  },
  {
   "cell_type": "code",
   "execution_count": 291,
   "id": "85d7bf57",
   "metadata": {},
   "outputs": [
    {
     "data": {
      "application/javascript": [
       "\n",
       "            setTimeout(function() {\n",
       "                var nbb_cell_id = 291;\n",
       "                var nbb_unformatted_code = \"x_train, x_test, y_train, y_test = train_test_split(X_train, Y_train, test_size=0.15 , random_state = 42)\";\n",
       "                var nbb_formatted_code = \"x_train, x_test, y_train, y_test = train_test_split(\\n    X_train, Y_train, test_size=0.15, random_state=42\\n)\";\n",
       "                var nbb_cells = Jupyter.notebook.get_cells();\n",
       "                for (var i = 0; i < nbb_cells.length; ++i) {\n",
       "                    if (nbb_cells[i].input_prompt_number == nbb_cell_id) {\n",
       "                        if (nbb_cells[i].get_text() == nbb_unformatted_code) {\n",
       "                             nbb_cells[i].set_text(nbb_formatted_code);\n",
       "                        }\n",
       "                        break;\n",
       "                    }\n",
       "                }\n",
       "            }, 500);\n",
       "            "
      ],
      "text/plain": [
       "<IPython.core.display.Javascript object>"
      ]
     },
     "metadata": {},
     "output_type": "display_data"
    }
   ],
   "source": [
    "x_train, x_test, y_train, y_test = train_test_split(\n",
    "    X_train, Y_train, test_size=0.15, random_state=42\n",
    ")"
   ]
  },
  {
   "cell_type": "code",
   "execution_count": 292,
   "id": "913bc336",
   "metadata": {},
   "outputs": [
    {
     "name": "stderr",
     "output_type": "stream",
     "text": [
      "C:\\Users\\niraj\\Anaconda3\\lib\\site-packages\\lightgbm\\sklearn.py:736: UserWarning: 'verbose' argument is deprecated and will be removed in a future release of LightGBM. Pass 'log_evaluation()' callback via 'callbacks' argument instead.\n",
      "  _log_warning(\"'verbose' argument is deprecated and will be removed in a future release of LightGBM. \"\n"
     ]
    },
    {
     "name": "stdout",
     "output_type": "stream",
     "text": [
      "[20]\ttraining's binary_logloss: 0.094293\tvalid_0's binary_logloss: 0.0959552\n",
      "[40]\ttraining's binary_logloss: 0.085312\tvalid_0's binary_logloss: 0.087678\n",
      "[60]\ttraining's binary_logloss: 0.0803338\tvalid_0's binary_logloss: 0.0830723\n",
      "[80]\ttraining's binary_logloss: 0.0764266\tvalid_0's binary_logloss: 0.0798267\n",
      "[100]\ttraining's binary_logloss: 0.0732556\tvalid_0's binary_logloss: 0.0774504\n"
     ]
    },
    {
     "data": {
      "text/plain": [
       "LGBMClassifier(learning_rate=0.09, max_depth=-5, random_state=42)"
      ]
     },
     "execution_count": 292,
     "metadata": {},
     "output_type": "execute_result"
    },
    {
     "data": {
      "application/javascript": [
       "\n",
       "            setTimeout(function() {\n",
       "                var nbb_cell_id = 292;\n",
       "                var nbb_unformatted_code = \"model = lgb.LGBMClassifier(learning_rate=0.09,max_depth=-5,random_state=42)\\nmodel.fit(x_train,y_train,eval_set=[(x_test,y_test),(x_train,y_train)],\\n          verbose=20,eval_metric='logloss')\";\n",
       "                var nbb_formatted_code = \"model = lgb.LGBMClassifier(learning_rate=0.09, max_depth=-5, random_state=42)\\nmodel.fit(\\n    x_train,\\n    y_train,\\n    eval_set=[(x_test, y_test), (x_train, y_train)],\\n    verbose=20,\\n    eval_metric=\\\"logloss\\\",\\n)\";\n",
       "                var nbb_cells = Jupyter.notebook.get_cells();\n",
       "                for (var i = 0; i < nbb_cells.length; ++i) {\n",
       "                    if (nbb_cells[i].input_prompt_number == nbb_cell_id) {\n",
       "                        if (nbb_cells[i].get_text() == nbb_unformatted_code) {\n",
       "                             nbb_cells[i].set_text(nbb_formatted_code);\n",
       "                        }\n",
       "                        break;\n",
       "                    }\n",
       "                }\n",
       "            }, 500);\n",
       "            "
      ],
      "text/plain": [
       "<IPython.core.display.Javascript object>"
      ]
     },
     "metadata": {},
     "output_type": "display_data"
    }
   ],
   "source": [
    "model = lgb.LGBMClassifier(learning_rate=0.09, max_depth=-5, random_state=42)\n",
    "model.fit(\n",
    "    x_train,\n",
    "    y_train,\n",
    "    eval_set=[(x_test, y_test), (x_train, y_train)],\n",
    "    verbose=20,\n",
    "    eval_metric=\"logloss\",\n",
    ")"
   ]
  },
  {
   "cell_type": "code",
   "execution_count": 293,
   "id": "625456ab",
   "metadata": {},
   "outputs": [
    {
     "name": "stdout",
     "output_type": "stream",
     "text": [
      "Training accuracy 0.9783\n",
      "Testing accuracy 0.9777\n"
     ]
    },
    {
     "data": {
      "application/javascript": [
       "\n",
       "            setTimeout(function() {\n",
       "                var nbb_cell_id = 293;\n",
       "                var nbb_unformatted_code = \"print('Training accuracy {:.4f}'.format(model.score(x_train,y_train)))\\nprint('Testing accuracy {:.4f}'.format(model.score(x_test,y_test)))\";\n",
       "                var nbb_formatted_code = \"print(\\\"Training accuracy {:.4f}\\\".format(model.score(x_train, y_train)))\\nprint(\\\"Testing accuracy {:.4f}\\\".format(model.score(x_test, y_test)))\";\n",
       "                var nbb_cells = Jupyter.notebook.get_cells();\n",
       "                for (var i = 0; i < nbb_cells.length; ++i) {\n",
       "                    if (nbb_cells[i].input_prompt_number == nbb_cell_id) {\n",
       "                        if (nbb_cells[i].get_text() == nbb_unformatted_code) {\n",
       "                             nbb_cells[i].set_text(nbb_formatted_code);\n",
       "                        }\n",
       "                        break;\n",
       "                    }\n",
       "                }\n",
       "            }, 500);\n",
       "            "
      ],
      "text/plain": [
       "<IPython.core.display.Javascript object>"
      ]
     },
     "metadata": {},
     "output_type": "display_data"
    }
   ],
   "source": [
    "print(\"Training accuracy {:.4f}\".format(model.score(x_train, y_train)))\n",
    "print(\"Testing accuracy {:.4f}\".format(model.score(x_test, y_test)))"
   ]
  },
  {
   "cell_type": "code",
   "execution_count": 294,
   "id": "6e8aeddf",
   "metadata": {},
   "outputs": [
    {
     "data": {
      "text/plain": [
       "<AxesSubplot:title={'center':'Feature importance'}, xlabel='Feature importance', ylabel='Features'>"
      ]
     },
     "execution_count": 294,
     "metadata": {},
     "output_type": "execute_result"
    },
    {
     "data": {
      "image/png": "[encoded data removed]",
      "text/plain": [
       "<Figure size 432x288 with 1 Axes>"
      ]
     },
     "metadata": {
      "needs_background": "light"
     },
     "output_type": "display_data"
    },
    {
     "data": {
      "application/javascript": [
       "\n",
       "            setTimeout(function() {\n",
       "                var nbb_cell_id = 294;\n",
       "                var nbb_unformatted_code = \"lgb.plot_importance(model)\";\n",
       "                var nbb_formatted_code = \"lgb.plot_importance(model)\";\n",
       "                var nbb_cells = Jupyter.notebook.get_cells();\n",
       "                for (var i = 0; i < nbb_cells.length; ++i) {\n",
       "                    if (nbb_cells[i].input_prompt_number == nbb_cell_id) {\n",
       "                        if (nbb_cells[i].get_text() == nbb_unformatted_code) {\n",
       "                             nbb_cells[i].set_text(nbb_formatted_code);\n",
       "                        }\n",
       "                        break;\n",
       "                    }\n",
       "                }\n",
       "            }, 500);\n",
       "            "
      ],
      "text/plain": [
       "<IPython.core.display.Javascript object>"
      ]
     },
     "metadata": {},
     "output_type": "display_data"
    }
   ],
   "source": [
    "lgb.plot_importance(model)"
   ]
  },
  {
   "cell_type": "code",
   "execution_count": 350,
   "id": "1c3105a1",
   "metadata": {},
   "outputs": [
    {
     "data": {
      "image/png": "[encoded data removed]",
      "text/plain": [
       "<Figure size 1152x576 with 1 Axes>"
      ]
     },
     "metadata": {},
     "output_type": "display_data"
    },
    {
     "data": {
      "application/javascript": [
       "\n",
       "            setTimeout(function() {\n",
       "                var nbb_cell_id = 350;\n",
       "                var nbb_unformatted_code = \"import matplotlib.pyplot as plt\\n\\nplt.rcParams[\\\"figure.figsize\\\"] = (16, 8)\\nax = lgb.plot_importance(model, max_num_features=20)\\nplt.show()\";\n",
       "                var nbb_formatted_code = \"import matplotlib.pyplot as plt\\n\\nplt.rcParams[\\\"figure.figsize\\\"] = (16, 8)\\nax = lgb.plot_importance(model, max_num_features=20)\\nplt.show()\";\n",
       "                var nbb_cells = Jupyter.notebook.get_cells();\n",
       "                for (var i = 0; i < nbb_cells.length; ++i) {\n",
       "                    if (nbb_cells[i].input_prompt_number == nbb_cell_id) {\n",
       "                        if (nbb_cells[i].get_text() == nbb_unformatted_code) {\n",
       "                             nbb_cells[i].set_text(nbb_formatted_code);\n",
       "                        }\n",
       "                        break;\n",
       "                    }\n",
       "                }\n",
       "            }, 500);\n",
       "            "
      ],
      "text/plain": [
       "<IPython.core.display.Javascript object>"
      ]
     },
     "metadata": {},
     "output_type": "display_data"
    }
   ],
   "source": [
    "import matplotlib.pyplot as plt\n",
    "\n",
    "plt.rcParams[\"figure.figsize\"] = (16, 8)\n",
    "ax = lgb.plot_importance(model, max_num_features=20)\n",
    "plt.show()"
   ]
  },
  {
   "cell_type": "code",
   "execution_count": null,
   "id": "23ffefd9",
   "metadata": {},
   "outputs": [],
   "source": []
  },
  {
   "cell_type": "code",
   "execution_count": 338,
   "id": "6a952a0e",
   "metadata": {},
   "outputs": [
    {
     "data": {
      "text/plain": [
       "<AxesSubplot:title={'center':'Metric during training'}, xlabel='Iterations', ylabel='binary_logloss'>"
      ]
     },
     "execution_count": 338,
     "metadata": {},
     "output_type": "execute_result"
    },
    {
     "data": {
      "image/png": "[encoded data removed]",
      "text/plain": [
       "<Figure size 432x288 with 1 Axes>"
      ]
     },
     "metadata": {},
     "output_type": "display_data"
    },
    {
     "data": {
      "application/javascript": [
       "\n",
       "            setTimeout(function() {\n",
       "                var nbb_cell_id = 338;\n",
       "                var nbb_unformatted_code = \"lgb.plot_metric(model)\";\n",
       "                var nbb_formatted_code = \"lgb.plot_metric(model)\";\n",
       "                var nbb_cells = Jupyter.notebook.get_cells();\n",
       "                for (var i = 0; i < nbb_cells.length; ++i) {\n",
       "                    if (nbb_cells[i].input_prompt_number == nbb_cell_id) {\n",
       "                        if (nbb_cells[i].get_text() == nbb_unformatted_code) {\n",
       "                             nbb_cells[i].set_text(nbb_formatted_code);\n",
       "                        }\n",
       "                        break;\n",
       "                    }\n",
       "                }\n",
       "            }, 500);\n",
       "            "
      ],
      "text/plain": [
       "<IPython.core.display.Javascript object>"
      ]
     },
     "metadata": {},
     "output_type": "display_data"
    }
   ],
   "source": [
    "lgb.plot_metric(model)"
   ]
  },
  {
   "cell_type": "code",
   "execution_count": 353,
   "id": "12fd0cea",
   "metadata": {},
   "outputs": [
    {
     "data": {
      "text/plain": [
       "<sklearn.metrics._plot.confusion_matrix.ConfusionMatrixDisplay at 0x1e49cee3730>"
      ]
     },
     "execution_count": 353,
     "metadata": {},
     "output_type": "execute_result"
    },
    {
     "data": {
      "image/png": "[encoded data removed]",
      "text/plain": [
       "<Figure size 1152x576 with 2 Axes>"
      ]
     },
     "metadata": {},
     "output_type": "display_data"
    },
    {
     "data": {
      "application/javascript": [
       "\n",
       "            setTimeout(function() {\n",
       "                var nbb_cell_id = 353;\n",
       "                var nbb_unformatted_code = \"from sklearn import metrics\\n\\nmetrics.plot_confusion_matrix(model, x_test, y_test)\";\n",
       "                var nbb_formatted_code = \"from sklearn import metrics\\n\\nmetrics.plot_confusion_matrix(model, x_test, y_test)\";\n",
       "                var nbb_cells = Jupyter.notebook.get_cells();\n",
       "                for (var i = 0; i < nbb_cells.length; ++i) {\n",
       "                    if (nbb_cells[i].input_prompt_number == nbb_cell_id) {\n",
       "                        if (nbb_cells[i].get_text() == nbb_unformatted_code) {\n",
       "                             nbb_cells[i].set_text(nbb_formatted_code);\n",
       "                        }\n",
       "                        break;\n",
       "                    }\n",
       "                }\n",
       "            }, 500);\n",
       "            "
      ],
      "text/plain": [
       "<IPython.core.display.Javascript object>"
      ]
     },
     "metadata": {},
     "output_type": "display_data"
    }
   ],
   "source": [
    "from sklearn import metrics\n",
    "\n",
    "metrics.plot_confusion_matrix(model, x_test, y_test)"
   ]
  },
  {
   "cell_type": "code",
   "execution_count": 352,
   "id": "2b7f0985",
   "metadata": {},
   "outputs": [
    {
     "data": {
      "text/plain": [
       "<sklearn.metrics._plot.confusion_matrix.ConfusionMatrixDisplay at 0x1e49e511a60>"
      ]
     },
     "execution_count": 352,
     "metadata": {},
     "output_type": "execute_result"
    },
    {
     "data": {
      "image/png": "[encoded data removed]",
      "text/plain": [
       "<Figure size 1152x576 with 2 Axes>"
      ]
     },
     "metadata": {},
     "output_type": "display_data"
    },
    {
     "data": {
      "application/javascript": [
       "\n",
       "            setTimeout(function() {\n",
       "                var nbb_cell_id = 352;\n",
       "                var nbb_unformatted_code = \"from sklearn import metrics\\n\\nmetrics.plot_confusion_matrix(model, x_test, y_test, cmap=\\\"Blues_r\\\")\";\n",
       "                var nbb_formatted_code = \"from sklearn import metrics\\n\\nmetrics.plot_confusion_matrix(model, x_test, y_test, cmap=\\\"Blues_r\\\")\";\n",
       "                var nbb_cells = Jupyter.notebook.get_cells();\n",
       "                for (var i = 0; i < nbb_cells.length; ++i) {\n",
       "                    if (nbb_cells[i].input_prompt_number == nbb_cell_id) {\n",
       "                        if (nbb_cells[i].get_text() == nbb_unformatted_code) {\n",
       "                             nbb_cells[i].set_text(nbb_formatted_code);\n",
       "                        }\n",
       "                        break;\n",
       "                    }\n",
       "                }\n",
       "            }, 500);\n",
       "            "
      ],
      "text/plain": [
       "<IPython.core.display.Javascript object>"
      ]
     },
     "metadata": {},
     "output_type": "display_data"
    }
   ],
   "source": [
    "from sklearn import metrics\n",
    "\n",
    "metrics.plot_confusion_matrix(model, x_test, y_test, cmap=\"Blues_r\")"
   ]
  },
  {
   "cell_type": "code",
   "execution_count": null,
   "id": "5a84982e",
   "metadata": {},
   "outputs": [],
   "source": []
  },
  {
   "cell_type": "code",
   "execution_count": null,
   "id": "e9b6149c",
   "metadata": {},
   "outputs": [],
   "source": []
  },
  {
   "cell_type": "code",
   "execution_count": 298,
   "id": "cde22ceb",
   "metadata": {},
   "outputs": [
    {
     "name": "stdout",
     "output_type": "stream",
     "text": [
      "              precision    recall  f1-score   support\n",
      "\n",
      "           0       0.98      1.00      0.99     85430\n",
      "           1       0.91      0.42      0.57      3151\n",
      "\n",
      "    accuracy                           0.98     88581\n",
      "   macro avg       0.94      0.71      0.78     88581\n",
      "weighted avg       0.98      0.98      0.97     88581\n",
      "\n"
     ]
    },
    {
     "data": {
      "application/javascript": [
       "\n",
       "            setTimeout(function() {\n",
       "                var nbb_cell_id = 298;\n",
       "                var nbb_unformatted_code = \"print(metrics.classification_report(y_test,model.predict(x_test)))\";\n",
       "                var nbb_formatted_code = \"print(metrics.classification_report(y_test, model.predict(x_test)))\";\n",
       "                var nbb_cells = Jupyter.notebook.get_cells();\n",
       "                for (var i = 0; i < nbb_cells.length; ++i) {\n",
       "                    if (nbb_cells[i].input_prompt_number == nbb_cell_id) {\n",
       "                        if (nbb_cells[i].get_text() == nbb_unformatted_code) {\n",
       "                             nbb_cells[i].set_text(nbb_formatted_code);\n",
       "                        }\n",
       "                        break;\n",
       "                    }\n",
       "                }\n",
       "            }, 500);\n",
       "            "
      ],
      "text/plain": [
       "<IPython.core.display.Javascript object>"
      ]
     },
     "metadata": {},
     "output_type": "display_data"
    }
   ],
   "source": [
    "print(metrics.classification_report(y_test, model.predict(x_test)))"
   ]
  },
  {
   "cell_type": "markdown",
   "id": "c9d45629",
   "metadata": {},
   "source": [
    "# LGB 2"
   ]
  },
  {
   "cell_type": "code",
   "execution_count": 299,
   "id": "30b48f4b",
   "metadata": {},
   "outputs": [
    {
     "data": {
      "application/javascript": [
       "\n",
       "            setTimeout(function() {\n",
       "                var nbb_cell_id = 299;\n",
       "                var nbb_unformatted_code = \"n_folds = 5\\nfolds = TimeSeriesSplit(n_splits=n_folds)\\nfolds = KFold(n_splits = 5)\";\n",
       "                var nbb_formatted_code = \"n_folds = 5\\nfolds = TimeSeriesSplit(n_splits=n_folds)\\nfolds = KFold(n_splits=5)\";\n",
       "                var nbb_cells = Jupyter.notebook.get_cells();\n",
       "                for (var i = 0; i < nbb_cells.length; ++i) {\n",
       "                    if (nbb_cells[i].input_prompt_number == nbb_cell_id) {\n",
       "                        if (nbb_cells[i].get_text() == nbb_unformatted_code) {\n",
       "                             nbb_cells[i].set_text(nbb_formatted_code);\n",
       "                        }\n",
       "                        break;\n",
       "                    }\n",
       "                }\n",
       "            }, 500);\n",
       "            "
      ],
      "text/plain": [
       "<IPython.core.display.Javascript object>"
      ]
     },
     "metadata": {},
     "output_type": "display_data"
    }
   ],
   "source": [
    "n_folds = 5\n",
    "folds = TimeSeriesSplit(n_splits=n_folds)\n",
    "folds = KFold(n_splits=5)"
   ]
  },
  {
   "cell_type": "code",
   "execution_count": 303,
   "id": "737ea9d7",
   "metadata": {},
   "outputs": [
    {
     "data": {
      "application/javascript": [
       "\n",
       "            setTimeout(function() {\n",
       "                var nbb_cell_id = 303;\n",
       "                var nbb_unformatted_code = \"columns = X_train.columns\\ny_train = trainDf[\\\"isFraud\\\"]\\n\\nsplits = folds.split(X_train, y_train)\\n\\ny_preds = np.zeros(X_test.shape[0])\\ny_oof = np.zeros(X_train.shape[0])\\n\\nscore_auc = 0\\n\\nfeature_importances = pd.DataFrame()\\nfeature_importances[\\\"feature\\\"] = columns\";\n",
       "                var nbb_formatted_code = \"columns = X_train.columns\\ny_train = trainDf[\\\"isFraud\\\"]\\n\\nsplits = folds.split(X_train, y_train)\\n\\ny_preds = np.zeros(X_test.shape[0])\\ny_oof = np.zeros(X_train.shape[0])\\n\\nscore_auc = 0\\n\\nfeature_importances = pd.DataFrame()\\nfeature_importances[\\\"feature\\\"] = columns\";\n",
       "                var nbb_cells = Jupyter.notebook.get_cells();\n",
       "                for (var i = 0; i < nbb_cells.length; ++i) {\n",
       "                    if (nbb_cells[i].input_prompt_number == nbb_cell_id) {\n",
       "                        if (nbb_cells[i].get_text() == nbb_unformatted_code) {\n",
       "                             nbb_cells[i].set_text(nbb_formatted_code);\n",
       "                        }\n",
       "                        break;\n",
       "                    }\n",
       "                }\n",
       "            }, 500);\n",
       "            "
      ],
      "text/plain": [
       "<IPython.core.display.Javascript object>"
      ]
     },
     "metadata": {},
     "output_type": "display_data"
    }
   ],
   "source": [
    "columns = X_train.columns\n",
    "y_train = trainDf[\"isFraud\"]\n",
    "\n",
    "splits = folds.split(X_train, y_train)\n",
    "\n",
    "y_preds = np.zeros(X_test.shape[0])\n",
    "y_oof = np.zeros(X_train.shape[0])\n",
    "\n",
    "score_auc = 0\n",
    "\n",
    "feature_importances = pd.DataFrame()\n",
    "feature_importances[\"feature\"] = columns"
   ]
  },
  {
   "cell_type": "code",
   "execution_count": 302,
   "id": "e616c88c",
   "metadata": {},
   "outputs": [
    {
     "data": {
      "text/plain": [
       "763"
      ]
     },
     "execution_count": 302,
     "metadata": {},
     "output_type": "execute_result"
    },
    {
     "data": {
      "application/javascript": [
       "\n",
       "            setTimeout(function() {\n",
       "                var nbb_cell_id = 302;\n",
       "                var nbb_unformatted_code = \"gc.collect()\";\n",
       "                var nbb_formatted_code = \"gc.collect()\";\n",
       "                var nbb_cells = Jupyter.notebook.get_cells();\n",
       "                for (var i = 0; i < nbb_cells.length; ++i) {\n",
       "                    if (nbb_cells[i].input_prompt_number == nbb_cell_id) {\n",
       "                        if (nbb_cells[i].get_text() == nbb_unformatted_code) {\n",
       "                             nbb_cells[i].set_text(nbb_formatted_code);\n",
       "                        }\n",
       "                        break;\n",
       "                    }\n",
       "                }\n",
       "            }, 500);\n",
       "            "
      ],
      "text/plain": [
       "<IPython.core.display.Javascript object>"
      ]
     },
     "metadata": {},
     "output_type": "display_data"
    }
   ],
   "source": [
    "gc.collect()"
   ]
  },
  {
   "cell_type": "code",
   "execution_count": 304,
   "id": "2c1062a8",
   "metadata": {},
   "outputs": [
    {
     "name": "stderr",
     "output_type": "stream",
     "text": [
      "C:\\Users\\niraj\\Anaconda3\\lib\\site-packages\\lightgbm\\engine.py:181: UserWarning: 'early_stopping_rounds' argument is deprecated and will be removed in a future release of LightGBM. Pass 'early_stopping()' callback via 'callbacks' argument instead.\n",
      "  _log_warning(\"'early_stopping_rounds' argument is deprecated and will be removed in a future release of LightGBM. \"\n",
      "C:\\Users\\niraj\\Anaconda3\\lib\\site-packages\\lightgbm\\engine.py:239: UserWarning: 'verbose_eval' argument is deprecated and will be removed in a future release of LightGBM. Pass 'log_evaluation()' callback via 'callbacks' argument instead.\n",
      "  _log_warning(\"'verbose_eval' argument is deprecated and will be removed in a future release of LightGBM. \"\n"
     ]
    },
    {
     "name": "stdout",
     "output_type": "stream",
     "text": [
      "Training until validation scores don't improve for 100 rounds\n",
      "[200]\ttraining's auc: 0.87348\tvalid_1's auc: 0.806277\n",
      "[400]\ttraining's auc: 0.884687\tvalid_1's auc: 0.820346\n",
      "[600]\ttraining's auc: 0.894566\tvalid_1's auc: 0.831636\n",
      "[800]\ttraining's auc: 0.903822\tvalid_1's auc: 0.842659\n",
      "[1000]\ttraining's auc: 0.911497\tvalid_1's auc: 0.851878\n",
      "[1200]\ttraining's auc: 0.917507\tvalid_1's auc: 0.858905\n",
      "[1400]\ttraining's auc: 0.923312\tvalid_1's auc: 0.866402\n",
      "[1600]\ttraining's auc: 0.927953\tvalid_1's auc: 0.872288\n",
      "[1800]\ttraining's auc: 0.932278\tvalid_1's auc: 0.876761\n",
      "[2000]\ttraining's auc: 0.936173\tvalid_1's auc: 0.881069\n",
      "[2200]\ttraining's auc: 0.939656\tvalid_1's auc: 0.884598\n",
      "[2400]\ttraining's auc: 0.942523\tvalid_1's auc: 0.887158\n",
      "[2600]\ttraining's auc: 0.945125\tvalid_1's auc: 0.889551\n",
      "[2800]\ttraining's auc: 0.947529\tvalid_1's auc: 0.891664\n",
      "[3000]\ttraining's auc: 0.949818\tvalid_1's auc: 0.893599\n",
      "[3200]\ttraining's auc: 0.951898\tvalid_1's auc: 0.895262\n",
      "[3400]\ttraining's auc: 0.953686\tvalid_1's auc: 0.896591\n",
      "[3600]\ttraining's auc: 0.955421\tvalid_1's auc: 0.897976\n",
      "[3800]\ttraining's auc: 0.957058\tvalid_1's auc: 0.899043\n",
      "[4000]\ttraining's auc: 0.958641\tvalid_1's auc: 0.900039\n",
      "[4200]\ttraining's auc: 0.959955\tvalid_1's auc: 0.901029\n",
      "[4400]\ttraining's auc: 0.961325\tvalid_1's auc: 0.901768\n",
      "[4600]\ttraining's auc: 0.962573\tvalid_1's auc: 0.902564\n",
      "[4800]\ttraining's auc: 0.963781\tvalid_1's auc: 0.903251\n",
      "[5000]\ttraining's auc: 0.964959\tvalid_1's auc: 0.903996\n",
      "[5200]\ttraining's auc: 0.966033\tvalid_1's auc: 0.904523\n",
      "[5400]\ttraining's auc: 0.967103\tvalid_1's auc: 0.905115\n",
      "[5600]\ttraining's auc: 0.96809\tvalid_1's auc: 0.905682\n",
      "[5800]\ttraining's auc: 0.968959\tvalid_1's auc: 0.906099\n",
      "[6000]\ttraining's auc: 0.969875\tvalid_1's auc: 0.906637\n",
      "[6200]\ttraining's auc: 0.970694\tvalid_1's auc: 0.907163\n",
      "[6400]\ttraining's auc: 0.971548\tvalid_1's auc: 0.907612\n",
      "[6600]\ttraining's auc: 0.972266\tvalid_1's auc: 0.907987\n",
      "[6800]\ttraining's auc: 0.972995\tvalid_1's auc: 0.908329\n",
      "[7000]\ttraining's auc: 0.973716\tvalid_1's auc: 0.908719\n",
      "[7200]\ttraining's auc: 0.974366\tvalid_1's auc: 0.909064\n",
      "[7400]\ttraining's auc: 0.975047\tvalid_1's auc: 0.909298\n",
      "[7600]\ttraining's auc: 0.975644\tvalid_1's auc: 0.909486\n",
      "[7800]\ttraining's auc: 0.976288\tvalid_1's auc: 0.909776\n",
      "[8000]\ttraining's auc: 0.976834\tvalid_1's auc: 0.909987\n",
      "[8200]\ttraining's auc: 0.977383\tvalid_1's auc: 0.910255\n",
      "[8400]\ttraining's auc: 0.977903\tvalid_1's auc: 0.910519\n",
      "[8600]\ttraining's auc: 0.978451\tvalid_1's auc: 0.910689\n",
      "[8800]\ttraining's auc: 0.9789\tvalid_1's auc: 0.910893\n",
      "[9000]\ttraining's auc: 0.979376\tvalid_1's auc: 0.911085\n",
      "[9200]\ttraining's auc: 0.979823\tvalid_1's auc: 0.911209\n",
      "[9400]\ttraining's auc: 0.980251\tvalid_1's auc: 0.911364\n",
      "[9600]\ttraining's auc: 0.980675\tvalid_1's auc: 0.911522\n",
      "[9800]\ttraining's auc: 0.981068\tvalid_1's auc: 0.911747\n",
      "[10000]\ttraining's auc: 0.981461\tvalid_1's auc: 0.911938\n",
      "Did not meet early stopping. Best iteration is:\n",
      "[10000]\ttraining's auc: 0.981461\tvalid_1's auc: 0.911938\n",
      "Fold 1 | AUC: 0.9119378981106584\n"
     ]
    },
    {
     "name": "stderr",
     "output_type": "stream",
     "text": [
      "C:\\Users\\niraj\\Anaconda3\\lib\\site-packages\\lightgbm\\engine.py:181: UserWarning: 'early_stopping_rounds' argument is deprecated and will be removed in a future release of LightGBM. Pass 'early_stopping()' callback via 'callbacks' argument instead.\n",
      "  _log_warning(\"'early_stopping_rounds' argument is deprecated and will be removed in a future release of LightGBM. \"\n",
      "C:\\Users\\niraj\\Anaconda3\\lib\\site-packages\\lightgbm\\engine.py:239: UserWarning: 'verbose_eval' argument is deprecated and will be removed in a future release of LightGBM. Pass 'log_evaluation()' callback via 'callbacks' argument instead.\n",
      "  _log_warning(\"'verbose_eval' argument is deprecated and will be removed in a future release of LightGBM. \"\n"
     ]
    },
    {
     "name": "stdout",
     "output_type": "stream",
     "text": [
      "Training until validation scores don't improve for 100 rounds\n",
      "[200]\ttraining's auc: 0.869699\tvalid_1's auc: 0.861474\n",
      "[400]\ttraining's auc: 0.882816\tvalid_1's auc: 0.869978\n",
      "[600]\ttraining's auc: 0.893699\tvalid_1's auc: 0.876319\n",
      "[800]\ttraining's auc: 0.903441\tvalid_1's auc: 0.88216\n",
      "[1000]\ttraining's auc: 0.911151\tvalid_1's auc: 0.88694\n",
      "[1200]\ttraining's auc: 0.917124\tvalid_1's auc: 0.890273\n",
      "[1400]\ttraining's auc: 0.922881\tvalid_1's auc: 0.893546\n",
      "[1600]\ttraining's auc: 0.927616\tvalid_1's auc: 0.896196\n",
      "[1800]\ttraining's auc: 0.932088\tvalid_1's auc: 0.898878\n",
      "[2000]\ttraining's auc: 0.935893\tvalid_1's auc: 0.901211\n",
      "[2200]\ttraining's auc: 0.939379\tvalid_1's auc: 0.903267\n",
      "[2400]\ttraining's auc: 0.942209\tvalid_1's auc: 0.904835\n",
      "[2600]\ttraining's auc: 0.944789\tvalid_1's auc: 0.906299\n",
      "[2800]\ttraining's auc: 0.947115\tvalid_1's auc: 0.907464\n",
      "[3000]\ttraining's auc: 0.949297\tvalid_1's auc: 0.908612\n",
      "[3200]\ttraining's auc: 0.951347\tvalid_1's auc: 0.909515\n",
      "[3400]\ttraining's auc: 0.953157\tvalid_1's auc: 0.910265\n",
      "[3600]\ttraining's auc: 0.95487\tvalid_1's auc: 0.911089\n",
      "[3800]\ttraining's auc: 0.956425\tvalid_1's auc: 0.911778\n",
      "[4000]\ttraining's auc: 0.958011\tvalid_1's auc: 0.912498\n",
      "[4200]\ttraining's auc: 0.959353\tvalid_1's auc: 0.913071\n",
      "[4400]\ttraining's auc: 0.960699\tvalid_1's auc: 0.913645\n",
      "[4600]\ttraining's auc: 0.961916\tvalid_1's auc: 0.914225\n",
      "[4800]\ttraining's auc: 0.963118\tvalid_1's auc: 0.914786\n",
      "[5000]\ttraining's auc: 0.964275\tvalid_1's auc: 0.91523\n",
      "[5200]\ttraining's auc: 0.965364\tvalid_1's auc: 0.915681\n",
      "[5400]\ttraining's auc: 0.966422\tvalid_1's auc: 0.91608\n",
      "[5600]\ttraining's auc: 0.967391\tvalid_1's auc: 0.916477\n",
      "[5800]\ttraining's auc: 0.96825\tvalid_1's auc: 0.916853\n",
      "[6000]\ttraining's auc: 0.969185\tvalid_1's auc: 0.917216\n",
      "[6200]\ttraining's auc: 0.969999\tvalid_1's auc: 0.917611\n",
      "[6400]\ttraining's auc: 0.970816\tvalid_1's auc: 0.917969\n",
      "[6600]\ttraining's auc: 0.971521\tvalid_1's auc: 0.918248\n",
      "[6800]\ttraining's auc: 0.97221\tvalid_1's auc: 0.918449\n",
      "[7000]\ttraining's auc: 0.972927\tvalid_1's auc: 0.918743\n",
      "[7200]\ttraining's auc: 0.973569\tvalid_1's auc: 0.918975\n",
      "[7400]\ttraining's auc: 0.974274\tvalid_1's auc: 0.919271\n",
      "[7600]\ttraining's auc: 0.974872\tvalid_1's auc: 0.919464\n",
      "[7800]\ttraining's auc: 0.97555\tvalid_1's auc: 0.919683\n",
      "[8000]\ttraining's auc: 0.976076\tvalid_1's auc: 0.919897\n",
      "[8200]\ttraining's auc: 0.976653\tvalid_1's auc: 0.920224\n",
      "[8400]\ttraining's auc: 0.977175\tvalid_1's auc: 0.920463\n",
      "[8600]\ttraining's auc: 0.977713\tvalid_1's auc: 0.920681\n",
      "[8800]\ttraining's auc: 0.978224\tvalid_1's auc: 0.920905\n",
      "[9000]\ttraining's auc: 0.978722\tvalid_1's auc: 0.92116\n",
      "[9200]\ttraining's auc: 0.979183\tvalid_1's auc: 0.921328\n",
      "[9400]\ttraining's auc: 0.979646\tvalid_1's auc: 0.921537\n",
      "[9600]\ttraining's auc: 0.98009\tvalid_1's auc: 0.921743\n",
      "[9800]\ttraining's auc: 0.980511\tvalid_1's auc: 0.921894\n",
      "[10000]\ttraining's auc: 0.980934\tvalid_1's auc: 0.922011\n",
      "Did not meet early stopping. Best iteration is:\n",
      "[10000]\ttraining's auc: 0.980934\tvalid_1's auc: 0.922011\n",
      "Fold 2 | AUC: 0.922010758895244\n"
     ]
    },
    {
     "name": "stderr",
     "output_type": "stream",
     "text": [
      "C:\\Users\\niraj\\Anaconda3\\lib\\site-packages\\lightgbm\\engine.py:181: UserWarning: 'early_stopping_rounds' argument is deprecated and will be removed in a future release of LightGBM. Pass 'early_stopping()' callback via 'callbacks' argument instead.\n",
      "  _log_warning(\"'early_stopping_rounds' argument is deprecated and will be removed in a future release of LightGBM. \"\n",
      "C:\\Users\\niraj\\Anaconda3\\lib\\site-packages\\lightgbm\\engine.py:239: UserWarning: 'verbose_eval' argument is deprecated and will be removed in a future release of LightGBM. Pass 'log_evaluation()' callback via 'callbacks' argument instead.\n",
      "  _log_warning(\"'verbose_eval' argument is deprecated and will be removed in a future release of LightGBM. \"\n"
     ]
    },
    {
     "name": "stdout",
     "output_type": "stream",
     "text": [
      "Training until validation scores don't improve for 100 rounds\n",
      "[200]\ttraining's auc: 0.870856\tvalid_1's auc: 0.857398\n",
      "[400]\ttraining's auc: 0.883898\tvalid_1's auc: 0.865878\n",
      "[600]\ttraining's auc: 0.894765\tvalid_1's auc: 0.872184\n",
      "[800]\ttraining's auc: 0.904886\tvalid_1's auc: 0.878272\n",
      "[1000]\ttraining's auc: 0.912891\tvalid_1's auc: 0.882922\n",
      "[1200]\ttraining's auc: 0.918949\tvalid_1's auc: 0.886152\n",
      "[1400]\ttraining's auc: 0.924714\tvalid_1's auc: 0.889773\n",
      "[1600]\ttraining's auc: 0.929333\tvalid_1's auc: 0.892218\n",
      "[1800]\ttraining's auc: 0.933729\tvalid_1's auc: 0.894734\n",
      "[2000]\ttraining's auc: 0.93754\tvalid_1's auc: 0.897041\n",
      "[2200]\ttraining's auc: 0.941014\tvalid_1's auc: 0.898942\n",
      "[2400]\ttraining's auc: 0.943839\tvalid_1's auc: 0.90048\n",
      "[2600]\ttraining's auc: 0.946372\tvalid_1's auc: 0.90185\n",
      "[2800]\ttraining's auc: 0.948706\tvalid_1's auc: 0.902992\n",
      "[3000]\ttraining's auc: 0.950858\tvalid_1's auc: 0.903885\n",
      "[3200]\ttraining's auc: 0.952849\tvalid_1's auc: 0.904645\n",
      "[3400]\ttraining's auc: 0.954667\tvalid_1's auc: 0.905239\n",
      "[3600]\ttraining's auc: 0.956402\tvalid_1's auc: 0.906153\n",
      "[3800]\ttraining's auc: 0.957985\tvalid_1's auc: 0.906687\n",
      "[4000]\ttraining's auc: 0.959585\tvalid_1's auc: 0.907259\n",
      "[4200]\ttraining's auc: 0.96092\tvalid_1's auc: 0.907743\n",
      "[4400]\ttraining's auc: 0.962279\tvalid_1's auc: 0.908282\n",
      "[4600]\ttraining's auc: 0.963484\tvalid_1's auc: 0.90881\n",
      "[4800]\ttraining's auc: 0.964667\tvalid_1's auc: 0.909294\n",
      "[5000]\ttraining's auc: 0.965765\tvalid_1's auc: 0.909729\n",
      "[5200]\ttraining's auc: 0.966801\tvalid_1's auc: 0.910137\n",
      "[5400]\ttraining's auc: 0.967812\tvalid_1's auc: 0.910569\n",
      "[5600]\ttraining's auc: 0.968723\tvalid_1's auc: 0.910811\n",
      "[5800]\ttraining's auc: 0.969575\tvalid_1's auc: 0.911042\n",
      "[6000]\ttraining's auc: 0.970466\tvalid_1's auc: 0.911439\n",
      "[6200]\ttraining's auc: 0.971266\tvalid_1's auc: 0.91173\n",
      "[6400]\ttraining's auc: 0.972057\tvalid_1's auc: 0.911975\n",
      "[6600]\ttraining's auc: 0.972713\tvalid_1's auc: 0.912156\n",
      "[6800]\ttraining's auc: 0.973384\tvalid_1's auc: 0.91229\n",
      "[7000]\ttraining's auc: 0.974065\tvalid_1's auc: 0.912399\n",
      "Early stopping, best iteration is:\n",
      "[7062]\ttraining's auc: 0.974262\tvalid_1's auc: 0.91247\n",
      "Fold 3 | AUC: 0.9124696555877188\n"
     ]
    },
    {
     "name": "stderr",
     "output_type": "stream",
     "text": [
      "C:\\Users\\niraj\\Anaconda3\\lib\\site-packages\\lightgbm\\engine.py:181: UserWarning: 'early_stopping_rounds' argument is deprecated and will be removed in a future release of LightGBM. Pass 'early_stopping()' callback via 'callbacks' argument instead.\n",
      "  _log_warning(\"'early_stopping_rounds' argument is deprecated and will be removed in a future release of LightGBM. \"\n",
      "C:\\Users\\niraj\\Anaconda3\\lib\\site-packages\\lightgbm\\engine.py:239: UserWarning: 'verbose_eval' argument is deprecated and will be removed in a future release of LightGBM. Pass 'log_evaluation()' callback via 'callbacks' argument instead.\n",
      "  _log_warning(\"'verbose_eval' argument is deprecated and will be removed in a future release of LightGBM. \"\n"
     ]
    },
    {
     "name": "stdout",
     "output_type": "stream",
     "text": [
      "Training until validation scores don't improve for 100 rounds\n",
      "[200]\ttraining's auc: 0.867093\tvalid_1's auc: 0.866361\n",
      "[400]\ttraining's auc: 0.879914\tvalid_1's auc: 0.876191\n",
      "[600]\ttraining's auc: 0.890563\tvalid_1's auc: 0.883705\n",
      "[800]\ttraining's auc: 0.900826\tvalid_1's auc: 0.890963\n",
      "[1000]\ttraining's auc: 0.908879\tvalid_1's auc: 0.896678\n",
      "[1200]\ttraining's auc: 0.914948\tvalid_1's auc: 0.900732\n",
      "[1400]\ttraining's auc: 0.920961\tvalid_1's auc: 0.904724\n",
      "[1600]\ttraining's auc: 0.925675\tvalid_1's auc: 0.907738\n",
      "[1800]\ttraining's auc: 0.930162\tvalid_1's auc: 0.910761\n",
      "[2000]\ttraining's auc: 0.934074\tvalid_1's auc: 0.913327\n",
      "[2200]\ttraining's auc: 0.93757\tvalid_1's auc: 0.915604\n",
      "[2400]\ttraining's auc: 0.940452\tvalid_1's auc: 0.917234\n",
      "[2600]\ttraining's auc: 0.943114\tvalid_1's auc: 0.918999\n",
      "[2800]\ttraining's auc: 0.945549\tvalid_1's auc: 0.92031\n",
      "[3000]\ttraining's auc: 0.94781\tvalid_1's auc: 0.921581\n",
      "[3200]\ttraining's auc: 0.949869\tvalid_1's auc: 0.922556\n",
      "[3400]\ttraining's auc: 0.951721\tvalid_1's auc: 0.923503\n",
      "[3600]\ttraining's auc: 0.953515\tvalid_1's auc: 0.924478\n",
      "[3800]\ttraining's auc: 0.955225\tvalid_1's auc: 0.925264\n",
      "[4000]\ttraining's auc: 0.956903\tvalid_1's auc: 0.926084\n",
      "[4200]\ttraining's auc: 0.95831\tvalid_1's auc: 0.926702\n",
      "[4400]\ttraining's auc: 0.959751\tvalid_1's auc: 0.92736\n",
      "[4600]\ttraining's auc: 0.961087\tvalid_1's auc: 0.928136\n",
      "[4800]\ttraining's auc: 0.962313\tvalid_1's auc: 0.928616\n",
      "[5000]\ttraining's auc: 0.963541\tvalid_1's auc: 0.929094\n",
      "[5200]\ttraining's auc: 0.964639\tvalid_1's auc: 0.929531\n",
      "[5400]\ttraining's auc: 0.965744\tvalid_1's auc: 0.930014\n",
      "[5600]\ttraining's auc: 0.966776\tvalid_1's auc: 0.930335\n",
      "[5800]\ttraining's auc: 0.967674\tvalid_1's auc: 0.930635\n",
      "[6000]\ttraining's auc: 0.968637\tvalid_1's auc: 0.93102\n",
      "[6200]\ttraining's auc: 0.969483\tvalid_1's auc: 0.931355\n",
      "[6400]\ttraining's auc: 0.970363\tvalid_1's auc: 0.931688\n",
      "[6600]\ttraining's auc: 0.97112\tvalid_1's auc: 0.932019\n",
      "[6800]\ttraining's auc: 0.97182\tvalid_1's auc: 0.932264\n",
      "[7000]\ttraining's auc: 0.972532\tvalid_1's auc: 0.932444\n",
      "[7200]\ttraining's auc: 0.973203\tvalid_1's auc: 0.932609\n",
      "[7400]\ttraining's auc: 0.97393\tvalid_1's auc: 0.932878\n",
      "[7600]\ttraining's auc: 0.974554\tvalid_1's auc: 0.933096\n",
      "[7800]\ttraining's auc: 0.975237\tvalid_1's auc: 0.933311\n",
      "Early stopping, best iteration is:\n",
      "[7829]\ttraining's auc: 0.975349\tvalid_1's auc: 0.933374\n",
      "Fold 4 | AUC: 0.9333739818921645\n"
     ]
    },
    {
     "name": "stderr",
     "output_type": "stream",
     "text": [
      "C:\\Users\\niraj\\Anaconda3\\lib\\site-packages\\lightgbm\\engine.py:181: UserWarning: 'early_stopping_rounds' argument is deprecated and will be removed in a future release of LightGBM. Pass 'early_stopping()' callback via 'callbacks' argument instead.\n",
      "  _log_warning(\"'early_stopping_rounds' argument is deprecated and will be removed in a future release of LightGBM. \"\n",
      "C:\\Users\\niraj\\Anaconda3\\lib\\site-packages\\lightgbm\\engine.py:239: UserWarning: 'verbose_eval' argument is deprecated and will be removed in a future release of LightGBM. Pass 'log_evaluation()' callback via 'callbacks' argument instead.\n",
      "  _log_warning(\"'verbose_eval' argument is deprecated and will be removed in a future release of LightGBM. \"\n"
     ]
    },
    {
     "name": "stdout",
     "output_type": "stream",
     "text": [
      "Training until validation scores don't improve for 100 rounds\n",
      "[200]\ttraining's auc: 0.869797\tvalid_1's auc: 0.849348\n",
      "[400]\ttraining's auc: 0.88253\tvalid_1's auc: 0.857045\n",
      "[600]\ttraining's auc: 0.893603\tvalid_1's auc: 0.864231\n",
      "[800]\ttraining's auc: 0.903942\tvalid_1's auc: 0.870872\n",
      "[1000]\ttraining's auc: 0.912416\tvalid_1's auc: 0.876376\n",
      "[1200]\ttraining's auc: 0.91852\tvalid_1's auc: 0.880165\n",
      "[1400]\ttraining's auc: 0.924473\tvalid_1's auc: 0.884107\n",
      "[1600]\ttraining's auc: 0.929034\tvalid_1's auc: 0.88665\n",
      "[1800]\ttraining's auc: 0.933328\tvalid_1's auc: 0.889374\n",
      "[2000]\ttraining's auc: 0.937078\tvalid_1's auc: 0.891878\n",
      "[2200]\ttraining's auc: 0.94055\tvalid_1's auc: 0.894136\n",
      "[2400]\ttraining's auc: 0.943247\tvalid_1's auc: 0.895869\n",
      "[2600]\ttraining's auc: 0.945745\tvalid_1's auc: 0.897409\n",
      "[2800]\ttraining's auc: 0.948036\tvalid_1's auc: 0.898538\n",
      "[3000]\ttraining's auc: 0.950226\tvalid_1's auc: 0.899661\n",
      "[3200]\ttraining's auc: 0.95226\tvalid_1's auc: 0.900658\n",
      "[3400]\ttraining's auc: 0.953998\tvalid_1's auc: 0.901533\n",
      "[3600]\ttraining's auc: 0.955739\tvalid_1's auc: 0.902399\n",
      "[3800]\ttraining's auc: 0.957302\tvalid_1's auc: 0.903291\n",
      "[4000]\ttraining's auc: 0.958873\tvalid_1's auc: 0.903868\n",
      "[4200]\ttraining's auc: 0.960188\tvalid_1's auc: 0.904295\n",
      "[4400]\ttraining's auc: 0.961501\tvalid_1's auc: 0.904968\n",
      "[4600]\ttraining's auc: 0.962717\tvalid_1's auc: 0.905532\n",
      "[4800]\ttraining's auc: 0.963964\tvalid_1's auc: 0.906033\n",
      "[5000]\ttraining's auc: 0.965119\tvalid_1's auc: 0.906547\n",
      "[5200]\ttraining's auc: 0.966139\tvalid_1's auc: 0.906817\n",
      "[5400]\ttraining's auc: 0.967197\tvalid_1's auc: 0.907337\n",
      "[5600]\ttraining's auc: 0.968155\tvalid_1's auc: 0.907612\n",
      "[5800]\ttraining's auc: 0.969031\tvalid_1's auc: 0.90784\n",
      "[6000]\ttraining's auc: 0.969935\tvalid_1's auc: 0.908066\n",
      "[6200]\ttraining's auc: 0.970733\tvalid_1's auc: 0.908286\n",
      "[6400]\ttraining's auc: 0.971528\tvalid_1's auc: 0.908568\n",
      "[6600]\ttraining's auc: 0.972209\tvalid_1's auc: 0.908684\n",
      "[6800]\ttraining's auc: 0.972891\tvalid_1's auc: 0.908735\n",
      "[7000]\ttraining's auc: 0.973614\tvalid_1's auc: 0.908828\n",
      "[7200]\ttraining's auc: 0.974249\tvalid_1's auc: 0.908908\n",
      "[7400]\ttraining's auc: 0.974923\tvalid_1's auc: 0.90904\n",
      "[7600]\ttraining's auc: 0.975518\tvalid_1's auc: 0.909255\n",
      "Early stopping, best iteration is:\n",
      "[7627]\ttraining's auc: 0.975608\tvalid_1's auc: 0.909286\n",
      "Fold 5 | AUC: 0.9092864594826227\n",
      "Wall time: 49min 11s\n"
     ]
    },
    {
     "data": {
      "application/javascript": [
       "\n",
       "            setTimeout(function() {\n",
       "                var nbb_cell_id = 304;\n",
       "                var nbb_unformatted_code = \"%%time\\nfor fold_n, (train_index, valid_index) in enumerate(splits):\\n    X_tr, X_val = X_train[columns].iloc[train_index], X_train[columns].iloc[valid_index]\\n    y_tr, y_val = y_train.iloc[train_index], y_train.iloc[valid_index]\\n    \\n    dtrain = lgb.Dataset(X_tr, label=y_tr)\\n    dvalid = lgb.Dataset(X_val, label=y_val)\\n\\n    clf = lgb.train(params, dtrain, 10000, valid_sets = [dtrain, dvalid], verbose_eval=200, early_stopping_rounds=100)\\n    \\n    feature_importances[f'fold_{fold_n + 1}'] = clf.feature_importance()\\n    \\n    y_pred_val = clf.predict(X_val)\\n    y_oof[valid_index] = y_pred_val\\n    print(f\\\"Fold {fold_n + 1} | AUC: {roc_auc_score(y_val, y_pred_val)}\\\")\\n    \\n    score_auc += roc_auc_score(y_val, y_pred_val) / n_folds\\n    \\n    y_preds += clf.predict(X_test) / n_folds\\n    \\n    del X_tr, X_val, y_tr, y_val\";\n",
       "                var nbb_formatted_code = \"%%time\\nfor fold_n, (train_index, valid_index) in enumerate(splits):\\n    X_tr, X_val = X_train[columns].iloc[train_index], X_train[columns].iloc[valid_index]\\n    y_tr, y_val = y_train.iloc[train_index], y_train.iloc[valid_index]\\n    \\n    dtrain = lgb.Dataset(X_tr, label=y_tr)\\n    dvalid = lgb.Dataset(X_val, label=y_val)\\n\\n    clf = lgb.train(params, dtrain, 10000, valid_sets = [dtrain, dvalid], verbose_eval=200, early_stopping_rounds=100)\\n    \\n    feature_importances[f'fold_{fold_n + 1}'] = clf.feature_importance()\\n    \\n    y_pred_val = clf.predict(X_val)\\n    y_oof[valid_index] = y_pred_val\\n    print(f\\\"Fold {fold_n + 1} | AUC: {roc_auc_score(y_val, y_pred_val)}\\\")\\n    \\n    score_auc += roc_auc_score(y_val, y_pred_val) / n_folds\\n    \\n    y_preds += clf.predict(X_test) / n_folds\\n    \\n    del X_tr, X_val, y_tr, y_val\";\n",
       "                var nbb_cells = Jupyter.notebook.get_cells();\n",
       "                for (var i = 0; i < nbb_cells.length; ++i) {\n",
       "                    if (nbb_cells[i].input_prompt_number == nbb_cell_id) {\n",
       "                        if (nbb_cells[i].get_text() == nbb_unformatted_code) {\n",
       "                             nbb_cells[i].set_text(nbb_formatted_code);\n",
       "                        }\n",
       "                        break;\n",
       "                    }\n",
       "                }\n",
       "            }, 500);\n",
       "            "
      ],
      "text/plain": [
       "<IPython.core.display.Javascript object>"
      ]
     },
     "metadata": {},
     "output_type": "display_data"
    }
   ],
   "source": [
    "%%time\n",
    "for fold_n, (train_index, valid_index) in enumerate(splits):\n",
    "    X_tr, X_val = X_train[columns].iloc[train_index], X_train[columns].iloc[valid_index]\n",
    "    y_tr, y_val = y_train.iloc[train_index], y_train.iloc[valid_index]\n",
    "    \n",
    "    dtrain = lgb.Dataset(X_tr, label=y_tr)\n",
    "    dvalid = lgb.Dataset(X_val, label=y_val)\n",
    "\n",
    "    clf = lgb.train(params, dtrain, 10000, valid_sets = [dtrain, dvalid], verbose_eval=200, early_stopping_rounds=100)\n",
    "    \n",
    "    feature_importances[f'fold_{fold_n + 1}'] = clf.feature_importance()\n",
    "    \n",
    "    y_pred_val = clf.predict(X_val)\n",
    "    y_oof[valid_index] = y_pred_val\n",
    "    print(f\"Fold {fold_n + 1} | AUC: {roc_auc_score(y_val, y_pred_val)}\")\n",
    "    \n",
    "    score_auc += roc_auc_score(y_val, y_pred_val) / n_folds\n",
    "    \n",
    "    y_preds += clf.predict(X_test) / n_folds\n",
    "    \n",
    "    del X_tr, X_val, y_tr, y_val"
   ]
  },
  {
   "cell_type": "code",
   "execution_count": 305,
   "id": "a1f7395c",
   "metadata": {},
   "outputs": [
    {
     "name": "stdout",
     "output_type": "stream",
     "text": [
      "\n",
      "Mean AUC = 0.9178157507936816\n",
      "Out of folds AUC = 0.9174568617920863\n"
     ]
    },
    {
     "data": {
      "application/javascript": [
       "\n",
       "            setTimeout(function() {\n",
       "                var nbb_cell_id = 305;\n",
       "                var nbb_unformatted_code = \"print(f\\\"\\\\nMean AUC = {score_auc}\\\")\\nprint(f\\\"Out of folds AUC = {roc_auc_score(y_train, y_oof)}\\\")\";\n",
       "                var nbb_formatted_code = \"print(f\\\"\\\\nMean AUC = {score_auc}\\\")\\nprint(f\\\"Out of folds AUC = {roc_auc_score(y_train, y_oof)}\\\")\";\n",
       "                var nbb_cells = Jupyter.notebook.get_cells();\n",
       "                for (var i = 0; i < nbb_cells.length; ++i) {\n",
       "                    if (nbb_cells[i].input_prompt_number == nbb_cell_id) {\n",
       "                        if (nbb_cells[i].get_text() == nbb_unformatted_code) {\n",
       "                             nbb_cells[i].set_text(nbb_formatted_code);\n",
       "                        }\n",
       "                        break;\n",
       "                    }\n",
       "                }\n",
       "            }, 500);\n",
       "            "
      ],
      "text/plain": [
       "<IPython.core.display.Javascript object>"
      ]
     },
     "metadata": {},
     "output_type": "display_data"
    }
   ],
   "source": [
    "print(f\"\\nMean AUC = {score_auc}\")\n",
    "print(f\"Out of folds AUC = {roc_auc_score(y_train, y_oof)}\")"
   ]
  },
  {
   "cell_type": "code",
   "execution_count": 306,
   "id": "175240f4",
   "metadata": {},
   "outputs": [
    {
     "data": {
      "application/javascript": [
       "\n",
       "            setTimeout(function() {\n",
       "                var nbb_cell_id = 306;\n",
       "                var nbb_unformatted_code = \"feature_importances[\\\"average\\\"] = feature_importances[\\n    [\\\"fold_{}\\\".format(fold + 1) for fold in range(folds.n_splits)]\\n].mean(axis=1)\";\n",
       "                var nbb_formatted_code = \"feature_importances[\\\"average\\\"] = feature_importances[\\n    [\\\"fold_{}\\\".format(fold + 1) for fold in range(folds.n_splits)]\\n].mean(axis=1)\";\n",
       "                var nbb_cells = Jupyter.notebook.get_cells();\n",
       "                for (var i = 0; i < nbb_cells.length; ++i) {\n",
       "                    if (nbb_cells[i].input_prompt_number == nbb_cell_id) {\n",
       "                        if (nbb_cells[i].get_text() == nbb_unformatted_code) {\n",
       "                             nbb_cells[i].set_text(nbb_formatted_code);\n",
       "                        }\n",
       "                        break;\n",
       "                    }\n",
       "                }\n",
       "            }, 500);\n",
       "            "
      ],
      "text/plain": [
       "<IPython.core.display.Javascript object>"
      ]
     },
     "metadata": {},
     "output_type": "display_data"
    }
   ],
   "source": [
    "feature_importances[\"average\"] = feature_importances[\n",
    "    [\"fold_{}\".format(fold + 1) for fold in range(folds.n_splits)]\n",
    "].mean(axis=1)"
   ]
  },
  {
   "cell_type": "code",
   "execution_count": 307,
   "id": "815a84cf",
   "metadata": {},
   "outputs": [
    {
     "data": {
      "application/javascript": [
       "\n",
       "            setTimeout(function() {\n",
       "                var nbb_cell_id = 307;\n",
       "                var nbb_unformatted_code = \"f = (\\n    feature_importances[[\\\"feature\\\", \\\"average\\\"]]\\n    .sort_values(by=\\\"average\\\", ascending=False)\\n    .head(20)\\n)\";\n",
       "                var nbb_formatted_code = \"f = (\\n    feature_importances[[\\\"feature\\\", \\\"average\\\"]]\\n    .sort_values(by=\\\"average\\\", ascending=False)\\n    .head(20)\\n)\";\n",
       "                var nbb_cells = Jupyter.notebook.get_cells();\n",
       "                for (var i = 0; i < nbb_cells.length; ++i) {\n",
       "                    if (nbb_cells[i].input_prompt_number == nbb_cell_id) {\n",
       "                        if (nbb_cells[i].get_text() == nbb_unformatted_code) {\n",
       "                             nbb_cells[i].set_text(nbb_formatted_code);\n",
       "                        }\n",
       "                        break;\n",
       "                    }\n",
       "                }\n",
       "            }, 500);\n",
       "            "
      ],
      "text/plain": [
       "<IPython.core.display.Javascript object>"
      ]
     },
     "metadata": {},
     "output_type": "display_data"
    }
   ],
   "source": [
    "f = (\n",
    "    feature_importances[[\"feature\", \"average\"]]\n",
    "    .sort_values(by=\"average\", ascending=False)\n",
    "    .head(20)\n",
    ")"
   ]
  },
  {
   "cell_type": "code",
   "execution_count": 324,
   "id": "54e6eeb4",
   "metadata": {},
   "outputs": [
    {
     "name": "stdout",
     "output_type": "stream",
     "text": [
      "Index(['V91', 'V45', 'V70', 'C7', 'D2_check', 'V103', 'V40', 'C14', 'V308',\n",
      "       'addr2', 'C1', 'V88', 'V304', 'V318', 'C12', 'V49', 'C4', 'D13_check',\n",
      "       'V294', 'V317'],\n",
      "      dtype='object')\n"
     ]
    },
    {
     "data": {
      "image/png": "[encoded data removed]",
      "text/plain": [
       "<Figure size 1152x504 with 1 Axes>"
      ]
     },
     "metadata": {
      "needs_background": "light"
     },
     "output_type": "display_data"
    },
    {
     "data": {
      "application/javascript": [
       "\n",
       "            setTimeout(function() {\n",
       "                var nbb_cell_id = 324;\n",
       "                var nbb_unformatted_code = \"plt.figure(1, figsize=(16, 7))\\nplt.bar(f[\\\"feature\\\"], f[\\\"average\\\"])\\nplt.xticks(f[\\\"feature\\\"], rotation=90)\\nprint(imp.index)\";\n",
       "                var nbb_formatted_code = \"plt.figure(1, figsize=(16, 7))\\nplt.bar(f[\\\"feature\\\"], f[\\\"average\\\"])\\nplt.xticks(f[\\\"feature\\\"], rotation=90)\\nprint(imp.index)\";\n",
       "                var nbb_cells = Jupyter.notebook.get_cells();\n",
       "                for (var i = 0; i < nbb_cells.length; ++i) {\n",
       "                    if (nbb_cells[i].input_prompt_number == nbb_cell_id) {\n",
       "                        if (nbb_cells[i].get_text() == nbb_unformatted_code) {\n",
       "                             nbb_cells[i].set_text(nbb_formatted_code);\n",
       "                        }\n",
       "                        break;\n",
       "                    }\n",
       "                }\n",
       "            }, 500);\n",
       "            "
      ],
      "text/plain": [
       "<IPython.core.display.Javascript object>"
      ]
     },
     "metadata": {},
     "output_type": "display_data"
    }
   ],
   "source": [
    "plt.figure(1, figsize=(16, 7))\n",
    "plt.bar(f[\"feature\"], f[\"average\"])\n",
    "plt.xticks(f[\"feature\"], rotation=90)\n",
    "print(imp.index)"
   ]
  },
  {
   "cell_type": "code",
   "execution_count": 316,
   "id": "0c9d02f3",
   "metadata": {},
   "outputs": [
    {
     "data": {
      "application/javascript": [
       "\n",
       "            setTimeout(function() {\n",
       "                var nbb_cell_id = 316;\n",
       "                var nbb_unformatted_code = \"important = {'boosting_type': 'gbdt',\\n 'class_weight': None,\\n 'colsample_bytree': 1.0,\\n 'importance_type': 'split',\\n 'learning_rate': 0.006,\\n 'max_depth': -1,\\n 'min_child_samples': 20,\\n 'min_child_weight': 0.03,\\n 'min_split_gain': 0.0,\\n 'n_estimators': 100,\\n 'n_jobs': -1,\\n 'num_leaves': 64,\\n 'objective': 'binary',\\n 'random_state': 0,\\n 'reg_alpha': 0.3,\\n 'reg_lambda': 0.6,\\n 'silent': True,\\n 'subsample': 1.0,\\n 'subsample_for_bin': 200000,\\n 'subsample_freq': 0,\\n 'feature_fraction': 0.04,\\n 'bagging_fraction': 0.33,\\n 'min_data_in_leaf': 80,\\n 'bagging_seed': 7,\\n 'metric': 'auc',\\n 'verbosity': -1,\\n 'num_boost_round': 5575}\";\n",
       "                var nbb_formatted_code = \"important = {\\n    \\\"boosting_type\\\": \\\"gbdt\\\",\\n    \\\"class_weight\\\": None,\\n    \\\"colsample_bytree\\\": 1.0,\\n    \\\"importance_type\\\": \\\"split\\\",\\n    \\\"learning_rate\\\": 0.006,\\n    \\\"max_depth\\\": -1,\\n    \\\"min_child_samples\\\": 20,\\n    \\\"min_child_weight\\\": 0.03,\\n    \\\"min_split_gain\\\": 0.0,\\n    \\\"n_estimators\\\": 100,\\n    \\\"n_jobs\\\": -1,\\n    \\\"num_leaves\\\": 64,\\n    \\\"objective\\\": \\\"binary\\\",\\n    \\\"random_state\\\": 0,\\n    \\\"reg_alpha\\\": 0.3,\\n    \\\"reg_lambda\\\": 0.6,\\n    \\\"silent\\\": True,\\n    \\\"subsample\\\": 1.0,\\n    \\\"subsample_for_bin\\\": 200000,\\n    \\\"subsample_freq\\\": 0,\\n    \\\"feature_fraction\\\": 0.04,\\n    \\\"bagging_fraction\\\": 0.33,\\n    \\\"min_data_in_leaf\\\": 80,\\n    \\\"bagging_seed\\\": 7,\\n    \\\"metric\\\": \\\"auc\\\",\\n    \\\"verbosity\\\": -1,\\n    \\\"num_boost_round\\\": 5575,\\n}\";\n",
       "                var nbb_cells = Jupyter.notebook.get_cells();\n",
       "                for (var i = 0; i < nbb_cells.length; ++i) {\n",
       "                    if (nbb_cells[i].input_prompt_number == nbb_cell_id) {\n",
       "                        if (nbb_cells[i].get_text() == nbb_unformatted_code) {\n",
       "                             nbb_cells[i].set_text(nbb_formatted_code);\n",
       "                        }\n",
       "                        break;\n",
       "                    }\n",
       "                }\n",
       "            }, 500);\n",
       "            "
      ],
      "text/plain": [
       "<IPython.core.display.Javascript object>"
      ]
     },
     "metadata": {},
     "output_type": "display_data"
    }
   ],
   "source": [
    "important = {\n",
    "    \"boosting_type\": \"gbdt\",\n",
    "    \"class_weight\": None,\n",
    "    \"colsample_bytree\": 1.0,\n",
    "    \"importance_type\": \"split\",\n",
    "    \"learning_rate\": 0.006,\n",
    "    \"max_depth\": -1,\n",
    "    \"min_child_samples\": 20,\n",
    "    \"min_child_weight\": 0.03,\n",
    "    \"min_split_gain\": 0.0,\n",
    "    \"n_estimators\": 100,\n",
    "    \"n_jobs\": -1,\n",
    "    \"num_leaves\": 64,\n",
    "    \"objective\": \"binary\",\n",
    "    \"random_state\": 0,\n",
    "    \"reg_alpha\": 0.3,\n",
    "    \"reg_lambda\": 0.6,\n",
    "    \"silent\": True,\n",
    "    \"subsample\": 1.0,\n",
    "    \"subsample_for_bin\": 200000,\n",
    "    \"subsample_freq\": 0,\n",
    "    \"feature_fraction\": 0.04,\n",
    "    \"bagging_fraction\": 0.33,\n",
    "    \"min_data_in_leaf\": 80,\n",
    "    \"bagging_seed\": 7,\n",
    "    \"metric\": \"auc\",\n",
    "    \"verbosity\": -1,\n",
    "    \"num_boost_round\": 5575,\n",
    "}"
   ]
  },
  {
   "cell_type": "code",
   "execution_count": null,
   "id": "3a47a75c",
   "metadata": {},
   "outputs": [],
   "source": []
  },
  {
   "cell_type": "code",
   "execution_count": 309,
   "id": "c8737a74",
   "metadata": {},
   "outputs": [
    {
     "data": {
      "application/javascript": [
       "\n",
       "            setTimeout(function() {\n",
       "                var nbb_cell_id = 309;\n",
       "                var nbb_unformatted_code = \"sub = pd.read_csv(f\\\"{data_loc}/sample_submission.csv\\\")\";\n",
       "                var nbb_formatted_code = \"sub = pd.read_csv(f\\\"{data_loc}/sample_submission.csv\\\")\";\n",
       "                var nbb_cells = Jupyter.notebook.get_cells();\n",
       "                for (var i = 0; i < nbb_cells.length; ++i) {\n",
       "                    if (nbb_cells[i].input_prompt_number == nbb_cell_id) {\n",
       "                        if (nbb_cells[i].get_text() == nbb_unformatted_code) {\n",
       "                             nbb_cells[i].set_text(nbb_formatted_code);\n",
       "                        }\n",
       "                        break;\n",
       "                    }\n",
       "                }\n",
       "            }, 500);\n",
       "            "
      ],
      "text/plain": [
       "<IPython.core.display.Javascript object>"
      ]
     },
     "metadata": {},
     "output_type": "display_data"
    }
   ],
   "source": [
    "sub = pd.read_csv(f\"{data_loc}/sample_submission.csv\")"
   ]
  },
  {
   "cell_type": "code",
   "execution_count": 310,
   "id": "e6ed3d67",
   "metadata": {},
   "outputs": [
    {
     "data": {
      "text/html": [
       "<div>\n",
       "<style scoped>\n",
       "    .dataframe tbody tr th:only-of-type {\n",
       "        vertical-align: middle;\n",
       "    }\n",
       "\n",
       "    .dataframe tbody tr th {\n",
       "        vertical-align: top;\n",
       "    }\n",
       "\n",
       "    .dataframe thead th {\n",
       "        text-align: right;\n",
       "    }\n",
       "</style>\n",
       "<table border=\"1\" class=\"dataframe\">\n",
       "  <thead>\n",
       "    <tr style=\"text-align: right;\">\n",
       "      <th></th>\n",
       "      <th>TransactionID</th>\n",
       "      <th>isFraud</th>\n",
       "    </tr>\n",
       "  </thead>\n",
       "  <tbody>\n",
       "    <tr>\n",
       "      <th>0</th>\n",
       "      <td>3663549</td>\n",
       "      <td>0.5</td>\n",
       "    </tr>\n",
       "    <tr>\n",
       "      <th>1</th>\n",
       "      <td>3663550</td>\n",
       "      <td>0.5</td>\n",
       "    </tr>\n",
       "    <tr>\n",
       "      <th>2</th>\n",
       "      <td>3663551</td>\n",
       "      <td>0.5</td>\n",
       "    </tr>\n",
       "    <tr>\n",
       "      <th>3</th>\n",
       "      <td>3663552</td>\n",
       "      <td>0.5</td>\n",
       "    </tr>\n",
       "    <tr>\n",
       "      <th>4</th>\n",
       "      <td>3663553</td>\n",
       "      <td>0.5</td>\n",
       "    </tr>\n",
       "    <tr>\n",
       "      <th>...</th>\n",
       "      <td>...</td>\n",
       "      <td>...</td>\n",
       "    </tr>\n",
       "    <tr>\n",
       "      <th>506686</th>\n",
       "      <td>4170235</td>\n",
       "      <td>0.5</td>\n",
       "    </tr>\n",
       "    <tr>\n",
       "      <th>506687</th>\n",
       "      <td>4170236</td>\n",
       "      <td>0.5</td>\n",
       "    </tr>\n",
       "    <tr>\n",
       "      <th>506688</th>\n",
       "      <td>4170237</td>\n",
       "      <td>0.5</td>\n",
       "    </tr>\n",
       "    <tr>\n",
       "      <th>506689</th>\n",
       "      <td>4170238</td>\n",
       "      <td>0.5</td>\n",
       "    </tr>\n",
       "    <tr>\n",
       "      <th>506690</th>\n",
       "      <td>4170239</td>\n",
       "      <td>0.5</td>\n",
       "    </tr>\n",
       "  </tbody>\n",
       "</table>\n",
       "<p>506691 rows × 2 columns</p>\n",
       "</div>"
      ],
      "text/plain": [
       "        TransactionID  isFraud\n",
       "0             3663549      0.5\n",
       "1             3663550      0.5\n",
       "2             3663551      0.5\n",
       "3             3663552      0.5\n",
       "4             3663553      0.5\n",
       "...               ...      ...\n",
       "506686        4170235      0.5\n",
       "506687        4170236      0.5\n",
       "506688        4170237      0.5\n",
       "506689        4170238      0.5\n",
       "506690        4170239      0.5\n",
       "\n",
       "[506691 rows x 2 columns]"
      ]
     },
     "execution_count": 310,
     "metadata": {},
     "output_type": "execute_result"
    },
    {
     "data": {
      "application/javascript": [
       "\n",
       "            setTimeout(function() {\n",
       "                var nbb_cell_id = 310;\n",
       "                var nbb_unformatted_code = \"sub\";\n",
       "                var nbb_formatted_code = \"sub\";\n",
       "                var nbb_cells = Jupyter.notebook.get_cells();\n",
       "                for (var i = 0; i < nbb_cells.length; ++i) {\n",
       "                    if (nbb_cells[i].input_prompt_number == nbb_cell_id) {\n",
       "                        if (nbb_cells[i].get_text() == nbb_unformatted_code) {\n",
       "                             nbb_cells[i].set_text(nbb_formatted_code);\n",
       "                        }\n",
       "                        break;\n",
       "                    }\n",
       "                }\n",
       "            }, 500);\n",
       "            "
      ],
      "text/plain": [
       "<IPython.core.display.Javascript object>"
      ]
     },
     "metadata": {},
     "output_type": "display_data"
    }
   ],
   "source": [
    "sub"
   ]
  },
  {
   "cell_type": "code",
   "execution_count": 317,
   "id": "061b1c95",
   "metadata": {},
   "outputs": [
    {
     "data": {
      "application/javascript": [
       "\n",
       "            setTimeout(function() {\n",
       "                var nbb_cell_id = 317;\n",
       "                var nbb_unformatted_code = \"final_clf = lgb.LGBMClassifier(**important)\";\n",
       "                var nbb_formatted_code = \"final_clf = lgb.LGBMClassifier(**important)\";\n",
       "                var nbb_cells = Jupyter.notebook.get_cells();\n",
       "                for (var i = 0; i < nbb_cells.length; ++i) {\n",
       "                    if (nbb_cells[i].input_prompt_number == nbb_cell_id) {\n",
       "                        if (nbb_cells[i].get_text() == nbb_unformatted_code) {\n",
       "                             nbb_cells[i].set_text(nbb_formatted_code);\n",
       "                        }\n",
       "                        break;\n",
       "                    }\n",
       "                }\n",
       "            }, 500);\n",
       "            "
      ],
      "text/plain": [
       "<IPython.core.display.Javascript object>"
      ]
     },
     "metadata": {},
     "output_type": "display_data"
    }
   ],
   "source": [
    "final_clf = lgb.LGBMClassifier(**important)"
   ]
  },
  {
   "cell_type": "code",
   "execution_count": 318,
   "id": "337f5e4e",
   "metadata": {},
   "outputs": [
    {
     "name": "stderr",
     "output_type": "stream",
     "text": [
      "C:\\Users\\niraj\\Anaconda3\\lib\\site-packages\\lightgbm\\sklearn.py:598: UserWarning: 'silent' argument is deprecated and will be removed in a future release of LightGBM. Pass 'verbose' parameter via keyword arguments instead.\n",
      "  _log_warning(\"'silent' argument is deprecated and will be removed in a future release of LightGBM. \"\n",
      "C:\\Users\\niraj\\Anaconda3\\lib\\site-packages\\lightgbm\\engine.py:177: UserWarning: Found `num_boost_round` in params. Will use it instead of argument\n",
      "  _log_warning(f\"Found `{alias}` in params. Will use it instead of argument\")\n"
     ]
    },
    {
     "name": "stdout",
     "output_type": "stream",
     "text": [
      "[LightGBM] [Warning] feature_fraction is set=0.04, colsample_bytree=1.0 will be ignored. Current value: feature_fraction=0.04\n",
      "[LightGBM] [Warning] min_data_in_leaf is set=80, min_child_samples=20 will be ignored. Current value: min_data_in_leaf=80\n",
      "[LightGBM] [Warning] bagging_fraction is set=0.33, subsample=1.0 will be ignored. Current value: bagging_fraction=0.33\n",
      "[LightGBM] [Warning] num_iterations is set=5575, num_boost_round=5575 will be ignored. Current value: num_iterations=5575\n"
     ]
    },
    {
     "data": {
      "text/plain": [
       "LGBMClassifier(bagging_fraction=0.33, bagging_seed=7, feature_fraction=0.04,\n",
       "               learning_rate=0.006, metric='auc', min_child_weight=0.03,\n",
       "               min_data_in_leaf=80, num_boost_round=5575, num_leaves=64,\n",
       "               objective='binary', random_state=0, reg_alpha=0.3,\n",
       "               reg_lambda=0.6, silent=True, verbosity=-1)"
      ]
     },
     "execution_count": 318,
     "metadata": {},
     "output_type": "execute_result"
    },
    {
     "data": {
      "application/javascript": [
       "\n",
       "            setTimeout(function() {\n",
       "                var nbb_cell_id = 318;\n",
       "                var nbb_unformatted_code = \"final_clf.fit(X_train, y_train)\";\n",
       "                var nbb_formatted_code = \"final_clf.fit(X_train, y_train)\";\n",
       "                var nbb_cells = Jupyter.notebook.get_cells();\n",
       "                for (var i = 0; i < nbb_cells.length; ++i) {\n",
       "                    if (nbb_cells[i].input_prompt_number == nbb_cell_id) {\n",
       "                        if (nbb_cells[i].get_text() == nbb_unformatted_code) {\n",
       "                             nbb_cells[i].set_text(nbb_formatted_code);\n",
       "                        }\n",
       "                        break;\n",
       "                    }\n",
       "                }\n",
       "            }, 500);\n",
       "            "
      ],
      "text/plain": [
       "<IPython.core.display.Javascript object>"
      ]
     },
     "metadata": {},
     "output_type": "display_data"
    }
   ],
   "source": [
    "final_clf.fit(X_train, y_train)"
   ]
  },
  {
   "cell_type": "code",
   "execution_count": 319,
   "id": "a33da66c",
   "metadata": {},
   "outputs": [
    {
     "data": {
      "application/javascript": [
       "\n",
       "            setTimeout(function() {\n",
       "                var nbb_cell_id = 319;\n",
       "                var nbb_unformatted_code = \"sub[\\\"Fraud\\\"] = final_clf.predict_proba(X_test)[:, 1]\";\n",
       "                var nbb_formatted_code = \"sub[\\\"Fraud\\\"] = final_clf.predict_proba(X_test)[:, 1]\";\n",
       "                var nbb_cells = Jupyter.notebook.get_cells();\n",
       "                for (var i = 0; i < nbb_cells.length; ++i) {\n",
       "                    if (nbb_cells[i].input_prompt_number == nbb_cell_id) {\n",
       "                        if (nbb_cells[i].get_text() == nbb_unformatted_code) {\n",
       "                             nbb_cells[i].set_text(nbb_formatted_code);\n",
       "                        }\n",
       "                        break;\n",
       "                    }\n",
       "                }\n",
       "            }, 500);\n",
       "            "
      ],
      "text/plain": [
       "<IPython.core.display.Javascript object>"
      ]
     },
     "metadata": {},
     "output_type": "display_data"
    }
   ],
   "source": [
    "sub[\"Fraud\"] = final_clf.predict_proba(X_test)[:, 1]"
   ]
  },
  {
   "cell_type": "code",
   "execution_count": 320,
   "id": "69a13cfb",
   "metadata": {},
   "outputs": [
    {
     "data": {
      "application/javascript": [
       "\n",
       "            setTimeout(function() {\n",
       "                var nbb_cell_id = 320;\n",
       "                var nbb_unformatted_code = \"sub.drop(\\\"isFraud\\\", axis=1).rename(columns={\\\"Fraud\\\": \\\"isFraud\\\"}).to_csv(\\n    f\\\"{data_loc}/final_submission.csv\\\", index=False\\n)\";\n",
       "                var nbb_formatted_code = \"sub.drop(\\\"isFraud\\\", axis=1).rename(columns={\\\"Fraud\\\": \\\"isFraud\\\"}).to_csv(\\n    f\\\"{data_loc}/final_submission.csv\\\", index=False\\n)\";\n",
       "                var nbb_cells = Jupyter.notebook.get_cells();\n",
       "                for (var i = 0; i < nbb_cells.length; ++i) {\n",
       "                    if (nbb_cells[i].input_prompt_number == nbb_cell_id) {\n",
       "                        if (nbb_cells[i].get_text() == nbb_unformatted_code) {\n",
       "                             nbb_cells[i].set_text(nbb_formatted_code);\n",
       "                        }\n",
       "                        break;\n",
       "                    }\n",
       "                }\n",
       "            }, 500);\n",
       "            "
      ],
      "text/plain": [
       "<IPython.core.display.Javascript object>"
      ]
     },
     "metadata": {},
     "output_type": "display_data"
    }
   ],
   "source": [
    "sub.drop(\"isFraud\", axis=1).rename(columns={\"Fraud\": \"isFraud\"}).to_csv(\n",
    "    f\"{data_loc}/final_submission.csv\", index=False\n",
    ")"
   ]
  },
  {
   "cell_type": "code",
   "execution_count": 321,
   "id": "4ff1b60e",
   "metadata": {},
   "outputs": [
    {
     "data": {
      "text/html": [
       "<div>\n",
       "<style scoped>\n",
       "    .dataframe tbody tr th:only-of-type {\n",
       "        vertical-align: middle;\n",
       "    }\n",
       "\n",
       "    .dataframe tbody tr th {\n",
       "        vertical-align: top;\n",
       "    }\n",
       "\n",
       "    .dataframe thead th {\n",
       "        text-align: right;\n",
       "    }\n",
       "</style>\n",
       "<table border=\"1\" class=\"dataframe\">\n",
       "  <thead>\n",
       "    <tr style=\"text-align: right;\">\n",
       "      <th></th>\n",
       "      <th>TransactionID</th>\n",
       "      <th>isFraud</th>\n",
       "      <th>Fraud</th>\n",
       "    </tr>\n",
       "  </thead>\n",
       "  <tbody>\n",
       "    <tr>\n",
       "      <th>0</th>\n",
       "      <td>3663549</td>\n",
       "      <td>0.5</td>\n",
       "      <td>0.005872</td>\n",
       "    </tr>\n",
       "    <tr>\n",
       "      <th>1</th>\n",
       "      <td>3663550</td>\n",
       "      <td>0.5</td>\n",
       "      <td>0.008845</td>\n",
       "    </tr>\n",
       "    <tr>\n",
       "      <th>2</th>\n",
       "      <td>3663551</td>\n",
       "      <td>0.5</td>\n",
       "      <td>0.015469</td>\n",
       "    </tr>\n",
       "    <tr>\n",
       "      <th>3</th>\n",
       "      <td>3663552</td>\n",
       "      <td>0.5</td>\n",
       "      <td>0.002775</td>\n",
       "    </tr>\n",
       "    <tr>\n",
       "      <th>4</th>\n",
       "      <td>3663553</td>\n",
       "      <td>0.5</td>\n",
       "      <td>0.004924</td>\n",
       "    </tr>\n",
       "    <tr>\n",
       "      <th>...</th>\n",
       "      <td>...</td>\n",
       "      <td>...</td>\n",
       "      <td>...</td>\n",
       "    </tr>\n",
       "    <tr>\n",
       "      <th>506686</th>\n",
       "      <td>4170235</td>\n",
       "      <td>0.5</td>\n",
       "      <td>0.022617</td>\n",
       "    </tr>\n",
       "    <tr>\n",
       "      <th>506687</th>\n",
       "      <td>4170236</td>\n",
       "      <td>0.5</td>\n",
       "      <td>0.024667</td>\n",
       "    </tr>\n",
       "    <tr>\n",
       "      <th>506688</th>\n",
       "      <td>4170237</td>\n",
       "      <td>0.5</td>\n",
       "      <td>0.009430</td>\n",
       "    </tr>\n",
       "    <tr>\n",
       "      <th>506689</th>\n",
       "      <td>4170238</td>\n",
       "      <td>0.5</td>\n",
       "      <td>0.013052</td>\n",
       "    </tr>\n",
       "    <tr>\n",
       "      <th>506690</th>\n",
       "      <td>4170239</td>\n",
       "      <td>0.5</td>\n",
       "      <td>0.012070</td>\n",
       "    </tr>\n",
       "  </tbody>\n",
       "</table>\n",
       "<p>506691 rows × 3 columns</p>\n",
       "</div>"
      ],
      "text/plain": [
       "        TransactionID  isFraud     Fraud\n",
       "0             3663549      0.5  0.005872\n",
       "1             3663550      0.5  0.008845\n",
       "2             3663551      0.5  0.015469\n",
       "3             3663552      0.5  0.002775\n",
       "4             3663553      0.5  0.004924\n",
       "...               ...      ...       ...\n",
       "506686        4170235      0.5  0.022617\n",
       "506687        4170236      0.5  0.024667\n",
       "506688        4170237      0.5  0.009430\n",
       "506689        4170238      0.5  0.013052\n",
       "506690        4170239      0.5  0.012070\n",
       "\n",
       "[506691 rows x 3 columns]"
      ]
     },
     "execution_count": 321,
     "metadata": {},
     "output_type": "execute_result"
    },
    {
     "data": {
      "application/javascript": [
       "\n",
       "            setTimeout(function() {\n",
       "                var nbb_cell_id = 321;\n",
       "                var nbb_unformatted_code = \"sub\";\n",
       "                var nbb_formatted_code = \"sub\";\n",
       "                var nbb_cells = Jupyter.notebook.get_cells();\n",
       "                for (var i = 0; i < nbb_cells.length; ++i) {\n",
       "                    if (nbb_cells[i].input_prompt_number == nbb_cell_id) {\n",
       "                        if (nbb_cells[i].get_text() == nbb_unformatted_code) {\n",
       "                             nbb_cells[i].set_text(nbb_formatted_code);\n",
       "                        }\n",
       "                        break;\n",
       "                    }\n",
       "                }\n",
       "            }, 500);\n",
       "            "
      ],
      "text/plain": [
       "<IPython.core.display.Javascript object>"
      ]
     },
     "metadata": {},
     "output_type": "display_data"
    }
   ],
   "source": [
    "sub"
   ]
  },
  {
   "cell_type": "code",
   "execution_count": 354,
   "id": "82d90d72",
   "metadata": {},
   "outputs": [
    {
     "data": {
      "text/plain": [
       "<sklearn.metrics._plot.confusion_matrix.ConfusionMatrixDisplay at 0x1e49ec7e670>"
      ]
     },
     "execution_count": 354,
     "metadata": {},
     "output_type": "execute_result"
    },
    {
     "data": {
      "image/png": "[encoded data removed]",
      "text/plain": [
       "<Figure size 1152x576 with 2 Axes>"
      ]
     },
     "metadata": {},
     "output_type": "display_data"
    },
    {
     "data": {
      "application/javascript": [
       "\n",
       "            setTimeout(function() {\n",
       "                var nbb_cell_id = 354;\n",
       "                var nbb_unformatted_code = \"from sklearn import metrics\\n\\nmetrics.plot_confusion_matrix(final_clf, x_test, y_test, cmap=\\\"Blues_r\\\")\";\n",
       "                var nbb_formatted_code = \"from sklearn import metrics\\n\\nmetrics.plot_confusion_matrix(final_clf, x_test, y_test, cmap=\\\"Blues_r\\\")\";\n",
       "                var nbb_cells = Jupyter.notebook.get_cells();\n",
       "                for (var i = 0; i < nbb_cells.length; ++i) {\n",
       "                    if (nbb_cells[i].input_prompt_number == nbb_cell_id) {\n",
       "                        if (nbb_cells[i].get_text() == nbb_unformatted_code) {\n",
       "                             nbb_cells[i].set_text(nbb_formatted_code);\n",
       "                        }\n",
       "                        break;\n",
       "                    }\n",
       "                }\n",
       "            }, 500);\n",
       "            "
      ],
      "text/plain": [
       "<IPython.core.display.Javascript object>"
      ]
     },
     "metadata": {},
     "output_type": "display_data"
    }
   ],
   "source": [
    "from sklearn import metrics\n",
    "\n",
    "metrics.plot_confusion_matrix(final_clf, y_val, y_pred_val, cmap=\"Blues_r\")"
   ]
  },
  {
   "cell_type": "code",
   "execution_count": 355,
   "id": "32fe0d07",
   "metadata": {},
   "outputs": [
    {
     "ename": "NameError",
     "evalue": "name 'y_val' is not defined",
     "output_type": "error",
     "traceback": [
      "\u001b[1;31m---------------------------------------------------------------------------\u001b[0m",
      "\u001b[1;31mNameError\u001b[0m                                 Traceback (most recent call last)",
      "\u001b[1;32m<ipython-input-355-c31c438e451f>\u001b[0m in \u001b[0;36m<module>\u001b[1;34m\u001b[0m\n\u001b[1;32m----> 1\u001b[1;33m \u001b[0mmetrics\u001b[0m\u001b[1;33m.\u001b[0m\u001b[0mplot_confusion_matrix\u001b[0m\u001b[1;33m(\u001b[0m\u001b[0mfinal_clf\u001b[0m\u001b[1;33m,\u001b[0m \u001b[0my_val\u001b[0m\u001b[1;33m,\u001b[0m \u001b[0my_pred_val\u001b[0m\u001b[1;33m,\u001b[0m \u001b[0mcmap\u001b[0m\u001b[1;33m=\u001b[0m\u001b[1;34m\"Blues_r\"\u001b[0m\u001b[1;33m)\u001b[0m\u001b[1;33m\u001b[0m\u001b[1;33m\u001b[0m\u001b[0m\n\u001b[0m",
      "\u001b[1;31mNameError\u001b[0m: name 'y_val' is not defined"
     ]
    },
    {
     "data": {
      "application/javascript": [
       "\n",
       "            setTimeout(function() {\n",
       "                var nbb_cell_id = 355;\n",
       "                var nbb_unformatted_code = \"metrics.plot_confusion_matrix(final_clf, y_val, y_pred_val, cmap=\\\"Blues_r\\\")\";\n",
       "                var nbb_formatted_code = \"metrics.plot_confusion_matrix(final_clf, y_val, y_pred_val, cmap=\\\"Blues_r\\\")\";\n",
       "                var nbb_cells = Jupyter.notebook.get_cells();\n",
       "                for (var i = 0; i < nbb_cells.length; ++i) {\n",
       "                    if (nbb_cells[i].input_prompt_number == nbb_cell_id) {\n",
       "                        if (nbb_cells[i].get_text() == nbb_unformatted_code) {\n",
       "                             nbb_cells[i].set_text(nbb_formatted_code);\n",
       "                        }\n",
       "                        break;\n",
       "                    }\n",
       "                }\n",
       "            }, 500);\n",
       "            "
      ],
      "text/plain": [
       "<IPython.core.display.Javascript object>"
      ]
     },
     "metadata": {},
     "output_type": "display_data"
    }
   ],
   "source": [
    "metrics.plot_confusion_matrix(final_clf, y_val, y_pred_val, cmap=\"Blues_r\")"
   ]
  },
  {
   "cell_type": "code",
   "execution_count": 289,
   "id": "a5a89076",
   "metadata": {},
   "outputs": [
    {
     "data": {
      "application/javascript": [
       "\n",
       "            setTimeout(function() {\n",
       "                var nbb_cell_id = 289;\n",
       "                var nbb_unformatted_code = \"# prediction\\ny_pred = model.predict(x_test)\";\n",
       "                var nbb_formatted_code = \"# prediction\\ny_pred = model.predict(x_test)\";\n",
       "                var nbb_cells = Jupyter.notebook.get_cells();\n",
       "                for (var i = 0; i < nbb_cells.length; ++i) {\n",
       "                    if (nbb_cells[i].input_prompt_number == nbb_cell_id) {\n",
       "                        if (nbb_cells[i].get_text() == nbb_unformatted_code) {\n",
       "                             nbb_cells[i].set_text(nbb_formatted_code);\n",
       "                        }\n",
       "                        break;\n",
       "                    }\n",
       "                }\n",
       "            }, 500);\n",
       "            "
      ],
      "text/plain": [
       "<IPython.core.display.Javascript object>"
      ]
     },
     "metadata": {},
     "output_type": "display_data"
    }
   ],
   "source": [
    "# prediction\n",
    "y_pred = model.predict(x_test)"
   ]
  },
  {
   "cell_type": "code",
   "execution_count": 290,
   "id": "a48a004d",
   "metadata": {},
   "outputs": [
    {
     "data": {
      "text/plain": [
       "array([0.03097634, 0.02558138, 0.0243782 , ..., 0.02446462, 0.02621964,\n",
       "       0.02634552])"
      ]
     },
     "execution_count": 290,
     "metadata": {},
     "output_type": "execute_result"
    },
    {
     "data": {
      "application/javascript": [
       "\n",
       "            setTimeout(function() {\n",
       "                var nbb_cell_id = 290;\n",
       "                var nbb_unformatted_code = \"y_pred\";\n",
       "                var nbb_formatted_code = \"y_pred\";\n",
       "                var nbb_cells = Jupyter.notebook.get_cells();\n",
       "                for (var i = 0; i < nbb_cells.length; ++i) {\n",
       "                    if (nbb_cells[i].input_prompt_number == nbb_cell_id) {\n",
       "                        if (nbb_cells[i].get_text() == nbb_unformatted_code) {\n",
       "                             nbb_cells[i].set_text(nbb_formatted_code);\n",
       "                        }\n",
       "                        break;\n",
       "                    }\n",
       "                }\n",
       "            }, 500);\n",
       "            "
      ],
      "text/plain": [
       "<IPython.core.display.Javascript object>"
      ]
     },
     "metadata": {},
     "output_type": "display_data"
    }
   ],
   "source": [
    "y_pred"
   ]
  },
  {
   "cell_type": "code",
   "execution_count": 281,
   "id": "496d3e87",
   "metadata": {},
   "outputs": [
    {
     "data": {
      "application/javascript": [
       "\n",
       "            setTimeout(function() {\n",
       "                var nbb_cell_id = 281;\n",
       "                var nbb_unformatted_code = \"from numpy import argmax\\nfrom sklearn.metrics import classification_report\";\n",
       "                var nbb_formatted_code = \"from numpy import argmax\\nfrom sklearn.metrics import classification_report\";\n",
       "                var nbb_cells = Jupyter.notebook.get_cells();\n",
       "                for (var i = 0; i < nbb_cells.length; ++i) {\n",
       "                    if (nbb_cells[i].input_prompt_number == nbb_cell_id) {\n",
       "                        if (nbb_cells[i].get_text() == nbb_unformatted_code) {\n",
       "                             nbb_cells[i].set_text(nbb_formatted_code);\n",
       "                        }\n",
       "                        break;\n",
       "                    }\n",
       "                }\n",
       "            }, 500);\n",
       "            "
      ],
      "text/plain": [
       "<IPython.core.display.Javascript object>"
      ]
     },
     "metadata": {},
     "output_type": "display_data"
    }
   ],
   "source": [
    "from numpy import argmax\n",
    "from sklearn.metrics import classification_report"
   ]
  },
  {
   "cell_type": "code",
   "execution_count": 286,
   "id": "87b4c584",
   "metadata": {},
   "outputs": [
    {
     "data": {
      "application/javascript": [
       "\n",
       "            setTimeout(function() {\n",
       "                var nbb_cell_id = 286;\n",
       "                var nbb_unformatted_code = \"y_pred = model.predict(x_test)\\n\\ny_pred = argmax(y_pred, axis=0)\";\n",
       "                var nbb_formatted_code = \"y_pred = model.predict(x_test)\\n\\ny_pred = argmax(y_pred, axis=0)\";\n",
       "                var nbb_cells = Jupyter.notebook.get_cells();\n",
       "                for (var i = 0; i < nbb_cells.length; ++i) {\n",
       "                    if (nbb_cells[i].input_prompt_number == nbb_cell_id) {\n",
       "                        if (nbb_cells[i].get_text() == nbb_unformatted_code) {\n",
       "                             nbb_cells[i].set_text(nbb_formatted_code);\n",
       "                        }\n",
       "                        break;\n",
       "                    }\n",
       "                }\n",
       "            }, 500);\n",
       "            "
      ],
      "text/plain": [
       "<IPython.core.display.Javascript object>"
      ]
     },
     "metadata": {},
     "output_type": "display_data"
    }
   ],
   "source": [
    "y_pred = model.predict(x_test)\n",
    "y_pred = argmax(y_pred, axis=0)"
   ]
  },
  {
   "cell_type": "code",
   "execution_count": 288,
   "id": "662d1107",
   "metadata": {},
   "outputs": [
    {
     "data": {
      "text/plain": [
       "29822"
      ]
     },
     "execution_count": 288,
     "metadata": {},
     "output_type": "execute_result"
    },
    {
     "data": {
      "application/javascript": [
       "\n",
       "            setTimeout(function() {\n",
       "                var nbb_cell_id = 288;\n",
       "                var nbb_unformatted_code = \"y_pred\";\n",
       "                var nbb_formatted_code = \"y_pred\";\n",
       "                var nbb_cells = Jupyter.notebook.get_cells();\n",
       "                for (var i = 0; i < nbb_cells.length; ++i) {\n",
       "                    if (nbb_cells[i].input_prompt_number == nbb_cell_id) {\n",
       "                        if (nbb_cells[i].get_text() == nbb_unformatted_code) {\n",
       "                             nbb_cells[i].set_text(nbb_formatted_code);\n",
       "                        }\n",
       "                        break;\n",
       "                    }\n",
       "                }\n",
       "            }, 500);\n",
       "            "
      ],
      "text/plain": [
       "<IPython.core.display.Javascript object>"
      ]
     },
     "metadata": {},
     "output_type": "display_data"
    }
   ],
   "source": [
    "y_pred"
   ]
  },
  {
   "cell_type": "code",
   "execution_count": 287,
   "id": "c4d8b29c",
   "metadata": {},
   "outputs": [
    {
     "ename": "TypeError",
     "evalue": "Singleton array 29822 cannot be considered a valid collection.",
     "output_type": "error",
     "traceback": [
      "\u001b[1;31m---------------------------------------------------------------------------\u001b[0m",
      "\u001b[1;31mTypeError\u001b[0m                                 Traceback (most recent call last)",
      "\u001b[1;32m<ipython-input-287-6b2255d130ea>\u001b[0m in \u001b[0;36m<module>\u001b[1;34m\u001b[0m\n\u001b[1;32m----> 1\u001b[1;33m \u001b[0mcr\u001b[0m \u001b[1;33m=\u001b[0m \u001b[0mclassification_report\u001b[0m\u001b[1;33m(\u001b[0m\u001b[0my_test\u001b[0m\u001b[1;33m,\u001b[0m \u001b[0my_pred\u001b[0m\u001b[1;33m)\u001b[0m\u001b[1;33m\u001b[0m\u001b[1;33m\u001b[0m\u001b[0m\n\u001b[0m\u001b[0;32m      2\u001b[0m \u001b[0mcm\u001b[0m \u001b[1;33m=\u001b[0m \u001b[0mconfusion_matrix\u001b[0m\u001b[1;33m(\u001b[0m\u001b[0my_test\u001b[0m\u001b[1;33m,\u001b[0m \u001b[0my_pred\u001b[0m\u001b[1;33m)\u001b[0m\u001b[1;33m\u001b[0m\u001b[1;33m\u001b[0m\u001b[0m\n",
      "\u001b[1;32m~\\Anaconda3\\lib\\site-packages\\sklearn\\utils\\validation.py\u001b[0m in \u001b[0;36minner_f\u001b[1;34m(*args, **kwargs)\u001b[0m\n\u001b[0;32m     61\u001b[0m             \u001b[0mextra_args\u001b[0m \u001b[1;33m=\u001b[0m \u001b[0mlen\u001b[0m\u001b[1;33m(\u001b[0m\u001b[0margs\u001b[0m\u001b[1;33m)\u001b[0m \u001b[1;33m-\u001b[0m \u001b[0mlen\u001b[0m\u001b[1;33m(\u001b[0m\u001b[0mall_args\u001b[0m\u001b[1;33m)\u001b[0m\u001b[1;33m\u001b[0m\u001b[1;33m\u001b[0m\u001b[0m\n\u001b[0;32m     62\u001b[0m             \u001b[1;32mif\u001b[0m \u001b[0mextra_args\u001b[0m \u001b[1;33m<=\u001b[0m \u001b[1;36m0\u001b[0m\u001b[1;33m:\u001b[0m\u001b[1;33m\u001b[0m\u001b[1;33m\u001b[0m\u001b[0m\n\u001b[1;32m---> 63\u001b[1;33m                 \u001b[1;32mreturn\u001b[0m \u001b[0mf\u001b[0m\u001b[1;33m(\u001b[0m\u001b[1;33m*\u001b[0m\u001b[0margs\u001b[0m\u001b[1;33m,\u001b[0m \u001b[1;33m**\u001b[0m\u001b[0mkwargs\u001b[0m\u001b[1;33m)\u001b[0m\u001b[1;33m\u001b[0m\u001b[1;33m\u001b[0m\u001b[0m\n\u001b[0m\u001b[0;32m     64\u001b[0m \u001b[1;33m\u001b[0m\u001b[0m\n\u001b[0;32m     65\u001b[0m             \u001b[1;31m# extra_args > 0\u001b[0m\u001b[1;33m\u001b[0m\u001b[1;33m\u001b[0m\u001b[1;33m\u001b[0m\u001b[0m\n",
      "\u001b[1;32m~\\Anaconda3\\lib\\site-packages\\sklearn\\metrics\\_classification.py\u001b[0m in \u001b[0;36mclassification_report\u001b[1;34m(y_true, y_pred, labels, target_names, sample_weight, digits, output_dict, zero_division)\u001b[0m\n\u001b[0;32m   1964\u001b[0m     \"\"\"\n\u001b[0;32m   1965\u001b[0m \u001b[1;33m\u001b[0m\u001b[0m\n\u001b[1;32m-> 1966\u001b[1;33m     \u001b[0my_type\u001b[0m\u001b[1;33m,\u001b[0m \u001b[0my_true\u001b[0m\u001b[1;33m,\u001b[0m \u001b[0my_pred\u001b[0m \u001b[1;33m=\u001b[0m \u001b[0m_check_targets\u001b[0m\u001b[1;33m(\u001b[0m\u001b[0my_true\u001b[0m\u001b[1;33m,\u001b[0m \u001b[0my_pred\u001b[0m\u001b[1;33m)\u001b[0m\u001b[1;33m\u001b[0m\u001b[1;33m\u001b[0m\u001b[0m\n\u001b[0m\u001b[0;32m   1967\u001b[0m \u001b[1;33m\u001b[0m\u001b[0m\n\u001b[0;32m   1968\u001b[0m     \u001b[1;32mif\u001b[0m \u001b[0mlabels\u001b[0m \u001b[1;32mis\u001b[0m \u001b[1;32mNone\u001b[0m\u001b[1;33m:\u001b[0m\u001b[1;33m\u001b[0m\u001b[1;33m\u001b[0m\u001b[0m\n",
      "\u001b[1;32m~\\Anaconda3\\lib\\site-packages\\sklearn\\metrics\\_classification.py\u001b[0m in \u001b[0;36m_check_targets\u001b[1;34m(y_true, y_pred)\u001b[0m\n\u001b[0;32m     81\u001b[0m     \u001b[0my_pred\u001b[0m \u001b[1;33m:\u001b[0m \u001b[0marray\u001b[0m \u001b[1;32mor\u001b[0m \u001b[0mindicator\u001b[0m \u001b[0mmatrix\u001b[0m\u001b[1;33m\u001b[0m\u001b[1;33m\u001b[0m\u001b[0m\n\u001b[0;32m     82\u001b[0m     \"\"\"\n\u001b[1;32m---> 83\u001b[1;33m     \u001b[0mcheck_consistent_length\u001b[0m\u001b[1;33m(\u001b[0m\u001b[0my_true\u001b[0m\u001b[1;33m,\u001b[0m \u001b[0my_pred\u001b[0m\u001b[1;33m)\u001b[0m\u001b[1;33m\u001b[0m\u001b[1;33m\u001b[0m\u001b[0m\n\u001b[0m\u001b[0;32m     84\u001b[0m     \u001b[0mtype_true\u001b[0m \u001b[1;33m=\u001b[0m \u001b[0mtype_of_target\u001b[0m\u001b[1;33m(\u001b[0m\u001b[0my_true\u001b[0m\u001b[1;33m)\u001b[0m\u001b[1;33m\u001b[0m\u001b[1;33m\u001b[0m\u001b[0m\n\u001b[0;32m     85\u001b[0m     \u001b[0mtype_pred\u001b[0m \u001b[1;33m=\u001b[0m \u001b[0mtype_of_target\u001b[0m\u001b[1;33m(\u001b[0m\u001b[0my_pred\u001b[0m\u001b[1;33m)\u001b[0m\u001b[1;33m\u001b[0m\u001b[1;33m\u001b[0m\u001b[0m\n",
      "\u001b[1;32m~\\Anaconda3\\lib\\site-packages\\sklearn\\utils\\validation.py\u001b[0m in \u001b[0;36mcheck_consistent_length\u001b[1;34m(*arrays)\u001b[0m\n\u001b[0;32m    257\u001b[0m     \"\"\"\n\u001b[0;32m    258\u001b[0m \u001b[1;33m\u001b[0m\u001b[0m\n\u001b[1;32m--> 259\u001b[1;33m     \u001b[0mlengths\u001b[0m \u001b[1;33m=\u001b[0m \u001b[1;33m[\u001b[0m\u001b[0m_num_samples\u001b[0m\u001b[1;33m(\u001b[0m\u001b[0mX\u001b[0m\u001b[1;33m)\u001b[0m \u001b[1;32mfor\u001b[0m \u001b[0mX\u001b[0m \u001b[1;32min\u001b[0m \u001b[0marrays\u001b[0m \u001b[1;32mif\u001b[0m \u001b[0mX\u001b[0m \u001b[1;32mis\u001b[0m \u001b[1;32mnot\u001b[0m \u001b[1;32mNone\u001b[0m\u001b[1;33m]\u001b[0m\u001b[1;33m\u001b[0m\u001b[1;33m\u001b[0m\u001b[0m\n\u001b[0m\u001b[0;32m    260\u001b[0m     \u001b[0muniques\u001b[0m \u001b[1;33m=\u001b[0m \u001b[0mnp\u001b[0m\u001b[1;33m.\u001b[0m\u001b[0munique\u001b[0m\u001b[1;33m(\u001b[0m\u001b[0mlengths\u001b[0m\u001b[1;33m)\u001b[0m\u001b[1;33m\u001b[0m\u001b[1;33m\u001b[0m\u001b[0m\n\u001b[0;32m    261\u001b[0m     \u001b[1;32mif\u001b[0m \u001b[0mlen\u001b[0m\u001b[1;33m(\u001b[0m\u001b[0muniques\u001b[0m\u001b[1;33m)\u001b[0m \u001b[1;33m>\u001b[0m \u001b[1;36m1\u001b[0m\u001b[1;33m:\u001b[0m\u001b[1;33m\u001b[0m\u001b[1;33m\u001b[0m\u001b[0m\n",
      "\u001b[1;32m~\\Anaconda3\\lib\\site-packages\\sklearn\\utils\\validation.py\u001b[0m in \u001b[0;36m<listcomp>\u001b[1;34m(.0)\u001b[0m\n\u001b[0;32m    257\u001b[0m     \"\"\"\n\u001b[0;32m    258\u001b[0m \u001b[1;33m\u001b[0m\u001b[0m\n\u001b[1;32m--> 259\u001b[1;33m     \u001b[0mlengths\u001b[0m \u001b[1;33m=\u001b[0m \u001b[1;33m[\u001b[0m\u001b[0m_num_samples\u001b[0m\u001b[1;33m(\u001b[0m\u001b[0mX\u001b[0m\u001b[1;33m)\u001b[0m \u001b[1;32mfor\u001b[0m \u001b[0mX\u001b[0m \u001b[1;32min\u001b[0m \u001b[0marrays\u001b[0m \u001b[1;32mif\u001b[0m \u001b[0mX\u001b[0m \u001b[1;32mis\u001b[0m \u001b[1;32mnot\u001b[0m \u001b[1;32mNone\u001b[0m\u001b[1;33m]\u001b[0m\u001b[1;33m\u001b[0m\u001b[1;33m\u001b[0m\u001b[0m\n\u001b[0m\u001b[0;32m    260\u001b[0m     \u001b[0muniques\u001b[0m \u001b[1;33m=\u001b[0m \u001b[0mnp\u001b[0m\u001b[1;33m.\u001b[0m\u001b[0munique\u001b[0m\u001b[1;33m(\u001b[0m\u001b[0mlengths\u001b[0m\u001b[1;33m)\u001b[0m\u001b[1;33m\u001b[0m\u001b[1;33m\u001b[0m\u001b[0m\n\u001b[0;32m    261\u001b[0m     \u001b[1;32mif\u001b[0m \u001b[0mlen\u001b[0m\u001b[1;33m(\u001b[0m\u001b[0muniques\u001b[0m\u001b[1;33m)\u001b[0m \u001b[1;33m>\u001b[0m \u001b[1;36m1\u001b[0m\u001b[1;33m:\u001b[0m\u001b[1;33m\u001b[0m\u001b[1;33m\u001b[0m\u001b[0m\n",
      "\u001b[1;32m~\\Anaconda3\\lib\\site-packages\\sklearn\\utils\\validation.py\u001b[0m in \u001b[0;36m_num_samples\u001b[1;34m(x)\u001b[0m\n\u001b[0;32m    200\u001b[0m     \u001b[1;32mif\u001b[0m \u001b[0mhasattr\u001b[0m\u001b[1;33m(\u001b[0m\u001b[0mx\u001b[0m\u001b[1;33m,\u001b[0m \u001b[1;34m'shape'\u001b[0m\u001b[1;33m)\u001b[0m \u001b[1;32mand\u001b[0m \u001b[0mx\u001b[0m\u001b[1;33m.\u001b[0m\u001b[0mshape\u001b[0m \u001b[1;32mis\u001b[0m \u001b[1;32mnot\u001b[0m \u001b[1;32mNone\u001b[0m\u001b[1;33m:\u001b[0m\u001b[1;33m\u001b[0m\u001b[1;33m\u001b[0m\u001b[0m\n\u001b[0;32m    201\u001b[0m         \u001b[1;32mif\u001b[0m \u001b[0mlen\u001b[0m\u001b[1;33m(\u001b[0m\u001b[0mx\u001b[0m\u001b[1;33m.\u001b[0m\u001b[0mshape\u001b[0m\u001b[1;33m)\u001b[0m \u001b[1;33m==\u001b[0m \u001b[1;36m0\u001b[0m\u001b[1;33m:\u001b[0m\u001b[1;33m\u001b[0m\u001b[1;33m\u001b[0m\u001b[0m\n\u001b[1;32m--> 202\u001b[1;33m             raise TypeError(\"Singleton array %r cannot be considered\"\n\u001b[0m\u001b[0;32m    203\u001b[0m                             \" a valid collection.\" % x)\n\u001b[0;32m    204\u001b[0m         \u001b[1;31m# Check that shape is returning an integer or default to len\u001b[0m\u001b[1;33m\u001b[0m\u001b[1;33m\u001b[0m\u001b[1;33m\u001b[0m\u001b[0m\n",
      "\u001b[1;31mTypeError\u001b[0m: Singleton array 29822 cannot be considered a valid collection."
     ]
    },
    {
     "data": {
      "application/javascript": [
       "\n",
       "            setTimeout(function() {\n",
       "                var nbb_cell_id = 287;\n",
       "                var nbb_unformatted_code = \"cr = classification_report(y_test, y_pred)\\ncm = confusion_matrix(y_test, y_pred)\";\n",
       "                var nbb_formatted_code = \"cr = classification_report(y_test, y_pred)\\ncm = confusion_matrix(y_test, y_pred)\";\n",
       "                var nbb_cells = Jupyter.notebook.get_cells();\n",
       "                for (var i = 0; i < nbb_cells.length; ++i) {\n",
       "                    if (nbb_cells[i].input_prompt_number == nbb_cell_id) {\n",
       "                        if (nbb_cells[i].get_text() == nbb_unformatted_code) {\n",
       "                             nbb_cells[i].set_text(nbb_formatted_code);\n",
       "                        }\n",
       "                        break;\n",
       "                    }\n",
       "                }\n",
       "            }, 500);\n",
       "            "
      ],
      "text/plain": [
       "<IPython.core.display.Javascript object>"
      ]
     },
     "metadata": {},
     "output_type": "display_data"
    }
   ],
   "source": [
    "cr = classification_report(y_test, y_pred)\n"
   ]
  },
  {
   "cell_type": "code",
   "execution_count": 66,
   "id": "9782ce79",
   "metadata": {},
   "outputs": [
    {
     "data": {
      "application/javascript": [
       "\n",
       "            setTimeout(function() {\n",
       "                var nbb_cell_id = 66;\n",
       "                var nbb_unformatted_code = \"from sklearn.preprocessing import StandardScaler\\nfrom sklearn.pipeline import Pipeline\";\n",
       "                var nbb_formatted_code = \"from sklearn.preprocessing import StandardScaler\\nfrom sklearn.pipeline import Pipeline\";\n",
       "                var nbb_cells = Jupyter.notebook.get_cells();\n",
       "                for (var i = 0; i < nbb_cells.length; ++i) {\n",
       "                    if (nbb_cells[i].input_prompt_number == nbb_cell_id) {\n",
       "                        if (nbb_cells[i].get_text() == nbb_unformatted_code) {\n",
       "                             nbb_cells[i].set_text(nbb_formatted_code);\n",
       "                        }\n",
       "                        break;\n",
       "                    }\n",
       "                }\n",
       "            }, 500);\n",
       "            "
      ],
      "text/plain": [
       "<IPython.core.display.Javascript object>"
      ]
     },
     "metadata": {},
     "output_type": "display_data"
    }
   ],
   "source": [
    "from sklearn.preprocessing import StandardScaler\n",
    "from sklearn.pipeline import Pipeline"
   ]
  },
  {
   "cell_type": "code",
   "execution_count": null,
   "id": "45640e5f",
   "metadata": {},
   "outputs": [],
   "source": []
  },
  {
   "cell_type": "code",
   "execution_count": 62,
   "id": "c9cab607",
   "metadata": {},
   "outputs": [
    {
     "data": {
      "application/javascript": [
       "\n",
       "            setTimeout(function() {\n",
       "                var nbb_cell_id = 62;\n",
       "                var nbb_unformatted_code = \"columns = X_train.columns\\n\\nsplits = folds.split(X_train, Y_train)\\n\\ny_preds = np.zeros(X_test.shape[0])\\ny_oof = np.zeros(X_train.shape[0])\\n\\nscore_auc = 0\\n\\nfeature_importances = pd.DataFrame()\\nfeature_importances[\\\"feature\\\"] = columns\";\n",
       "                var nbb_formatted_code = \"columns = X_train.columns\\n\\nsplits = folds.split(X_train, Y_train)\\n\\ny_preds = np.zeros(X_test.shape[0])\\ny_oof = np.zeros(X_train.shape[0])\\n\\nscore_auc = 0\\n\\nfeature_importances = pd.DataFrame()\\nfeature_importances[\\\"feature\\\"] = columns\";\n",
       "                var nbb_cells = Jupyter.notebook.get_cells();\n",
       "                for (var i = 0; i < nbb_cells.length; ++i) {\n",
       "                    if (nbb_cells[i].input_prompt_number == nbb_cell_id) {\n",
       "                        if (nbb_cells[i].get_text() == nbb_unformatted_code) {\n",
       "                             nbb_cells[i].set_text(nbb_formatted_code);\n",
       "                        }\n",
       "                        break;\n",
       "                    }\n",
       "                }\n",
       "            }, 500);\n",
       "            "
      ],
      "text/plain": [
       "<IPython.core.display.Javascript object>"
      ]
     },
     "metadata": {},
     "output_type": "display_data"
    }
   ],
   "source": [
    "columns = X_train.columns\n",
    "\n",
    "splits = folds.split(X_train, Y_train)\n",
    "\n",
    "y_preds = np.zeros(X_test.shape[0])\n",
    "y_oof = np.zeros(X_train.shape[0])\n",
    "\n",
    "score_auc = 0\n",
    "\n",
    "feature_importances = pd.DataFrame()\n",
    "feature_importances[\"feature\"] = columns"
   ]
  },
  {
   "cell_type": "code",
   "execution_count": 64,
   "id": "66a82038",
   "metadata": {},
   "outputs": [
    {
     "data": {
      "application/javascript": [
       "\n",
       "            setTimeout(function() {\n",
       "                var nbb_cell_id = 64;\n",
       "                var nbb_unformatted_code = \"params = {\\n    \\\"num_leaves\\\": 64,\\n    \\\"min_child_weight\\\": 0.03,\\n    \\\"feature_fraction\\\": 0.04,\\n    \\\"bagging_fraction\\\": 0.33,\\n    \\\"min_data_in_leaf\\\": 80,\\n    \\\"objective\\\": \\\"binary\\\",\\n    \\\"max_depth\\\": -1,\\n    \\\"learning_rate\\\": 0.006,\\n    \\\"boosting_type\\\": \\\"gbdt\\\",\\n    \\\"bagging_seed\\\": 7,\\n    \\\"metric\\\": \\\"auc\\\",\\n    \\\"verbosity\\\": -1,\\n    \\\"reg_alpha\\\": 0.3,\\n    \\\"reg_lambda\\\": 0.6,\\n    \\\"random_state\\\": 0,\\n}\";\n",
       "                var nbb_formatted_code = \"params = {\\n    \\\"num_leaves\\\": 64,\\n    \\\"min_child_weight\\\": 0.03,\\n    \\\"feature_fraction\\\": 0.04,\\n    \\\"bagging_fraction\\\": 0.33,\\n    \\\"min_data_in_leaf\\\": 80,\\n    \\\"objective\\\": \\\"binary\\\",\\n    \\\"max_depth\\\": -1,\\n    \\\"learning_rate\\\": 0.006,\\n    \\\"boosting_type\\\": \\\"gbdt\\\",\\n    \\\"bagging_seed\\\": 7,\\n    \\\"metric\\\": \\\"auc\\\",\\n    \\\"verbosity\\\": -1,\\n    \\\"reg_alpha\\\": 0.3,\\n    \\\"reg_lambda\\\": 0.6,\\n    \\\"random_state\\\": 0,\\n}\";\n",
       "                var nbb_cells = Jupyter.notebook.get_cells();\n",
       "                for (var i = 0; i < nbb_cells.length; ++i) {\n",
       "                    if (nbb_cells[i].input_prompt_number == nbb_cell_id) {\n",
       "                        if (nbb_cells[i].get_text() == nbb_unformatted_code) {\n",
       "                             nbb_cells[i].set_text(nbb_formatted_code);\n",
       "                        }\n",
       "                        break;\n",
       "                    }\n",
       "                }\n",
       "            }, 500);\n",
       "            "
      ],
      "text/plain": [
       "<IPython.core.display.Javascript object>"
      ]
     },
     "metadata": {},
     "output_type": "display_data"
    }
   ],
   "source": [
    "params = {\n",
    "    \"num_leaves\": 64,\n",
    "    \"min_child_weight\": 0.03,\n",
    "    \"feature_fraction\": 0.04,\n",
    "    \"bagging_fraction\": 0.33,\n",
    "    \"min_data_in_leaf\": 80,\n",
    "    \"objective\": \"binary\",\n",
    "    \"max_depth\": -1,\n",
    "    \"learning_rate\": 0.006,\n",
    "    \"boosting_type\": \"gbdt\",\n",
    "    \"bagging_seed\": 7,\n",
    "    \"metric\": \"auc\",\n",
    "    \"verbosity\": -1,\n",
    "    \"reg_alpha\": 0.3,\n",
    "    \"reg_lambda\": 0.6,\n",
    "    \"random_state\": 0,\n",
    "}"
   ]
  },
  {
   "cell_type": "code",
   "execution_count": 65,
   "id": "49eaefd6",
   "metadata": {},
   "outputs": [
    {
     "name": "stderr",
     "output_type": "stream",
     "text": [
      "C:\\Users\\niraj\\Anaconda3\\lib\\site-packages\\lightgbm\\engine.py:181: UserWarning: 'early_stopping_rounds' argument is deprecated and will be removed in a future release of LightGBM. Pass 'early_stopping()' callback via 'callbacks' argument instead.\n",
      "  _log_warning(\"'early_stopping_rounds' argument is deprecated and will be removed in a future release of LightGBM. \"\n",
      "C:\\Users\\niraj\\Anaconda3\\lib\\site-packages\\lightgbm\\engine.py:239: UserWarning: 'verbose_eval' argument is deprecated and will be removed in a future release of LightGBM. Pass 'log_evaluation()' callback via 'callbacks' argument instead.\n",
      "  _log_warning(\"'verbose_eval' argument is deprecated and will be removed in a future release of LightGBM. \"\n"
     ]
    },
    {
     "ename": "ValueError",
     "evalue": "DataFrame.dtypes for data must be int, float or bool.\nDid not expect the data types in the following fields: alertFeature, had_id, new_domain, new_domain1, card4, card6, P_emaildomain, M1, M2, M3, M4, M6, M7, M8, M9",
     "output_type": "error",
     "traceback": [
      "\u001b[1;31m---------------------------------------------------------------------------\u001b[0m",
      "\u001b[1;31mValueError\u001b[0m                                Traceback (most recent call last)",
      "\u001b[1;32m<timed exec>\u001b[0m in \u001b[0;36m<module>\u001b[1;34m\u001b[0m\n",
      "\u001b[1;32m~\\Anaconda3\\lib\\site-packages\\lightgbm\\engine.py\u001b[0m in \u001b[0;36mtrain\u001b[1;34m(params, train_set, num_boost_round, valid_sets, valid_names, fobj, feval, init_model, feature_name, categorical_feature, early_stopping_rounds, evals_result, verbose_eval, learning_rates, keep_training_booster, callbacks)\u001b[0m\n\u001b[0;32m    269\u001b[0m     \u001b[1;31m# construct booster\u001b[0m\u001b[1;33m\u001b[0m\u001b[1;33m\u001b[0m\u001b[1;33m\u001b[0m\u001b[0m\n\u001b[0;32m    270\u001b[0m     \u001b[1;32mtry\u001b[0m\u001b[1;33m:\u001b[0m\u001b[1;33m\u001b[0m\u001b[1;33m\u001b[0m\u001b[0m\n\u001b[1;32m--> 271\u001b[1;33m         \u001b[0mbooster\u001b[0m \u001b[1;33m=\u001b[0m \u001b[0mBooster\u001b[0m\u001b[1;33m(\u001b[0m\u001b[0mparams\u001b[0m\u001b[1;33m=\u001b[0m\u001b[0mparams\u001b[0m\u001b[1;33m,\u001b[0m \u001b[0mtrain_set\u001b[0m\u001b[1;33m=\u001b[0m\u001b[0mtrain_set\u001b[0m\u001b[1;33m)\u001b[0m\u001b[1;33m\u001b[0m\u001b[1;33m\u001b[0m\u001b[0m\n\u001b[0m\u001b[0;32m    272\u001b[0m         \u001b[1;32mif\u001b[0m \u001b[0mis_valid_contain_train\u001b[0m\u001b[1;33m:\u001b[0m\u001b[1;33m\u001b[0m\u001b[1;33m\u001b[0m\u001b[0m\n\u001b[0;32m    273\u001b[0m             \u001b[0mbooster\u001b[0m\u001b[1;33m.\u001b[0m\u001b[0mset_train_data_name\u001b[0m\u001b[1;33m(\u001b[0m\u001b[0mtrain_data_name\u001b[0m\u001b[1;33m)\u001b[0m\u001b[1;33m\u001b[0m\u001b[1;33m\u001b[0m\u001b[0m\n",
      "\u001b[1;32m~\\Anaconda3\\lib\\site-packages\\lightgbm\\basic.py\u001b[0m in \u001b[0;36m__init__\u001b[1;34m(self, params, train_set, model_file, model_str, silent)\u001b[0m\n\u001b[0;32m   2603\u001b[0m                 )\n\u001b[0;32m   2604\u001b[0m             \u001b[1;31m# construct booster object\u001b[0m\u001b[1;33m\u001b[0m\u001b[1;33m\u001b[0m\u001b[1;33m\u001b[0m\u001b[0m\n\u001b[1;32m-> 2605\u001b[1;33m             \u001b[0mtrain_set\u001b[0m\u001b[1;33m.\u001b[0m\u001b[0mconstruct\u001b[0m\u001b[1;33m(\u001b[0m\u001b[1;33m)\u001b[0m\u001b[1;33m\u001b[0m\u001b[1;33m\u001b[0m\u001b[0m\n\u001b[0m\u001b[0;32m   2606\u001b[0m             \u001b[1;31m# copy the parameters from train_set\u001b[0m\u001b[1;33m\u001b[0m\u001b[1;33m\u001b[0m\u001b[1;33m\u001b[0m\u001b[0m\n\u001b[0;32m   2607\u001b[0m             \u001b[0mparams\u001b[0m\u001b[1;33m.\u001b[0m\u001b[0mupdate\u001b[0m\u001b[1;33m(\u001b[0m\u001b[0mtrain_set\u001b[0m\u001b[1;33m.\u001b[0m\u001b[0mget_params\u001b[0m\u001b[1;33m(\u001b[0m\u001b[1;33m)\u001b[0m\u001b[1;33m)\u001b[0m\u001b[1;33m\u001b[0m\u001b[1;33m\u001b[0m\u001b[0m\n",
      "\u001b[1;32m~\\Anaconda3\\lib\\site-packages\\lightgbm\\basic.py\u001b[0m in \u001b[0;36mconstruct\u001b[1;34m(self)\u001b[0m\n\u001b[0;32m   1813\u001b[0m             \u001b[1;32melse\u001b[0m\u001b[1;33m:\u001b[0m\u001b[1;33m\u001b[0m\u001b[1;33m\u001b[0m\u001b[0m\n\u001b[0;32m   1814\u001b[0m                 \u001b[1;31m# create train\u001b[0m\u001b[1;33m\u001b[0m\u001b[1;33m\u001b[0m\u001b[1;33m\u001b[0m\u001b[0m\n\u001b[1;32m-> 1815\u001b[1;33m                 self._lazy_init(self.data, label=self.label,\n\u001b[0m\u001b[0;32m   1816\u001b[0m                                 \u001b[0mweight\u001b[0m\u001b[1;33m=\u001b[0m\u001b[0mself\u001b[0m\u001b[1;33m.\u001b[0m\u001b[0mweight\u001b[0m\u001b[1;33m,\u001b[0m \u001b[0mgroup\u001b[0m\u001b[1;33m=\u001b[0m\u001b[0mself\u001b[0m\u001b[1;33m.\u001b[0m\u001b[0mgroup\u001b[0m\u001b[1;33m,\u001b[0m\u001b[1;33m\u001b[0m\u001b[1;33m\u001b[0m\u001b[0m\n\u001b[0;32m   1817\u001b[0m                                 \u001b[0minit_score\u001b[0m\u001b[1;33m=\u001b[0m\u001b[0mself\u001b[0m\u001b[1;33m.\u001b[0m\u001b[0minit_score\u001b[0m\u001b[1;33m,\u001b[0m \u001b[0mpredictor\u001b[0m\u001b[1;33m=\u001b[0m\u001b[0mself\u001b[0m\u001b[1;33m.\u001b[0m\u001b[0m_predictor\u001b[0m\u001b[1;33m,\u001b[0m\u001b[1;33m\u001b[0m\u001b[1;33m\u001b[0m\u001b[0m\n",
      "\u001b[1;32m~\\Anaconda3\\lib\\site-packages\\lightgbm\\basic.py\u001b[0m in \u001b[0;36m_lazy_init\u001b[1;34m(self, data, label, reference, weight, group, init_score, predictor, silent, feature_name, categorical_feature, params)\u001b[0m\n\u001b[0;32m   1472\u001b[0m             \u001b[0mself\u001b[0m\u001b[1;33m.\u001b[0m\u001b[0mpandas_categorical\u001b[0m \u001b[1;33m=\u001b[0m \u001b[0mreference\u001b[0m\u001b[1;33m.\u001b[0m\u001b[0mpandas_categorical\u001b[0m\u001b[1;33m\u001b[0m\u001b[1;33m\u001b[0m\u001b[0m\n\u001b[0;32m   1473\u001b[0m             \u001b[0mcategorical_feature\u001b[0m \u001b[1;33m=\u001b[0m \u001b[0mreference\u001b[0m\u001b[1;33m.\u001b[0m\u001b[0mcategorical_feature\u001b[0m\u001b[1;33m\u001b[0m\u001b[1;33m\u001b[0m\u001b[0m\n\u001b[1;32m-> 1474\u001b[1;33m         data, feature_name, categorical_feature, self.pandas_categorical = _data_from_pandas(data,\n\u001b[0m\u001b[0;32m   1475\u001b[0m                                                                                              \u001b[0mfeature_name\u001b[0m\u001b[1;33m,\u001b[0m\u001b[1;33m\u001b[0m\u001b[1;33m\u001b[0m\u001b[0m\n\u001b[0;32m   1476\u001b[0m                                                                                              \u001b[0mcategorical_feature\u001b[0m\u001b[1;33m,\u001b[0m\u001b[1;33m\u001b[0m\u001b[1;33m\u001b[0m\u001b[0m\n",
      "\u001b[1;32m~\\Anaconda3\\lib\\site-packages\\lightgbm\\basic.py\u001b[0m in \u001b[0;36m_data_from_pandas\u001b[1;34m(data, feature_name, categorical_feature, pandas_categorical)\u001b[0m\n\u001b[0;32m    592\u001b[0m         \u001b[1;32mif\u001b[0m \u001b[0mbad_indices\u001b[0m\u001b[1;33m:\u001b[0m\u001b[1;33m\u001b[0m\u001b[1;33m\u001b[0m\u001b[0m\n\u001b[0;32m    593\u001b[0m             \u001b[0mbad_index_cols_str\u001b[0m \u001b[1;33m=\u001b[0m \u001b[1;34m', '\u001b[0m\u001b[1;33m.\u001b[0m\u001b[0mjoin\u001b[0m\u001b[1;33m(\u001b[0m\u001b[0mdata\u001b[0m\u001b[1;33m.\u001b[0m\u001b[0mcolumns\u001b[0m\u001b[1;33m[\u001b[0m\u001b[0mbad_indices\u001b[0m\u001b[1;33m]\u001b[0m\u001b[1;33m)\u001b[0m\u001b[1;33m\u001b[0m\u001b[1;33m\u001b[0m\u001b[0m\n\u001b[1;32m--> 594\u001b[1;33m             raise ValueError(\"DataFrame.dtypes for data must be int, float or bool.\\n\"\n\u001b[0m\u001b[0;32m    595\u001b[0m                              \u001b[1;34m\"Did not expect the data types in the following fields: \"\u001b[0m\u001b[1;33m\u001b[0m\u001b[1;33m\u001b[0m\u001b[0m\n\u001b[0;32m    596\u001b[0m                              f\"{bad_index_cols_str}\")\n",
      "\u001b[1;31mValueError\u001b[0m: DataFrame.dtypes for data must be int, float or bool.\nDid not expect the data types in the following fields: alertFeature, had_id, new_domain, new_domain1, card4, card6, P_emaildomain, M1, M2, M3, M4, M6, M7, M8, M9"
     ]
    },
    {
     "data": {
      "application/javascript": [
       "\n",
       "            setTimeout(function() {\n",
       "                var nbb_cell_id = 65;\n",
       "                var nbb_unformatted_code = \"%%time\\nfor fold_n, (train_index, valid_index) in enumerate(splits):\\n    X_tr, X_val = X_train[columns].iloc[train_index], X_train[columns].iloc[valid_index]\\n    y_tr, y_val = Y_train.iloc[train_index], Y_train.iloc[valid_index]\\n    \\n    dtrain = lgb.Dataset(X_tr, label=y_tr)\\n    dvalid = lgb.Dataset(X_val, label=y_val)\\n\\n    clf = lgb.train(params, dtrain, 10000, valid_sets = [dtrain, dvalid], verbose_eval=200, early_stopping_rounds=100)\\n    \\n    feature_importances[f'fold_{fold_n + 1}'] = clf.feature_importance()\\n    \\n    y_pred_val = clf.predict(X_val)\\n    y_oof[valid_index] = y_pred_val\\n    print(f\\\"Fold {fold_n + 1} | AUC: {roc_auc_score(y_val, y_pred_val)}\\\")\\n    \\n    score_auc += roc_auc_score(y_val, y_pred_val) / n_folds\\n    \\n    y_preds += clf.predict(X_test) / n_folds\\n    \\n    del X_tr, X_val, y_tr, y_val\";\n",
       "                var nbb_formatted_code = \"%%time\\nfor fold_n, (train_index, valid_index) in enumerate(splits):\\n    X_tr, X_val = X_train[columns].iloc[train_index], X_train[columns].iloc[valid_index]\\n    y_tr, y_val = Y_train.iloc[train_index], Y_train.iloc[valid_index]\\n    \\n    dtrain = lgb.Dataset(X_tr, label=y_tr)\\n    dvalid = lgb.Dataset(X_val, label=y_val)\\n\\n    clf = lgb.train(params, dtrain, 10000, valid_sets = [dtrain, dvalid], verbose_eval=200, early_stopping_rounds=100)\\n    \\n    feature_importances[f'fold_{fold_n + 1}'] = clf.feature_importance()\\n    \\n    y_pred_val = clf.predict(X_val)\\n    y_oof[valid_index] = y_pred_val\\n    print(f\\\"Fold {fold_n + 1} | AUC: {roc_auc_score(y_val, y_pred_val)}\\\")\\n    \\n    score_auc += roc_auc_score(y_val, y_pred_val) / n_folds\\n    \\n    y_preds += clf.predict(X_test) / n_folds\\n    \\n    del X_tr, X_val, y_tr, y_val\";\n",
       "                var nbb_cells = Jupyter.notebook.get_cells();\n",
       "                for (var i = 0; i < nbb_cells.length; ++i) {\n",
       "                    if (nbb_cells[i].input_prompt_number == nbb_cell_id) {\n",
       "                        if (nbb_cells[i].get_text() == nbb_unformatted_code) {\n",
       "                             nbb_cells[i].set_text(nbb_formatted_code);\n",
       "                        }\n",
       "                        break;\n",
       "                    }\n",
       "                }\n",
       "            }, 500);\n",
       "            "
      ],
      "text/plain": [
       "<IPython.core.display.Javascript object>"
      ]
     },
     "metadata": {},
     "output_type": "display_data"
    }
   ],
   "source": [
    "%%time\n",
    "for fold_n, (train_index, valid_index) in enumerate(splits):\n",
    "    X_tr, X_val = X_train[columns].iloc[train_index], X_train[columns].iloc[valid_index]\n",
    "    y_tr, y_val = Y_train.iloc[train_index], Y_train.iloc[valid_index]\n",
    "    \n",
    "    dtrain = lgb.Dataset(X_tr, label=y_tr)\n",
    "    dvalid = lgb.Dataset(X_val, label=y_val)\n",
    "\n",
    "    clf = lgb.train(params, dtrain, 10000, valid_sets = [dtrain, dvalid], verbose_eval=200, early_stopping_rounds=100)\n",
    "    \n",
    "    feature_importances[f'fold_{fold_n + 1}'] = clf.feature_importance()\n",
    "    \n",
    "    y_pred_val = clf.predict(X_val)\n",
    "    y_oof[valid_index] = y_pred_val\n",
    "    print(f\"Fold {fold_n + 1} | AUC: {roc_auc_score(y_val, y_pred_val)}\")\n",
    "    \n",
    "    score_auc += roc_auc_score(y_val, y_pred_val) / n_folds\n",
    "    \n",
    "    y_preds += clf.predict(X_test) / n_folds\n",
    "    \n",
    "    del X_tr, X_val, y_tr, y_val"
   ]
  },
  {
   "cell_type": "code",
   "execution_count": 67,
   "id": "18b5713a",
   "metadata": {},
   "outputs": [
    {
     "ename": "KeyError",
     "evalue": "\"['M1' 'id_27' 'V1' 'V14' 'V41' 'V68' 'V305'] not found in axis\"",
     "output_type": "error",
     "traceback": [
      "\u001b[1;31m---------------------------------------------------------------------------\u001b[0m",
      "\u001b[1;31mKeyError\u001b[0m                                  Traceback (most recent call last)",
      "\u001b[1;32m<ipython-input-67-90aa7c441b3c>\u001b[0m in \u001b[0;36m<module>\u001b[1;34m\u001b[0m\n\u001b[0;32m      1\u001b[0m \u001b[1;31m# Useless from EDA\u001b[0m\u001b[1;33m\u001b[0m\u001b[1;33m\u001b[0m\u001b[1;33m\u001b[0m\u001b[0m\n\u001b[0;32m      2\u001b[0m \u001b[1;33m\u001b[0m\u001b[0m\n\u001b[1;32m----> 3\u001b[1;33m \u001b[0mtrain\u001b[0m\u001b[1;33m.\u001b[0m\u001b[0mdrop\u001b[0m\u001b[1;33m(\u001b[0m\u001b[1;33m[\u001b[0m\u001b[1;34m\"M1\"\u001b[0m\u001b[1;33m,\u001b[0m \u001b[1;34m\"id_27\"\u001b[0m\u001b[1;33m,\u001b[0m \u001b[1;34m\"V1\"\u001b[0m\u001b[1;33m,\u001b[0m \u001b[1;34m\"V14\"\u001b[0m\u001b[1;33m,\u001b[0m \u001b[1;34m\"V41\"\u001b[0m\u001b[1;33m,\u001b[0m \u001b[1;34m\"V68\"\u001b[0m\u001b[1;33m,\u001b[0m \u001b[1;34m\"V305\"\u001b[0m\u001b[1;33m]\u001b[0m\u001b[1;33m,\u001b[0m \u001b[0maxis\u001b[0m \u001b[1;33m=\u001b[0m \u001b[1;36m1\u001b[0m \u001b[1;33m,\u001b[0m \u001b[0minplace\u001b[0m\u001b[1;33m=\u001b[0m\u001b[1;32mTrue\u001b[0m\u001b[1;33m)\u001b[0m\u001b[1;33m\u001b[0m\u001b[1;33m\u001b[0m\u001b[0m\n\u001b[0m\u001b[0;32m      4\u001b[0m \u001b[0mtest\u001b[0m\u001b[1;33m.\u001b[0m\u001b[0mdrop\u001b[0m\u001b[1;33m(\u001b[0m\u001b[1;33m[\u001b[0m\u001b[1;34m\"M1\"\u001b[0m\u001b[1;33m,\u001b[0m \u001b[1;34m\"id_27\"\u001b[0m\u001b[1;33m,\u001b[0m \u001b[1;34m\"V1\"\u001b[0m\u001b[1;33m,\u001b[0m \u001b[1;34m\"V14\"\u001b[0m\u001b[1;33m,\u001b[0m \u001b[1;34m\"V41\"\u001b[0m\u001b[1;33m,\u001b[0m \u001b[1;34m\"V68\"\u001b[0m\u001b[1;33m,\u001b[0m \u001b[1;34m\"V305\"\u001b[0m\u001b[1;33m]\u001b[0m\u001b[1;33m,\u001b[0m \u001b[0maxis\u001b[0m\u001b[1;33m=\u001b[0m\u001b[1;36m1\u001b[0m \u001b[1;33m,\u001b[0m \u001b[0minplace\u001b[0m\u001b[1;33m=\u001b[0m\u001b[1;32mTrue\u001b[0m\u001b[1;33m)\u001b[0m\u001b[1;33m\u001b[0m\u001b[1;33m\u001b[0m\u001b[0m\n",
      "\u001b[1;32m~\\Anaconda3\\lib\\site-packages\\pandas\\core\\frame.py\u001b[0m in \u001b[0;36mdrop\u001b[1;34m(self, labels, axis, index, columns, level, inplace, errors)\u001b[0m\n\u001b[0;32m   4306\u001b[0m                 \u001b[0mweight\u001b[0m  \u001b[1;36m1.0\u001b[0m     \u001b[1;36m0.8\u001b[0m\u001b[1;33m\u001b[0m\u001b[1;33m\u001b[0m\u001b[0m\n\u001b[0;32m   4307\u001b[0m         \"\"\"\n\u001b[1;32m-> 4308\u001b[1;33m         return super().drop(\n\u001b[0m\u001b[0;32m   4309\u001b[0m             \u001b[0mlabels\u001b[0m\u001b[1;33m=\u001b[0m\u001b[0mlabels\u001b[0m\u001b[1;33m,\u001b[0m\u001b[1;33m\u001b[0m\u001b[1;33m\u001b[0m\u001b[0m\n\u001b[0;32m   4310\u001b[0m             \u001b[0maxis\u001b[0m\u001b[1;33m=\u001b[0m\u001b[0maxis\u001b[0m\u001b[1;33m,\u001b[0m\u001b[1;33m\u001b[0m\u001b[1;33m\u001b[0m\u001b[0m\n",
      "\u001b[1;32m~\\Anaconda3\\lib\\site-packages\\pandas\\core\\generic.py\u001b[0m in \u001b[0;36mdrop\u001b[1;34m(self, labels, axis, index, columns, level, inplace, errors)\u001b[0m\n\u001b[0;32m   4151\u001b[0m         \u001b[1;32mfor\u001b[0m \u001b[0maxis\u001b[0m\u001b[1;33m,\u001b[0m \u001b[0mlabels\u001b[0m \u001b[1;32min\u001b[0m \u001b[0maxes\u001b[0m\u001b[1;33m.\u001b[0m\u001b[0mitems\u001b[0m\u001b[1;33m(\u001b[0m\u001b[1;33m)\u001b[0m\u001b[1;33m:\u001b[0m\u001b[1;33m\u001b[0m\u001b[1;33m\u001b[0m\u001b[0m\n\u001b[0;32m   4152\u001b[0m             \u001b[1;32mif\u001b[0m \u001b[0mlabels\u001b[0m \u001b[1;32mis\u001b[0m \u001b[1;32mnot\u001b[0m \u001b[1;32mNone\u001b[0m\u001b[1;33m:\u001b[0m\u001b[1;33m\u001b[0m\u001b[1;33m\u001b[0m\u001b[0m\n\u001b[1;32m-> 4153\u001b[1;33m                 \u001b[0mobj\u001b[0m \u001b[1;33m=\u001b[0m \u001b[0mobj\u001b[0m\u001b[1;33m.\u001b[0m\u001b[0m_drop_axis\u001b[0m\u001b[1;33m(\u001b[0m\u001b[0mlabels\u001b[0m\u001b[1;33m,\u001b[0m \u001b[0maxis\u001b[0m\u001b[1;33m,\u001b[0m \u001b[0mlevel\u001b[0m\u001b[1;33m=\u001b[0m\u001b[0mlevel\u001b[0m\u001b[1;33m,\u001b[0m \u001b[0merrors\u001b[0m\u001b[1;33m=\u001b[0m\u001b[0merrors\u001b[0m\u001b[1;33m)\u001b[0m\u001b[1;33m\u001b[0m\u001b[1;33m\u001b[0m\u001b[0m\n\u001b[0m\u001b[0;32m   4154\u001b[0m \u001b[1;33m\u001b[0m\u001b[0m\n\u001b[0;32m   4155\u001b[0m         \u001b[1;32mif\u001b[0m \u001b[0minplace\u001b[0m\u001b[1;33m:\u001b[0m\u001b[1;33m\u001b[0m\u001b[1;33m\u001b[0m\u001b[0m\n",
      "\u001b[1;32m~\\Anaconda3\\lib\\site-packages\\pandas\\core\\generic.py\u001b[0m in \u001b[0;36m_drop_axis\u001b[1;34m(self, labels, axis, level, errors)\u001b[0m\n\u001b[0;32m   4186\u001b[0m                 \u001b[0mnew_axis\u001b[0m \u001b[1;33m=\u001b[0m \u001b[0maxis\u001b[0m\u001b[1;33m.\u001b[0m\u001b[0mdrop\u001b[0m\u001b[1;33m(\u001b[0m\u001b[0mlabels\u001b[0m\u001b[1;33m,\u001b[0m \u001b[0mlevel\u001b[0m\u001b[1;33m=\u001b[0m\u001b[0mlevel\u001b[0m\u001b[1;33m,\u001b[0m \u001b[0merrors\u001b[0m\u001b[1;33m=\u001b[0m\u001b[0merrors\u001b[0m\u001b[1;33m)\u001b[0m\u001b[1;33m\u001b[0m\u001b[1;33m\u001b[0m\u001b[0m\n\u001b[0;32m   4187\u001b[0m             \u001b[1;32melse\u001b[0m\u001b[1;33m:\u001b[0m\u001b[1;33m\u001b[0m\u001b[1;33m\u001b[0m\u001b[0m\n\u001b[1;32m-> 4188\u001b[1;33m                 \u001b[0mnew_axis\u001b[0m \u001b[1;33m=\u001b[0m \u001b[0maxis\u001b[0m\u001b[1;33m.\u001b[0m\u001b[0mdrop\u001b[0m\u001b[1;33m(\u001b[0m\u001b[0mlabels\u001b[0m\u001b[1;33m,\u001b[0m \u001b[0merrors\u001b[0m\u001b[1;33m=\u001b[0m\u001b[0merrors\u001b[0m\u001b[1;33m)\u001b[0m\u001b[1;33m\u001b[0m\u001b[1;33m\u001b[0m\u001b[0m\n\u001b[0m\u001b[0;32m   4189\u001b[0m             \u001b[0mresult\u001b[0m \u001b[1;33m=\u001b[0m \u001b[0mself\u001b[0m\u001b[1;33m.\u001b[0m\u001b[0mreindex\u001b[0m\u001b[1;33m(\u001b[0m\u001b[1;33m**\u001b[0m\u001b[1;33m{\u001b[0m\u001b[0maxis_name\u001b[0m\u001b[1;33m:\u001b[0m \u001b[0mnew_axis\u001b[0m\u001b[1;33m}\u001b[0m\u001b[1;33m)\u001b[0m\u001b[1;33m\u001b[0m\u001b[1;33m\u001b[0m\u001b[0m\n\u001b[0;32m   4190\u001b[0m \u001b[1;33m\u001b[0m\u001b[0m\n",
      "\u001b[1;32m~\\Anaconda3\\lib\\site-packages\\pandas\\core\\indexes\\base.py\u001b[0m in \u001b[0;36mdrop\u001b[1;34m(self, labels, errors)\u001b[0m\n\u001b[0;32m   5589\u001b[0m         \u001b[1;32mif\u001b[0m \u001b[0mmask\u001b[0m\u001b[1;33m.\u001b[0m\u001b[0many\u001b[0m\u001b[1;33m(\u001b[0m\u001b[1;33m)\u001b[0m\u001b[1;33m:\u001b[0m\u001b[1;33m\u001b[0m\u001b[1;33m\u001b[0m\u001b[0m\n\u001b[0;32m   5590\u001b[0m             \u001b[1;32mif\u001b[0m \u001b[0merrors\u001b[0m \u001b[1;33m!=\u001b[0m \u001b[1;34m\"ignore\"\u001b[0m\u001b[1;33m:\u001b[0m\u001b[1;33m\u001b[0m\u001b[1;33m\u001b[0m\u001b[0m\n\u001b[1;32m-> 5591\u001b[1;33m                 \u001b[1;32mraise\u001b[0m \u001b[0mKeyError\u001b[0m\u001b[1;33m(\u001b[0m\u001b[1;34mf\"{labels[mask]} not found in axis\"\u001b[0m\u001b[1;33m)\u001b[0m\u001b[1;33m\u001b[0m\u001b[1;33m\u001b[0m\u001b[0m\n\u001b[0m\u001b[0;32m   5592\u001b[0m             \u001b[0mindexer\u001b[0m \u001b[1;33m=\u001b[0m \u001b[0mindexer\u001b[0m\u001b[1;33m[\u001b[0m\u001b[1;33m~\u001b[0m\u001b[0mmask\u001b[0m\u001b[1;33m]\u001b[0m\u001b[1;33m\u001b[0m\u001b[1;33m\u001b[0m\u001b[0m\n\u001b[0;32m   5593\u001b[0m         \u001b[1;32mreturn\u001b[0m \u001b[0mself\u001b[0m\u001b[1;33m.\u001b[0m\u001b[0mdelete\u001b[0m\u001b[1;33m(\u001b[0m\u001b[0mindexer\u001b[0m\u001b[1;33m)\u001b[0m\u001b[1;33m\u001b[0m\u001b[1;33m\u001b[0m\u001b[0m\n",
      "\u001b[1;31mKeyError\u001b[0m: \"['M1' 'id_27' 'V1' 'V14' 'V41' 'V68' 'V305'] not found in axis\""
     ]
    },
    {
     "data": {
      "application/javascript": [
       "\n",
       "            setTimeout(function() {\n",
       "                var nbb_cell_id = 67;\n",
       "                var nbb_unformatted_code = \"# Useless from EDA\\n\\ntrain.drop([\\\"M1\\\", \\\"id_27\\\", \\\"V1\\\", \\\"V14\\\", \\\"V41\\\", \\\"V68\\\", \\\"V305\\\"], axis = 1 , inplace=True)\\ntest.drop([\\\"M1\\\", \\\"id_27\\\", \\\"V1\\\", \\\"V14\\\", \\\"V41\\\", \\\"V68\\\", \\\"V305\\\"], axis=1 , inplace=True)\";\n",
       "                var nbb_formatted_code = \"# Useless from EDA\\n\\ntrain.drop([\\\"M1\\\", \\\"id_27\\\", \\\"V1\\\", \\\"V14\\\", \\\"V41\\\", \\\"V68\\\", \\\"V305\\\"], axis=1, inplace=True)\\ntest.drop([\\\"M1\\\", \\\"id_27\\\", \\\"V1\\\", \\\"V14\\\", \\\"V41\\\", \\\"V68\\\", \\\"V305\\\"], axis=1, inplace=True)\";\n",
       "                var nbb_cells = Jupyter.notebook.get_cells();\n",
       "                for (var i = 0; i < nbb_cells.length; ++i) {\n",
       "                    if (nbb_cells[i].input_prompt_number == nbb_cell_id) {\n",
       "                        if (nbb_cells[i].get_text() == nbb_unformatted_code) {\n",
       "                             nbb_cells[i].set_text(nbb_formatted_code);\n",
       "                        }\n",
       "                        break;\n",
       "                    }\n",
       "                }\n",
       "            }, 500);\n",
       "            "
      ],
      "text/plain": [
       "<IPython.core.display.Javascript object>"
      ]
     },
     "metadata": {},
     "output_type": "display_data"
    }
   ],
   "source": [
    "# Useless from EDA\n",
    "\n",
    "train.drop([\"M1\", \"id_27\", \"V1\", \"V14\", \"V41\", \"V68\", \"V305\"], axis = 1 , inplace=True)\n",
    "test.drop([\"M1\", \"id_27\", \"V1\", \"V14\", \"V41\", \"V68\", \"V305\"], axis=1 , inplace=True)\n"
   ]
  },
  {
   "cell_type": "code",
   "execution_count": 80,
   "id": "4abbc532",
   "metadata": {},
   "outputs": [
    {
     "data": {
      "application/javascript": [
       "\n",
       "            setTimeout(function() {\n",
       "                var nbb_cell_id = 80;\n",
       "                var nbb_unformatted_code = \"drop_variables=train_df[train_df[\\\"ratio\\\"]>60]['index']\";\n",
       "                var nbb_formatted_code = \"drop_variables = train_df[train_df[\\\"ratio\\\"] > 60][\\\"index\\\"]\";\n",
       "                var nbb_cells = Jupyter.notebook.get_cells();\n",
       "                for (var i = 0; i < nbb_cells.length; ++i) {\n",
       "                    if (nbb_cells[i].input_prompt_number == nbb_cell_id) {\n",
       "                        if (nbb_cells[i].get_text() == nbb_unformatted_code) {\n",
       "                             nbb_cells[i].set_text(nbb_formatted_code);\n",
       "                        }\n",
       "                        break;\n",
       "                    }\n",
       "                }\n",
       "            }, 500);\n",
       "            "
      ],
      "text/plain": [
       "<IPython.core.display.Javascript object>"
      ]
     },
     "metadata": {},
     "output_type": "display_data"
    }
   ],
   "source": [
    "drop_variables = train_df[train_df[\"ratio\"] > 60][\"index\"]"
   ]
  },
  {
   "cell_type": "code",
   "execution_count": 81,
   "id": "e105f943",
   "metadata": {},
   "outputs": [
    {
     "data": {
      "text/plain": [
       "0    id_24\n",
       "1    id_25\n",
       "2    id_26\n",
       "3    id_08\n",
       "4    id_07\n",
       "Name: index, dtype: object"
      ]
     },
     "execution_count": 81,
     "metadata": {},
     "output_type": "execute_result"
    },
    {
     "data": {
      "application/javascript": [
       "\n",
       "            setTimeout(function() {\n",
       "                var nbb_cell_id = 81;\n",
       "                var nbb_unformatted_code = \"drop_variables.head()\";\n",
       "                var nbb_formatted_code = \"drop_variables.head()\";\n",
       "                var nbb_cells = Jupyter.notebook.get_cells();\n",
       "                for (var i = 0; i < nbb_cells.length; ++i) {\n",
       "                    if (nbb_cells[i].input_prompt_number == nbb_cell_id) {\n",
       "                        if (nbb_cells[i].get_text() == nbb_unformatted_code) {\n",
       "                             nbb_cells[i].set_text(nbb_formatted_code);\n",
       "                        }\n",
       "                        break;\n",
       "                    }\n",
       "                }\n",
       "            }, 500);\n",
       "            "
      ],
      "text/plain": [
       "<IPython.core.display.Javascript object>"
      ]
     },
     "metadata": {},
     "output_type": "display_data"
    }
   ],
   "source": [
    "drop_variables.head()"
   ]
  },
  {
   "cell_type": "code",
   "execution_count": 82,
   "id": "a2001a98",
   "metadata": {},
   "outputs": [
    {
     "data": {
      "application/javascript": [
       "\n",
       "            setTimeout(function() {\n",
       "                var nbb_cell_id = 82;\n",
       "                var nbb_unformatted_code = \"train.replace([np.inf, -np.inf], np.nan, inplace=True)\\ntest.replace([np.inf, -np.inf], np.nan, inplace=True)\";\n",
       "                var nbb_formatted_code = \"train.replace([np.inf, -np.inf], np.nan, inplace=True)\\ntest.replace([np.inf, -np.inf], np.nan, inplace=True)\";\n",
       "                var nbb_cells = Jupyter.notebook.get_cells();\n",
       "                for (var i = 0; i < nbb_cells.length; ++i) {\n",
       "                    if (nbb_cells[i].input_prompt_number == nbb_cell_id) {\n",
       "                        if (nbb_cells[i].get_text() == nbb_unformatted_code) {\n",
       "                             nbb_cells[i].set_text(nbb_formatted_code);\n",
       "                        }\n",
       "                        break;\n",
       "                    }\n",
       "                }\n",
       "            }, 500);\n",
       "            "
      ],
      "text/plain": [
       "<IPython.core.display.Javascript object>"
      ]
     },
     "metadata": {},
     "output_type": "display_data"
    }
   ],
   "source": [
    "train.replace([np.inf, -np.inf], np.nan, inplace=True)\n",
    "test.replace([np.inf, -np.inf], np.nan, inplace=True)"
   ]
  },
  {
   "cell_type": "code",
   "execution_count": 88,
   "id": "9857bb88",
   "metadata": {},
   "outputs": [
    {
     "data": {
      "application/javascript": [
       "\n",
       "            setTimeout(function() {\n",
       "                var nbb_cell_id = 88;\n",
       "                var nbb_unformatted_code = \"import gc\\nimport datetime\";\n",
       "                var nbb_formatted_code = \"import gc\\nimport datetime\";\n",
       "                var nbb_cells = Jupyter.notebook.get_cells();\n",
       "                for (var i = 0; i < nbb_cells.length; ++i) {\n",
       "                    if (nbb_cells[i].input_prompt_number == nbb_cell_id) {\n",
       "                        if (nbb_cells[i].get_text() == nbb_unformatted_code) {\n",
       "                             nbb_cells[i].set_text(nbb_formatted_code);\n",
       "                        }\n",
       "                        break;\n",
       "                    }\n",
       "                }\n",
       "            }, 500);\n",
       "            "
      ],
      "text/plain": [
       "<IPython.core.display.Javascript object>"
      ]
     },
     "metadata": {},
     "output_type": "display_data"
    }
   ],
   "source": [
    "import gc\n",
    "import datetime\n",
    "train = feature_eng(train)\n",
    "test = feature_eng(test)"
   ]
  },
  {
   "cell_type": "code",
   "execution_count": 89,
   "id": "8821add1",
   "metadata": {},
   "outputs": [
    {
     "data": {
      "application/javascript": [
       "\n",
       "            setTimeout(function() {\n",
       "                var nbb_cell_id = 89;\n",
       "                var nbb_unformatted_code = \"train = feature_eng(train)\\ntest = feature_eng(test)\";\n",
       "                var nbb_formatted_code = \"train = feature_eng(train)\\ntest = feature_eng(test)\";\n",
       "                var nbb_cells = Jupyter.notebook.get_cells();\n",
       "                for (var i = 0; i < nbb_cells.length; ++i) {\n",
       "                    if (nbb_cells[i].input_prompt_number == nbb_cell_id) {\n",
       "                        if (nbb_cells[i].get_text() == nbb_unformatted_code) {\n",
       "                             nbb_cells[i].set_text(nbb_formatted_code);\n",
       "                        }\n",
       "                        break;\n",
       "                    }\n",
       "                }\n",
       "            }, 500);\n",
       "            "
      ],
      "text/plain": [
       "<IPython.core.display.Javascript object>"
      ]
     },
     "metadata": {},
     "output_type": "display_data"
    }
   ],
   "source": [
    "train = feature_eng(train)\n",
    "test = feature_eng(test)"
   ]
  },
  {
   "cell_type": "code",
   "execution_count": 92,
   "id": "87280c2f",
   "metadata": {},
   "outputs": [
    {
     "data": {
      "text/html": [
       "<div>\n",
       "<style scoped>\n",
       "    .dataframe tbody tr th:only-of-type {\n",
       "        vertical-align: middle;\n",
       "    }\n",
       "\n",
       "    .dataframe tbody tr th {\n",
       "        vertical-align: top;\n",
       "    }\n",
       "\n",
       "    .dataframe thead th {\n",
       "        text-align: right;\n",
       "    }\n",
       "</style>\n",
       "<table border=\"1\" class=\"dataframe\">\n",
       "  <thead>\n",
       "    <tr style=\"text-align: right;\">\n",
       "      <th></th>\n",
       "      <th>TransactionID</th>\n",
       "      <th>TransactionDT</th>\n",
       "      <th>TransactionAmt</th>\n",
       "      <th>ProductCD</th>\n",
       "      <th>card1</th>\n",
       "      <th>card2</th>\n",
       "      <th>card3</th>\n",
       "      <th>card4</th>\n",
       "      <th>card5</th>\n",
       "      <th>card6</th>\n",
       "      <th>...</th>\n",
       "      <th>id_02_to_mean_card1</th>\n",
       "      <th>id_02_to_mean_card4</th>\n",
       "      <th>id_02_to_std_card1</th>\n",
       "      <th>id_02_to_std_card4</th>\n",
       "      <th>D15_to_mean_card1</th>\n",
       "      <th>D15_to_mean_card4</th>\n",
       "      <th>D15_to_std_card1</th>\n",
       "      <th>D15_to_std_card4</th>\n",
       "      <th>D15_to_mean_addr1</th>\n",
       "      <th>D15_to_std_addr1</th>\n",
       "    </tr>\n",
       "  </thead>\n",
       "  <tbody>\n",
       "    <tr>\n",
       "      <th>0</th>\n",
       "      <td>3663549</td>\n",
       "      <td>18403224</td>\n",
       "      <td>31.953125</td>\n",
       "      <td>W</td>\n",
       "      <td>10409</td>\n",
       "      <td>111.0</td>\n",
       "      <td>150.0</td>\n",
       "      <td>visa</td>\n",
       "      <td>226.0</td>\n",
       "      <td>debit</td>\n",
       "      <td>...</td>\n",
       "      <td>NaN</td>\n",
       "      <td>NaN</td>\n",
       "      <td>NaN</td>\n",
       "      <td>NaN</td>\n",
       "      <td>1.065430</td>\n",
       "      <td>1.925781</td>\n",
       "      <td>1.665603</td>\n",
       "      <td>1.502141</td>\n",
       "      <td>1.557617</td>\n",
       "      <td>1.450810</td>\n",
       "    </tr>\n",
       "    <tr>\n",
       "      <th>1</th>\n",
       "      <td>3663550</td>\n",
       "      <td>18403263</td>\n",
       "      <td>49.000000</td>\n",
       "      <td>W</td>\n",
       "      <td>4272</td>\n",
       "      <td>111.0</td>\n",
       "      <td>150.0</td>\n",
       "      <td>visa</td>\n",
       "      <td>226.0</td>\n",
       "      <td>debit</td>\n",
       "      <td>...</td>\n",
       "      <td>NaN</td>\n",
       "      <td>NaN</td>\n",
       "      <td>NaN</td>\n",
       "      <td>NaN</td>\n",
       "      <td>2.154297</td>\n",
       "      <td>2.984375</td>\n",
       "      <td>2.047675</td>\n",
       "      <td>2.328502</td>\n",
       "      <td>3.033203</td>\n",
       "      <td>2.300422</td>\n",
       "    </tr>\n",
       "    <tr>\n",
       "      <th>2</th>\n",
       "      <td>3663551</td>\n",
       "      <td>18403310</td>\n",
       "      <td>171.000000</td>\n",
       "      <td>W</td>\n",
       "      <td>4476</td>\n",
       "      <td>574.0</td>\n",
       "      <td>150.0</td>\n",
       "      <td>visa</td>\n",
       "      <td>226.0</td>\n",
       "      <td>debit</td>\n",
       "      <td>...</td>\n",
       "      <td>NaN</td>\n",
       "      <td>NaN</td>\n",
       "      <td>NaN</td>\n",
       "      <td>NaN</td>\n",
       "      <td>0.280029</td>\n",
       "      <td>0.456787</td>\n",
       "      <td>0.339451</td>\n",
       "      <td>0.356253</td>\n",
       "      <td>0.457031</td>\n",
       "      <td>0.351657</td>\n",
       "    </tr>\n",
       "    <tr>\n",
       "      <th>3</th>\n",
       "      <td>3663552</td>\n",
       "      <td>18403310</td>\n",
       "      <td>285.000000</td>\n",
       "      <td>W</td>\n",
       "      <td>10989</td>\n",
       "      <td>360.0</td>\n",
       "      <td>150.0</td>\n",
       "      <td>visa</td>\n",
       "      <td>166.0</td>\n",
       "      <td>debit</td>\n",
       "      <td>...</td>\n",
       "      <td>NaN</td>\n",
       "      <td>NaN</td>\n",
       "      <td>NaN</td>\n",
       "      <td>NaN</td>\n",
       "      <td>1.579102</td>\n",
       "      <td>1.139648</td>\n",
       "      <td>1.130023</td>\n",
       "      <td>0.888797</td>\n",
       "      <td>1.020508</td>\n",
       "      <td>0.901970</td>\n",
       "    </tr>\n",
       "    <tr>\n",
       "      <th>4</th>\n",
       "      <td>3663553</td>\n",
       "      <td>18403317</td>\n",
       "      <td>67.937500</td>\n",
       "      <td>W</td>\n",
       "      <td>18018</td>\n",
       "      <td>452.0</td>\n",
       "      <td>150.0</td>\n",
       "      <td>mastercard</td>\n",
       "      <td>117.0</td>\n",
       "      <td>debit</td>\n",
       "      <td>...</td>\n",
       "      <td>NaN</td>\n",
       "      <td>NaN</td>\n",
       "      <td>NaN</td>\n",
       "      <td>NaN</td>\n",
       "      <td>0.085876</td>\n",
       "      <td>0.109680</td>\n",
       "      <td>0.075361</td>\n",
       "      <td>0.083425</td>\n",
       "      <td>0.098999</td>\n",
       "      <td>0.080181</td>\n",
       "    </tr>\n",
       "  </tbody>\n",
       "</table>\n",
       "<p>5 rows × 482 columns</p>\n",
       "</div>"
      ],
      "text/plain": [
       "   TransactionID  TransactionDT  TransactionAmt ProductCD  card1  card2  \\\n",
       "0        3663549       18403224       31.953125         W  10409  111.0   \n",
       "1        3663550       18403263       49.000000         W   4272  111.0   \n",
       "2        3663551       18403310      171.000000         W   4476  574.0   \n",
       "3        3663552       18403310      285.000000         W  10989  360.0   \n",
       "4        3663553       18403317       67.937500         W  18018  452.0   \n",
       "\n",
       "   card3       card4  card5  card6  ...  id_02_to_mean_card1  \\\n",
       "0  150.0        visa  226.0  debit  ...                  NaN   \n",
       "1  150.0        visa  226.0  debit  ...                  NaN   \n",
       "2  150.0        visa  226.0  debit  ...                  NaN   \n",
       "3  150.0        visa  166.0  debit  ...                  NaN   \n",
       "4  150.0  mastercard  117.0  debit  ...                  NaN   \n",
       "\n",
       "   id_02_to_mean_card4  id_02_to_std_card1  id_02_to_std_card4  \\\n",
       "0                  NaN                 NaN                 NaN   \n",
       "1                  NaN                 NaN                 NaN   \n",
       "2                  NaN                 NaN                 NaN   \n",
       "3                  NaN                 NaN                 NaN   \n",
       "4                  NaN                 NaN                 NaN   \n",
       "\n",
       "  D15_to_mean_card1 D15_to_mean_card4  D15_to_std_card1  D15_to_std_card4  \\\n",
       "0          1.065430          1.925781          1.665603          1.502141   \n",
       "1          2.154297          2.984375          2.047675          2.328502   \n",
       "2          0.280029          0.456787          0.339451          0.356253   \n",
       "3          1.579102          1.139648          1.130023          0.888797   \n",
       "4          0.085876          0.109680          0.075361          0.083425   \n",
       "\n",
       "   D15_to_mean_addr1  D15_to_std_addr1  \n",
       "0           1.557617          1.450810  \n",
       "1           3.033203          2.300422  \n",
       "2           0.457031          0.351657  \n",
       "3           1.020508          0.901970  \n",
       "4           0.098999          0.080181  \n",
       "\n",
       "[5 rows x 482 columns]"
      ]
     },
     "execution_count": 92,
     "metadata": {},
     "output_type": "execute_result"
    },
    {
     "data": {
      "application/javascript": [
       "\n",
       "            setTimeout(function() {\n",
       "                var nbb_cell_id = 92;\n",
       "                var nbb_unformatted_code = \"test.head()\";\n",
       "                var nbb_formatted_code = \"test.head()\";\n",
       "                var nbb_cells = Jupyter.notebook.get_cells();\n",
       "                for (var i = 0; i < nbb_cells.length; ++i) {\n",
       "                    if (nbb_cells[i].input_prompt_number == nbb_cell_id) {\n",
       "                        if (nbb_cells[i].get_text() == nbb_unformatted_code) {\n",
       "                             nbb_cells[i].set_text(nbb_formatted_code);\n",
       "                        }\n",
       "                        break;\n",
       "                    }\n",
       "                }\n",
       "            }, 500);\n",
       "            "
      ],
      "text/plain": [
       "<IPython.core.display.Javascript object>"
      ]
     },
     "metadata": {},
     "output_type": "display_data"
    }
   ],
   "source": [
    "test.head()"
   ]
  },
  {
   "cell_type": "code",
   "execution_count": 97,
   "id": "95cb2073",
   "metadata": {},
   "outputs": [
    {
     "data": {
      "text/plain": [
       "0            NaN\n",
       "1            NaN\n",
       "2            NaN\n",
       "3            NaN\n",
       "4         mobile\n",
       "           ...  \n",
       "590535       NaN\n",
       "590536       NaN\n",
       "590537       NaN\n",
       "590538       NaN\n",
       "590539       NaN\n",
       "Name: DeviceType, Length: 590540, dtype: category\n",
       "Categories (2, object): ['desktop', 'mobile']"
      ]
     },
     "execution_count": 97,
     "metadata": {},
     "output_type": "execute_result"
    },
    {
     "data": {
      "application/javascript": [
       "\n",
       "            setTimeout(function() {\n",
       "                var nbb_cell_id = 97;\n",
       "                var nbb_unformatted_code = \"train.DeviceType\";\n",
       "                var nbb_formatted_code = \"train.DeviceType\";\n",
       "                var nbb_cells = Jupyter.notebook.get_cells();\n",
       "                for (var i = 0; i < nbb_cells.length; ++i) {\n",
       "                    if (nbb_cells[i].input_prompt_number == nbb_cell_id) {\n",
       "                        if (nbb_cells[i].get_text() == nbb_unformatted_code) {\n",
       "                             nbb_cells[i].set_text(nbb_formatted_code);\n",
       "                        }\n",
       "                        break;\n",
       "                    }\n",
       "                }\n",
       "            }, 500);\n",
       "            "
      ],
      "text/plain": [
       "<IPython.core.display.Javascript object>"
      ]
     },
     "metadata": {},
     "output_type": "display_data"
    }
   ],
   "source": [
    "train.DeviceType"
   ]
  },
  {
   "cell_type": "code",
   "execution_count": 100,
   "id": "50934210",
   "metadata": {},
   "outputs": [
    {
     "data": {
      "application/javascript": [
       "\n",
       "            setTimeout(function() {\n",
       "                var nbb_cell_id = 100;\n",
       "                var nbb_unformatted_code = \"# missing values\\n\\ntest =  clean_inf_nan(test)\";\n",
       "                var nbb_formatted_code = \"# missing values\\n\\ntest = clean_inf_nan(test)\";\n",
       "                var nbb_cells = Jupyter.notebook.get_cells();\n",
       "                for (var i = 0; i < nbb_cells.length; ++i) {\n",
       "                    if (nbb_cells[i].input_prompt_number == nbb_cell_id) {\n",
       "                        if (nbb_cells[i].get_text() == nbb_unformatted_code) {\n",
       "                             nbb_cells[i].set_text(nbb_formatted_code);\n",
       "                        }\n",
       "                        break;\n",
       "                    }\n",
       "                }\n",
       "            }, 500);\n",
       "            "
      ],
      "text/plain": [
       "<IPython.core.display.Javascript object>"
      ]
     },
     "metadata": {},
     "output_type": "display_data"
    }
   ],
   "source": [
    "# missing values\n",
    "train = clean_inf_nan(train)\n",
    "test =  clean_inf_nan(test)\n"
   ]
  },
  {
   "cell_type": "code",
   "execution_count": 98,
   "id": "33427268",
   "metadata": {},
   "outputs": [
    {
     "data": {
      "application/javascript": [
       "\n",
       "            setTimeout(function() {\n",
       "                var nbb_cell_id = 98;\n",
       "                var nbb_unformatted_code = \"def clean_inf_nan(df):\\n    return df.replace([np.inf, -np.inf], np.nan)\";\n",
       "                var nbb_formatted_code = \"def clean_inf_nan(df):\\n    return df.replace([np.inf, -np.inf], np.nan)\";\n",
       "                var nbb_cells = Jupyter.notebook.get_cells();\n",
       "                for (var i = 0; i < nbb_cells.length; ++i) {\n",
       "                    if (nbb_cells[i].input_prompt_number == nbb_cell_id) {\n",
       "                        if (nbb_cells[i].get_text() == nbb_unformatted_code) {\n",
       "                             nbb_cells[i].set_text(nbb_formatted_code);\n",
       "                        }\n",
       "                        break;\n",
       "                    }\n",
       "                }\n",
       "            }, 500);\n",
       "            "
      ],
      "text/plain": [
       "<IPython.core.display.Javascript object>"
      ]
     },
     "metadata": {},
     "output_type": "display_data"
    }
   ],
   "source": [
    "def clean_inf_nan(df):\n",
    "    return df.replace([np.inf, -np.inf], np.nan)"
   ]
  },
  {
   "cell_type": "code",
   "execution_count": 103,
   "id": "6689e478",
   "metadata": {},
   "outputs": [
    {
     "name": "stdout",
     "output_type": "stream",
     "text": [
      "Train shape: (590540, 481), Test shape: (506691, 482)\n"
     ]
    },
    {
     "data": {
      "application/javascript": [
       "\n",
       "            setTimeout(function() {\n",
       "                var nbb_cell_id = 103;\n",
       "                var nbb_unformatted_code = \"print(f\\\"Train shape: {train.shape}, Test shape: {test.shape}\\\")\";\n",
       "                var nbb_formatted_code = \"print(f\\\"Train shape: {train.shape}, Test shape: {test.shape}\\\")\";\n",
       "                var nbb_cells = Jupyter.notebook.get_cells();\n",
       "                for (var i = 0; i < nbb_cells.length; ++i) {\n",
       "                    if (nbb_cells[i].input_prompt_number == nbb_cell_id) {\n",
       "                        if (nbb_cells[i].get_text() == nbb_unformatted_code) {\n",
       "                             nbb_cells[i].set_text(nbb_formatted_code);\n",
       "                        }\n",
       "                        break;\n",
       "                    }\n",
       "                }\n",
       "            }, 500);\n",
       "            "
      ],
      "text/plain": [
       "<IPython.core.display.Javascript object>"
      ]
     },
     "metadata": {},
     "output_type": "display_data"
    }
   ],
   "source": [
    "print(f\"Train shape: {train.shape}, Test shape: {test.shape}\")"
   ]
  },
  {
   "cell_type": "code",
   "execution_count": 104,
   "id": "27fe85b4",
   "metadata": {},
   "outputs": [
    {
     "data": {
      "text/html": [
       "<div>\n",
       "<style scoped>\n",
       "    .dataframe tbody tr th:only-of-type {\n",
       "        vertical-align: middle;\n",
       "    }\n",
       "\n",
       "    .dataframe tbody tr th {\n",
       "        vertical-align: top;\n",
       "    }\n",
       "\n",
       "    .dataframe thead th {\n",
       "        text-align: right;\n",
       "    }\n",
       "</style>\n",
       "<table border=\"1\" class=\"dataframe\">\n",
       "  <thead>\n",
       "    <tr style=\"text-align: right;\">\n",
       "      <th></th>\n",
       "      <th>ProductCD</th>\n",
       "      <th>card4</th>\n",
       "      <th>card6</th>\n",
       "      <th>P_emaildomain</th>\n",
       "      <th>R_emaildomain</th>\n",
       "      <th>M2</th>\n",
       "      <th>M3</th>\n",
       "      <th>M4</th>\n",
       "      <th>M5</th>\n",
       "      <th>M6</th>\n",
       "      <th>...</th>\n",
       "      <th>id_30</th>\n",
       "      <th>id_31</th>\n",
       "      <th>id_33</th>\n",
       "      <th>id_34</th>\n",
       "      <th>id_35</th>\n",
       "      <th>id_36</th>\n",
       "      <th>id_37</th>\n",
       "      <th>id_38</th>\n",
       "      <th>DeviceType</th>\n",
       "      <th>DeviceInfo</th>\n",
       "    </tr>\n",
       "  </thead>\n",
       "  <tbody>\n",
       "    <tr>\n",
       "      <th>0</th>\n",
       "      <td>W</td>\n",
       "      <td>discover</td>\n",
       "      <td>credit</td>\n",
       "      <td>NaN</td>\n",
       "      <td>NaN</td>\n",
       "      <td>T</td>\n",
       "      <td>T</td>\n",
       "      <td>M2</td>\n",
       "      <td>F</td>\n",
       "      <td>T</td>\n",
       "      <td>...</td>\n",
       "      <td>NaN</td>\n",
       "      <td>NaN</td>\n",
       "      <td>NaN</td>\n",
       "      <td>NaN</td>\n",
       "      <td>NaN</td>\n",
       "      <td>NaN</td>\n",
       "      <td>NaN</td>\n",
       "      <td>NaN</td>\n",
       "      <td>NaN</td>\n",
       "      <td>NaN</td>\n",
       "    </tr>\n",
       "    <tr>\n",
       "      <th>1</th>\n",
       "      <td>W</td>\n",
       "      <td>mastercard</td>\n",
       "      <td>credit</td>\n",
       "      <td>gmail.com</td>\n",
       "      <td>NaN</td>\n",
       "      <td>NaN</td>\n",
       "      <td>NaN</td>\n",
       "      <td>M0</td>\n",
       "      <td>T</td>\n",
       "      <td>T</td>\n",
       "      <td>...</td>\n",
       "      <td>NaN</td>\n",
       "      <td>NaN</td>\n",
       "      <td>NaN</td>\n",
       "      <td>NaN</td>\n",
       "      <td>NaN</td>\n",
       "      <td>NaN</td>\n",
       "      <td>NaN</td>\n",
       "      <td>NaN</td>\n",
       "      <td>NaN</td>\n",
       "      <td>NaN</td>\n",
       "    </tr>\n",
       "    <tr>\n",
       "      <th>2</th>\n",
       "      <td>W</td>\n",
       "      <td>visa</td>\n",
       "      <td>debit</td>\n",
       "      <td>outlook.com</td>\n",
       "      <td>NaN</td>\n",
       "      <td>T</td>\n",
       "      <td>T</td>\n",
       "      <td>M0</td>\n",
       "      <td>F</td>\n",
       "      <td>F</td>\n",
       "      <td>...</td>\n",
       "      <td>NaN</td>\n",
       "      <td>NaN</td>\n",
       "      <td>NaN</td>\n",
       "      <td>NaN</td>\n",
       "      <td>NaN</td>\n",
       "      <td>NaN</td>\n",
       "      <td>NaN</td>\n",
       "      <td>NaN</td>\n",
       "      <td>NaN</td>\n",
       "      <td>NaN</td>\n",
       "    </tr>\n",
       "    <tr>\n",
       "      <th>3</th>\n",
       "      <td>W</td>\n",
       "      <td>mastercard</td>\n",
       "      <td>debit</td>\n",
       "      <td>yahoo.com</td>\n",
       "      <td>NaN</td>\n",
       "      <td>NaN</td>\n",
       "      <td>NaN</td>\n",
       "      <td>M0</td>\n",
       "      <td>T</td>\n",
       "      <td>F</td>\n",
       "      <td>...</td>\n",
       "      <td>NaN</td>\n",
       "      <td>NaN</td>\n",
       "      <td>NaN</td>\n",
       "      <td>NaN</td>\n",
       "      <td>NaN</td>\n",
       "      <td>NaN</td>\n",
       "      <td>NaN</td>\n",
       "      <td>NaN</td>\n",
       "      <td>NaN</td>\n",
       "      <td>NaN</td>\n",
       "    </tr>\n",
       "    <tr>\n",
       "      <th>4</th>\n",
       "      <td>H</td>\n",
       "      <td>mastercard</td>\n",
       "      <td>credit</td>\n",
       "      <td>gmail.com</td>\n",
       "      <td>NaN</td>\n",
       "      <td>NaN</td>\n",
       "      <td>NaN</td>\n",
       "      <td>NaN</td>\n",
       "      <td>NaN</td>\n",
       "      <td>NaN</td>\n",
       "      <td>...</td>\n",
       "      <td>Android 7.0</td>\n",
       "      <td>samsung browser 6.2</td>\n",
       "      <td>2220x1080</td>\n",
       "      <td>match_status:2</td>\n",
       "      <td>T</td>\n",
       "      <td>F</td>\n",
       "      <td>T</td>\n",
       "      <td>T</td>\n",
       "      <td>mobile</td>\n",
       "      <td>SAMSUNG SM-G892A Build/NRD90M</td>\n",
       "    </tr>\n",
       "    <tr>\n",
       "      <th>...</th>\n",
       "      <td>...</td>\n",
       "      <td>...</td>\n",
       "      <td>...</td>\n",
       "      <td>...</td>\n",
       "      <td>...</td>\n",
       "      <td>...</td>\n",
       "      <td>...</td>\n",
       "      <td>...</td>\n",
       "      <td>...</td>\n",
       "      <td>...</td>\n",
       "      <td>...</td>\n",
       "      <td>...</td>\n",
       "      <td>...</td>\n",
       "      <td>...</td>\n",
       "      <td>...</td>\n",
       "      <td>...</td>\n",
       "      <td>...</td>\n",
       "      <td>...</td>\n",
       "      <td>...</td>\n",
       "      <td>...</td>\n",
       "      <td>...</td>\n",
       "    </tr>\n",
       "    <tr>\n",
       "      <th>590535</th>\n",
       "      <td>W</td>\n",
       "      <td>visa</td>\n",
       "      <td>debit</td>\n",
       "      <td>NaN</td>\n",
       "      <td>NaN</td>\n",
       "      <td>T</td>\n",
       "      <td>T</td>\n",
       "      <td>M0</td>\n",
       "      <td>T</td>\n",
       "      <td>F</td>\n",
       "      <td>...</td>\n",
       "      <td>NaN</td>\n",
       "      <td>NaN</td>\n",
       "      <td>NaN</td>\n",
       "      <td>NaN</td>\n",
       "      <td>NaN</td>\n",
       "      <td>NaN</td>\n",
       "      <td>NaN</td>\n",
       "      <td>NaN</td>\n",
       "      <td>NaN</td>\n",
       "      <td>NaN</td>\n",
       "    </tr>\n",
       "    <tr>\n",
       "      <th>590536</th>\n",
       "      <td>W</td>\n",
       "      <td>mastercard</td>\n",
       "      <td>debit</td>\n",
       "      <td>gmail.com</td>\n",
       "      <td>NaN</td>\n",
       "      <td>F</td>\n",
       "      <td>F</td>\n",
       "      <td>M0</td>\n",
       "      <td>F</td>\n",
       "      <td>T</td>\n",
       "      <td>...</td>\n",
       "      <td>NaN</td>\n",
       "      <td>NaN</td>\n",
       "      <td>NaN</td>\n",
       "      <td>NaN</td>\n",
       "      <td>NaN</td>\n",
       "      <td>NaN</td>\n",
       "      <td>NaN</td>\n",
       "      <td>NaN</td>\n",
       "      <td>NaN</td>\n",
       "      <td>NaN</td>\n",
       "    </tr>\n",
       "    <tr>\n",
       "      <th>590537</th>\n",
       "      <td>W</td>\n",
       "      <td>mastercard</td>\n",
       "      <td>debit</td>\n",
       "      <td>gmail.com</td>\n",
       "      <td>NaN</td>\n",
       "      <td>F</td>\n",
       "      <td>F</td>\n",
       "      <td>NaN</td>\n",
       "      <td>NaN</td>\n",
       "      <td>T</td>\n",
       "      <td>...</td>\n",
       "      <td>NaN</td>\n",
       "      <td>NaN</td>\n",
       "      <td>NaN</td>\n",
       "      <td>NaN</td>\n",
       "      <td>NaN</td>\n",
       "      <td>NaN</td>\n",
       "      <td>NaN</td>\n",
       "      <td>NaN</td>\n",
       "      <td>NaN</td>\n",
       "      <td>NaN</td>\n",
       "    </tr>\n",
       "    <tr>\n",
       "      <th>590538</th>\n",
       "      <td>W</td>\n",
       "      <td>mastercard</td>\n",
       "      <td>debit</td>\n",
       "      <td>aol.com</td>\n",
       "      <td>NaN</td>\n",
       "      <td>T</td>\n",
       "      <td>T</td>\n",
       "      <td>M0</td>\n",
       "      <td>F</td>\n",
       "      <td>T</td>\n",
       "      <td>...</td>\n",
       "      <td>NaN</td>\n",
       "      <td>NaN</td>\n",
       "      <td>NaN</td>\n",
       "      <td>NaN</td>\n",
       "      <td>NaN</td>\n",
       "      <td>NaN</td>\n",
       "      <td>NaN</td>\n",
       "      <td>NaN</td>\n",
       "      <td>NaN</td>\n",
       "      <td>NaN</td>\n",
       "    </tr>\n",
       "    <tr>\n",
       "      <th>590539</th>\n",
       "      <td>W</td>\n",
       "      <td>mastercard</td>\n",
       "      <td>credit</td>\n",
       "      <td>gmail.com</td>\n",
       "      <td>NaN</td>\n",
       "      <td>F</td>\n",
       "      <td>F</td>\n",
       "      <td>NaN</td>\n",
       "      <td>NaN</td>\n",
       "      <td>T</td>\n",
       "      <td>...</td>\n",
       "      <td>NaN</td>\n",
       "      <td>NaN</td>\n",
       "      <td>NaN</td>\n",
       "      <td>NaN</td>\n",
       "      <td>NaN</td>\n",
       "      <td>NaN</td>\n",
       "      <td>NaN</td>\n",
       "      <td>NaN</td>\n",
       "      <td>NaN</td>\n",
       "      <td>NaN</td>\n",
       "    </tr>\n",
       "  </tbody>\n",
       "</table>\n",
       "<p>590540 rows × 29 columns</p>\n",
       "</div>"
      ],
      "text/plain": [
       "       ProductCD       card4   card6 P_emaildomain R_emaildomain   M2   M3  \\\n",
       "0              W    discover  credit           NaN           NaN    T    T   \n",
       "1              W  mastercard  credit     gmail.com           NaN  NaN  NaN   \n",
       "2              W        visa   debit   outlook.com           NaN    T    T   \n",
       "3              W  mastercard   debit     yahoo.com           NaN  NaN  NaN   \n",
       "4              H  mastercard  credit     gmail.com           NaN  NaN  NaN   \n",
       "...          ...         ...     ...           ...           ...  ...  ...   \n",
       "590535         W        visa   debit           NaN           NaN    T    T   \n",
       "590536         W  mastercard   debit     gmail.com           NaN    F    F   \n",
       "590537         W  mastercard   debit     gmail.com           NaN    F    F   \n",
       "590538         W  mastercard   debit       aol.com           NaN    T    T   \n",
       "590539         W  mastercard  credit     gmail.com           NaN    F    F   \n",
       "\n",
       "         M4   M5   M6  ...        id_30                id_31      id_33  \\\n",
       "0        M2    F    T  ...          NaN                  NaN        NaN   \n",
       "1        M0    T    T  ...          NaN                  NaN        NaN   \n",
       "2        M0    F    F  ...          NaN                  NaN        NaN   \n",
       "3        M0    T    F  ...          NaN                  NaN        NaN   \n",
       "4       NaN  NaN  NaN  ...  Android 7.0  samsung browser 6.2  2220x1080   \n",
       "...     ...  ...  ...  ...          ...                  ...        ...   \n",
       "590535   M0    T    F  ...          NaN                  NaN        NaN   \n",
       "590536   M0    F    T  ...          NaN                  NaN        NaN   \n",
       "590537  NaN  NaN    T  ...          NaN                  NaN        NaN   \n",
       "590538   M0    F    T  ...          NaN                  NaN        NaN   \n",
       "590539  NaN  NaN    T  ...          NaN                  NaN        NaN   \n",
       "\n",
       "                 id_34 id_35 id_36 id_37 id_38 DeviceType  \\\n",
       "0                  NaN   NaN   NaN   NaN   NaN        NaN   \n",
       "1                  NaN   NaN   NaN   NaN   NaN        NaN   \n",
       "2                  NaN   NaN   NaN   NaN   NaN        NaN   \n",
       "3                  NaN   NaN   NaN   NaN   NaN        NaN   \n",
       "4       match_status:2     T     F     T     T     mobile   \n",
       "...                ...   ...   ...   ...   ...        ...   \n",
       "590535             NaN   NaN   NaN   NaN   NaN        NaN   \n",
       "590536             NaN   NaN   NaN   NaN   NaN        NaN   \n",
       "590537             NaN   NaN   NaN   NaN   NaN        NaN   \n",
       "590538             NaN   NaN   NaN   NaN   NaN        NaN   \n",
       "590539             NaN   NaN   NaN   NaN   NaN        NaN   \n",
       "\n",
       "                           DeviceInfo  \n",
       "0                                 NaN  \n",
       "1                                 NaN  \n",
       "2                                 NaN  \n",
       "3                                 NaN  \n",
       "4       SAMSUNG SM-G892A Build/NRD90M  \n",
       "...                               ...  \n",
       "590535                            NaN  \n",
       "590536                            NaN  \n",
       "590537                            NaN  \n",
       "590538                            NaN  \n",
       "590539                            NaN  \n",
       "\n",
       "[590540 rows x 29 columns]"
      ]
     },
     "execution_count": 104,
     "metadata": {},
     "output_type": "execute_result"
    },
    {
     "data": {
      "application/javascript": [
       "\n",
       "            setTimeout(function() {\n",
       "                var nbb_cell_id = 104;\n",
       "                var nbb_unformatted_code = \"train.select_dtypes(exclude=[\\\"number\\\",\\\"bool_\\\",\\\"object_\\\"])\";\n",
       "                var nbb_formatted_code = \"train.select_dtypes(exclude=[\\\"number\\\", \\\"bool_\\\", \\\"object_\\\"])\";\n",
       "                var nbb_cells = Jupyter.notebook.get_cells();\n",
       "                for (var i = 0; i < nbb_cells.length; ++i) {\n",
       "                    if (nbb_cells[i].input_prompt_number == nbb_cell_id) {\n",
       "                        if (nbb_cells[i].get_text() == nbb_unformatted_code) {\n",
       "                             nbb_cells[i].set_text(nbb_formatted_code);\n",
       "                        }\n",
       "                        break;\n",
       "                    }\n",
       "                }\n",
       "            }, 500);\n",
       "            "
      ],
      "text/plain": [
       "<IPython.core.display.Javascript object>"
      ]
     },
     "metadata": {},
     "output_type": "display_data"
    }
   ],
   "source": [
    "train.select_dtypes(exclude=[\"number\",\"bool_\",\"object_\"])\n"
   ]
  },
  {
   "cell_type": "code",
   "execution_count": 101,
   "id": "c1d56496",
   "metadata": {},
   "outputs": [
    {
     "ename": "ValueError",
     "evalue": "Cannot setitem on a Categorical with a new category, set the categories first",
     "output_type": "error",
     "traceback": [
      "\u001b[1;31m---------------------------------------------------------------------------\u001b[0m",
      "\u001b[1;31mValueError\u001b[0m                                Traceback (most recent call last)",
      "\u001b[1;32m<ipython-input-101-d67b848f85ef>\u001b[0m in \u001b[0;36m<module>\u001b[1;34m\u001b[0m\n\u001b[1;32m----> 1\u001b[1;33m \u001b[0mtrain\u001b[0m\u001b[1;33m.\u001b[0m\u001b[0mfillna\u001b[0m\u001b[1;33m(\u001b[0m\u001b[1;36m0\u001b[0m\u001b[1;33m,\u001b[0m \u001b[0minplace\u001b[0m\u001b[1;33m=\u001b[0m\u001b[1;32mTrue\u001b[0m\u001b[1;33m)\u001b[0m\u001b[1;33m\u001b[0m\u001b[1;33m\u001b[0m\u001b[0m\n\u001b[0m\u001b[0;32m      2\u001b[0m \u001b[0mtest\u001b[0m\u001b[1;33m.\u001b[0m\u001b[0mfillna\u001b[0m\u001b[1;33m(\u001b[0m\u001b[1;36m0\u001b[0m\u001b[1;33m,\u001b[0m \u001b[0minplace\u001b[0m\u001b[1;33m=\u001b[0m\u001b[1;32mTrue\u001b[0m\u001b[1;33m)\u001b[0m\u001b[1;33m\u001b[0m\u001b[1;33m\u001b[0m\u001b[0m\n",
      "\u001b[1;32m~\\Anaconda3\\lib\\site-packages\\pandas\\core\\frame.py\u001b[0m in \u001b[0;36mfillna\u001b[1;34m(self, value, method, axis, inplace, limit, downcast)\u001b[0m\n\u001b[0;32m   4460\u001b[0m         \u001b[0mdowncast\u001b[0m\u001b[1;33m=\u001b[0m\u001b[1;32mNone\u001b[0m\u001b[1;33m,\u001b[0m\u001b[1;33m\u001b[0m\u001b[1;33m\u001b[0m\u001b[0m\n\u001b[0;32m   4461\u001b[0m     ) -> Optional[DataFrame]:\n\u001b[1;32m-> 4462\u001b[1;33m         return super().fillna(\n\u001b[0m\u001b[0;32m   4463\u001b[0m             \u001b[0mvalue\u001b[0m\u001b[1;33m=\u001b[0m\u001b[0mvalue\u001b[0m\u001b[1;33m,\u001b[0m\u001b[1;33m\u001b[0m\u001b[1;33m\u001b[0m\u001b[0m\n\u001b[0;32m   4464\u001b[0m             \u001b[0mmethod\u001b[0m\u001b[1;33m=\u001b[0m\u001b[0mmethod\u001b[0m\u001b[1;33m,\u001b[0m\u001b[1;33m\u001b[0m\u001b[1;33m\u001b[0m\u001b[0m\n",
      "\u001b[1;32m~\\Anaconda3\\lib\\site-packages\\pandas\\core\\generic.py\u001b[0m in \u001b[0;36mfillna\u001b[1;34m(self, value, method, axis, inplace, limit, downcast)\u001b[0m\n\u001b[0;32m   6427\u001b[0m \u001b[1;33m\u001b[0m\u001b[0m\n\u001b[0;32m   6428\u001b[0m             \u001b[1;32melif\u001b[0m \u001b[1;32mnot\u001b[0m \u001b[0mis_list_like\u001b[0m\u001b[1;33m(\u001b[0m\u001b[0mvalue\u001b[0m\u001b[1;33m)\u001b[0m\u001b[1;33m:\u001b[0m\u001b[1;33m\u001b[0m\u001b[1;33m\u001b[0m\u001b[0m\n\u001b[1;32m-> 6429\u001b[1;33m                 new_data = self._mgr.fillna(\n\u001b[0m\u001b[0;32m   6430\u001b[0m                     \u001b[0mvalue\u001b[0m\u001b[1;33m=\u001b[0m\u001b[0mvalue\u001b[0m\u001b[1;33m,\u001b[0m \u001b[0mlimit\u001b[0m\u001b[1;33m=\u001b[0m\u001b[0mlimit\u001b[0m\u001b[1;33m,\u001b[0m \u001b[0minplace\u001b[0m\u001b[1;33m=\u001b[0m\u001b[0minplace\u001b[0m\u001b[1;33m,\u001b[0m \u001b[0mdowncast\u001b[0m\u001b[1;33m=\u001b[0m\u001b[0mdowncast\u001b[0m\u001b[1;33m\u001b[0m\u001b[1;33m\u001b[0m\u001b[0m\n\u001b[0;32m   6431\u001b[0m                 )\n",
      "\u001b[1;32m~\\Anaconda3\\lib\\site-packages\\pandas\\core\\internals\\managers.py\u001b[0m in \u001b[0;36mfillna\u001b[1;34m(self, value, limit, inplace, downcast)\u001b[0m\n\u001b[0;32m    619\u001b[0m \u001b[1;33m\u001b[0m\u001b[0m\n\u001b[0;32m    620\u001b[0m     \u001b[1;32mdef\u001b[0m \u001b[0mfillna\u001b[0m\u001b[1;33m(\u001b[0m\u001b[0mself\u001b[0m\u001b[1;33m,\u001b[0m \u001b[0mvalue\u001b[0m\u001b[1;33m,\u001b[0m \u001b[0mlimit\u001b[0m\u001b[1;33m,\u001b[0m \u001b[0minplace\u001b[0m\u001b[1;33m:\u001b[0m \u001b[0mbool\u001b[0m\u001b[1;33m,\u001b[0m \u001b[0mdowncast\u001b[0m\u001b[1;33m)\u001b[0m \u001b[1;33m->\u001b[0m \u001b[1;34m\"BlockManager\"\u001b[0m\u001b[1;33m:\u001b[0m\u001b[1;33m\u001b[0m\u001b[1;33m\u001b[0m\u001b[0m\n\u001b[1;32m--> 621\u001b[1;33m         return self.apply(\n\u001b[0m\u001b[0;32m    622\u001b[0m             \u001b[1;34m\"fillna\"\u001b[0m\u001b[1;33m,\u001b[0m \u001b[0mvalue\u001b[0m\u001b[1;33m=\u001b[0m\u001b[0mvalue\u001b[0m\u001b[1;33m,\u001b[0m \u001b[0mlimit\u001b[0m\u001b[1;33m=\u001b[0m\u001b[0mlimit\u001b[0m\u001b[1;33m,\u001b[0m \u001b[0minplace\u001b[0m\u001b[1;33m=\u001b[0m\u001b[0minplace\u001b[0m\u001b[1;33m,\u001b[0m \u001b[0mdowncast\u001b[0m\u001b[1;33m=\u001b[0m\u001b[0mdowncast\u001b[0m\u001b[1;33m\u001b[0m\u001b[1;33m\u001b[0m\u001b[0m\n\u001b[0;32m    623\u001b[0m         )\n",
      "\u001b[1;32m~\\Anaconda3\\lib\\site-packages\\pandas\\core\\internals\\managers.py\u001b[0m in \u001b[0;36mapply\u001b[1;34m(self, f, align_keys, ignore_failures, **kwargs)\u001b[0m\n\u001b[0;32m    425\u001b[0m                     \u001b[0mapplied\u001b[0m \u001b[1;33m=\u001b[0m \u001b[0mb\u001b[0m\u001b[1;33m.\u001b[0m\u001b[0mapply\u001b[0m\u001b[1;33m(\u001b[0m\u001b[0mf\u001b[0m\u001b[1;33m,\u001b[0m \u001b[1;33m**\u001b[0m\u001b[0mkwargs\u001b[0m\u001b[1;33m)\u001b[0m\u001b[1;33m\u001b[0m\u001b[1;33m\u001b[0m\u001b[0m\n\u001b[0;32m    426\u001b[0m                 \u001b[1;32melse\u001b[0m\u001b[1;33m:\u001b[0m\u001b[1;33m\u001b[0m\u001b[1;33m\u001b[0m\u001b[0m\n\u001b[1;32m--> 427\u001b[1;33m                     \u001b[0mapplied\u001b[0m \u001b[1;33m=\u001b[0m \u001b[0mgetattr\u001b[0m\u001b[1;33m(\u001b[0m\u001b[0mb\u001b[0m\u001b[1;33m,\u001b[0m \u001b[0mf\u001b[0m\u001b[1;33m)\u001b[0m\u001b[1;33m(\u001b[0m\u001b[1;33m**\u001b[0m\u001b[0mkwargs\u001b[0m\u001b[1;33m)\u001b[0m\u001b[1;33m\u001b[0m\u001b[1;33m\u001b[0m\u001b[0m\n\u001b[0m\u001b[0;32m    428\u001b[0m             \u001b[1;32mexcept\u001b[0m \u001b[1;33m(\u001b[0m\u001b[0mTypeError\u001b[0m\u001b[1;33m,\u001b[0m \u001b[0mNotImplementedError\u001b[0m\u001b[1;33m)\u001b[0m\u001b[1;33m:\u001b[0m\u001b[1;33m\u001b[0m\u001b[1;33m\u001b[0m\u001b[0m\n\u001b[0;32m    429\u001b[0m                 \u001b[1;32mif\u001b[0m \u001b[1;32mnot\u001b[0m \u001b[0mignore_failures\u001b[0m\u001b[1;33m:\u001b[0m\u001b[1;33m\u001b[0m\u001b[1;33m\u001b[0m\u001b[0m\n",
      "\u001b[1;32m~\\Anaconda3\\lib\\site-packages\\pandas\\core\\internals\\blocks.py\u001b[0m in \u001b[0;36mfillna\u001b[1;34m(self, value, limit, inplace, downcast)\u001b[0m\n\u001b[0;32m   1926\u001b[0m     \u001b[1;32mdef\u001b[0m \u001b[0mfillna\u001b[0m\u001b[1;33m(\u001b[0m\u001b[0mself\u001b[0m\u001b[1;33m,\u001b[0m \u001b[0mvalue\u001b[0m\u001b[1;33m,\u001b[0m \u001b[0mlimit\u001b[0m\u001b[1;33m=\u001b[0m\u001b[1;32mNone\u001b[0m\u001b[1;33m,\u001b[0m \u001b[0minplace\u001b[0m\u001b[1;33m=\u001b[0m\u001b[1;32mFalse\u001b[0m\u001b[1;33m,\u001b[0m \u001b[0mdowncast\u001b[0m\u001b[1;33m=\u001b[0m\u001b[1;32mNone\u001b[0m\u001b[1;33m)\u001b[0m\u001b[1;33m:\u001b[0m\u001b[1;33m\u001b[0m\u001b[1;33m\u001b[0m\u001b[0m\n\u001b[0;32m   1927\u001b[0m         \u001b[0mvalues\u001b[0m \u001b[1;33m=\u001b[0m \u001b[0mself\u001b[0m\u001b[1;33m.\u001b[0m\u001b[0mvalues\u001b[0m \u001b[1;32mif\u001b[0m \u001b[0minplace\u001b[0m \u001b[1;32melse\u001b[0m \u001b[0mself\u001b[0m\u001b[1;33m.\u001b[0m\u001b[0mvalues\u001b[0m\u001b[1;33m.\u001b[0m\u001b[0mcopy\u001b[0m\u001b[1;33m(\u001b[0m\u001b[1;33m)\u001b[0m\u001b[1;33m\u001b[0m\u001b[1;33m\u001b[0m\u001b[0m\n\u001b[1;32m-> 1928\u001b[1;33m         \u001b[0mvalues\u001b[0m \u001b[1;33m=\u001b[0m \u001b[0mvalues\u001b[0m\u001b[1;33m.\u001b[0m\u001b[0mfillna\u001b[0m\u001b[1;33m(\u001b[0m\u001b[0mvalue\u001b[0m\u001b[1;33m=\u001b[0m\u001b[0mvalue\u001b[0m\u001b[1;33m,\u001b[0m \u001b[0mlimit\u001b[0m\u001b[1;33m=\u001b[0m\u001b[0mlimit\u001b[0m\u001b[1;33m)\u001b[0m\u001b[1;33m\u001b[0m\u001b[1;33m\u001b[0m\u001b[0m\n\u001b[0m\u001b[0;32m   1929\u001b[0m         return [\n\u001b[0;32m   1930\u001b[0m             self.make_block_same_class(\n",
      "\u001b[1;32m~\\Anaconda3\\lib\\site-packages\\pandas\\core\\arrays\\categorical.py\u001b[0m in \u001b[0;36mfillna\u001b[1;34m(self, value, method, limit)\u001b[0m\n\u001b[0;32m   1690\u001b[0m             \u001b[0mmask\u001b[0m \u001b[1;33m=\u001b[0m \u001b[0mself\u001b[0m\u001b[1;33m.\u001b[0m\u001b[0misna\u001b[0m\u001b[1;33m(\u001b[0m\u001b[1;33m)\u001b[0m\u001b[1;33m\u001b[0m\u001b[1;33m\u001b[0m\u001b[0m\n\u001b[0;32m   1691\u001b[0m \u001b[1;33m\u001b[0m\u001b[0m\n\u001b[1;32m-> 1692\u001b[1;33m             \u001b[0mnew_codes\u001b[0m \u001b[1;33m=\u001b[0m \u001b[0mself\u001b[0m\u001b[1;33m.\u001b[0m\u001b[0m_validate_setitem_value\u001b[0m\u001b[1;33m(\u001b[0m\u001b[0mvalue\u001b[0m\u001b[1;33m)\u001b[0m\u001b[1;33m\u001b[0m\u001b[1;33m\u001b[0m\u001b[0m\n\u001b[0m\u001b[0;32m   1693\u001b[0m \u001b[1;33m\u001b[0m\u001b[0m\n\u001b[0;32m   1694\u001b[0m             \u001b[1;32mif\u001b[0m \u001b[0misinstance\u001b[0m\u001b[1;33m(\u001b[0m\u001b[0mvalue\u001b[0m\u001b[1;33m,\u001b[0m \u001b[1;33m(\u001b[0m\u001b[0mnp\u001b[0m\u001b[1;33m.\u001b[0m\u001b[0mndarray\u001b[0m\u001b[1;33m,\u001b[0m \u001b[0mCategorical\u001b[0m\u001b[1;33m)\u001b[0m\u001b[1;33m)\u001b[0m\u001b[1;33m:\u001b[0m\u001b[1;33m\u001b[0m\u001b[1;33m\u001b[0m\u001b[0m\n",
      "\u001b[1;32m~\\Anaconda3\\lib\\site-packages\\pandas\\core\\arrays\\categorical.py\u001b[0m in \u001b[0;36m_validate_setitem_value\u001b[1;34m(self, value)\u001b[0m\n\u001b[0;32m   1891\u001b[0m         \u001b[1;31m# something to np.nan\u001b[0m\u001b[1;33m\u001b[0m\u001b[1;33m\u001b[0m\u001b[1;33m\u001b[0m\u001b[0m\n\u001b[0;32m   1892\u001b[0m         \u001b[1;32mif\u001b[0m \u001b[0mlen\u001b[0m\u001b[1;33m(\u001b[0m\u001b[0mto_add\u001b[0m\u001b[1;33m)\u001b[0m \u001b[1;32mand\u001b[0m \u001b[1;32mnot\u001b[0m \u001b[0misna\u001b[0m\u001b[1;33m(\u001b[0m\u001b[0mto_add\u001b[0m\u001b[1;33m)\u001b[0m\u001b[1;33m.\u001b[0m\u001b[0mall\u001b[0m\u001b[1;33m(\u001b[0m\u001b[1;33m)\u001b[0m\u001b[1;33m:\u001b[0m\u001b[1;33m\u001b[0m\u001b[1;33m\u001b[0m\u001b[0m\n\u001b[1;32m-> 1893\u001b[1;33m             raise ValueError(\n\u001b[0m\u001b[0;32m   1894\u001b[0m                 \u001b[1;34m\"Cannot setitem on a Categorical with a new \"\u001b[0m\u001b[1;33m\u001b[0m\u001b[1;33m\u001b[0m\u001b[0m\n\u001b[0;32m   1895\u001b[0m                 \u001b[1;34m\"category, set the categories first\"\u001b[0m\u001b[1;33m\u001b[0m\u001b[1;33m\u001b[0m\u001b[0m\n",
      "\u001b[1;31mValueError\u001b[0m: Cannot setitem on a Categorical with a new category, set the categories first"
     ]
    },
    {
     "data": {
      "application/javascript": [
       "\n",
       "            setTimeout(function() {\n",
       "                var nbb_cell_id = 101;\n",
       "                var nbb_unformatted_code = \"train.fillna(0, inplace=True)\\ntest.fillna(0, inplace=True)\";\n",
       "                var nbb_formatted_code = \"train.fillna(0, inplace=True)\\ntest.fillna(0, inplace=True)\";\n",
       "                var nbb_cells = Jupyter.notebook.get_cells();\n",
       "                for (var i = 0; i < nbb_cells.length; ++i) {\n",
       "                    if (nbb_cells[i].input_prompt_number == nbb_cell_id) {\n",
       "                        if (nbb_cells[i].get_text() == nbb_unformatted_code) {\n",
       "                             nbb_cells[i].set_text(nbb_formatted_code);\n",
       "                        }\n",
       "                        break;\n",
       "                    }\n",
       "                }\n",
       "            }, 500);\n",
       "            "
      ],
      "text/plain": [
       "<IPython.core.display.Javascript object>"
      ]
     },
     "metadata": {},
     "output_type": "display_data"
    }
   ],
   "source": [
    "train.fillna(0, inplace=True)\n",
    "test.fillna(0, inplace=True)"
   ]
  },
  {
   "cell_type": "code",
   "execution_count": 106,
   "id": "aa35119e",
   "metadata": {},
   "outputs": [
    {
     "data": {
      "application/javascript": [
       "\n",
       "            setTimeout(function() {\n",
       "                var nbb_cell_id = 106;\n",
       "                var nbb_unformatted_code = \"imp_features = [\\n    \\\"TransactionAmt\\\",\\n    \\\"ProductCD\\\",\\n    \\\"card1\\\",\\n    \\\"card2\\\",\\n    \\\"card3\\\",\\n    \\\"card5\\\",\\n    \\\"card6\\\",\\n    \\\"addr1\\\",\\n    \\\"addr2\\\",\\n    \\\"dist1\\\",\\n    \\\"dist2\\\",\\n    \\\"P_emaildomain\\\",\\n    \\\"R_emaildomain\\\",\\n    \\\"C1\\\",\\n    \\\"C2\\\",\\n    \\\"C4\\\",\\n    \\\"C5\\\",\\n    \\\"C6\\\",\\n    \\\"C7\\\",\\n    \\\"C8\\\",\\n    \\\"C9\\\",\\n    \\\"C10\\\",\\n    \\\"C11\\\",\\n    \\\"C12\\\",\\n    \\\"C13\\\",\\n    \\\"C14\\\",\\n    \\\"D1\\\",\\n    \\\"D2\\\",\\n    \\\"D3\\\",\\n    \\\"D4\\\",\\n    \\\"D5\\\",\\n    \\\"D10\\\",\\n    \\\"D11\\\",\\n    \\\"D15\\\",\\n    \\\"M1\\\",\\n    \\\"M2\\\",\\n    \\\"M3\\\",\\n    \\\"M4\\\",\\n    \\\"M6\\\",\\n    \\\"M7\\\",\\n    \\\"M8\\\",\\n    \\\"M9\\\",\\n    \\\"V1\\\",\\n    \\\"V3\\\",\\n    \\\"V4\\\",\\n    \\\"V6\\\",\\n    \\\"V8\\\",\\n    \\\"V11\\\",\\n    \\\"V13\\\",\\n    \\\"V14\\\",\\n    \\\"V17\\\",\\n    \\\"V20\\\",\\n    \\\"V23\\\",\\n    \\\"V26\\\",\\n    \\\"V27\\\",\\n    \\\"V30\\\",\\n    \\\"V36\\\",\\n    \\\"V37\\\",\\n    \\\"V40\\\",\\n    \\\"V41\\\",\\n    \\\"V44\\\",\\n    \\\"V47\\\",\\n    \\\"V48\\\",\\n    \\\"V54\\\",\\n    \\\"V56\\\",\\n    \\\"V59\\\",\\n    \\\"V62\\\",\\n    \\\"V65\\\",\\n    \\\"V67\\\",\\n    \\\"V68\\\",\\n    \\\"V70\\\",\\n    \\\"V76\\\",\\n    \\\"V78\\\",\\n    \\\"V80\\\",\\n    \\\"V82\\\",\\n    \\\"V86\\\",\\n    \\\"V88\\\",\\n    \\\"V89\\\",\\n    \\\"V91\\\",\\n    \\\"V107\\\",\\n    \\\"V108\\\",\\n    \\\"V111\\\",\\n    \\\"V115\\\",\\n    \\\"V117\\\",\\n    \\\"V120\\\",\\n    \\\"V121\\\",\\n    \\\"V123\\\",\\n    \\\"V124\\\",\\n    \\\"V127\\\",\\n    \\\"V129\\\",\\n    \\\"V130\\\",\\n    \\\"V136\\\",\\n    \\\"V138\\\",\\n    \\\"V139\\\",\\n    \\\"V142\\\",\\n    \\\"V147\\\",\\n    \\\"V156\\\",\\n    \\\"V160\\\",\\n    \\\"V162\\\",\\n    \\\"V165\\\",\\n    \\\"V166\\\",\\n    \\\"V169\\\",\\n    \\\"V171\\\",\\n    \\\"V173\\\",\\n    \\\"V175\\\",\\n    \\\"V176\\\",\\n    \\\"V178\\\",\\n    \\\"V180\\\",\\n    \\\"V182\\\",\\n    \\\"V185\\\",\\n    \\\"V187\\\",\\n    \\\"V188\\\",\\n    \\\"V198\\\",\\n    \\\"V203\\\",\\n    \\\"V205\\\",\\n    \\\"V207\\\",\\n    \\\"V209\\\",\\n    \\\"V210\\\",\\n    \\\"V215\\\",\\n    \\\"V218\\\",\\n    \\\"V220\\\",\\n    \\\"V221\\\",\\n    \\\"V223\\\",\\n    \\\"V224\\\",\\n    \\\"V226\\\",\\n    \\\"V228\\\",\\n    \\\"V229\\\",\\n    \\\"V234\\\",\\n    \\\"V235\\\",\\n    \\\"V238\\\",\\n    \\\"V240\\\",\\n    \\\"V250\\\",\\n    \\\"V252\\\",\\n    \\\"V253\\\",\\n    \\\"V257\\\",\\n    \\\"V258\\\",\\n    \\\"V260\\\",\\n    \\\"V261\\\",\\n    \\\"V264\\\",\\n    \\\"V266\\\",\\n    \\\"V267\\\",\\n    \\\"V271\\\",\\n    \\\"V274\\\",\\n    \\\"V277\\\",\\n    \\\"V281\\\",\\n    \\\"V283\\\",\\n    \\\"V284\\\",\\n    \\\"V285\\\",\\n    \\\"V286\\\",\\n    \\\"V289\\\",\\n    \\\"V291\\\",\\n    \\\"V294\\\",\\n    \\\"V296\\\",\\n    \\\"V297\\\",\\n    \\\"V301\\\",\\n    \\\"V303\\\",\\n    \\\"V305\\\",\\n    \\\"V307\\\",\\n    \\\"V309\\\",\\n    \\\"V310\\\",\\n    \\\"V314\\\",\\n    \\\"V320\\\",\\n    \\\"DeviceType\\\",\\n    \\\"DeviceInfo\\\",\\n    \\\"isFraud\\\",\\n]\";\n",
       "                var nbb_formatted_code = \"imp_features = [\\n    \\\"TransactionAmt\\\",\\n    \\\"ProductCD\\\",\\n    \\\"card1\\\",\\n    \\\"card2\\\",\\n    \\\"card3\\\",\\n    \\\"card5\\\",\\n    \\\"card6\\\",\\n    \\\"addr1\\\",\\n    \\\"addr2\\\",\\n    \\\"dist1\\\",\\n    \\\"dist2\\\",\\n    \\\"P_emaildomain\\\",\\n    \\\"R_emaildomain\\\",\\n    \\\"C1\\\",\\n    \\\"C2\\\",\\n    \\\"C4\\\",\\n    \\\"C5\\\",\\n    \\\"C6\\\",\\n    \\\"C7\\\",\\n    \\\"C8\\\",\\n    \\\"C9\\\",\\n    \\\"C10\\\",\\n    \\\"C11\\\",\\n    \\\"C12\\\",\\n    \\\"C13\\\",\\n    \\\"C14\\\",\\n    \\\"D1\\\",\\n    \\\"D2\\\",\\n    \\\"D3\\\",\\n    \\\"D4\\\",\\n    \\\"D5\\\",\\n    \\\"D10\\\",\\n    \\\"D11\\\",\\n    \\\"D15\\\",\\n    \\\"M1\\\",\\n    \\\"M2\\\",\\n    \\\"M3\\\",\\n    \\\"M4\\\",\\n    \\\"M6\\\",\\n    \\\"M7\\\",\\n    \\\"M8\\\",\\n    \\\"M9\\\",\\n    \\\"V1\\\",\\n    \\\"V3\\\",\\n    \\\"V4\\\",\\n    \\\"V6\\\",\\n    \\\"V8\\\",\\n    \\\"V11\\\",\\n    \\\"V13\\\",\\n    \\\"V14\\\",\\n    \\\"V17\\\",\\n    \\\"V20\\\",\\n    \\\"V23\\\",\\n    \\\"V26\\\",\\n    \\\"V27\\\",\\n    \\\"V30\\\",\\n    \\\"V36\\\",\\n    \\\"V37\\\",\\n    \\\"V40\\\",\\n    \\\"V41\\\",\\n    \\\"V44\\\",\\n    \\\"V47\\\",\\n    \\\"V48\\\",\\n    \\\"V54\\\",\\n    \\\"V56\\\",\\n    \\\"V59\\\",\\n    \\\"V62\\\",\\n    \\\"V65\\\",\\n    \\\"V67\\\",\\n    \\\"V68\\\",\\n    \\\"V70\\\",\\n    \\\"V76\\\",\\n    \\\"V78\\\",\\n    \\\"V80\\\",\\n    \\\"V82\\\",\\n    \\\"V86\\\",\\n    \\\"V88\\\",\\n    \\\"V89\\\",\\n    \\\"V91\\\",\\n    \\\"V107\\\",\\n    \\\"V108\\\",\\n    \\\"V111\\\",\\n    \\\"V115\\\",\\n    \\\"V117\\\",\\n    \\\"V120\\\",\\n    \\\"V121\\\",\\n    \\\"V123\\\",\\n    \\\"V124\\\",\\n    \\\"V127\\\",\\n    \\\"V129\\\",\\n    \\\"V130\\\",\\n    \\\"V136\\\",\\n    \\\"V138\\\",\\n    \\\"V139\\\",\\n    \\\"V142\\\",\\n    \\\"V147\\\",\\n    \\\"V156\\\",\\n    \\\"V160\\\",\\n    \\\"V162\\\",\\n    \\\"V165\\\",\\n    \\\"V166\\\",\\n    \\\"V169\\\",\\n    \\\"V171\\\",\\n    \\\"V173\\\",\\n    \\\"V175\\\",\\n    \\\"V176\\\",\\n    \\\"V178\\\",\\n    \\\"V180\\\",\\n    \\\"V182\\\",\\n    \\\"V185\\\",\\n    \\\"V187\\\",\\n    \\\"V188\\\",\\n    \\\"V198\\\",\\n    \\\"V203\\\",\\n    \\\"V205\\\",\\n    \\\"V207\\\",\\n    \\\"V209\\\",\\n    \\\"V210\\\",\\n    \\\"V215\\\",\\n    \\\"V218\\\",\\n    \\\"V220\\\",\\n    \\\"V221\\\",\\n    \\\"V223\\\",\\n    \\\"V224\\\",\\n    \\\"V226\\\",\\n    \\\"V228\\\",\\n    \\\"V229\\\",\\n    \\\"V234\\\",\\n    \\\"V235\\\",\\n    \\\"V238\\\",\\n    \\\"V240\\\",\\n    \\\"V250\\\",\\n    \\\"V252\\\",\\n    \\\"V253\\\",\\n    \\\"V257\\\",\\n    \\\"V258\\\",\\n    \\\"V260\\\",\\n    \\\"V261\\\",\\n    \\\"V264\\\",\\n    \\\"V266\\\",\\n    \\\"V267\\\",\\n    \\\"V271\\\",\\n    \\\"V274\\\",\\n    \\\"V277\\\",\\n    \\\"V281\\\",\\n    \\\"V283\\\",\\n    \\\"V284\\\",\\n    \\\"V285\\\",\\n    \\\"V286\\\",\\n    \\\"V289\\\",\\n    \\\"V291\\\",\\n    \\\"V294\\\",\\n    \\\"V296\\\",\\n    \\\"V297\\\",\\n    \\\"V301\\\",\\n    \\\"V303\\\",\\n    \\\"V305\\\",\\n    \\\"V307\\\",\\n    \\\"V309\\\",\\n    \\\"V310\\\",\\n    \\\"V314\\\",\\n    \\\"V320\\\",\\n    \\\"DeviceType\\\",\\n    \\\"DeviceInfo\\\",\\n    \\\"isFraud\\\",\\n]\";\n",
       "                var nbb_cells = Jupyter.notebook.get_cells();\n",
       "                for (var i = 0; i < nbb_cells.length; ++i) {\n",
       "                    if (nbb_cells[i].input_prompt_number == nbb_cell_id) {\n",
       "                        if (nbb_cells[i].get_text() == nbb_unformatted_code) {\n",
       "                             nbb_cells[i].set_text(nbb_formatted_code);\n",
       "                        }\n",
       "                        break;\n",
       "                    }\n",
       "                }\n",
       "            }, 500);\n",
       "            "
      ],
      "text/plain": [
       "<IPython.core.display.Javascript object>"
      ]
     },
     "metadata": {},
     "output_type": "display_data"
    }
   ],
   "source": [
    "imp_features = [\n",
    "    \"TransactionAmt\",\n",
    "    \"ProductCD\",\n",
    "    \"card1\",\n",
    "    \"card2\",\n",
    "    \"card3\",\n",
    "    \"card5\",\n",
    "    \"card6\",\n",
    "    \"addr1\",\n",
    "    \"addr2\",\n",
    "    \"dist1\",\n",
    "    \"dist2\",\n",
    "    \"P_emaildomain\",\n",
    "    \"R_emaildomain\",\n",
    "    \"C1\",\n",
    "    \"C2\",\n",
    "    \"C4\",\n",
    "    \"C5\",\n",
    "    \"C6\",\n",
    "    \"C7\",\n",
    "    \"C8\",\n",
    "    \"C9\",\n",
    "    \"C10\",\n",
    "    \"C11\",\n",
    "    \"C12\",\n",
    "    \"C13\",\n",
    "    \"C14\",\n",
    "    \"D1\",\n",
    "    \"D2\",\n",
    "    \"D3\",\n",
    "    \"D4\",\n",
    "    \"D5\",\n",
    "    \"D10\",\n",
    "    \"D11\",\n",
    "    \"D15\",\n",
    "    \"M1\",\n",
    "    \"M2\",\n",
    "    \"M3\",\n",
    "    \"M4\",\n",
    "    \"M6\",\n",
    "    \"M7\",\n",
    "    \"M8\",\n",
    "    \"M9\",\n",
    "    \"V1\",\n",
    "    \"V3\",\n",
    "    \"V4\",\n",
    "    \"V6\",\n",
    "    \"V8\",\n",
    "    \"V11\",\n",
    "    \"V13\",\n",
    "    \"V14\",\n",
    "    \"V17\",\n",
    "    \"V20\",\n",
    "    \"V23\",\n",
    "    \"V26\",\n",
    "    \"V27\",\n",
    "    \"V30\",\n",
    "    \"V36\",\n",
    "    \"V37\",\n",
    "    \"V40\",\n",
    "    \"V41\",\n",
    "    \"V44\",\n",
    "    \"V47\",\n",
    "    \"V48\",\n",
    "    \"V54\",\n",
    "    \"V56\",\n",
    "    \"V59\",\n",
    "    \"V62\",\n",
    "    \"V65\",\n",
    "    \"V67\",\n",
    "    \"V68\",\n",
    "    \"V70\",\n",
    "    \"V76\",\n",
    "    \"V78\",\n",
    "    \"V80\",\n",
    "    \"V82\",\n",
    "    \"V86\",\n",
    "    \"V88\",\n",
    "    \"V89\",\n",
    "    \"V91\",\n",
    "    \"V107\",\n",
    "    \"V108\",\n",
    "    \"V111\",\n",
    "    \"V115\",\n",
    "    \"V117\",\n",
    "    \"V120\",\n",
    "    \"V121\",\n",
    "    \"V123\",\n",
    "    \"V124\",\n",
    "    \"V127\",\n",
    "    \"V129\",\n",
    "    \"V130\",\n",
    "    \"V136\",\n",
    "    \"V138\",\n",
    "    \"V139\",\n",
    "    \"V142\",\n",
    "    \"V147\",\n",
    "    \"V156\",\n",
    "    \"V160\",\n",
    "    \"V162\",\n",
    "    \"V165\",\n",
    "    \"V166\",\n",
    "    \"V169\",\n",
    "    \"V171\",\n",
    "    \"V173\",\n",
    "    \"V175\",\n",
    "    \"V176\",\n",
    "    \"V178\",\n",
    "    \"V180\",\n",
    "    \"V182\",\n",
    "    \"V185\",\n",
    "    \"V187\",\n",
    "    \"V188\",\n",
    "    \"V198\",\n",
    "    \"V203\",\n",
    "    \"V205\",\n",
    "    \"V207\",\n",
    "    \"V209\",\n",
    "    \"V210\",\n",
    "    \"V215\",\n",
    "    \"V218\",\n",
    "    \"V220\",\n",
    "    \"V221\",\n",
    "    \"V223\",\n",
    "    \"V224\",\n",
    "    \"V226\",\n",
    "    \"V228\",\n",
    "    \"V229\",\n",
    "    \"V234\",\n",
    "    \"V235\",\n",
    "    \"V238\",\n",
    "    \"V240\",\n",
    "    \"V250\",\n",
    "    \"V252\",\n",
    "    \"V253\",\n",
    "    \"V257\",\n",
    "    \"V258\",\n",
    "    \"V260\",\n",
    "    \"V261\",\n",
    "    \"V264\",\n",
    "    \"V266\",\n",
    "    \"V267\",\n",
    "    \"V271\",\n",
    "    \"V274\",\n",
    "    \"V277\",\n",
    "    \"V281\",\n",
    "    \"V283\",\n",
    "    \"V284\",\n",
    "    \"V285\",\n",
    "    \"V286\",\n",
    "    \"V289\",\n",
    "    \"V291\",\n",
    "    \"V294\",\n",
    "    \"V296\",\n",
    "    \"V297\",\n",
    "    \"V301\",\n",
    "    \"V303\",\n",
    "    \"V305\",\n",
    "    \"V307\",\n",
    "    \"V309\",\n",
    "    \"V310\",\n",
    "    \"V314\",\n",
    "    \"V320\",\n",
    "    \"DeviceType\",\n",
    "    \"DeviceInfo\",\n",
    "    \"isFraud\",\n",
    "]"
   ]
  },
  {
   "cell_type": "code",
   "execution_count": 107,
   "id": "4c37dc7d",
   "metadata": {},
   "outputs": [
    {
     "data": {
      "text/plain": [
       "165"
      ]
     },
     "execution_count": 107,
     "metadata": {},
     "output_type": "execute_result"
    },
    {
     "data": {
      "application/javascript": [
       "\n",
       "            setTimeout(function() {\n",
       "                var nbb_cell_id = 107;\n",
       "                var nbb_unformatted_code = \"len(imp_features)\";\n",
       "                var nbb_formatted_code = \"len(imp_features)\";\n",
       "                var nbb_cells = Jupyter.notebook.get_cells();\n",
       "                for (var i = 0; i < nbb_cells.length; ++i) {\n",
       "                    if (nbb_cells[i].input_prompt_number == nbb_cell_id) {\n",
       "                        if (nbb_cells[i].get_text() == nbb_unformatted_code) {\n",
       "                             nbb_cells[i].set_text(nbb_formatted_code);\n",
       "                        }\n",
       "                        break;\n",
       "                    }\n",
       "                }\n",
       "            }, 500);\n",
       "            "
      ],
      "text/plain": [
       "<IPython.core.display.Javascript object>"
      ]
     },
     "metadata": {},
     "output_type": "display_data"
    }
   ],
   "source": [
    "len(imp_features)"
   ]
  },
  {
   "cell_type": "code",
   "execution_count": 108,
   "id": "92fe399f",
   "metadata": {},
   "outputs": [
    {
     "name": "stdout",
     "output_type": "stream",
     "text": [
      "322 features from train are going to be dropped.\n",
      "323 features from test are going to be dropped.\n"
     ]
    },
    {
     "data": {
      "application/javascript": [
       "\n",
       "            setTimeout(function() {\n",
       "                var nbb_cell_id = 108;\n",
       "                var nbb_unformatted_code = \"cols_to_drop_train = [col for col in train.columns if col not in imp_features]\\ncols_to_drop_test = [col for col in test.columns if col not in imp_features]\\n\\nprint(f\\\"{len(cols_to_drop_train)} features from train are going to be dropped.\\\")\\nprint(f\\\"{len(cols_to_drop_test)} features from test are going to be dropped.\\\")\";\n",
       "                var nbb_formatted_code = \"cols_to_drop_train = [col for col in train.columns if col not in imp_features]\\ncols_to_drop_test = [col for col in test.columns if col not in imp_features]\\n\\nprint(f\\\"{len(cols_to_drop_train)} features from train are going to be dropped.\\\")\\nprint(f\\\"{len(cols_to_drop_test)} features from test are going to be dropped.\\\")\";\n",
       "                var nbb_cells = Jupyter.notebook.get_cells();\n",
       "                for (var i = 0; i < nbb_cells.length; ++i) {\n",
       "                    if (nbb_cells[i].input_prompt_number == nbb_cell_id) {\n",
       "                        if (nbb_cells[i].get_text() == nbb_unformatted_code) {\n",
       "                             nbb_cells[i].set_text(nbb_formatted_code);\n",
       "                        }\n",
       "                        break;\n",
       "                    }\n",
       "                }\n",
       "            }, 500);\n",
       "            "
      ],
      "text/plain": [
       "<IPython.core.display.Javascript object>"
      ]
     },
     "metadata": {},
     "output_type": "display_data"
    }
   ],
   "source": [
    "cols_to_drop_train = [col for col in train.columns if col not in imp_features]\n",
    "cols_to_drop_test = [col for col in test.columns if col not in imp_features]\n",
    "\n",
    "print(f\"{len(cols_to_drop_train)} features from train are going to be dropped.\")\n",
    "print(f\"{len(cols_to_drop_test)} features from test are going to be dropped.\")"
   ]
  },
  {
   "cell_type": "code",
   "execution_count": 109,
   "id": "6400a1ea",
   "metadata": {},
   "outputs": [
    {
     "data": {
      "application/javascript": [
       "\n",
       "            setTimeout(function() {\n",
       "                var nbb_cell_id = 109;\n",
       "                var nbb_unformatted_code = \"trainnew = train.drop(cols_to_drop_train, axis=1)\\ntestnew = test.drop(cols_to_drop_test, axis=1)\";\n",
       "                var nbb_formatted_code = \"trainnew = train.drop(cols_to_drop_train, axis=1)\\ntestnew = test.drop(cols_to_drop_test, axis=1)\";\n",
       "                var nbb_cells = Jupyter.notebook.get_cells();\n",
       "                for (var i = 0; i < nbb_cells.length; ++i) {\n",
       "                    if (nbb_cells[i].input_prompt_number == nbb_cell_id) {\n",
       "                        if (nbb_cells[i].get_text() == nbb_unformatted_code) {\n",
       "                             nbb_cells[i].set_text(nbb_formatted_code);\n",
       "                        }\n",
       "                        break;\n",
       "                    }\n",
       "                }\n",
       "            }, 500);\n",
       "            "
      ],
      "text/plain": [
       "<IPython.core.display.Javascript object>"
      ]
     },
     "metadata": {},
     "output_type": "display_data"
    }
   ],
   "source": [
    "trainnew = train.drop(cols_to_drop_train, axis=1)\n",
    "testnew = test.drop(cols_to_drop_test, axis=1)"
   ]
  },
  {
   "cell_type": "code",
   "execution_count": 110,
   "id": "be9d6fce",
   "metadata": {},
   "outputs": [
    {
     "data": {
      "application/javascript": [
       "\n",
       "            setTimeout(function() {\n",
       "                var nbb_cell_id = 110;\n",
       "                var nbb_unformatted_code = \"def clean_inf_nan(df):\\n    return df.replace([np.inf, -np.inf], np.nan)\";\n",
       "                var nbb_formatted_code = \"def clean_inf_nan(df):\\n    return df.replace([np.inf, -np.inf], np.nan)\";\n",
       "                var nbb_cells = Jupyter.notebook.get_cells();\n",
       "                for (var i = 0; i < nbb_cells.length; ++i) {\n",
       "                    if (nbb_cells[i].input_prompt_number == nbb_cell_id) {\n",
       "                        if (nbb_cells[i].get_text() == nbb_unformatted_code) {\n",
       "                             nbb_cells[i].set_text(nbb_formatted_code);\n",
       "                        }\n",
       "                        break;\n",
       "                    }\n",
       "                }\n",
       "            }, 500);\n",
       "            "
      ],
      "text/plain": [
       "<IPython.core.display.Javascript object>"
      ]
     },
     "metadata": {},
     "output_type": "display_data"
    }
   ],
   "source": [
    "def clean_inf_nan(df):\n",
    "    return df.replace([np.inf, -np.inf], np.nan)"
   ]
  },
  {
   "cell_type": "code",
   "execution_count": 111,
   "id": "578ab3f5",
   "metadata": {},
   "outputs": [
    {
     "data": {
      "application/javascript": [
       "\n",
       "            setTimeout(function() {\n",
       "                var nbb_cell_id = 111;\n",
       "                var nbb_unformatted_code = \"trainnew = clean_inf_nan(trainnew)\\ntestnew = clean_inf_nan(testnew)\";\n",
       "                var nbb_formatted_code = \"trainnew = clean_inf_nan(trainnew)\\ntestnew = clean_inf_nan(testnew)\";\n",
       "                var nbb_cells = Jupyter.notebook.get_cells();\n",
       "                for (var i = 0; i < nbb_cells.length; ++i) {\n",
       "                    if (nbb_cells[i].input_prompt_number == nbb_cell_id) {\n",
       "                        if (nbb_cells[i].get_text() == nbb_unformatted_code) {\n",
       "                             nbb_cells[i].set_text(nbb_formatted_code);\n",
       "                        }\n",
       "                        break;\n",
       "                    }\n",
       "                }\n",
       "            }, 500);\n",
       "            "
      ],
      "text/plain": [
       "<IPython.core.display.Javascript object>"
      ]
     },
     "metadata": {},
     "output_type": "display_data"
    }
   ],
   "source": [
    "trainnew = clean_inf_nan(trainnew)\n",
    "testnew = clean_inf_nan(testnew)"
   ]
  },
  {
   "cell_type": "code",
   "execution_count": 112,
   "id": "ae97e492",
   "metadata": {},
   "outputs": [
    {
     "data": {
      "text/html": [
       "<div>\n",
       "<style scoped>\n",
       "    .dataframe tbody tr th:only-of-type {\n",
       "        vertical-align: middle;\n",
       "    }\n",
       "\n",
       "    .dataframe tbody tr th {\n",
       "        vertical-align: top;\n",
       "    }\n",
       "\n",
       "    .dataframe thead th {\n",
       "        text-align: right;\n",
       "    }\n",
       "</style>\n",
       "<table border=\"1\" class=\"dataframe\">\n",
       "  <thead>\n",
       "    <tr style=\"text-align: right;\">\n",
       "      <th></th>\n",
       "      <th>isFraud</th>\n",
       "      <th>TransactionAmt</th>\n",
       "      <th>ProductCD</th>\n",
       "      <th>card1</th>\n",
       "      <th>card2</th>\n",
       "      <th>card3</th>\n",
       "      <th>card5</th>\n",
       "      <th>card6</th>\n",
       "      <th>addr1</th>\n",
       "      <th>addr2</th>\n",
       "      <th>...</th>\n",
       "      <th>V297</th>\n",
       "      <th>V301</th>\n",
       "      <th>V303</th>\n",
       "      <th>V307</th>\n",
       "      <th>V309</th>\n",
       "      <th>V310</th>\n",
       "      <th>V314</th>\n",
       "      <th>V320</th>\n",
       "      <th>DeviceType</th>\n",
       "      <th>DeviceInfo</th>\n",
       "    </tr>\n",
       "  </thead>\n",
       "  <tbody>\n",
       "    <tr>\n",
       "      <th>0</th>\n",
       "      <td>0</td>\n",
       "      <td>68.5</td>\n",
       "      <td>W</td>\n",
       "      <td>13926</td>\n",
       "      <td>NaN</td>\n",
       "      <td>150.0</td>\n",
       "      <td>142.0</td>\n",
       "      <td>credit</td>\n",
       "      <td>315.0</td>\n",
       "      <td>87.0</td>\n",
       "      <td>...</td>\n",
       "      <td>0.0</td>\n",
       "      <td>0.0</td>\n",
       "      <td>0.0</td>\n",
       "      <td>117.0</td>\n",
       "      <td>0.0</td>\n",
       "      <td>0.0</td>\n",
       "      <td>0.0</td>\n",
       "      <td>0.0</td>\n",
       "      <td>NaN</td>\n",
       "      <td>NaN</td>\n",
       "    </tr>\n",
       "    <tr>\n",
       "      <th>1</th>\n",
       "      <td>0</td>\n",
       "      <td>29.0</td>\n",
       "      <td>W</td>\n",
       "      <td>2755</td>\n",
       "      <td>404.0</td>\n",
       "      <td>150.0</td>\n",
       "      <td>102.0</td>\n",
       "      <td>credit</td>\n",
       "      <td>325.0</td>\n",
       "      <td>87.0</td>\n",
       "      <td>...</td>\n",
       "      <td>0.0</td>\n",
       "      <td>0.0</td>\n",
       "      <td>0.0</td>\n",
       "      <td>0.0</td>\n",
       "      <td>0.0</td>\n",
       "      <td>0.0</td>\n",
       "      <td>0.0</td>\n",
       "      <td>0.0</td>\n",
       "      <td>NaN</td>\n",
       "      <td>NaN</td>\n",
       "    </tr>\n",
       "  </tbody>\n",
       "</table>\n",
       "<p>2 rows × 159 columns</p>\n",
       "</div>"
      ],
      "text/plain": [
       "   isFraud  TransactionAmt ProductCD  card1  card2  card3  card5   card6  \\\n",
       "0        0            68.5         W  13926    NaN  150.0  142.0  credit   \n",
       "1        0            29.0         W   2755  404.0  150.0  102.0  credit   \n",
       "\n",
       "   addr1  addr2  ...  V297  V301 V303   V307  V309  V310  V314  V320  \\\n",
       "0  315.0   87.0  ...   0.0   0.0  0.0  117.0   0.0   0.0   0.0   0.0   \n",
       "1  325.0   87.0  ...   0.0   0.0  0.0    0.0   0.0   0.0   0.0   0.0   \n",
       "\n",
       "   DeviceType  DeviceInfo  \n",
       "0         NaN         NaN  \n",
       "1         NaN         NaN  \n",
       "\n",
       "[2 rows x 159 columns]"
      ]
     },
     "execution_count": 112,
     "metadata": {},
     "output_type": "execute_result"
    },
    {
     "data": {
      "application/javascript": [
       "\n",
       "            setTimeout(function() {\n",
       "                var nbb_cell_id = 112;\n",
       "                var nbb_unformatted_code = \"trainnew.head(2)\";\n",
       "                var nbb_formatted_code = \"trainnew.head(2)\";\n",
       "                var nbb_cells = Jupyter.notebook.get_cells();\n",
       "                for (var i = 0; i < nbb_cells.length; ++i) {\n",
       "                    if (nbb_cells[i].input_prompt_number == nbb_cell_id) {\n",
       "                        if (nbb_cells[i].get_text() == nbb_unformatted_code) {\n",
       "                             nbb_cells[i].set_text(nbb_formatted_code);\n",
       "                        }\n",
       "                        break;\n",
       "                    }\n",
       "                }\n",
       "            }, 500);\n",
       "            "
      ],
      "text/plain": [
       "<IPython.core.display.Javascript object>"
      ]
     },
     "metadata": {},
     "output_type": "display_data"
    }
   ],
   "source": [
    "trainnew.head(2)"
   ]
  },
  {
   "cell_type": "code",
   "execution_count": 116,
   "id": "1a388289",
   "metadata": {},
   "outputs": [
    {
     "data": {
      "text/html": [
       "<div>\n",
       "<style scoped>\n",
       "    .dataframe tbody tr th:only-of-type {\n",
       "        vertical-align: middle;\n",
       "    }\n",
       "\n",
       "    .dataframe tbody tr th {\n",
       "        vertical-align: top;\n",
       "    }\n",
       "\n",
       "    .dataframe thead th {\n",
       "        text-align: right;\n",
       "    }\n",
       "</style>\n",
       "<table border=\"1\" class=\"dataframe\">\n",
       "  <thead>\n",
       "    <tr style=\"text-align: right;\">\n",
       "      <th></th>\n",
       "      <th>ProductCD</th>\n",
       "      <th>card6</th>\n",
       "      <th>P_emaildomain</th>\n",
       "      <th>R_emaildomain</th>\n",
       "      <th>M2</th>\n",
       "      <th>M3</th>\n",
       "      <th>M4</th>\n",
       "      <th>M6</th>\n",
       "      <th>M7</th>\n",
       "      <th>M8</th>\n",
       "      <th>M9</th>\n",
       "      <th>DeviceType</th>\n",
       "      <th>DeviceInfo</th>\n",
       "    </tr>\n",
       "  </thead>\n",
       "  <tbody>\n",
       "    <tr>\n",
       "      <th>0</th>\n",
       "      <td>W</td>\n",
       "      <td>credit</td>\n",
       "      <td>NaN</td>\n",
       "      <td>NaN</td>\n",
       "      <td>T</td>\n",
       "      <td>T</td>\n",
       "      <td>M2</td>\n",
       "      <td>T</td>\n",
       "      <td>NaN</td>\n",
       "      <td>NaN</td>\n",
       "      <td>NaN</td>\n",
       "      <td>NaN</td>\n",
       "      <td>NaN</td>\n",
       "    </tr>\n",
       "    <tr>\n",
       "      <th>1</th>\n",
       "      <td>W</td>\n",
       "      <td>credit</td>\n",
       "      <td>gmail.com</td>\n",
       "      <td>NaN</td>\n",
       "      <td>NaN</td>\n",
       "      <td>NaN</td>\n",
       "      <td>M0</td>\n",
       "      <td>T</td>\n",
       "      <td>NaN</td>\n",
       "      <td>NaN</td>\n",
       "      <td>NaN</td>\n",
       "      <td>NaN</td>\n",
       "      <td>NaN</td>\n",
       "    </tr>\n",
       "    <tr>\n",
       "      <th>2</th>\n",
       "      <td>W</td>\n",
       "      <td>debit</td>\n",
       "      <td>outlook.com</td>\n",
       "      <td>NaN</td>\n",
       "      <td>T</td>\n",
       "      <td>T</td>\n",
       "      <td>M0</td>\n",
       "      <td>F</td>\n",
       "      <td>F</td>\n",
       "      <td>F</td>\n",
       "      <td>F</td>\n",
       "      <td>NaN</td>\n",
       "      <td>NaN</td>\n",
       "    </tr>\n",
       "    <tr>\n",
       "      <th>3</th>\n",
       "      <td>W</td>\n",
       "      <td>debit</td>\n",
       "      <td>yahoo.com</td>\n",
       "      <td>NaN</td>\n",
       "      <td>NaN</td>\n",
       "      <td>NaN</td>\n",
       "      <td>M0</td>\n",
       "      <td>F</td>\n",
       "      <td>NaN</td>\n",
       "      <td>NaN</td>\n",
       "      <td>NaN</td>\n",
       "      <td>NaN</td>\n",
       "      <td>NaN</td>\n",
       "    </tr>\n",
       "    <tr>\n",
       "      <th>4</th>\n",
       "      <td>H</td>\n",
       "      <td>credit</td>\n",
       "      <td>gmail.com</td>\n",
       "      <td>NaN</td>\n",
       "      <td>NaN</td>\n",
       "      <td>NaN</td>\n",
       "      <td>NaN</td>\n",
       "      <td>NaN</td>\n",
       "      <td>NaN</td>\n",
       "      <td>NaN</td>\n",
       "      <td>NaN</td>\n",
       "      <td>mobile</td>\n",
       "      <td>SAMSUNG SM-G892A Build/NRD90M</td>\n",
       "    </tr>\n",
       "    <tr>\n",
       "      <th>...</th>\n",
       "      <td>...</td>\n",
       "      <td>...</td>\n",
       "      <td>...</td>\n",
       "      <td>...</td>\n",
       "      <td>...</td>\n",
       "      <td>...</td>\n",
       "      <td>...</td>\n",
       "      <td>...</td>\n",
       "      <td>...</td>\n",
       "      <td>...</td>\n",
       "      <td>...</td>\n",
       "      <td>...</td>\n",
       "      <td>...</td>\n",
       "    </tr>\n",
       "    <tr>\n",
       "      <th>590535</th>\n",
       "      <td>W</td>\n",
       "      <td>debit</td>\n",
       "      <td>NaN</td>\n",
       "      <td>NaN</td>\n",
       "      <td>T</td>\n",
       "      <td>T</td>\n",
       "      <td>M0</td>\n",
       "      <td>F</td>\n",
       "      <td>F</td>\n",
       "      <td>F</td>\n",
       "      <td>T</td>\n",
       "      <td>NaN</td>\n",
       "      <td>NaN</td>\n",
       "    </tr>\n",
       "    <tr>\n",
       "      <th>590536</th>\n",
       "      <td>W</td>\n",
       "      <td>debit</td>\n",
       "      <td>gmail.com</td>\n",
       "      <td>NaN</td>\n",
       "      <td>F</td>\n",
       "      <td>F</td>\n",
       "      <td>M0</td>\n",
       "      <td>T</td>\n",
       "      <td>F</td>\n",
       "      <td>F</td>\n",
       "      <td>F</td>\n",
       "      <td>NaN</td>\n",
       "      <td>NaN</td>\n",
       "    </tr>\n",
       "    <tr>\n",
       "      <th>590537</th>\n",
       "      <td>W</td>\n",
       "      <td>debit</td>\n",
       "      <td>gmail.com</td>\n",
       "      <td>NaN</td>\n",
       "      <td>F</td>\n",
       "      <td>F</td>\n",
       "      <td>NaN</td>\n",
       "      <td>T</td>\n",
       "      <td>NaN</td>\n",
       "      <td>NaN</td>\n",
       "      <td>NaN</td>\n",
       "      <td>NaN</td>\n",
       "      <td>NaN</td>\n",
       "    </tr>\n",
       "    <tr>\n",
       "      <th>590538</th>\n",
       "      <td>W</td>\n",
       "      <td>debit</td>\n",
       "      <td>aol.com</td>\n",
       "      <td>NaN</td>\n",
       "      <td>T</td>\n",
       "      <td>T</td>\n",
       "      <td>M0</td>\n",
       "      <td>T</td>\n",
       "      <td>NaN</td>\n",
       "      <td>NaN</td>\n",
       "      <td>NaN</td>\n",
       "      <td>NaN</td>\n",
       "      <td>NaN</td>\n",
       "    </tr>\n",
       "    <tr>\n",
       "      <th>590539</th>\n",
       "      <td>W</td>\n",
       "      <td>credit</td>\n",
       "      <td>gmail.com</td>\n",
       "      <td>NaN</td>\n",
       "      <td>F</td>\n",
       "      <td>F</td>\n",
       "      <td>NaN</td>\n",
       "      <td>T</td>\n",
       "      <td>F</td>\n",
       "      <td>F</td>\n",
       "      <td>F</td>\n",
       "      <td>NaN</td>\n",
       "      <td>NaN</td>\n",
       "    </tr>\n",
       "  </tbody>\n",
       "</table>\n",
       "<p>590540 rows × 13 columns</p>\n",
       "</div>"
      ],
      "text/plain": [
       "       ProductCD   card6 P_emaildomain R_emaildomain   M2   M3   M4   M6   M7  \\\n",
       "0              W  credit           NaN           NaN    T    T   M2    T  NaN   \n",
       "1              W  credit     gmail.com           NaN  NaN  NaN   M0    T  NaN   \n",
       "2              W   debit   outlook.com           NaN    T    T   M0    F    F   \n",
       "3              W   debit     yahoo.com           NaN  NaN  NaN   M0    F  NaN   \n",
       "4              H  credit     gmail.com           NaN  NaN  NaN  NaN  NaN  NaN   \n",
       "...          ...     ...           ...           ...  ...  ...  ...  ...  ...   \n",
       "590535         W   debit           NaN           NaN    T    T   M0    F    F   \n",
       "590536         W   debit     gmail.com           NaN    F    F   M0    T    F   \n",
       "590537         W   debit     gmail.com           NaN    F    F  NaN    T  NaN   \n",
       "590538         W   debit       aol.com           NaN    T    T   M0    T  NaN   \n",
       "590539         W  credit     gmail.com           NaN    F    F  NaN    T    F   \n",
       "\n",
       "         M8   M9 DeviceType                     DeviceInfo  \n",
       "0       NaN  NaN        NaN                            NaN  \n",
       "1       NaN  NaN        NaN                            NaN  \n",
       "2         F    F        NaN                            NaN  \n",
       "3       NaN  NaN        NaN                            NaN  \n",
       "4       NaN  NaN     mobile  SAMSUNG SM-G892A Build/NRD90M  \n",
       "...     ...  ...        ...                            ...  \n",
       "590535    F    T        NaN                            NaN  \n",
       "590536    F    F        NaN                            NaN  \n",
       "590537  NaN  NaN        NaN                            NaN  \n",
       "590538  NaN  NaN        NaN                            NaN  \n",
       "590539    F    F        NaN                            NaN  \n",
       "\n",
       "[590540 rows x 13 columns]"
      ]
     },
     "execution_count": 116,
     "metadata": {},
     "output_type": "execute_result"
    },
    {
     "data": {
      "application/javascript": [
       "\n",
       "            setTimeout(function() {\n",
       "                var nbb_cell_id = 116;\n",
       "                var nbb_unformatted_code = \"trainnew.select_dtypes(exclude=[\\\"number\\\",\\\"bool_\\\",\\\"object_\\\"])\";\n",
       "                var nbb_formatted_code = \"trainnew.select_dtypes(exclude=[\\\"number\\\", \\\"bool_\\\", \\\"object_\\\"])\";\n",
       "                var nbb_cells = Jupyter.notebook.get_cells();\n",
       "                for (var i = 0; i < nbb_cells.length; ++i) {\n",
       "                    if (nbb_cells[i].input_prompt_number == nbb_cell_id) {\n",
       "                        if (nbb_cells[i].get_text() == nbb_unformatted_code) {\n",
       "                             nbb_cells[i].set_text(nbb_formatted_code);\n",
       "                        }\n",
       "                        break;\n",
       "                    }\n",
       "                }\n",
       "            }, 500);\n",
       "            "
      ],
      "text/plain": [
       "<IPython.core.display.Javascript object>"
      ]
     },
     "metadata": {},
     "output_type": "display_data"
    }
   ],
   "source": [
    "trainnew.select_dtypes(exclude=[\"number\",\"bool_\",\"object_\"])\n"
   ]
  },
  {
   "cell_type": "code",
   "execution_count": 115,
   "id": "f5442e16",
   "metadata": {},
   "outputs": [
    {
     "name": "stdout",
     "output_type": "stream",
     "text": [
      "Train shape: (590540, 159), Test shape: (506691, 159)\n"
     ]
    },
    {
     "data": {
      "application/javascript": [
       "\n",
       "            setTimeout(function() {\n",
       "                var nbb_cell_id = 115;\n",
       "                var nbb_unformatted_code = \"print(f\\\"Train shape: {trainnew.shape}, Test shape: {testnew.shape}\\\")\";\n",
       "                var nbb_formatted_code = \"print(f\\\"Train shape: {trainnew.shape}, Test shape: {testnew.shape}\\\")\";\n",
       "                var nbb_cells = Jupyter.notebook.get_cells();\n",
       "                for (var i = 0; i < nbb_cells.length; ++i) {\n",
       "                    if (nbb_cells[i].input_prompt_number == nbb_cell_id) {\n",
       "                        if (nbb_cells[i].get_text() == nbb_unformatted_code) {\n",
       "                             nbb_cells[i].set_text(nbb_formatted_code);\n",
       "                        }\n",
       "                        break;\n",
       "                    }\n",
       "                }\n",
       "            }, 500);\n",
       "            "
      ],
      "text/plain": [
       "<IPython.core.display.Javascript object>"
      ]
     },
     "metadata": {},
     "output_type": "display_data"
    }
   ],
   "source": [
    "print(f\"Train shape: {trainnew.shape}, Test shape: {testnew.shape}\")"
   ]
  },
  {
   "cell_type": "code",
   "execution_count": 123,
   "id": "a334be43",
   "metadata": {},
   "outputs": [
    {
     "data": {
      "application/javascript": [
       "\n",
       "            setTimeout(function() {\n",
       "                var nbb_cell_id = 123;\n",
       "                var nbb_unformatted_code = \"traindf = trainnew.select_dtypes(include=[\\\"number\\\", \\\"bool_\\\", \\\"object_\\\"])\";\n",
       "                var nbb_formatted_code = \"traindf = trainnew.select_dtypes(include=[\\\"number\\\", \\\"bool_\\\", \\\"object_\\\"])\";\n",
       "                var nbb_cells = Jupyter.notebook.get_cells();\n",
       "                for (var i = 0; i < nbb_cells.length; ++i) {\n",
       "                    if (nbb_cells[i].input_prompt_number == nbb_cell_id) {\n",
       "                        if (nbb_cells[i].get_text() == nbb_unformatted_code) {\n",
       "                             nbb_cells[i].set_text(nbb_formatted_code);\n",
       "                        }\n",
       "                        break;\n",
       "                    }\n",
       "                }\n",
       "            }, 500);\n",
       "            "
      ],
      "text/plain": [
       "<IPython.core.display.Javascript object>"
      ]
     },
     "metadata": {},
     "output_type": "display_data"
    }
   ],
   "source": [
    "traindf = trainnew.select_dtypes(include=[\"number\", \"bool_\", \"object_\"])"
   ]
  },
  {
   "cell_type": "code",
   "execution_count": 124,
   "id": "b4155949",
   "metadata": {},
   "outputs": [
    {
     "data": {
      "text/html": [
       "<div>\n",
       "<style scoped>\n",
       "    .dataframe tbody tr th:only-of-type {\n",
       "        vertical-align: middle;\n",
       "    }\n",
       "\n",
       "    .dataframe tbody tr th {\n",
       "        vertical-align: top;\n",
       "    }\n",
       "\n",
       "    .dataframe thead th {\n",
       "        text-align: right;\n",
       "    }\n",
       "</style>\n",
       "<table border=\"1\" class=\"dataframe\">\n",
       "  <thead>\n",
       "    <tr style=\"text-align: right;\">\n",
       "      <th></th>\n",
       "      <th>isFraud</th>\n",
       "      <th>TransactionAmt</th>\n",
       "      <th>card1</th>\n",
       "      <th>card2</th>\n",
       "      <th>card3</th>\n",
       "      <th>card5</th>\n",
       "      <th>addr1</th>\n",
       "      <th>addr2</th>\n",
       "      <th>dist1</th>\n",
       "      <th>dist2</th>\n",
       "      <th>...</th>\n",
       "      <th>V294</th>\n",
       "      <th>V296</th>\n",
       "      <th>V297</th>\n",
       "      <th>V301</th>\n",
       "      <th>V303</th>\n",
       "      <th>V307</th>\n",
       "      <th>V309</th>\n",
       "      <th>V310</th>\n",
       "      <th>V314</th>\n",
       "      <th>V320</th>\n",
       "    </tr>\n",
       "  </thead>\n",
       "  <tbody>\n",
       "    <tr>\n",
       "      <th>0</th>\n",
       "      <td>0</td>\n",
       "      <td>68.5</td>\n",
       "      <td>13926</td>\n",
       "      <td>NaN</td>\n",
       "      <td>150.0</td>\n",
       "      <td>142.0</td>\n",
       "      <td>315.0</td>\n",
       "      <td>87.0</td>\n",
       "      <td>19.0</td>\n",
       "      <td>NaN</td>\n",
       "      <td>...</td>\n",
       "      <td>1.0</td>\n",
       "      <td>0.0</td>\n",
       "      <td>0.0</td>\n",
       "      <td>0.0</td>\n",
       "      <td>0.0</td>\n",
       "      <td>117.0</td>\n",
       "      <td>0.0</td>\n",
       "      <td>0.0</td>\n",
       "      <td>0.0</td>\n",
       "      <td>0.0</td>\n",
       "    </tr>\n",
       "    <tr>\n",
       "      <th>1</th>\n",
       "      <td>0</td>\n",
       "      <td>29.0</td>\n",
       "      <td>2755</td>\n",
       "      <td>404.0</td>\n",
       "      <td>150.0</td>\n",
       "      <td>102.0</td>\n",
       "      <td>325.0</td>\n",
       "      <td>87.0</td>\n",
       "      <td>NaN</td>\n",
       "      <td>NaN</td>\n",
       "      <td>...</td>\n",
       "      <td>0.0</td>\n",
       "      <td>0.0</td>\n",
       "      <td>0.0</td>\n",
       "      <td>0.0</td>\n",
       "      <td>0.0</td>\n",
       "      <td>0.0</td>\n",
       "      <td>0.0</td>\n",
       "      <td>0.0</td>\n",
       "      <td>0.0</td>\n",
       "      <td>0.0</td>\n",
       "    </tr>\n",
       "    <tr>\n",
       "      <th>2</th>\n",
       "      <td>0</td>\n",
       "      <td>59.0</td>\n",
       "      <td>4663</td>\n",
       "      <td>490.0</td>\n",
       "      <td>150.0</td>\n",
       "      <td>166.0</td>\n",
       "      <td>330.0</td>\n",
       "      <td>87.0</td>\n",
       "      <td>287.0</td>\n",
       "      <td>NaN</td>\n",
       "      <td>...</td>\n",
       "      <td>0.0</td>\n",
       "      <td>0.0</td>\n",
       "      <td>0.0</td>\n",
       "      <td>0.0</td>\n",
       "      <td>0.0</td>\n",
       "      <td>0.0</td>\n",
       "      <td>0.0</td>\n",
       "      <td>0.0</td>\n",
       "      <td>0.0</td>\n",
       "      <td>0.0</td>\n",
       "    </tr>\n",
       "    <tr>\n",
       "      <th>3</th>\n",
       "      <td>0</td>\n",
       "      <td>50.0</td>\n",
       "      <td>18132</td>\n",
       "      <td>567.0</td>\n",
       "      <td>150.0</td>\n",
       "      <td>117.0</td>\n",
       "      <td>476.0</td>\n",
       "      <td>87.0</td>\n",
       "      <td>NaN</td>\n",
       "      <td>NaN</td>\n",
       "      <td>...</td>\n",
       "      <td>38.0</td>\n",
       "      <td>0.0</td>\n",
       "      <td>0.0</td>\n",
       "      <td>0.0</td>\n",
       "      <td>0.0</td>\n",
       "      <td>1758.0</td>\n",
       "      <td>0.0</td>\n",
       "      <td>354.0</td>\n",
       "      <td>0.0</td>\n",
       "      <td>0.0</td>\n",
       "    </tr>\n",
       "    <tr>\n",
       "      <th>4</th>\n",
       "      <td>0</td>\n",
       "      <td>50.0</td>\n",
       "      <td>4497</td>\n",
       "      <td>514.0</td>\n",
       "      <td>150.0</td>\n",
       "      <td>102.0</td>\n",
       "      <td>420.0</td>\n",
       "      <td>87.0</td>\n",
       "      <td>NaN</td>\n",
       "      <td>NaN</td>\n",
       "      <td>...</td>\n",
       "      <td>0.0</td>\n",
       "      <td>0.0</td>\n",
       "      <td>0.0</td>\n",
       "      <td>0.0</td>\n",
       "      <td>1.0</td>\n",
       "      <td>0.0</td>\n",
       "      <td>0.0</td>\n",
       "      <td>0.0</td>\n",
       "      <td>0.0</td>\n",
       "      <td>0.0</td>\n",
       "    </tr>\n",
       "  </tbody>\n",
       "</table>\n",
       "<p>5 rows × 146 columns</p>\n",
       "</div>"
      ],
      "text/plain": [
       "   isFraud  TransactionAmt  card1  card2  card3  card5  addr1  addr2  dist1  \\\n",
       "0        0            68.5  13926    NaN  150.0  142.0  315.0   87.0   19.0   \n",
       "1        0            29.0   2755  404.0  150.0  102.0  325.0   87.0    NaN   \n",
       "2        0            59.0   4663  490.0  150.0  166.0  330.0   87.0  287.0   \n",
       "3        0            50.0  18132  567.0  150.0  117.0  476.0   87.0    NaN   \n",
       "4        0            50.0   4497  514.0  150.0  102.0  420.0   87.0    NaN   \n",
       "\n",
       "   dist2  ...  V294  V296  V297  V301  V303    V307  V309   V310  V314  V320  \n",
       "0    NaN  ...   1.0   0.0   0.0   0.0   0.0   117.0   0.0    0.0   0.0   0.0  \n",
       "1    NaN  ...   0.0   0.0   0.0   0.0   0.0     0.0   0.0    0.0   0.0   0.0  \n",
       "2    NaN  ...   0.0   0.0   0.0   0.0   0.0     0.0   0.0    0.0   0.0   0.0  \n",
       "3    NaN  ...  38.0   0.0   0.0   0.0   0.0  1758.0   0.0  354.0   0.0   0.0  \n",
       "4    NaN  ...   0.0   0.0   0.0   0.0   1.0     0.0   0.0    0.0   0.0   0.0  \n",
       "\n",
       "[5 rows x 146 columns]"
      ]
     },
     "execution_count": 124,
     "metadata": {},
     "output_type": "execute_result"
    },
    {
     "data": {
      "application/javascript": [
       "\n",
       "            setTimeout(function() {\n",
       "                var nbb_cell_id = 124;\n",
       "                var nbb_unformatted_code = \"traindf.head()\";\n",
       "                var nbb_formatted_code = \"traindf.head()\";\n",
       "                var nbb_cells = Jupyter.notebook.get_cells();\n",
       "                for (var i = 0; i < nbb_cells.length; ++i) {\n",
       "                    if (nbb_cells[i].input_prompt_number == nbb_cell_id) {\n",
       "                        if (nbb_cells[i].get_text() == nbb_unformatted_code) {\n",
       "                             nbb_cells[i].set_text(nbb_formatted_code);\n",
       "                        }\n",
       "                        break;\n",
       "                    }\n",
       "                }\n",
       "            }, 500);\n",
       "            "
      ],
      "text/plain": [
       "<IPython.core.display.Javascript object>"
      ]
     },
     "metadata": {},
     "output_type": "display_data"
    }
   ],
   "source": [
    "traindf.head()"
   ]
  },
  {
   "cell_type": "code",
   "execution_count": 125,
   "id": "f4f8cd2a",
   "metadata": {},
   "outputs": [
    {
     "name": "stderr",
     "output_type": "stream",
     "text": [
      "C:\\Users\\niraj\\Anaconda3\\lib\\site-packages\\pandas\\core\\frame.py:4462: SettingWithCopyWarning: \n",
      "A value is trying to be set on a copy of a slice from a DataFrame\n",
      "\n",
      "See the caveats in the documentation: https://pandas.pydata.org/pandas-docs/stable/user_guide/indexing.html#returning-a-view-versus-a-copy\n",
      "  return super().fillna(\n"
     ]
    },
    {
     "data": {
      "application/javascript": [
       "\n",
       "            setTimeout(function() {\n",
       "                var nbb_cell_id = 125;\n",
       "                var nbb_unformatted_code = \"traindf.fillna(0, inplace=True)\";\n",
       "                var nbb_formatted_code = \"traindf.fillna(0, inplace=True)\";\n",
       "                var nbb_cells = Jupyter.notebook.get_cells();\n",
       "                for (var i = 0; i < nbb_cells.length; ++i) {\n",
       "                    if (nbb_cells[i].input_prompt_number == nbb_cell_id) {\n",
       "                        if (nbb_cells[i].get_text() == nbb_unformatted_code) {\n",
       "                             nbb_cells[i].set_text(nbb_formatted_code);\n",
       "                        }\n",
       "                        break;\n",
       "                    }\n",
       "                }\n",
       "            }, 500);\n",
       "            "
      ],
      "text/plain": [
       "<IPython.core.display.Javascript object>"
      ]
     },
     "metadata": {},
     "output_type": "display_data"
    }
   ],
   "source": [
    "traindf.fillna(0, inplace=True)"
   ]
  },
  {
   "cell_type": "code",
   "execution_count": 1,
   "id": "e6494e69",
   "metadata": {},
   "outputs": [
    {
     "ename": "NameError",
     "evalue": "name 'traindf' is not defined",
     "output_type": "error",
     "traceback": [
      "\u001b[1;31m---------------------------------------------------------------------------\u001b[0m",
      "\u001b[1;31mNameError\u001b[0m                                 Traceback (most recent call last)",
      "\u001b[1;32m<ipython-input-1-8bbbe4290c1d>\u001b[0m in \u001b[0;36m<module>\u001b[1;34m\u001b[0m\n\u001b[1;32m----> 1\u001b[1;33m \u001b[0mtraindf\u001b[0m\u001b[1;33m.\u001b[0m\u001b[0mhead\u001b[0m\u001b[1;33m(\u001b[0m\u001b[1;33m)\u001b[0m\u001b[1;33m\u001b[0m\u001b[1;33m\u001b[0m\u001b[0m\n\u001b[0m",
      "\u001b[1;31mNameError\u001b[0m: name 'traindf' is not defined"
     ]
    }
   ],
   "source": [
    "traindf.head()"
   ]
  },
  {
   "cell_type": "code",
   "execution_count": 127,
   "id": "a10f95c5",
   "metadata": {},
   "outputs": [
    {
     "data": {
      "application/javascript": [
       "\n",
       "            setTimeout(function() {\n",
       "                var nbb_cell_id = 127;\n",
       "                var nbb_unformatted_code = \"testdf = testnew.select_dtypes(include=[\\\"number\\\", \\\"bool_\\\", \\\"object_\\\"])\";\n",
       "                var nbb_formatted_code = \"testdf = testnew.select_dtypes(include=[\\\"number\\\", \\\"bool_\\\", \\\"object_\\\"])\";\n",
       "                var nbb_cells = Jupyter.notebook.get_cells();\n",
       "                for (var i = 0; i < nbb_cells.length; ++i) {\n",
       "                    if (nbb_cells[i].input_prompt_number == nbb_cell_id) {\n",
       "                        if (nbb_cells[i].get_text() == nbb_unformatted_code) {\n",
       "                             nbb_cells[i].set_text(nbb_formatted_code);\n",
       "                        }\n",
       "                        break;\n",
       "                    }\n",
       "                }\n",
       "            }, 500);\n",
       "            "
      ],
      "text/plain": [
       "<IPython.core.display.Javascript object>"
      ]
     },
     "metadata": {},
     "output_type": "display_data"
    }
   ],
   "source": [
    "testdf = testnew.select_dtypes(include=[\"number\", \"bool_\", \"object_\"])"
   ]
  },
  {
   "cell_type": "code",
   "execution_count": 128,
   "id": "74c02c3d",
   "metadata": {},
   "outputs": [
    {
     "name": "stderr",
     "output_type": "stream",
     "text": [
      "C:\\Users\\niraj\\Anaconda3\\lib\\site-packages\\pandas\\core\\frame.py:4462: SettingWithCopyWarning: \n",
      "A value is trying to be set on a copy of a slice from a DataFrame\n",
      "\n",
      "See the caveats in the documentation: https://pandas.pydata.org/pandas-docs/stable/user_guide/indexing.html#returning-a-view-versus-a-copy\n",
      "  return super().fillna(\n"
     ]
    },
    {
     "data": {
      "application/javascript": [
       "\n",
       "            setTimeout(function() {\n",
       "                var nbb_cell_id = 128;\n",
       "                var nbb_unformatted_code = \"testdf.fillna(0, inplace=True)\";\n",
       "                var nbb_formatted_code = \"testdf.fillna(0, inplace=True)\";\n",
       "                var nbb_cells = Jupyter.notebook.get_cells();\n",
       "                for (var i = 0; i < nbb_cells.length; ++i) {\n",
       "                    if (nbb_cells[i].input_prompt_number == nbb_cell_id) {\n",
       "                        if (nbb_cells[i].get_text() == nbb_unformatted_code) {\n",
       "                             nbb_cells[i].set_text(nbb_formatted_code);\n",
       "                        }\n",
       "                        break;\n",
       "                    }\n",
       "                }\n",
       "            }, 500);\n",
       "            "
      ],
      "text/plain": [
       "<IPython.core.display.Javascript object>"
      ]
     },
     "metadata": {},
     "output_type": "display_data"
    }
   ],
   "source": [
    "testdf.fillna(0, inplace=True)"
   ]
  },
  {
   "cell_type": "code",
   "execution_count": 129,
   "id": "c8ffe42f",
   "metadata": {},
   "outputs": [
    {
     "data": {
      "application/javascript": [
       "\n",
       "            setTimeout(function() {\n",
       "                var nbb_cell_id = 129;\n",
       "                var nbb_unformatted_code = \"testCatDf = testnew.select_dtypes(exclude=[\\\"number\\\", \\\"bool_\\\", \\\"object_\\\"])\\ntrainCatDf = trainnew.select_dtypes(exclude=[\\\"number\\\", \\\"bool_\\\", \\\"object_\\\"])\";\n",
       "                var nbb_formatted_code = \"testCatDf = testnew.select_dtypes(exclude=[\\\"number\\\", \\\"bool_\\\", \\\"object_\\\"])\\ntrainCatDf = trainnew.select_dtypes(exclude=[\\\"number\\\", \\\"bool_\\\", \\\"object_\\\"])\";\n",
       "                var nbb_cells = Jupyter.notebook.get_cells();\n",
       "                for (var i = 0; i < nbb_cells.length; ++i) {\n",
       "                    if (nbb_cells[i].input_prompt_number == nbb_cell_id) {\n",
       "                        if (nbb_cells[i].get_text() == nbb_unformatted_code) {\n",
       "                             nbb_cells[i].set_text(nbb_formatted_code);\n",
       "                        }\n",
       "                        break;\n",
       "                    }\n",
       "                }\n",
       "            }, 500);\n",
       "            "
      ],
      "text/plain": [
       "<IPython.core.display.Javascript object>"
      ]
     },
     "metadata": {},
     "output_type": "display_data"
    }
   ],
   "source": [
    "testCatDf = testnew.select_dtypes(exclude=[\"number\", \"bool_\", \"object_\"])\n",
    "trainCatDf = trainnew.select_dtypes(exclude=[\"number\", \"bool_\", \"object_\"])"
   ]
  },
  {
   "cell_type": "code",
   "execution_count": 130,
   "id": "f5022fd7",
   "metadata": {},
   "outputs": [
    {
     "data": {
      "text/html": [
       "<div>\n",
       "<style scoped>\n",
       "    .dataframe tbody tr th:only-of-type {\n",
       "        vertical-align: middle;\n",
       "    }\n",
       "\n",
       "    .dataframe tbody tr th {\n",
       "        vertical-align: top;\n",
       "    }\n",
       "\n",
       "    .dataframe thead th {\n",
       "        text-align: right;\n",
       "    }\n",
       "</style>\n",
       "<table border=\"1\" class=\"dataframe\">\n",
       "  <thead>\n",
       "    <tr style=\"text-align: right;\">\n",
       "      <th></th>\n",
       "      <th>ProductCD</th>\n",
       "      <th>card6</th>\n",
       "      <th>P_emaildomain</th>\n",
       "      <th>R_emaildomain</th>\n",
       "      <th>M2</th>\n",
       "      <th>M3</th>\n",
       "      <th>M4</th>\n",
       "      <th>M6</th>\n",
       "      <th>M7</th>\n",
       "      <th>M8</th>\n",
       "      <th>M9</th>\n",
       "      <th>DeviceType</th>\n",
       "      <th>DeviceInfo</th>\n",
       "    </tr>\n",
       "  </thead>\n",
       "  <tbody>\n",
       "    <tr>\n",
       "      <th>0</th>\n",
       "      <td>W</td>\n",
       "      <td>debit</td>\n",
       "      <td>gmail.com</td>\n",
       "      <td>NaN</td>\n",
       "      <td>T</td>\n",
       "      <td>F</td>\n",
       "      <td>NaN</td>\n",
       "      <td>F</td>\n",
       "      <td>T</td>\n",
       "      <td>T</td>\n",
       "      <td>T</td>\n",
       "      <td>NaN</td>\n",
       "      <td>NaN</td>\n",
       "    </tr>\n",
       "    <tr>\n",
       "      <th>1</th>\n",
       "      <td>W</td>\n",
       "      <td>debit</td>\n",
       "      <td>aol.com</td>\n",
       "      <td>NaN</td>\n",
       "      <td>F</td>\n",
       "      <td>F</td>\n",
       "      <td>M0</td>\n",
       "      <td>F</td>\n",
       "      <td>NaN</td>\n",
       "      <td>NaN</td>\n",
       "      <td>NaN</td>\n",
       "      <td>NaN</td>\n",
       "      <td>NaN</td>\n",
       "    </tr>\n",
       "    <tr>\n",
       "      <th>2</th>\n",
       "      <td>W</td>\n",
       "      <td>debit</td>\n",
       "      <td>hotmail.com</td>\n",
       "      <td>NaN</td>\n",
       "      <td>T</td>\n",
       "      <td>F</td>\n",
       "      <td>M0</td>\n",
       "      <td>F</td>\n",
       "      <td>F</td>\n",
       "      <td>F</td>\n",
       "      <td>F</td>\n",
       "      <td>NaN</td>\n",
       "      <td>NaN</td>\n",
       "    </tr>\n",
       "    <tr>\n",
       "      <th>3</th>\n",
       "      <td>W</td>\n",
       "      <td>debit</td>\n",
       "      <td>gmail.com</td>\n",
       "      <td>NaN</td>\n",
       "      <td>T</td>\n",
       "      <td>T</td>\n",
       "      <td>NaN</td>\n",
       "      <td>T</td>\n",
       "      <td>NaN</td>\n",
       "      <td>NaN</td>\n",
       "      <td>NaN</td>\n",
       "      <td>NaN</td>\n",
       "      <td>NaN</td>\n",
       "    </tr>\n",
       "    <tr>\n",
       "      <th>4</th>\n",
       "      <td>W</td>\n",
       "      <td>debit</td>\n",
       "      <td>gmail.com</td>\n",
       "      <td>NaN</td>\n",
       "      <td>T</td>\n",
       "      <td>T</td>\n",
       "      <td>NaN</td>\n",
       "      <td>F</td>\n",
       "      <td>F</td>\n",
       "      <td>T</td>\n",
       "      <td>T</td>\n",
       "      <td>NaN</td>\n",
       "      <td>NaN</td>\n",
       "    </tr>\n",
       "  </tbody>\n",
       "</table>\n",
       "</div>"
      ],
      "text/plain": [
       "  ProductCD  card6 P_emaildomain R_emaildomain M2 M3   M4 M6   M7   M8   M9  \\\n",
       "0         W  debit     gmail.com           NaN  T  F  NaN  F    T    T    T   \n",
       "1         W  debit       aol.com           NaN  F  F   M0  F  NaN  NaN  NaN   \n",
       "2         W  debit   hotmail.com           NaN  T  F   M0  F    F    F    F   \n",
       "3         W  debit     gmail.com           NaN  T  T  NaN  T  NaN  NaN  NaN   \n",
       "4         W  debit     gmail.com           NaN  T  T  NaN  F    F    T    T   \n",
       "\n",
       "  DeviceType DeviceInfo  \n",
       "0        NaN        NaN  \n",
       "1        NaN        NaN  \n",
       "2        NaN        NaN  \n",
       "3        NaN        NaN  \n",
       "4        NaN        NaN  "
      ]
     },
     "execution_count": 130,
     "metadata": {},
     "output_type": "execute_result"
    },
    {
     "data": {
      "application/javascript": [
       "\n",
       "            setTimeout(function() {\n",
       "                var nbb_cell_id = 130;\n",
       "                var nbb_unformatted_code = \"testCatDf.head()\";\n",
       "                var nbb_formatted_code = \"testCatDf.head()\";\n",
       "                var nbb_cells = Jupyter.notebook.get_cells();\n",
       "                for (var i = 0; i < nbb_cells.length; ++i) {\n",
       "                    if (nbb_cells[i].input_prompt_number == nbb_cell_id) {\n",
       "                        if (nbb_cells[i].get_text() == nbb_unformatted_code) {\n",
       "                             nbb_cells[i].set_text(nbb_formatted_code);\n",
       "                        }\n",
       "                        break;\n",
       "                    }\n",
       "                }\n",
       "            }, 500);\n",
       "            "
      ],
      "text/plain": [
       "<IPython.core.display.Javascript object>"
      ]
     },
     "metadata": {},
     "output_type": "display_data"
    }
   ],
   "source": [
    "testCatDf.head()"
   ]
  },
  {
   "cell_type": "code",
   "execution_count": 131,
   "id": "f4d32501",
   "metadata": {},
   "outputs": [
    {
     "data": {
      "text/html": [
       "<div>\n",
       "<style scoped>\n",
       "    .dataframe tbody tr th:only-of-type {\n",
       "        vertical-align: middle;\n",
       "    }\n",
       "\n",
       "    .dataframe tbody tr th {\n",
       "        vertical-align: top;\n",
       "    }\n",
       "\n",
       "    .dataframe thead th {\n",
       "        text-align: right;\n",
       "    }\n",
       "</style>\n",
       "<table border=\"1\" class=\"dataframe\">\n",
       "  <thead>\n",
       "    <tr style=\"text-align: right;\">\n",
       "      <th></th>\n",
       "      <th>ProductCD</th>\n",
       "      <th>card6</th>\n",
       "      <th>P_emaildomain</th>\n",
       "      <th>R_emaildomain</th>\n",
       "      <th>M2</th>\n",
       "      <th>M3</th>\n",
       "      <th>M4</th>\n",
       "      <th>M6</th>\n",
       "      <th>M7</th>\n",
       "      <th>M8</th>\n",
       "      <th>M9</th>\n",
       "      <th>DeviceType</th>\n",
       "      <th>DeviceInfo</th>\n",
       "    </tr>\n",
       "  </thead>\n",
       "  <tbody>\n",
       "    <tr>\n",
       "      <th>0</th>\n",
       "      <td>W</td>\n",
       "      <td>credit</td>\n",
       "      <td>NaN</td>\n",
       "      <td>NaN</td>\n",
       "      <td>T</td>\n",
       "      <td>T</td>\n",
       "      <td>M2</td>\n",
       "      <td>T</td>\n",
       "      <td>NaN</td>\n",
       "      <td>NaN</td>\n",
       "      <td>NaN</td>\n",
       "      <td>NaN</td>\n",
       "      <td>NaN</td>\n",
       "    </tr>\n",
       "    <tr>\n",
       "      <th>1</th>\n",
       "      <td>W</td>\n",
       "      <td>credit</td>\n",
       "      <td>gmail.com</td>\n",
       "      <td>NaN</td>\n",
       "      <td>NaN</td>\n",
       "      <td>NaN</td>\n",
       "      <td>M0</td>\n",
       "      <td>T</td>\n",
       "      <td>NaN</td>\n",
       "      <td>NaN</td>\n",
       "      <td>NaN</td>\n",
       "      <td>NaN</td>\n",
       "      <td>NaN</td>\n",
       "    </tr>\n",
       "    <tr>\n",
       "      <th>2</th>\n",
       "      <td>W</td>\n",
       "      <td>debit</td>\n",
       "      <td>outlook.com</td>\n",
       "      <td>NaN</td>\n",
       "      <td>T</td>\n",
       "      <td>T</td>\n",
       "      <td>M0</td>\n",
       "      <td>F</td>\n",
       "      <td>F</td>\n",
       "      <td>F</td>\n",
       "      <td>F</td>\n",
       "      <td>NaN</td>\n",
       "      <td>NaN</td>\n",
       "    </tr>\n",
       "    <tr>\n",
       "      <th>3</th>\n",
       "      <td>W</td>\n",
       "      <td>debit</td>\n",
       "      <td>yahoo.com</td>\n",
       "      <td>NaN</td>\n",
       "      <td>NaN</td>\n",
       "      <td>NaN</td>\n",
       "      <td>M0</td>\n",
       "      <td>F</td>\n",
       "      <td>NaN</td>\n",
       "      <td>NaN</td>\n",
       "      <td>NaN</td>\n",
       "      <td>NaN</td>\n",
       "      <td>NaN</td>\n",
       "    </tr>\n",
       "    <tr>\n",
       "      <th>4</th>\n",
       "      <td>H</td>\n",
       "      <td>credit</td>\n",
       "      <td>gmail.com</td>\n",
       "      <td>NaN</td>\n",
       "      <td>NaN</td>\n",
       "      <td>NaN</td>\n",
       "      <td>NaN</td>\n",
       "      <td>NaN</td>\n",
       "      <td>NaN</td>\n",
       "      <td>NaN</td>\n",
       "      <td>NaN</td>\n",
       "      <td>mobile</td>\n",
       "      <td>SAMSUNG SM-G892A Build/NRD90M</td>\n",
       "    </tr>\n",
       "  </tbody>\n",
       "</table>\n",
       "</div>"
      ],
      "text/plain": [
       "  ProductCD   card6 P_emaildomain R_emaildomain   M2   M3   M4   M6   M7   M8  \\\n",
       "0         W  credit           NaN           NaN    T    T   M2    T  NaN  NaN   \n",
       "1         W  credit     gmail.com           NaN  NaN  NaN   M0    T  NaN  NaN   \n",
       "2         W   debit   outlook.com           NaN    T    T   M0    F    F    F   \n",
       "3         W   debit     yahoo.com           NaN  NaN  NaN   M0    F  NaN  NaN   \n",
       "4         H  credit     gmail.com           NaN  NaN  NaN  NaN  NaN  NaN  NaN   \n",
       "\n",
       "    M9 DeviceType                     DeviceInfo  \n",
       "0  NaN        NaN                            NaN  \n",
       "1  NaN        NaN                            NaN  \n",
       "2    F        NaN                            NaN  \n",
       "3  NaN        NaN                            NaN  \n",
       "4  NaN     mobile  SAMSUNG SM-G892A Build/NRD90M  "
      ]
     },
     "execution_count": 131,
     "metadata": {},
     "output_type": "execute_result"
    },
    {
     "data": {
      "application/javascript": [
       "\n",
       "            setTimeout(function() {\n",
       "                var nbb_cell_id = 131;\n",
       "                var nbb_unformatted_code = \"trainCatDf.head()\";\n",
       "                var nbb_formatted_code = \"trainCatDf.head()\";\n",
       "                var nbb_cells = Jupyter.notebook.get_cells();\n",
       "                for (var i = 0; i < nbb_cells.length; ++i) {\n",
       "                    if (nbb_cells[i].input_prompt_number == nbb_cell_id) {\n",
       "                        if (nbb_cells[i].get_text() == nbb_unformatted_code) {\n",
       "                             nbb_cells[i].set_text(nbb_formatted_code);\n",
       "                        }\n",
       "                        break;\n",
       "                    }\n",
       "                }\n",
       "            }, 500);\n",
       "            "
      ],
      "text/plain": [
       "<IPython.core.display.Javascript object>"
      ]
     },
     "metadata": {},
     "output_type": "display_data"
    }
   ],
   "source": [
    "trainCatDf.head()"
   ]
  },
  {
   "cell_type": "code",
   "execution_count": 138,
   "id": "27a9e24d",
   "metadata": {},
   "outputs": [
    {
     "data": {
      "text/plain": [
       "ProductCD             0\n",
       "card6              1571\n",
       "P_emaildomain     94456\n",
       "R_emaildomain    453249\n",
       "M2               271100\n",
       "M3               271100\n",
       "M4               281444\n",
       "M6               169360\n",
       "M7               346265\n",
       "M8               346252\n",
       "M9               346252\n",
       "DeviceType       449730\n",
       "DeviceInfo       471874\n",
       "dtype: int64"
      ]
     },
     "execution_count": 138,
     "metadata": {},
     "output_type": "execute_result"
    },
    {
     "data": {
      "application/javascript": [
       "\n",
       "            setTimeout(function() {\n",
       "                var nbb_cell_id = 138;\n",
       "                var nbb_unformatted_code = \"trainCatDf.isna().sum()\";\n",
       "                var nbb_formatted_code = \"trainCatDf.isna().sum()\";\n",
       "                var nbb_cells = Jupyter.notebook.get_cells();\n",
       "                for (var i = 0; i < nbb_cells.length; ++i) {\n",
       "                    if (nbb_cells[i].input_prompt_number == nbb_cell_id) {\n",
       "                        if (nbb_cells[i].get_text() == nbb_unformatted_code) {\n",
       "                             nbb_cells[i].set_text(nbb_formatted_code);\n",
       "                        }\n",
       "                        break;\n",
       "                    }\n",
       "                }\n",
       "            }, 500);\n",
       "            "
      ],
      "text/plain": [
       "<IPython.core.display.Javascript object>"
      ]
     },
     "metadata": {},
     "output_type": "display_data"
    }
   ],
   "source": [
    "trainCatDf.isna().sum()"
   ]
  },
  {
   "cell_type": "code",
   "execution_count": 141,
   "id": "43bc957b",
   "metadata": {},
   "outputs": [
    {
     "data": {
      "text/plain": [
       "ProductCD           5\n",
       "card6               4\n",
       "P_emaildomain      59\n",
       "R_emaildomain      60\n",
       "M2                  2\n",
       "M3                  2\n",
       "M4                  3\n",
       "M6                  2\n",
       "M7                  2\n",
       "M8                  2\n",
       "M9                  2\n",
       "DeviceType          2\n",
       "DeviceInfo       1786\n",
       "dtype: int64"
      ]
     },
     "execution_count": 141,
     "metadata": {},
     "output_type": "execute_result"
    },
    {
     "data": {
      "application/javascript": [
       "\n",
       "            setTimeout(function() {\n",
       "                var nbb_cell_id = 141;\n",
       "                var nbb_unformatted_code = \"trainCatDf.nunique()\";\n",
       "                var nbb_formatted_code = \"trainCatDf.nunique()\";\n",
       "                var nbb_cells = Jupyter.notebook.get_cells();\n",
       "                for (var i = 0; i < nbb_cells.length; ++i) {\n",
       "                    if (nbb_cells[i].input_prompt_number == nbb_cell_id) {\n",
       "                        if (nbb_cells[i].get_text() == nbb_unformatted_code) {\n",
       "                             nbb_cells[i].set_text(nbb_formatted_code);\n",
       "                        }\n",
       "                        break;\n",
       "                    }\n",
       "                }\n",
       "            }, 500);\n",
       "            "
      ],
      "text/plain": [
       "<IPython.core.display.Javascript object>"
      ]
     },
     "metadata": {},
     "output_type": "display_data"
    }
   ],
   "source": [
    "trainCatDf.nunique()"
   ]
  },
  {
   "cell_type": "code",
   "execution_count": 142,
   "id": "ce3c203a",
   "metadata": {},
   "outputs": [
    {
     "data": {
      "text/plain": [
       "TransactionID        590540\n",
       "isFraud                   2\n",
       "TransactionDT        573349\n",
       "TransactionAmt         8195\n",
       "ProductCD                 5\n",
       "                      ...  \n",
       "D15_to_mean_card4      1966\n",
       "D15_to_std_card1     174889\n",
       "D15_to_std_card4       2581\n",
       "D15_to_mean_addr1      5999\n",
       "D15_to_std_addr1      31471\n",
       "Length: 481, dtype: int64"
      ]
     },
     "execution_count": 142,
     "metadata": {},
     "output_type": "execute_result"
    },
    {
     "data": {
      "application/javascript": [
       "\n",
       "            setTimeout(function() {\n",
       "                var nbb_cell_id = 142;\n",
       "                var nbb_unformatted_code = \"train.nunique()\";\n",
       "                var nbb_formatted_code = \"train.nunique()\";\n",
       "                var nbb_cells = Jupyter.notebook.get_cells();\n",
       "                for (var i = 0; i < nbb_cells.length; ++i) {\n",
       "                    if (nbb_cells[i].input_prompt_number == nbb_cell_id) {\n",
       "                        if (nbb_cells[i].get_text() == nbb_unformatted_code) {\n",
       "                             nbb_cells[i].set_text(nbb_formatted_code);\n",
       "                        }\n",
       "                        break;\n",
       "                    }\n",
       "                }\n",
       "            }, 500);\n",
       "            "
      ],
      "text/plain": [
       "<IPython.core.display.Javascript object>"
      ]
     },
     "metadata": {},
     "output_type": "display_data"
    }
   ],
   "source": [
    "train.nunique()"
   ]
  },
  {
   "cell_type": "code",
   "execution_count": 136,
   "id": "804de266",
   "metadata": {},
   "outputs": [
    {
     "data": {
      "text/plain": [
       "(590540, 13)"
      ]
     },
     "execution_count": 136,
     "metadata": {},
     "output_type": "execute_result"
    },
    {
     "data": {
      "application/javascript": [
       "\n",
       "            setTimeout(function() {\n",
       "                var nbb_cell_id = 136;\n",
       "                var nbb_unformatted_code = \"trainCatDf.shape\";\n",
       "                var nbb_formatted_code = \"trainCatDf.shape\";\n",
       "                var nbb_cells = Jupyter.notebook.get_cells();\n",
       "                for (var i = 0; i < nbb_cells.length; ++i) {\n",
       "                    if (nbb_cells[i].input_prompt_number == nbb_cell_id) {\n",
       "                        if (nbb_cells[i].get_text() == nbb_unformatted_code) {\n",
       "                             nbb_cells[i].set_text(nbb_formatted_code);\n",
       "                        }\n",
       "                        break;\n",
       "                    }\n",
       "                }\n",
       "            }, 500);\n",
       "            "
      ],
      "text/plain": [
       "<IPython.core.display.Javascript object>"
      ]
     },
     "metadata": {},
     "output_type": "display_data"
    }
   ],
   "source": [
    "trainCatDf.shape"
   ]
  },
  {
   "cell_type": "code",
   "execution_count": 132,
   "id": "01f48a9b",
   "metadata": {},
   "outputs": [
    {
     "ename": "AttributeError",
     "evalue": "'DataFrame' object has no attribute 'isFraud'",
     "output_type": "error",
     "traceback": [
      "\u001b[1;31m---------------------------------------------------------------------------\u001b[0m",
      "\u001b[1;31mAttributeError\u001b[0m                            Traceback (most recent call last)",
      "\u001b[1;32m<ipython-input-132-c510af02dce3>\u001b[0m in \u001b[0;36m<module>\u001b[1;34m\u001b[0m\n\u001b[1;32m----> 1\u001b[1;33m \u001b[0my_train\u001b[0m \u001b[1;33m=\u001b[0m \u001b[0mtrainCatDf\u001b[0m\u001b[1;33m.\u001b[0m\u001b[0misFraud\u001b[0m\u001b[1;33m.\u001b[0m\u001b[0mvalues\u001b[0m\u001b[1;33m\u001b[0m\u001b[1;33m\u001b[0m\u001b[0m\n\u001b[0m",
      "\u001b[1;32m~\\Anaconda3\\lib\\site-packages\\pandas\\core\\generic.py\u001b[0m in \u001b[0;36m__getattr__\u001b[1;34m(self, name)\u001b[0m\n\u001b[0;32m   5463\u001b[0m             \u001b[1;32mif\u001b[0m \u001b[0mself\u001b[0m\u001b[1;33m.\u001b[0m\u001b[0m_info_axis\u001b[0m\u001b[1;33m.\u001b[0m\u001b[0m_can_hold_identifiers_and_holds_name\u001b[0m\u001b[1;33m(\u001b[0m\u001b[0mname\u001b[0m\u001b[1;33m)\u001b[0m\u001b[1;33m:\u001b[0m\u001b[1;33m\u001b[0m\u001b[1;33m\u001b[0m\u001b[0m\n\u001b[0;32m   5464\u001b[0m                 \u001b[1;32mreturn\u001b[0m \u001b[0mself\u001b[0m\u001b[1;33m[\u001b[0m\u001b[0mname\u001b[0m\u001b[1;33m]\u001b[0m\u001b[1;33m\u001b[0m\u001b[1;33m\u001b[0m\u001b[0m\n\u001b[1;32m-> 5465\u001b[1;33m             \u001b[1;32mreturn\u001b[0m \u001b[0mobject\u001b[0m\u001b[1;33m.\u001b[0m\u001b[0m__getattribute__\u001b[0m\u001b[1;33m(\u001b[0m\u001b[0mself\u001b[0m\u001b[1;33m,\u001b[0m \u001b[0mname\u001b[0m\u001b[1;33m)\u001b[0m\u001b[1;33m\u001b[0m\u001b[1;33m\u001b[0m\u001b[0m\n\u001b[0m\u001b[0;32m   5466\u001b[0m \u001b[1;33m\u001b[0m\u001b[0m\n\u001b[0;32m   5467\u001b[0m     \u001b[1;32mdef\u001b[0m \u001b[0m__setattr__\u001b[0m\u001b[1;33m(\u001b[0m\u001b[0mself\u001b[0m\u001b[1;33m,\u001b[0m \u001b[0mname\u001b[0m\u001b[1;33m:\u001b[0m \u001b[0mstr\u001b[0m\u001b[1;33m,\u001b[0m \u001b[0mvalue\u001b[0m\u001b[1;33m)\u001b[0m \u001b[1;33m->\u001b[0m \u001b[1;32mNone\u001b[0m\u001b[1;33m:\u001b[0m\u001b[1;33m\u001b[0m\u001b[1;33m\u001b[0m\u001b[0m\n",
      "\u001b[1;31mAttributeError\u001b[0m: 'DataFrame' object has no attribute 'isFraud'"
     ]
    },
    {
     "data": {
      "application/javascript": [
       "\n",
       "            setTimeout(function() {\n",
       "                var nbb_cell_id = 132;\n",
       "                var nbb_unformatted_code = \"y_train = trainCatDf.isFraud.values\";\n",
       "                var nbb_formatted_code = \"y_train = trainCatDf.isFraud.values\";\n",
       "                var nbb_cells = Jupyter.notebook.get_cells();\n",
       "                for (var i = 0; i < nbb_cells.length; ++i) {\n",
       "                    if (nbb_cells[i].input_prompt_number == nbb_cell_id) {\n",
       "                        if (nbb_cells[i].get_text() == nbb_unformatted_code) {\n",
       "                             nbb_cells[i].set_text(nbb_formatted_code);\n",
       "                        }\n",
       "                        break;\n",
       "                    }\n",
       "                }\n",
       "            }, 500);\n",
       "            "
      ],
      "text/plain": [
       "<IPython.core.display.Javascript object>"
      ]
     },
     "metadata": {},
     "output_type": "display_data"
    }
   ],
   "source": [
    "y_train = trainCatDf.isFraud.values"
   ]
  },
  {
   "cell_type": "code",
   "execution_count": null,
   "id": "636a245e",
   "metadata": {},
   "outputs": [],
   "source": [
    "def eva_cat_feature(feature):\n",
    "    \n",
    "    #Removing missing \n",
    "    sel = ~trainCatDf.loc[:,feature].isna().values\n",
    "    column = trainCatDf.loc[:,[feature]].dropna().astype('str')\n",
    "    y_temp = y_train[sel]\n",
    "    \n",
    "    "
   ]
  }
 ],
 "metadata": {
  "kernelspec": {
   "display_name": "Python 3",
   "language": "python",
   "name": "python3"
  },
  "language_info": {
   "codemirror_mode": {
    "name": "ipython",
    "version": 3
   },
   "file_extension": ".py",
   "mimetype": "text/x-python",
   "name": "python",
   "nbconvert_exporter": "python",
   "pygments_lexer": "ipython3",
   "version": "3.8.8"
  }
 },
 "nbformat": 4,
 "nbformat_minor": 5
}
